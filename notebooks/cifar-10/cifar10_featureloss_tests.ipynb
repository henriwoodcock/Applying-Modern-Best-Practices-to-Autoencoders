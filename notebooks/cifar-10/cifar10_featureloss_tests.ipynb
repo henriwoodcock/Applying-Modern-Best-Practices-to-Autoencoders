{
  "nbformat": 4,
  "nbformat_minor": 0,
  "metadata": {
    "colab": {
      "name": "cifar10-featureloss-tests.ipynb",
      "provenance": [],
      "collapsed_sections": []
    },
    "kernelspec": {
      "name": "python3",
      "display_name": "Python 3"
    },
    "accelerator": "GPU",
    "widgets": {
      "application/vnd.jupyter.widget-state+json": {
        "6018ca7587b14bbb8e84480d5139ffa1": {
          "model_module": "@jupyter-widgets/controls",
          "model_name": "HBoxModel",
          "state": {
            "_view_name": "HBoxView",
            "_dom_classes": [],
            "_model_name": "HBoxModel",
            "_view_module": "@jupyter-widgets/controls",
            "_model_module_version": "1.5.0",
            "_view_count": null,
            "_view_module_version": "1.5.0",
            "box_style": "",
            "layout": "IPY_MODEL_073f380e6374416d8e248bbc8563b72d",
            "_model_module": "@jupyter-widgets/controls",
            "children": [
              "IPY_MODEL_5e8254cfee5c4cfea3a771d06bf6221e",
              "IPY_MODEL_12685104e5b24761bf1cf3866ed6225b"
            ]
          }
        },
        "073f380e6374416d8e248bbc8563b72d": {
          "model_module": "@jupyter-widgets/base",
          "model_name": "LayoutModel",
          "state": {
            "_view_name": "LayoutView",
            "grid_template_rows": null,
            "right": null,
            "justify_content": null,
            "_view_module": "@jupyter-widgets/base",
            "overflow": null,
            "_model_module_version": "1.2.0",
            "_view_count": null,
            "flex_flow": null,
            "width": null,
            "min_width": null,
            "border": null,
            "align_items": null,
            "bottom": null,
            "_model_module": "@jupyter-widgets/base",
            "top": null,
            "grid_column": null,
            "overflow_y": null,
            "overflow_x": null,
            "grid_auto_flow": null,
            "grid_area": null,
            "grid_template_columns": null,
            "flex": null,
            "_model_name": "LayoutModel",
            "justify_items": null,
            "grid_row": null,
            "max_height": null,
            "align_content": null,
            "visibility": null,
            "align_self": null,
            "height": null,
            "min_height": null,
            "padding": null,
            "grid_auto_rows": null,
            "grid_gap": null,
            "max_width": null,
            "order": null,
            "_view_module_version": "1.2.0",
            "grid_template_areas": null,
            "object_position": null,
            "object_fit": null,
            "grid_auto_columns": null,
            "margin": null,
            "display": null,
            "left": null
          }
        },
        "5e8254cfee5c4cfea3a771d06bf6221e": {
          "model_module": "@jupyter-widgets/controls",
          "model_name": "IntProgressModel",
          "state": {
            "_view_name": "ProgressView",
            "style": "IPY_MODEL_a24136a9b98f46778c3ee9ef2cacd120",
            "_dom_classes": [],
            "description": "100%",
            "_model_name": "IntProgressModel",
            "bar_style": "success",
            "max": 87306240,
            "_view_module": "@jupyter-widgets/controls",
            "_model_module_version": "1.5.0",
            "value": 87306240,
            "_view_count": null,
            "_view_module_version": "1.5.0",
            "orientation": "horizontal",
            "min": 0,
            "description_tooltip": null,
            "_model_module": "@jupyter-widgets/controls",
            "layout": "IPY_MODEL_6dd783a916d941ca81b4503bce5ab81f"
          }
        },
        "12685104e5b24761bf1cf3866ed6225b": {
          "model_module": "@jupyter-widgets/controls",
          "model_name": "HTMLModel",
          "state": {
            "_view_name": "HTMLView",
            "style": "IPY_MODEL_604fafec015c404fa2536b278e64cd32",
            "_dom_classes": [],
            "description": "",
            "_model_name": "HTMLModel",
            "placeholder": "​",
            "_view_module": "@jupyter-widgets/controls",
            "_model_module_version": "1.5.0",
            "value": " 83.3M/83.3M [00:00&lt;00:00, 163MB/s]",
            "_view_count": null,
            "_view_module_version": "1.5.0",
            "description_tooltip": null,
            "_model_module": "@jupyter-widgets/controls",
            "layout": "IPY_MODEL_4a1841263c9245cbb90e2b6f0ec9f64a"
          }
        },
        "a24136a9b98f46778c3ee9ef2cacd120": {
          "model_module": "@jupyter-widgets/controls",
          "model_name": "ProgressStyleModel",
          "state": {
            "_view_name": "StyleView",
            "_model_name": "ProgressStyleModel",
            "description_width": "initial",
            "_view_module": "@jupyter-widgets/base",
            "_model_module_version": "1.5.0",
            "_view_count": null,
            "_view_module_version": "1.2.0",
            "bar_color": null,
            "_model_module": "@jupyter-widgets/controls"
          }
        },
        "6dd783a916d941ca81b4503bce5ab81f": {
          "model_module": "@jupyter-widgets/base",
          "model_name": "LayoutModel",
          "state": {
            "_view_name": "LayoutView",
            "grid_template_rows": null,
            "right": null,
            "justify_content": null,
            "_view_module": "@jupyter-widgets/base",
            "overflow": null,
            "_model_module_version": "1.2.0",
            "_view_count": null,
            "flex_flow": null,
            "width": null,
            "min_width": null,
            "border": null,
            "align_items": null,
            "bottom": null,
            "_model_module": "@jupyter-widgets/base",
            "top": null,
            "grid_column": null,
            "overflow_y": null,
            "overflow_x": null,
            "grid_auto_flow": null,
            "grid_area": null,
            "grid_template_columns": null,
            "flex": null,
            "_model_name": "LayoutModel",
            "justify_items": null,
            "grid_row": null,
            "max_height": null,
            "align_content": null,
            "visibility": null,
            "align_self": null,
            "height": null,
            "min_height": null,
            "padding": null,
            "grid_auto_rows": null,
            "grid_gap": null,
            "max_width": null,
            "order": null,
            "_view_module_version": "1.2.0",
            "grid_template_areas": null,
            "object_position": null,
            "object_fit": null,
            "grid_auto_columns": null,
            "margin": null,
            "display": null,
            "left": null
          }
        },
        "604fafec015c404fa2536b278e64cd32": {
          "model_module": "@jupyter-widgets/controls",
          "model_name": "DescriptionStyleModel",
          "state": {
            "_view_name": "StyleView",
            "_model_name": "DescriptionStyleModel",
            "description_width": "",
            "_view_module": "@jupyter-widgets/base",
            "_model_module_version": "1.5.0",
            "_view_count": null,
            "_view_module_version": "1.2.0",
            "_model_module": "@jupyter-widgets/controls"
          }
        },
        "4a1841263c9245cbb90e2b6f0ec9f64a": {
          "model_module": "@jupyter-widgets/base",
          "model_name": "LayoutModel",
          "state": {
            "_view_name": "LayoutView",
            "grid_template_rows": null,
            "right": null,
            "justify_content": null,
            "_view_module": "@jupyter-widgets/base",
            "overflow": null,
            "_model_module_version": "1.2.0",
            "_view_count": null,
            "flex_flow": null,
            "width": null,
            "min_width": null,
            "border": null,
            "align_items": null,
            "bottom": null,
            "_model_module": "@jupyter-widgets/base",
            "top": null,
            "grid_column": null,
            "overflow_y": null,
            "overflow_x": null,
            "grid_auto_flow": null,
            "grid_area": null,
            "grid_template_columns": null,
            "flex": null,
            "_model_name": "LayoutModel",
            "justify_items": null,
            "grid_row": null,
            "max_height": null,
            "align_content": null,
            "visibility": null,
            "align_self": null,
            "height": null,
            "min_height": null,
            "padding": null,
            "grid_auto_rows": null,
            "grid_gap": null,
            "max_width": null,
            "order": null,
            "_view_module_version": "1.2.0",
            "grid_template_areas": null,
            "object_position": null,
            "object_fit": null,
            "grid_auto_columns": null,
            "margin": null,
            "display": null,
            "left": null
          }
        },
        "02b8f5a9246d429a8334855af8f476be": {
          "model_module": "@jupyter-widgets/controls",
          "model_name": "HBoxModel",
          "state": {
            "_view_name": "HBoxView",
            "_dom_classes": [],
            "_model_name": "HBoxModel",
            "_view_module": "@jupyter-widgets/controls",
            "_model_module_version": "1.5.0",
            "_view_count": null,
            "_view_module_version": "1.5.0",
            "box_style": "",
            "layout": "IPY_MODEL_da67c481d8664eadb0c096667c8607bc",
            "_model_module": "@jupyter-widgets/controls",
            "children": [
              "IPY_MODEL_7100aa17a01e4982bde9e0b7fb3f636a",
              "IPY_MODEL_0308acc1176e48518606a208bef68b7e"
            ]
          }
        },
        "da67c481d8664eadb0c096667c8607bc": {
          "model_module": "@jupyter-widgets/base",
          "model_name": "LayoutModel",
          "state": {
            "_view_name": "LayoutView",
            "grid_template_rows": null,
            "right": null,
            "justify_content": null,
            "_view_module": "@jupyter-widgets/base",
            "overflow": null,
            "_model_module_version": "1.2.0",
            "_view_count": null,
            "flex_flow": null,
            "width": null,
            "min_width": null,
            "border": null,
            "align_items": null,
            "bottom": null,
            "_model_module": "@jupyter-widgets/base",
            "top": null,
            "grid_column": null,
            "overflow_y": null,
            "overflow_x": null,
            "grid_auto_flow": null,
            "grid_area": null,
            "grid_template_columns": null,
            "flex": null,
            "_model_name": "LayoutModel",
            "justify_items": null,
            "grid_row": null,
            "max_height": null,
            "align_content": null,
            "visibility": null,
            "align_self": null,
            "height": null,
            "min_height": null,
            "padding": null,
            "grid_auto_rows": null,
            "grid_gap": null,
            "max_width": null,
            "order": null,
            "_view_module_version": "1.2.0",
            "grid_template_areas": null,
            "object_position": null,
            "object_fit": null,
            "grid_auto_columns": null,
            "margin": null,
            "display": null,
            "left": null
          }
        },
        "7100aa17a01e4982bde9e0b7fb3f636a": {
          "model_module": "@jupyter-widgets/controls",
          "model_name": "IntProgressModel",
          "state": {
            "_view_name": "ProgressView",
            "style": "IPY_MODEL_1e2f9caadf6f4ef1ac8e5a22f910789d",
            "_dom_classes": [],
            "description": "100%",
            "_model_name": "IntProgressModel",
            "bar_style": "success",
            "max": 553507836,
            "_view_module": "@jupyter-widgets/controls",
            "_model_module_version": "1.5.0",
            "value": 553507836,
            "_view_count": null,
            "_view_module_version": "1.5.0",
            "orientation": "horizontal",
            "min": 0,
            "description_tooltip": null,
            "_model_module": "@jupyter-widgets/controls",
            "layout": "IPY_MODEL_a77ad0d72a7a45d484362bfc0afe02c0"
          }
        },
        "0308acc1176e48518606a208bef68b7e": {
          "model_module": "@jupyter-widgets/controls",
          "model_name": "HTMLModel",
          "state": {
            "_view_name": "HTMLView",
            "style": "IPY_MODEL_faa5c325194b44aa9cf73e6df1c9b190",
            "_dom_classes": [],
            "description": "",
            "_model_name": "HTMLModel",
            "placeholder": "​",
            "_view_module": "@jupyter-widgets/controls",
            "_model_module_version": "1.5.0",
            "value": " 528M/528M [01:00&lt;00:00, 9.19MB/s]",
            "_view_count": null,
            "_view_module_version": "1.5.0",
            "description_tooltip": null,
            "_model_module": "@jupyter-widgets/controls",
            "layout": "IPY_MODEL_da5b09e4b09f4bbbb4fc3999952734c7"
          }
        },
        "1e2f9caadf6f4ef1ac8e5a22f910789d": {
          "model_module": "@jupyter-widgets/controls",
          "model_name": "ProgressStyleModel",
          "state": {
            "_view_name": "StyleView",
            "_model_name": "ProgressStyleModel",
            "description_width": "initial",
            "_view_module": "@jupyter-widgets/base",
            "_model_module_version": "1.5.0",
            "_view_count": null,
            "_view_module_version": "1.2.0",
            "bar_color": null,
            "_model_module": "@jupyter-widgets/controls"
          }
        },
        "a77ad0d72a7a45d484362bfc0afe02c0": {
          "model_module": "@jupyter-widgets/base",
          "model_name": "LayoutModel",
          "state": {
            "_view_name": "LayoutView",
            "grid_template_rows": null,
            "right": null,
            "justify_content": null,
            "_view_module": "@jupyter-widgets/base",
            "overflow": null,
            "_model_module_version": "1.2.0",
            "_view_count": null,
            "flex_flow": null,
            "width": null,
            "min_width": null,
            "border": null,
            "align_items": null,
            "bottom": null,
            "_model_module": "@jupyter-widgets/base",
            "top": null,
            "grid_column": null,
            "overflow_y": null,
            "overflow_x": null,
            "grid_auto_flow": null,
            "grid_area": null,
            "grid_template_columns": null,
            "flex": null,
            "_model_name": "LayoutModel",
            "justify_items": null,
            "grid_row": null,
            "max_height": null,
            "align_content": null,
            "visibility": null,
            "align_self": null,
            "height": null,
            "min_height": null,
            "padding": null,
            "grid_auto_rows": null,
            "grid_gap": null,
            "max_width": null,
            "order": null,
            "_view_module_version": "1.2.0",
            "grid_template_areas": null,
            "object_position": null,
            "object_fit": null,
            "grid_auto_columns": null,
            "margin": null,
            "display": null,
            "left": null
          }
        },
        "faa5c325194b44aa9cf73e6df1c9b190": {
          "model_module": "@jupyter-widgets/controls",
          "model_name": "DescriptionStyleModel",
          "state": {
            "_view_name": "StyleView",
            "_model_name": "DescriptionStyleModel",
            "description_width": "",
            "_view_module": "@jupyter-widgets/base",
            "_model_module_version": "1.5.0",
            "_view_count": null,
            "_view_module_version": "1.2.0",
            "_model_module": "@jupyter-widgets/controls"
          }
        },
        "da5b09e4b09f4bbbb4fc3999952734c7": {
          "model_module": "@jupyter-widgets/base",
          "model_name": "LayoutModel",
          "state": {
            "_view_name": "LayoutView",
            "grid_template_rows": null,
            "right": null,
            "justify_content": null,
            "_view_module": "@jupyter-widgets/base",
            "overflow": null,
            "_model_module_version": "1.2.0",
            "_view_count": null,
            "flex_flow": null,
            "width": null,
            "min_width": null,
            "border": null,
            "align_items": null,
            "bottom": null,
            "_model_module": "@jupyter-widgets/base",
            "top": null,
            "grid_column": null,
            "overflow_y": null,
            "overflow_x": null,
            "grid_auto_flow": null,
            "grid_area": null,
            "grid_template_columns": null,
            "flex": null,
            "_model_name": "LayoutModel",
            "justify_items": null,
            "grid_row": null,
            "max_height": null,
            "align_content": null,
            "visibility": null,
            "align_self": null,
            "height": null,
            "min_height": null,
            "padding": null,
            "grid_auto_rows": null,
            "grid_gap": null,
            "max_width": null,
            "order": null,
            "_view_module_version": "1.2.0",
            "grid_template_areas": null,
            "object_position": null,
            "object_fit": null,
            "grid_auto_columns": null,
            "margin": null,
            "display": null,
            "left": null
          }
        }
      }
    }
  },
  "cells": [
    {
      "cell_type": "code",
      "metadata": {
        "id": "ZS9v258_UrFL",
        "colab_type": "code",
        "colab": {}
      },
      "source": [
        "from fastai import *\n",
        "from fastai.tabular import *\n",
        "import pandas as pd\n",
        "from torchsummary import summary\n",
        "import torch\n",
        "from torch import nn\n",
        "import imageio\n",
        "import torch\n",
        "import glob\n",
        "from fastai.vision import *\n",
        "import os\n",
        "from torch import nn\n",
        "import torch.nn.functional as F"
      ],
      "execution_count": 0,
      "outputs": []
    },
    {
      "cell_type": "code",
      "metadata": {
        "id": "8b532s7pU4d2",
        "colab_type": "code",
        "colab": {
          "base_uri": "https://localhost:8080/",
          "height": 122
        },
        "outputId": "6bad2e1c-614c-4f76-d39d-84af729e1c23"
      },
      "source": [
        "colab = True\n",
        "if colab:\n",
        "  from google.colab import drive\n",
        "  drive.mount('/content/drive', force_remount = True)\n",
        "  %cp \"/content/drive/My Drive/autoencoder-training/data.zip\" .\n",
        "  !unzip -q data.zip\n",
        "  image_path = \"data\"\n",
        "else: \n",
        "  os.chdir(\"../\")\n",
        "  image_path = os.getcwd() + \"/data\""
      ],
      "execution_count": 2,
      "outputs": [
        {
          "output_type": "stream",
          "text": [
            "Go to this URL in a browser: https://accounts.google.com/o/oauth2/auth?client_id=947318989803-6bn6qk8qdgf4n4g3pfee6491hc0brc4i.apps.googleusercontent.com&redirect_uri=urn%3aietf%3awg%3aoauth%3a2.0%3aoob&response_type=code&scope=email%20https%3a%2f%2fwww.googleapis.com%2fauth%2fdocs.test%20https%3a%2f%2fwww.googleapis.com%2fauth%2fdrive%20https%3a%2f%2fwww.googleapis.com%2fauth%2fdrive.photos.readonly%20https%3a%2f%2fwww.googleapis.com%2fauth%2fpeopleapi.readonly\n",
            "\n",
            "Enter your authorization code:\n",
            "··········\n",
            "Mounted at /content/drive\n"
          ],
          "name": "stdout"
        }
      ]
    },
    {
      "cell_type": "markdown",
      "metadata": {
        "id": "JL3tChtHVIDA",
        "colab_type": "text"
      },
      "source": [
        "# Data"
      ]
    },
    {
      "cell_type": "code",
      "metadata": {
        "id": "pLeKxMp9U6V-",
        "colab_type": "code",
        "colab": {}
      },
      "source": [
        "np.random.seed(3333)\n",
        "torch.manual_seed(3333)\n",
        "\n",
        "size = 32\n",
        "batchsize = 128\n",
        "\n",
        "tfms = get_transforms(do_flip = True)\n",
        "src = (ImageImageList.from_folder(image_path).use_partial_data(0.1).split_by_folder().label_from_func(lambda x: x))\n",
        "data = (src.transform(tfms, size=size, tfm_y=True)\n",
        "        .databunch(bs=batchsize)\n",
        "        .normalize(imagenet_stats, do_y = False))"
      ],
      "execution_count": 0,
      "outputs": []
    },
    {
      "cell_type": "code",
      "metadata": {
        "id": "nWk9J1IwZO42",
        "colab_type": "code",
        "colab": {
          "base_uri": "https://localhost:8080/",
          "height": 306
        },
        "outputId": "bd70ed10-2d8b-4dae-a64c-00ad92a8ae3e"
      },
      "source": [
        "data"
      ],
      "execution_count": 4,
      "outputs": [
        {
          "output_type": "execute_result",
          "data": {
            "text/plain": [
              "ImageDataBunch;\n",
              "\n",
              "Train: LabelList (5007 items)\n",
              "x: ImageImageList\n",
              "Image (3, 32, 32),Image (3, 32, 32),Image (3, 32, 32),Image (3, 32, 32),Image (3, 32, 32)\n",
              "y: ImageList\n",
              "Image (3, 32, 32),Image (3, 32, 32),Image (3, 32, 32),Image (3, 32, 32),Image (3, 32, 32)\n",
              "Path: data;\n",
              "\n",
              "Valid: LabelList (993 items)\n",
              "x: ImageImageList\n",
              "Image (3, 32, 32),Image (3, 32, 32),Image (3, 32, 32),Image (3, 32, 32),Image (3, 32, 32)\n",
              "y: ImageList\n",
              "Image (3, 32, 32),Image (3, 32, 32),Image (3, 32, 32),Image (3, 32, 32),Image (3, 32, 32)\n",
              "Path: data;\n",
              "\n",
              "Test: None"
            ]
          },
          "metadata": {
            "tags": []
          },
          "execution_count": 4
        }
      ]
    },
    {
      "cell_type": "markdown",
      "metadata": {
        "id": "IS2KEBTXVJen",
        "colab_type": "text"
      },
      "source": [
        "# Learner"
      ]
    },
    {
      "cell_type": "markdown",
      "metadata": {
        "id": "Hovxw3UiVMm4",
        "colab_type": "text"
      },
      "source": [
        "## Model"
      ]
    },
    {
      "cell_type": "code",
      "metadata": {
        "id": "6j8_Wq6NVDiO",
        "colab_type": "code",
        "colab": {}
      },
      "source": [
        "def icnr(x, scale=2, init=nn.init.kaiming_normal_):\n",
        "    \"ICNR init of `x`, with `scale` and `init` function.\"\n",
        "    ni,nf,h,w = x.shape\n",
        "    ni2 = int(ni/(scale**2))\n",
        "    k = init(torch.zeros([ni2,nf,h,w])).transpose(0, 1)\n",
        "    k = k.contiguous().view(ni2, nf, -1)\n",
        "    k = k.repeat(1, 1, scale**2)\n",
        "    k = k.contiguous().view([nf,ni,h,w]).transpose(0, 1)\n",
        "    x.data.copy_(k)\n",
        "\n",
        "class PixelShuffle_ICNR(nn.Module):\n",
        "    \"Upsample by `scale` from `ni` filters to `nf` (default `ni`), using `nn.PixelShuffle`, `icnr` init, and `weight_norm`.\"\n",
        "    def __init__(self, ni:int, nf:int=None, scale:int=2, blur:bool=False, norm_type=NormType.Weight, leaky:float=None):\n",
        "        super().__init__()\n",
        "        nf = ifnone(nf, ni)\n",
        "        self.conv = conv_layer(ni, nf*(scale**2), ks=1, norm_type=norm_type, use_activ=False)\n",
        "        icnr(self.conv[0].weight)\n",
        "        self.shuf = nn.PixelShuffle(scale)\n",
        "        # Blurring over (h*w) kernel\n",
        "        # \"Super-Resolution using Convolutional Neural Networks without Any Checkerboard Artifacts\"\n",
        "        # - https://arxiv.org/abs/1806.02658\n",
        "        self.pad = nn.ReplicationPad2d((1,0,1,0))\n",
        "        self.blur = nn.AvgPool2d(2, stride=1)\n",
        "        self.relu = relu(True, leaky=leaky)\n",
        "\n",
        "    def forward(self,x):\n",
        "        x = self.shuf(self.relu(self.conv(x)))\n",
        "        return self.blur(self.pad(x)) if self.blur else x"
      ],
      "execution_count": 0,
      "outputs": []
    },
    {
      "cell_type": "code",
      "metadata": {
        "id": "7sg1zg0JVU5m",
        "colab_type": "code",
        "colab": {}
      },
      "source": [
        "class Encoder1(nn.Module):\n",
        "    def __init__(self):\n",
        "        super(Encoder1, self).__init__()\n",
        "\n",
        "        resnet = torch.hub.load('pytorch/vision:v0.5.0', 'resnet34', pretrained = True)\n",
        "        resnet = nn.Sequential(*(list(resnet.children())[0:3]))\n",
        "        for param in resnet.parameters():\n",
        "            param.requires_grad = False\n",
        "\n",
        "        self.encoder = nn.Sequential(resnet)\n",
        "\n",
        "    def encode(self, x): return self.encoder(x)\n",
        "\n",
        "    def forward(self, x):\n",
        "      encoded = self.encoder(x)\n",
        "      return encoded\n",
        "\n",
        "class Encoder2(nn.Module):\n",
        "    def __init__(self):\n",
        "        super(Encoder2, self).__init__()\n",
        "\n",
        "        resnet = torch.hub.load('pytorch/vision:v0.5.0', 'resnet34', pretrained = True)\n",
        "        resnet = nn.Sequential(*(list(resnet.children())[3:5]))\n",
        "        for param in resnet.parameters():\n",
        "            param.requires_grad = False\n",
        "        for i in range(len(resnet)):\n",
        "            for param in resnet[1][i].bn1.parameters():\n",
        "                param.requires_grad = True\n",
        "            for param in resnet[1][i].bn2.parameters():\n",
        "                param.requires_grad = True\n",
        "\n",
        "        self.encoder = nn.Sequential(resnet)\n",
        "\n",
        "    def encode(self, x): return self.encoder(x)\n",
        "\n",
        "    def forward(self, x):\n",
        "      encoded = self.encoder(x)\n",
        "      return encoded\n",
        "\n",
        "class Encoder3(nn.Module):\n",
        "    def __init__(self):\n",
        "        super(Encoder3, self).__init__()\n",
        "\n",
        "        resnet = torch.hub.load('pytorch/vision:v0.5.0', 'resnet34', pretrained = True)\n",
        "        resnet = nn.Sequential(*(list(resnet.children())[5]))\n",
        "        for param in resnet.parameters():\n",
        "            param.requires_grad = False\n",
        "        for i in range(len(resnet)):\n",
        "            for param in resnet[i].bn1.parameters():\n",
        "                param.requires_grad = True\n",
        "            if i== 0:\n",
        "                for param in resnet[i].downsample[1].parameters():\n",
        "                  param.requires_grad = True\n",
        "            for param in resnet[i].bn2.parameters():\n",
        "                param.requires_grad = True\n",
        "\n",
        "        self.encoder = nn.Sequential(resnet)\n",
        "\n",
        "    def encode(self, x): return self.encoder(x)\n",
        "\n",
        "    def forward(self, x):\n",
        "      encoded = self.encoder(x)\n",
        "      return encoded\n",
        "\n",
        "class Encoder4(nn.Module):\n",
        "    def __init__(self):\n",
        "        super(Encoder4, self).__init__()\n",
        "\n",
        "        resnet = torch.hub.load('pytorch/vision:v0.5.0', 'resnet34', pretrained = True)\n",
        "        resnet = nn.Sequential(*(list(resnet.children())[6]))\n",
        "        for param in resnet.parameters():\n",
        "            param.requires_grad = False\n",
        "        for i in range(len(resnet)):\n",
        "            for param in resnet[i].bn1.parameters():\n",
        "                param.requires_grad = True\n",
        "            if i== 0:\n",
        "                for param in resnet[i].downsample[1].parameters():\n",
        "                  param.requires_grad = True\n",
        "            for param in resnet[i].bn2.parameters():\n",
        "                param.requires_grad = True\n",
        "\n",
        "        self.encoder = nn.Sequential(resnet)\n",
        "\n",
        "    def encode(self, x): return self.encoder(x)\n",
        "\n",
        "    def forward(self, x):\n",
        "      encoded = self.encoder(x)\n",
        "      return encoded\n",
        "\n",
        "class Encoder5(nn.Module):\n",
        "    def __init__(self):\n",
        "        super(Encoder5, self).__init__()\n",
        "\n",
        "        resnet = torch.hub.load('pytorch/vision:v0.5.0', 'resnet34', pretrained = True)\n",
        "        resnet = nn.Sequential(*(list(resnet.children())[7]))\n",
        "        for param in resnet.parameters():\n",
        "            param.requires_grad = False\n",
        "        for i in range(len(resnet)):\n",
        "            for param in resnet[i].bn1.parameters():\n",
        "                param.requires_grad = True\n",
        "            if i== 0:\n",
        "                for param in resnet[i].downsample[1].parameters():\n",
        "                  param.requires_grad = True\n",
        "            for param in resnet[i].bn2.parameters():\n",
        "                param.requires_grad = True\n",
        "\n",
        "        self.encoder = nn.Sequential(resnet)\n",
        "\n",
        "    def encode(self, x): return self.encoder(x)\n",
        "\n",
        "    def forward(self, x):\n",
        "      encoded = self.encoder(x)\n",
        "      return encoded\n",
        "\n",
        "class AdaptiveConcatPool2d(Module):\n",
        "    \"Layer that concats `AdaptiveAvgPool2d` and `AdaptiveMaxPool2d`.\"\n",
        "    def __init__(self, sz:Optional[int]=None):\n",
        "        \"Output will be 2*sz or 2 if sz is None\"\n",
        "        self.output_size = sz or 1\n",
        "        self.ap = nn.AdaptiveAvgPool2d(self.output_size)\n",
        "        self.mp = nn.AdaptiveMaxPool2d(self.output_size)\n",
        "\n",
        "    def forward(self, x): return torch.cat([self.mp(x), self.ap(x)], 1)\n",
        "\n",
        "class Encoder6(nn.Module):\n",
        "    def __init__(self):\n",
        "        super(Encoder6, self).__init__()\n",
        "\n",
        "        self.encoder = nn.Sequential(AdaptiveConcatPool2d())\n",
        "\n",
        "    def encode(self, x): return self.encoder(x)\n",
        "\n",
        "    def forward(self, x):\n",
        "      encoded = self.encoder(x)\n",
        "      return encoded\n",
        "\n",
        "class Decoder1(nn.Module):\n",
        "    def __init__(self):\n",
        "        super(Decoder1, self).__init__()\n",
        "\n",
        "        self.decoder = nn.Sequential( \n",
        "            PixelShuffle_ICNR(64, 3),\n",
        "            nn.BatchNorm2d(3, eps=1e-05, momentum=0.1, affine=True, track_running_stats=True),\n",
        "            nn.ReLU(inplace=True),\n",
        "        )\n",
        "\n",
        "    def decode(self,x): return self.decoder(x)\n",
        "\n",
        "    def forward(self, x):\n",
        "      decoded = self.decoder(x)\n",
        "      return decoded\n",
        "\n",
        "class Decoder2(nn.Module):\n",
        "    def __init__(self):\n",
        "        super(Decoder2, self).__init__()\n",
        "\n",
        "        self.decoder = nn.Sequential( \n",
        "            PixelShuffle_ICNR(64, 64),\n",
        "            nn.BatchNorm2d(64, eps=1e-05, momentum=0.1, affine=True, track_running_stats=True),\n",
        "            nn.ReLU(inplace=True)\n",
        "        )\n",
        "\n",
        "    def decode(self,x): return self.decoder(x)\n",
        "\n",
        "    def forward(self, x):\n",
        "      decoded = self.decoder(x)\n",
        "      return decoded\n",
        "\n",
        "class Decoder3(nn.Module):\n",
        "    def __init__(self):\n",
        "        super(Decoder3, self).__init__()\n",
        "\n",
        "        self.decoder = nn.Sequential( \n",
        "            PixelShuffle_ICNR(128, 64),\n",
        "            nn.BatchNorm2d(64, eps=1e-05, momentum=0.1, affine=True, track_running_stats=True),\n",
        "            nn.ReLU(inplace=True),\n",
        "            nn.Conv2d(64, 64, kernel_size=(3, 3), stride=(1, 1), padding=(1, 1), bias=False),\n",
        "            nn.BatchNorm2d(64, eps=1e-05, momentum=0.1, affine=True, track_running_stats=True),\n",
        "            nn.ReLU(inplace=True)\n",
        "        )\n",
        "\n",
        "    def decode(self,x): return self.decoder(x)\n",
        "\n",
        "    def forward(self, x):\n",
        "      decoded = self.decoder(x)\n",
        "      return decoded\n",
        "\n",
        "class Decoder4(nn.Module):\n",
        "    def __init__(self):\n",
        "        super(Decoder4, self).__init__()\n",
        "\n",
        "        self.decoder = nn.Sequential( \n",
        "            PixelShuffle_ICNR(256, 128),\n",
        "            nn.BatchNorm2d(128, eps=1e-05, momentum=0.1, affine=True, track_running_stats=True),\n",
        "            nn.ReLU(inplace=True),\n",
        "            nn.Conv2d(128, 128, kernel_size=(3, 3), stride=(1, 1), padding=(1, 1), bias=False),\n",
        "            nn.BatchNorm2d(128, eps=1e-05, momentum=0.1, affine=True, track_running_stats=True),\n",
        "            nn.ReLU(inplace=True)\n",
        "        )\n",
        "\n",
        "    def decode(self,x): return self.decoder(x)\n",
        "\n",
        "    def forward(self, x):\n",
        "      decoded = self.decoder(x)\n",
        "      return decoded\n",
        "\n",
        "class Decoder5(nn.Module):\n",
        "    def __init__(self):\n",
        "        super(Decoder5, self).__init__()\n",
        "\n",
        "        self.decoder = nn.Sequential( \n",
        "            PixelShuffle_ICNR(512, 256),\n",
        "            nn.BatchNorm2d(256, eps=1e-05, momentum=0.1, affine=True, track_running_stats=True),\n",
        "            nn.ReLU(inplace=True),\n",
        "            nn.Conv2d(256, 256, kernel_size=(3, 3), stride=(1, 1), padding=(1, 1), bias=False),\n",
        "            nn.BatchNorm2d(256, eps=1e-05, momentum=0.1, affine=True, track_running_stats=True),\n",
        "            nn.ReLU(inplace=True)\n",
        "        )\n",
        "\n",
        "    def decode(self,x): return self.decoder(x)\n",
        "\n",
        "    def forward(self, x):\n",
        "      decoded = self.decoder(x)\n",
        "      return decoded\n",
        "\n",
        "\n",
        "class Decoder6(nn.Module):\n",
        "    def __init__(self):\n",
        "        super(Decoder6, self).__init__()\n",
        "\n",
        "        self.decoder = nn.Sequential( \n",
        "            nn.Conv2d(1024, 512, kernel_size=(3, 3), stride=(1, 1), padding=(1, 1), bias=False),\n",
        "            nn.BatchNorm2d(512, eps=1e-05, momentum=0.1, affine=True, track_running_stats=True),\n",
        "            nn.ReLU(inplace=True),\n",
        "        )\n",
        "\n",
        "    def decode(self,x): return self.decoder(x)\n",
        "\n",
        "    def forward(self, x):\n",
        "      decoded = self.decoder(x)\n",
        "      return decoded\n",
        "\n",
        "class AutoEncoder(nn.Module):\n",
        "    def __init__(self):\n",
        "        super(AutoEncoder, self).__init__()\n",
        "\n",
        "        self.encoder = nn.Sequential(Encoder1(), \n",
        "                                     Encoder2(), \n",
        "                                     Encoder3(), \n",
        "                                     Encoder4(), \n",
        "                                     Encoder5(), \n",
        "                                     Encoder6())\n",
        "\n",
        "        self.decoder = nn.Sequential(Decoder6(),\n",
        "                                     Decoder5(),\n",
        "                                     Decoder4(),\n",
        "                                     Decoder3(),\n",
        "                                     Decoder2(),\n",
        "                                     Decoder1())\n",
        "\n",
        "    def encode(self, x): return self.encoder(x)\n",
        "\n",
        "    def decode(self,x): return torch.clamp(self.decoder(x), min = 0, max=1)\n",
        "\n",
        "      \n",
        "    def forward(self, x):\n",
        "      encoded = self.encoder(x)\n",
        "      decoded = self.decoder(encoded)\n",
        "      return torch.clamp(decoded, min = 0, max = 1)"
      ],
      "execution_count": 0,
      "outputs": []
    },
    {
      "cell_type": "markdown",
      "metadata": {
        "id": "7eNbWVLItM4R",
        "colab_type": "text"
      },
      "source": [
        "## Learner"
      ]
    },
    {
      "cell_type": "code",
      "metadata": {
        "id": "7TEl6X0cVa73",
        "colab_type": "code",
        "colab": {
          "base_uri": "https://localhost:8080/",
          "height": 168,
          "referenced_widgets": [
            "6018ca7587b14bbb8e84480d5139ffa1",
            "073f380e6374416d8e248bbc8563b72d",
            "5e8254cfee5c4cfea3a771d06bf6221e",
            "12685104e5b24761bf1cf3866ed6225b",
            "a24136a9b98f46778c3ee9ef2cacd120",
            "6dd783a916d941ca81b4503bce5ab81f",
            "604fafec015c404fa2536b278e64cd32",
            "4a1841263c9245cbb90e2b6f0ec9f64a"
          ]
        },
        "outputId": "a232d9b0-b0a3-4aed-e990-d89a982f46f4"
      },
      "source": [
        "autoencoder = AutoEncoder()\n",
        "learn = Learner(data, autoencoder, loss_func = F.mse_loss)"
      ],
      "execution_count": 7,
      "outputs": [
        {
          "output_type": "stream",
          "text": [
            "Downloading: \"https://github.com/pytorch/vision/archive/v0.5.0.zip\" to /root/.cache/torch/hub/v0.5.0.zip\n",
            "Downloading: \"https://download.pytorch.org/models/resnet34-333f7ec4.pth\" to /root/.cache/torch/checkpoints/resnet34-333f7ec4.pth\n"
          ],
          "name": "stderr"
        },
        {
          "output_type": "display_data",
          "data": {
            "application/vnd.jupyter.widget-view+json": {
              "model_id": "6018ca7587b14bbb8e84480d5139ffa1",
              "version_minor": 0,
              "version_major": 2
            },
            "text/plain": [
              "HBox(children=(IntProgress(value=0, max=87306240), HTML(value='')))"
            ]
          },
          "metadata": {
            "tags": []
          }
        },
        {
          "output_type": "stream",
          "text": [
            "\n"
          ],
          "name": "stdout"
        },
        {
          "output_type": "stream",
          "text": [
            "Using cache found in /root/.cache/torch/hub/pytorch_vision_v0.5.0\n",
            "Using cache found in /root/.cache/torch/hub/pytorch_vision_v0.5.0\n",
            "Using cache found in /root/.cache/torch/hub/pytorch_vision_v0.5.0\n",
            "Using cache found in /root/.cache/torch/hub/pytorch_vision_v0.5.0\n"
          ],
          "name": "stderr"
        }
      ]
    },
    {
      "cell_type": "code",
      "metadata": {
        "id": "yg2xaxEgVm0_",
        "colab_type": "code",
        "colab": {}
      },
      "source": [
        "%cp \"drive/My Drive/autoencoder-training/stage-1-cifar_px_shuffle.pth\" \"data/models/\""
      ],
      "execution_count": 0,
      "outputs": []
    },
    {
      "cell_type": "code",
      "metadata": {
        "id": "rrceNcKAV2_Y",
        "colab_type": "code",
        "colab": {}
      },
      "source": [
        "learn = learn.load('stage-1-cifar_px_shuffle')"
      ],
      "execution_count": 0,
      "outputs": []
    },
    {
      "cell_type": "code",
      "metadata": {
        "id": "dgwLB5xBV7RO",
        "colab_type": "code",
        "colab": {
          "base_uri": "https://localhost:8080/",
          "height": 83,
          "referenced_widgets": [
            "02b8f5a9246d429a8334855af8f476be",
            "da67c481d8664eadb0c096667c8607bc",
            "7100aa17a01e4982bde9e0b7fb3f636a",
            "0308acc1176e48518606a208bef68b7e",
            "1e2f9caadf6f4ef1ac8e5a22f910789d",
            "a77ad0d72a7a45d484362bfc0afe02c0",
            "faa5c325194b44aa9cf73e6df1c9b190",
            "da5b09e4b09f4bbbb4fc3999952734c7"
          ]
        },
        "outputId": "1045945d-63cf-45d9-bc33-aca3917cb913"
      },
      "source": [
        "def gram_matrix(x):\n",
        "    n,c,h,w = x.size()\n",
        "    x = x.view(n, c, -1)\n",
        "    return (x @ x.transpose(1,2))/(c*h*w)\n",
        "\n",
        "from torchvision.models import vgg16_bn\n",
        "vgg_m = vgg16_bn(True).features.cuda().eval()\n",
        "\n",
        "requires_grad(vgg_m, False)\n",
        "blocks = [i-1 for i,o in enumerate(children(vgg_m)) if isinstance(o,nn.MaxPool2d)]\n",
        "\n",
        "from fastai.callbacks import *\n",
        "from fastai.utils.mem import *\n",
        "\n",
        "base_loss = F.mse_loss\n",
        "\n",
        "class FeatureLoss(nn.Module):\n",
        "    def __init__(self, m_feat, layer_ids, layer_wgts):\n",
        "        super().__init__()\n",
        "        self.m_feat = m_feat\n",
        "        self.loss_features = [self.m_feat[i] for i in layer_ids]\n",
        "        self.hooks = hook_outputs(self.loss_features, detach=False)\n",
        "        self.wgts = layer_wgts\n",
        "        self.metric_names = ['pixel',] + [f'feat_{i}' for i in range(len(layer_ids))\n",
        "              ] + [f'gram_{i}' for i in range(len(layer_ids))]\n",
        "\n",
        "    def make_features(self, x, clone=False):\n",
        "        self.m_feat(x)\n",
        "        return [(o.clone() if clone else o) for o in self.hooks.stored]\n",
        "    \n",
        "    def forward(self, input, target):\n",
        "        out_feat = self.make_features(target, clone=True)\n",
        "        in_feat = self.make_features(input)\n",
        "        self.feat_losses = [base_loss(input,target)]\n",
        "        self.feat_losses += [base_loss(f_in, f_out)*w\n",
        "                             for f_in, f_out, w in zip(in_feat, out_feat, self.wgts)]\n",
        "        self.feat_losses += [base_loss(gram_matrix(f_in), gram_matrix(f_out))*w**2 * 5e3\n",
        "                             for f_in, f_out, w in zip(in_feat, out_feat, self.wgts)]\n",
        "        self.metrics = dict(zip(self.metric_names, self.feat_losses))\n",
        "        return sum(self.feat_losses)\n",
        "    \n",
        "    def __del__(self): self.hooks.remove()"
      ],
      "execution_count": 10,
      "outputs": [
        {
          "output_type": "stream",
          "text": [
            "Downloading: \"https://download.pytorch.org/models/vgg16_bn-6c64b313.pth\" to /root/.cache/torch/checkpoints/vgg16_bn-6c64b313.pth\n"
          ],
          "name": "stderr"
        },
        {
          "output_type": "display_data",
          "data": {
            "application/vnd.jupyter.widget-view+json": {
              "model_id": "02b8f5a9246d429a8334855af8f476be",
              "version_minor": 0,
              "version_major": 2
            },
            "text/plain": [
              "HBox(children=(IntProgress(value=0, max=553507836), HTML(value='')))"
            ]
          },
          "metadata": {
            "tags": []
          }
        },
        {
          "output_type": "stream",
          "text": [
            "\n"
          ],
          "name": "stdout"
        }
      ]
    },
    {
      "cell_type": "code",
      "metadata": {
        "id": "iaU-XbWtWv5c",
        "colab_type": "code",
        "colab": {}
      },
      "source": [
        "learn.data.batch_size = 128"
      ],
      "execution_count": 0,
      "outputs": []
    },
    {
      "cell_type": "code",
      "metadata": {
        "id": "23Su8EjgXDF0",
        "colab_type": "code",
        "colab": {}
      },
      "source": [
        "lr = [1e-05, 1e-02]\n",
        "def do_fit(save_name, lrs=slice(lr[0], lr[1]), pct_start=0.9):\n",
        "    learn.fit_one_cycle(5, lrs)\n",
        "    learn.save(save_name)\n",
        "    learn.show_results(rows=1, imgsize=5)"
      ],
      "execution_count": 0,
      "outputs": []
    },
    {
      "cell_type": "code",
      "metadata": {
        "id": "sBXp6UH0WGjn",
        "colab_type": "code",
        "colab": {
          "base_uri": "https://localhost:8080/",
          "height": 1000
        },
        "outputId": "6255314d-d489-4e91-f061-a6282d75d2f0"
      },
      "source": [
        "feat_loss = FeatureLoss(vgg_m, blocks[2:5], [5,15,2])\n",
        "\n",
        "for i in np.arange(0,1.1, 0.5):\n",
        "  learn = learn.load('stage-1-cifar_px_shuffle')\n",
        "  learn.data.batch_size = 128\n",
        "  learn.metrics = [mse, mae]\n",
        "  learn.split(lambda m: (m.encoder[1], m.encoder[2], m.encoder[3], m.encoder[4], m.encoder[5], m.decoder[0], m.decoder[2], m.decoder[3], m.decoder[4]))\n",
        "  feat_loss = FeatureLoss(vgg_m, blocks[2:5], [i, 0, 0])\n",
        "  learn.loss_func = feat_loss\n",
        "  learn.unfreeze()\n",
        "  do_fit('test')"
      ],
      "execution_count": 53,
      "outputs": [
        {
          "output_type": "display_data",
          "data": {
            "text/html": [
              "<table border=\"1\" class=\"dataframe\">\n",
              "  <thead>\n",
              "    <tr style=\"text-align: left;\">\n",
              "      <th>epoch</th>\n",
              "      <th>train_loss</th>\n",
              "      <th>valid_loss</th>\n",
              "      <th>mean_squared_error</th>\n",
              "      <th>mean_absolute_error</th>\n",
              "      <th>time</th>\n",
              "    </tr>\n",
              "  </thead>\n",
              "  <tbody>\n",
              "    <tr>\n",
              "      <td>0</td>\n",
              "      <td>0.021060</td>\n",
              "      <td>0.022555</td>\n",
              "      <td>0.022555</td>\n",
              "      <td>0.113174</td>\n",
              "      <td>00:15</td>\n",
              "    </tr>\n",
              "    <tr>\n",
              "      <td>1</td>\n",
              "      <td>0.021229</td>\n",
              "      <td>0.023284</td>\n",
              "      <td>0.023284</td>\n",
              "      <td>0.114680</td>\n",
              "      <td>00:15</td>\n",
              "    </tr>\n",
              "    <tr>\n",
              "      <td>2</td>\n",
              "      <td>0.020916</td>\n",
              "      <td>0.021366</td>\n",
              "      <td>0.021366</td>\n",
              "      <td>0.109524</td>\n",
              "      <td>00:15</td>\n",
              "    </tr>\n",
              "    <tr>\n",
              "      <td>3</td>\n",
              "      <td>0.020354</td>\n",
              "      <td>0.021008</td>\n",
              "      <td>0.021008</td>\n",
              "      <td>0.108820</td>\n",
              "      <td>00:15</td>\n",
              "    </tr>\n",
              "    <tr>\n",
              "      <td>4</td>\n",
              "      <td>0.019783</td>\n",
              "      <td>0.020975</td>\n",
              "      <td>0.020975</td>\n",
              "      <td>0.108775</td>\n",
              "      <td>00:15</td>\n",
              "    </tr>\n",
              "  </tbody>\n",
              "</table>"
            ],
            "text/plain": [
              "<IPython.core.display.HTML object>"
            ]
          },
          "metadata": {
            "tags": []
          }
        },
        {
          "output_type": "display_data",
          "data": {
            "text/html": [
              "<table border=\"1\" class=\"dataframe\">\n",
              "  <thead>\n",
              "    <tr style=\"text-align: left;\">\n",
              "      <th>epoch</th>\n",
              "      <th>train_loss</th>\n",
              "      <th>valid_loss</th>\n",
              "      <th>mean_squared_error</th>\n",
              "      <th>mean_absolute_error</th>\n",
              "      <th>time</th>\n",
              "    </tr>\n",
              "  </thead>\n",
              "  <tbody>\n",
              "    <tr>\n",
              "      <td>0</td>\n",
              "      <td>0.031693</td>\n",
              "      <td>0.033603</td>\n",
              "      <td>0.022578</td>\n",
              "      <td>0.112167</td>\n",
              "      <td>00:15</td>\n",
              "    </tr>\n",
              "    <tr>\n",
              "      <td>1</td>\n",
              "      <td>0.031824</td>\n",
              "      <td>0.033447</td>\n",
              "      <td>0.022616</td>\n",
              "      <td>0.112352</td>\n",
              "      <td>00:15</td>\n",
              "    </tr>\n",
              "    <tr>\n",
              "      <td>2</td>\n",
              "      <td>0.031006</td>\n",
              "      <td>0.032501</td>\n",
              "      <td>0.021846</td>\n",
              "      <td>0.110452</td>\n",
              "      <td>00:15</td>\n",
              "    </tr>\n",
              "    <tr>\n",
              "      <td>3</td>\n",
              "      <td>0.030114</td>\n",
              "      <td>0.031576</td>\n",
              "      <td>0.021138</td>\n",
              "      <td>0.109190</td>\n",
              "      <td>00:15</td>\n",
              "    </tr>\n",
              "    <tr>\n",
              "      <td>4</td>\n",
              "      <td>0.029477</td>\n",
              "      <td>0.031381</td>\n",
              "      <td>0.020965</td>\n",
              "      <td>0.108260</td>\n",
              "      <td>00:15</td>\n",
              "    </tr>\n",
              "  </tbody>\n",
              "</table>"
            ],
            "text/plain": [
              "<IPython.core.display.HTML object>"
            ]
          },
          "metadata": {
            "tags": []
          }
        },
        {
          "output_type": "display_data",
          "data": {
            "text/html": [
              "<table border=\"1\" class=\"dataframe\">\n",
              "  <thead>\n",
              "    <tr style=\"text-align: left;\">\n",
              "      <th>epoch</th>\n",
              "      <th>train_loss</th>\n",
              "      <th>valid_loss</th>\n",
              "      <th>mean_squared_error</th>\n",
              "      <th>mean_absolute_error</th>\n",
              "      <th>time</th>\n",
              "    </tr>\n",
              "  </thead>\n",
              "  <tbody>\n",
              "    <tr>\n",
              "      <td>0</td>\n",
              "      <td>0.041813</td>\n",
              "      <td>0.044840</td>\n",
              "      <td>0.023310</td>\n",
              "      <td>0.115280</td>\n",
              "      <td>00:15</td>\n",
              "    </tr>\n",
              "    <tr>\n",
              "      <td>1</td>\n",
              "      <td>0.041620</td>\n",
              "      <td>0.044711</td>\n",
              "      <td>0.023603</td>\n",
              "      <td>0.115460</td>\n",
              "      <td>00:15</td>\n",
              "    </tr>\n",
              "    <tr>\n",
              "      <td>2</td>\n",
              "      <td>0.040599</td>\n",
              "      <td>0.042780</td>\n",
              "      <td>0.022262</td>\n",
              "      <td>0.111471</td>\n",
              "      <td>00:15</td>\n",
              "    </tr>\n",
              "    <tr>\n",
              "      <td>3</td>\n",
              "      <td>0.039676</td>\n",
              "      <td>0.042285</td>\n",
              "      <td>0.022093</td>\n",
              "      <td>0.110871</td>\n",
              "      <td>00:15</td>\n",
              "    </tr>\n",
              "    <tr>\n",
              "      <td>4</td>\n",
              "      <td>0.038870</td>\n",
              "      <td>0.041333</td>\n",
              "      <td>0.021368</td>\n",
              "      <td>0.109453</td>\n",
              "      <td>00:15</td>\n",
              "    </tr>\n",
              "  </tbody>\n",
              "</table>"
            ],
            "text/plain": [
              "<IPython.core.display.HTML object>"
            ]
          },
          "metadata": {
            "tags": []
          }
        },
        {
          "output_type": "display_data",
          "data": {
            "image/png": "[encoded data removed]",
            "text/plain": [
              "<Figure size 1080x360 with 3 Axes>"
            ]
          },
          "metadata": {
            "tags": [],
            "needs_background": "light"
          }
        },
        {
          "output_type": "display_data",
          "data": {
            "image/png": "[encoded data removed]",
            "text/plain": [
              "<Figure size 1080x360 with 3 Axes>"
            ]
          },
          "metadata": {
            "tags": [],
            "needs_background": "light"
          }
        },
        {
          "output_type": "display_data",
          "data": {
            "image/png": "[encoded data removed]",
            "text/plain": [
              "<Figure size 1080x360 with 3 Axes>"
            ]
          },
          "metadata": {
            "tags": [],
            "needs_background": "light"
          }
        }
      ]
    },
    {
      "cell_type": "code",
      "metadata": {
        "id": "xXGnrMNZtxwj",
        "colab_type": "code",
        "colab": {
          "base_uri": "https://localhost:8080/",
          "height": 1000
        },
        "outputId": "9df2abdb-f4f2-436b-fb5a-1ca82b1088d0"
      },
      "source": [
        "for i in np.arange(0,1.1, 0.5):\n",
        "  print(i)\n",
        "  learn = learn.load('stage-1-cifar_px_shuffle')\n",
        "  learn.data.batch_size = 128\n",
        "  learn.metrics = [mse, mae]\n",
        "  learn.split(lambda m: (m.encoder[1], m.encoder[2], m.encoder[3], m.encoder[4], m.encoder[5], m.decoder[0], m.decoder[2], m.decoder[3], m.decoder[4]))\n",
        "  feat_loss = FeatureLoss(vgg_m, blocks[2:5], [0, i, 0])\n",
        "  learn.loss_func = feat_loss\n",
        "  learn.unfreeze()\n",
        "  do_fit('test')"
      ],
      "execution_count": 54,
      "outputs": [
        {
          "output_type": "stream",
          "text": [
            "0.0\n"
          ],
          "name": "stdout"
        },
        {
          "output_type": "display_data",
          "data": {
            "text/html": [
              "<table border=\"1\" class=\"dataframe\">\n",
              "  <thead>\n",
              "    <tr style=\"text-align: left;\">\n",
              "      <th>epoch</th>\n",
              "      <th>train_loss</th>\n",
              "      <th>valid_loss</th>\n",
              "      <th>mean_squared_error</th>\n",
              "      <th>mean_absolute_error</th>\n",
              "      <th>time</th>\n",
              "    </tr>\n",
              "  </thead>\n",
              "  <tbody>\n",
              "    <tr>\n",
              "      <td>0</td>\n",
              "      <td>0.020941</td>\n",
              "      <td>0.022687</td>\n",
              "      <td>0.022687</td>\n",
              "      <td>0.113730</td>\n",
              "      <td>00:15</td>\n",
              "    </tr>\n",
              "    <tr>\n",
              "      <td>1</td>\n",
              "      <td>0.021393</td>\n",
              "      <td>0.022632</td>\n",
              "      <td>0.022632</td>\n",
              "      <td>0.113513</td>\n",
              "      <td>00:15</td>\n",
              "    </tr>\n",
              "    <tr>\n",
              "      <td>2</td>\n",
              "      <td>0.020986</td>\n",
              "      <td>0.021642</td>\n",
              "      <td>0.021642</td>\n",
              "      <td>0.110165</td>\n",
              "      <td>00:15</td>\n",
              "    </tr>\n",
              "    <tr>\n",
              "      <td>3</td>\n",
              "      <td>0.020377</td>\n",
              "      <td>0.021191</td>\n",
              "      <td>0.021191</td>\n",
              "      <td>0.109174</td>\n",
              "      <td>00:15</td>\n",
              "    </tr>\n",
              "    <tr>\n",
              "      <td>4</td>\n",
              "      <td>0.019858</td>\n",
              "      <td>0.021033</td>\n",
              "      <td>0.021033</td>\n",
              "      <td>0.108637</td>\n",
              "      <td>00:15</td>\n",
              "    </tr>\n",
              "  </tbody>\n",
              "</table>"
            ],
            "text/plain": [
              "<IPython.core.display.HTML object>"
            ]
          },
          "metadata": {
            "tags": []
          }
        },
        {
          "output_type": "stream",
          "text": [
            "0.5\n"
          ],
          "name": "stdout"
        },
        {
          "output_type": "display_data",
          "data": {
            "text/html": [
              "<table border=\"1\" class=\"dataframe\">\n",
              "  <thead>\n",
              "    <tr style=\"text-align: left;\">\n",
              "      <th>epoch</th>\n",
              "      <th>train_loss</th>\n",
              "      <th>valid_loss</th>\n",
              "      <th>mean_squared_error</th>\n",
              "      <th>mean_absolute_error</th>\n",
              "      <th>time</th>\n",
              "    </tr>\n",
              "  </thead>\n",
              "  <tbody>\n",
              "    <tr>\n",
              "      <td>0</td>\n",
              "      <td>0.025493</td>\n",
              "      <td>0.027246</td>\n",
              "      <td>0.022646</td>\n",
              "      <td>0.113637</td>\n",
              "      <td>00:15</td>\n",
              "    </tr>\n",
              "    <tr>\n",
              "      <td>1</td>\n",
              "      <td>0.025887</td>\n",
              "      <td>0.028495</td>\n",
              "      <td>0.023998</td>\n",
              "      <td>0.116334</td>\n",
              "      <td>00:15</td>\n",
              "    </tr>\n",
              "    <tr>\n",
              "      <td>2</td>\n",
              "      <td>0.025632</td>\n",
              "      <td>0.026769</td>\n",
              "      <td>0.022387</td>\n",
              "      <td>0.113238</td>\n",
              "      <td>00:15</td>\n",
              "    </tr>\n",
              "    <tr>\n",
              "      <td>3</td>\n",
              "      <td>0.025029</td>\n",
              "      <td>0.025837</td>\n",
              "      <td>0.021523</td>\n",
              "      <td>0.110292</td>\n",
              "      <td>00:15</td>\n",
              "    </tr>\n",
              "    <tr>\n",
              "      <td>4</td>\n",
              "      <td>0.024306</td>\n",
              "      <td>0.025496</td>\n",
              "      <td>0.021207</td>\n",
              "      <td>0.109156</td>\n",
              "      <td>00:15</td>\n",
              "    </tr>\n",
              "  </tbody>\n",
              "</table>"
            ],
            "text/plain": [
              "<IPython.core.display.HTML object>"
            ]
          },
          "metadata": {
            "tags": []
          }
        },
        {
          "output_type": "stream",
          "text": [
            "1.0\n"
          ],
          "name": "stdout"
        },
        {
          "output_type": "display_data",
          "data": {
            "text/html": [
              "<table border=\"1\" class=\"dataframe\">\n",
              "  <thead>\n",
              "    <tr style=\"text-align: left;\">\n",
              "      <th>epoch</th>\n",
              "      <th>train_loss</th>\n",
              "      <th>valid_loss</th>\n",
              "      <th>mean_squared_error</th>\n",
              "      <th>mean_absolute_error</th>\n",
              "      <th>time</th>\n",
              "    </tr>\n",
              "  </thead>\n",
              "  <tbody>\n",
              "    <tr>\n",
              "      <td>0</td>\n",
              "      <td>0.029705</td>\n",
              "      <td>0.031946</td>\n",
              "      <td>0.023059</td>\n",
              "      <td>0.114791</td>\n",
              "      <td>00:15</td>\n",
              "    </tr>\n",
              "    <tr>\n",
              "      <td>1</td>\n",
              "      <td>0.031889</td>\n",
              "      <td>0.038288</td>\n",
              "      <td>0.029136</td>\n",
              "      <td>0.133052</td>\n",
              "      <td>00:15</td>\n",
              "    </tr>\n",
              "    <tr>\n",
              "      <td>2</td>\n",
              "      <td>0.031023</td>\n",
              "      <td>0.031238</td>\n",
              "      <td>0.022917</td>\n",
              "      <td>0.114931</td>\n",
              "      <td>00:15</td>\n",
              "    </tr>\n",
              "    <tr>\n",
              "      <td>3</td>\n",
              "      <td>0.029645</td>\n",
              "      <td>0.030573</td>\n",
              "      <td>0.022474</td>\n",
              "      <td>0.113429</td>\n",
              "      <td>00:15</td>\n",
              "    </tr>\n",
              "    <tr>\n",
              "      <td>4</td>\n",
              "      <td>0.028767</td>\n",
              "      <td>0.030233</td>\n",
              "      <td>0.022215</td>\n",
              "      <td>0.112495</td>\n",
              "      <td>00:15</td>\n",
              "    </tr>\n",
              "  </tbody>\n",
              "</table>"
            ],
            "text/plain": [
              "<IPython.core.display.HTML object>"
            ]
          },
          "metadata": {
            "tags": []
          }
        },
        {
          "output_type": "display_data",
          "data": {
            "image/png": "[encoded data removed]",
            "text/plain": [
              "<Figure size 1080x360 with 3 Axes>"
            ]
          },
          "metadata": {
            "tags": [],
            "needs_background": "light"
          }
        },
        {
          "output_type": "display_data",
          "data": {
            "image/png": "[encoded data removed]",
            "text/plain": [
              "<Figure size 1080x360 with 3 Axes>"
            ]
          },
          "metadata": {
            "tags": [],
            "needs_background": "light"
          }
        },
        {
          "output_type": "display_data",
          "data": {
            "image/png": "[encoded data removed]",
            "text/plain": [
              "<Figure size 1080x360 with 3 Axes>"
            ]
          },
          "metadata": {
            "tags": [],
            "needs_background": "light"
          }
        }
      ]
    },
    {
      "cell_type": "code",
      "metadata": {
        "id": "sbpie1VxTKg9",
        "colab_type": "code",
        "colab": {
          "base_uri": "https://localhost:8080/",
          "height": 1000
        },
        "outputId": "eeabcede-1c51-45ab-b0a0-d071de883740"
      },
      "source": [
        "for i in np.arange(0,1.1, 0.5):\n",
        "  print(i)\n",
        "  learn = learn.load('stage-1-cifar_px_shuffle')\n",
        "  learn.data.batch_size = 128\n",
        "  learn.metrics = [mse, mae]\n",
        "  learn.split(lambda m: (m.encoder[1], m.encoder[2], m.encoder[3], m.encoder[4], m.encoder[5], m.decoder[0], m.decoder[2], m.decoder[3], m.decoder[4]))\n",
        "  feat_loss = FeatureLoss(vgg_m, blocks[2:5], [0, 0, i])\n",
        "  learn.loss_func = feat_loss\n",
        "  learn.unfreeze()\n",
        "  do_fit('test')"
      ],
      "execution_count": 55,
      "outputs": [
        {
          "output_type": "stream",
          "text": [
            "0.0\n"
          ],
          "name": "stdout"
        },
        {
          "output_type": "display_data",
          "data": {
            "text/html": [
              "<table border=\"1\" class=\"dataframe\">\n",
              "  <thead>\n",
              "    <tr style=\"text-align: left;\">\n",
              "      <th>epoch</th>\n",
              "      <th>train_loss</th>\n",
              "      <th>valid_loss</th>\n",
              "      <th>mean_squared_error</th>\n",
              "      <th>mean_absolute_error</th>\n",
              "      <th>time</th>\n",
              "    </tr>\n",
              "  </thead>\n",
              "  <tbody>\n",
              "    <tr>\n",
              "      <td>0</td>\n",
              "      <td>0.021183</td>\n",
              "      <td>0.022570</td>\n",
              "      <td>0.022570</td>\n",
              "      <td>0.112206</td>\n",
              "      <td>00:15</td>\n",
              "    </tr>\n",
              "    <tr>\n",
              "      <td>1</td>\n",
              "      <td>0.021291</td>\n",
              "      <td>0.023136</td>\n",
              "      <td>0.023136</td>\n",
              "      <td>0.113878</td>\n",
              "      <td>00:15</td>\n",
              "    </tr>\n",
              "    <tr>\n",
              "      <td>2</td>\n",
              "      <td>0.020990</td>\n",
              "      <td>0.021719</td>\n",
              "      <td>0.021719</td>\n",
              "      <td>0.110831</td>\n",
              "      <td>00:15</td>\n",
              "    </tr>\n",
              "    <tr>\n",
              "      <td>3</td>\n",
              "      <td>0.020349</td>\n",
              "      <td>0.021167</td>\n",
              "      <td>0.021167</td>\n",
              "      <td>0.108635</td>\n",
              "      <td>00:15</td>\n",
              "    </tr>\n",
              "    <tr>\n",
              "      <td>4</td>\n",
              "      <td>0.019852</td>\n",
              "      <td>0.020988</td>\n",
              "      <td>0.020988</td>\n",
              "      <td>0.108538</td>\n",
              "      <td>00:15</td>\n",
              "    </tr>\n",
              "  </tbody>\n",
              "</table>"
            ],
            "text/plain": [
              "<IPython.core.display.HTML object>"
            ]
          },
          "metadata": {
            "tags": []
          }
        },
        {
          "output_type": "stream",
          "text": [
            "0.5\n"
          ],
          "name": "stdout"
        },
        {
          "output_type": "display_data",
          "data": {
            "text/html": [
              "<table border=\"1\" class=\"dataframe\">\n",
              "  <thead>\n",
              "    <tr style=\"text-align: left;\">\n",
              "      <th>epoch</th>\n",
              "      <th>train_loss</th>\n",
              "      <th>valid_loss</th>\n",
              "      <th>mean_squared_error</th>\n",
              "      <th>mean_absolute_error</th>\n",
              "      <th>time</th>\n",
              "    </tr>\n",
              "  </thead>\n",
              "  <tbody>\n",
              "    <tr>\n",
              "      <td>0</td>\n",
              "      <td>0.056913</td>\n",
              "      <td>0.057118</td>\n",
              "      <td>0.024823</td>\n",
              "      <td>0.119780</td>\n",
              "      <td>00:15</td>\n",
              "    </tr>\n",
              "    <tr>\n",
              "      <td>1</td>\n",
              "      <td>0.056874</td>\n",
              "      <td>0.056609</td>\n",
              "      <td>0.026288</td>\n",
              "      <td>0.123529</td>\n",
              "      <td>00:15</td>\n",
              "    </tr>\n",
              "    <tr>\n",
              "      <td>2</td>\n",
              "      <td>0.053809</td>\n",
              "      <td>0.053029</td>\n",
              "      <td>0.024579</td>\n",
              "      <td>0.119301</td>\n",
              "      <td>00:15</td>\n",
              "    </tr>\n",
              "    <tr>\n",
              "      <td>3</td>\n",
              "      <td>0.051245</td>\n",
              "      <td>0.051628</td>\n",
              "      <td>0.023739</td>\n",
              "      <td>0.117087</td>\n",
              "      <td>00:15</td>\n",
              "    </tr>\n",
              "    <tr>\n",
              "      <td>4</td>\n",
              "      <td>0.049727</td>\n",
              "      <td>0.051023</td>\n",
              "      <td>0.023416</td>\n",
              "      <td>0.115913</td>\n",
              "      <td>00:15</td>\n",
              "    </tr>\n",
              "  </tbody>\n",
              "</table>"
            ],
            "text/plain": [
              "<IPython.core.display.HTML object>"
            ]
          },
          "metadata": {
            "tags": []
          }
        },
        {
          "output_type": "stream",
          "text": [
            "1.0\n"
          ],
          "name": "stdout"
        },
        {
          "output_type": "display_data",
          "data": {
            "text/html": [
              "<table border=\"1\" class=\"dataframe\">\n",
              "  <thead>\n",
              "    <tr style=\"text-align: left;\">\n",
              "      <th>epoch</th>\n",
              "      <th>train_loss</th>\n",
              "      <th>valid_loss</th>\n",
              "      <th>mean_squared_error</th>\n",
              "      <th>mean_absolute_error</th>\n",
              "      <th>time</th>\n",
              "    </tr>\n",
              "  </thead>\n",
              "  <tbody>\n",
              "    <tr>\n",
              "      <td>0</td>\n",
              "      <td>0.092146</td>\n",
              "      <td>0.089251</td>\n",
              "      <td>0.026616</td>\n",
              "      <td>0.125690</td>\n",
              "      <td>00:15</td>\n",
              "    </tr>\n",
              "    <tr>\n",
              "      <td>1</td>\n",
              "      <td>0.085573</td>\n",
              "      <td>0.083807</td>\n",
              "      <td>0.027548</td>\n",
              "      <td>0.128036</td>\n",
              "      <td>00:15</td>\n",
              "    </tr>\n",
              "    <tr>\n",
              "      <td>2</td>\n",
              "      <td>0.081460</td>\n",
              "      <td>0.080628</td>\n",
              "      <td>0.025987</td>\n",
              "      <td>0.122602</td>\n",
              "      <td>00:15</td>\n",
              "    </tr>\n",
              "    <tr>\n",
              "      <td>3</td>\n",
              "      <td>0.078135</td>\n",
              "      <td>0.078181</td>\n",
              "      <td>0.025273</td>\n",
              "      <td>0.121221</td>\n",
              "      <td>00:15</td>\n",
              "    </tr>\n",
              "    <tr>\n",
              "      <td>4</td>\n",
              "      <td>0.075428</td>\n",
              "      <td>0.077338</td>\n",
              "      <td>0.024802</td>\n",
              "      <td>0.119901</td>\n",
              "      <td>00:15</td>\n",
              "    </tr>\n",
              "  </tbody>\n",
              "</table>"
            ],
            "text/plain": [
              "<IPython.core.display.HTML object>"
            ]
          },
          "metadata": {
            "tags": []
          }
        },
        {
          "output_type": "display_data",
          "data": {
            "image/png": "[encoded data removed]",
            "text/plain": [
              "<Figure size 1080x360 with 3 Axes>"
            ]
          },
          "metadata": {
            "tags": [],
            "needs_background": "light"
          }
        },
        {
          "output_type": "display_data",
          "data": {
            "image/png": "[encoded data removed]",
            "text/plain": [
              "<Figure size 1080x360 with 3 Axes>"
            ]
          },
          "metadata": {
            "tags": [],
            "needs_background": "light"
          }
        },
        {
          "output_type": "display_data",
          "data": {
            "image/png": "[encoded data removed]",
            "text/plain": [
              "<Figure size 1080x360 with 3 Axes>"
            ]
          },
          "metadata": {
            "tags": [],
            "needs_background": "light"
          }
        }
      ]
    },
    {
      "cell_type": "code",
      "metadata": {
        "id": "wKC8O23gWyOo",
        "colab_type": "code",
        "colab": {
          "base_uri": "https://localhost:8080/",
          "height": 1000
        },
        "outputId": "d4e555d8-5bd1-486e-dcc9-7d0da3c93cad"
      },
      "source": [
        "for i in np.arange(0,1.1, 0.5):\n",
        "  print(i)\n",
        "  learn = learn.load('stage-1-cifar_px_shuffle')\n",
        "  learn.data.batch_size = 128\n",
        "  learn.metrics = [mse, mae]\n",
        "  learn.split(lambda m: (m.encoder[1], m.encoder[2], m.encoder[3], m.encoder[4], m.encoder[5], m.decoder[0], m.decoder[2], m.decoder[3], m.decoder[4]))\n",
        "  feat_loss = FeatureLoss(vgg_m, blocks[0:3], [i, 0, 0])\n",
        "  learn.loss_func = feat_loss\n",
        "  learn.unfreeze()\n",
        "  do_fit('test')"
      ],
      "execution_count": 56,
      "outputs": [
        {
          "output_type": "stream",
          "text": [
            "0.0\n"
          ],
          "name": "stdout"
        },
        {
          "output_type": "display_data",
          "data": {
            "text/html": [
              "<table border=\"1\" class=\"dataframe\">\n",
              "  <thead>\n",
              "    <tr style=\"text-align: left;\">\n",
              "      <th>epoch</th>\n",
              "      <th>train_loss</th>\n",
              "      <th>valid_loss</th>\n",
              "      <th>mean_squared_error</th>\n",
              "      <th>mean_absolute_error</th>\n",
              "      <th>time</th>\n",
              "    </tr>\n",
              "  </thead>\n",
              "  <tbody>\n",
              "    <tr>\n",
              "      <td>0</td>\n",
              "      <td>0.020930</td>\n",
              "      <td>0.022403</td>\n",
              "      <td>0.022403</td>\n",
              "      <td>0.112619</td>\n",
              "      <td>00:15</td>\n",
              "    </tr>\n",
              "    <tr>\n",
              "      <td>1</td>\n",
              "      <td>0.021258</td>\n",
              "      <td>0.022686</td>\n",
              "      <td>0.022686</td>\n",
              "      <td>0.112944</td>\n",
              "      <td>00:15</td>\n",
              "    </tr>\n",
              "    <tr>\n",
              "      <td>2</td>\n",
              "      <td>0.020909</td>\n",
              "      <td>0.021497</td>\n",
              "      <td>0.021497</td>\n",
              "      <td>0.109587</td>\n",
              "      <td>00:15</td>\n",
              "    </tr>\n",
              "    <tr>\n",
              "      <td>3</td>\n",
              "      <td>0.020301</td>\n",
              "      <td>0.021069</td>\n",
              "      <td>0.021069</td>\n",
              "      <td>0.108485</td>\n",
              "      <td>00:15</td>\n",
              "    </tr>\n",
              "    <tr>\n",
              "      <td>4</td>\n",
              "      <td>0.019657</td>\n",
              "      <td>0.020967</td>\n",
              "      <td>0.020967</td>\n",
              "      <td>0.108166</td>\n",
              "      <td>00:15</td>\n",
              "    </tr>\n",
              "  </tbody>\n",
              "</table>"
            ],
            "text/plain": [
              "<IPython.core.display.HTML object>"
            ]
          },
          "metadata": {
            "tags": []
          }
        },
        {
          "output_type": "stream",
          "text": [
            "0.5\n"
          ],
          "name": "stdout"
        },
        {
          "output_type": "display_data",
          "data": {
            "text/html": [
              "<table border=\"1\" class=\"dataframe\">\n",
              "  <thead>\n",
              "    <tr style=\"text-align: left;\">\n",
              "      <th>epoch</th>\n",
              "      <th>train_loss</th>\n",
              "      <th>valid_loss</th>\n",
              "      <th>mean_squared_error</th>\n",
              "      <th>mean_absolute_error</th>\n",
              "      <th>time</th>\n",
              "    </tr>\n",
              "  </thead>\n",
              "  <tbody>\n",
              "    <tr>\n",
              "      <td>0</td>\n",
              "      <td>0.023352</td>\n",
              "      <td>0.025441</td>\n",
              "      <td>0.022602</td>\n",
              "      <td>0.113402</td>\n",
              "      <td>00:15</td>\n",
              "    </tr>\n",
              "    <tr>\n",
              "      <td>1</td>\n",
              "      <td>0.023738</td>\n",
              "      <td>0.025491</td>\n",
              "      <td>0.022661</td>\n",
              "      <td>0.113538</td>\n",
              "      <td>00:15</td>\n",
              "    </tr>\n",
              "    <tr>\n",
              "      <td>2</td>\n",
              "      <td>0.023191</td>\n",
              "      <td>0.024746</td>\n",
              "      <td>0.021934</td>\n",
              "      <td>0.111588</td>\n",
              "      <td>00:15</td>\n",
              "    </tr>\n",
              "    <tr>\n",
              "      <td>3</td>\n",
              "      <td>0.022555</td>\n",
              "      <td>0.023857</td>\n",
              "      <td>0.021061</td>\n",
              "      <td>0.108801</td>\n",
              "      <td>00:14</td>\n",
              "    </tr>\n",
              "    <tr>\n",
              "      <td>4</td>\n",
              "      <td>0.021930</td>\n",
              "      <td>0.023600</td>\n",
              "      <td>0.020809</td>\n",
              "      <td>0.107861</td>\n",
              "      <td>00:14</td>\n",
              "    </tr>\n",
              "  </tbody>\n",
              "</table>"
            ],
            "text/plain": [
              "<IPython.core.display.HTML object>"
            ]
          },
          "metadata": {
            "tags": []
          }
        },
        {
          "output_type": "stream",
          "text": [
            "1.0\n"
          ],
          "name": "stdout"
        },
        {
          "output_type": "display_data",
          "data": {
            "text/html": [
              "<table border=\"1\" class=\"dataframe\">\n",
              "  <thead>\n",
              "    <tr style=\"text-align: left;\">\n",
              "      <th>epoch</th>\n",
              "      <th>train_loss</th>\n",
              "      <th>valid_loss</th>\n",
              "      <th>mean_squared_error</th>\n",
              "      <th>mean_absolute_error</th>\n",
              "      <th>time</th>\n",
              "    </tr>\n",
              "  </thead>\n",
              "  <tbody>\n",
              "    <tr>\n",
              "      <td>0</td>\n",
              "      <td>0.025459</td>\n",
              "      <td>0.028593</td>\n",
              "      <td>0.022899</td>\n",
              "      <td>0.114074</td>\n",
              "      <td>00:15</td>\n",
              "    </tr>\n",
              "    <tr>\n",
              "      <td>1</td>\n",
              "      <td>0.026200</td>\n",
              "      <td>0.029120</td>\n",
              "      <td>0.023416</td>\n",
              "      <td>0.115118</td>\n",
              "      <td>00:15</td>\n",
              "    </tr>\n",
              "    <tr>\n",
              "      <td>2</td>\n",
              "      <td>0.025660</td>\n",
              "      <td>0.027280</td>\n",
              "      <td>0.021649</td>\n",
              "      <td>0.110846</td>\n",
              "      <td>00:15</td>\n",
              "    </tr>\n",
              "    <tr>\n",
              "      <td>3</td>\n",
              "      <td>0.024900</td>\n",
              "      <td>0.026758</td>\n",
              "      <td>0.021152</td>\n",
              "      <td>0.108981</td>\n",
              "      <td>00:15</td>\n",
              "    </tr>\n",
              "    <tr>\n",
              "      <td>4</td>\n",
              "      <td>0.024384</td>\n",
              "      <td>0.026582</td>\n",
              "      <td>0.020980</td>\n",
              "      <td>0.108708</td>\n",
              "      <td>00:15</td>\n",
              "    </tr>\n",
              "  </tbody>\n",
              "</table>"
            ],
            "text/plain": [
              "<IPython.core.display.HTML object>"
            ]
          },
          "metadata": {
            "tags": []
          }
        },
        {
          "output_type": "display_data",
          "data": {
            "image/png": "[encoded data removed]",
            "text/plain": [
              "<Figure size 1080x360 with 3 Axes>"
            ]
          },
          "metadata": {
            "tags": [],
            "needs_background": "light"
          }
        },
        {
          "output_type": "display_data",
          "data": {
            "image/png": "[encoded data removed]",
            "text/plain": [
              "<Figure size 1080x360 with 3 Axes>"
            ]
          },
          "metadata": {
            "tags": [],
            "needs_background": "light"
          }
        },
        {
          "output_type": "display_data",
          "data": {
            "image/png": "[encoded data removed]",
            "text/plain": [
              "<Figure size 1080x360 with 3 Axes>"
            ]
          },
          "metadata": {
            "tags": [],
            "needs_background": "light"
          }
        }
      ]
    },
    {
      "cell_type": "code",
      "metadata": {
        "id": "hAr6XPYXYkul",
        "colab_type": "code",
        "colab": {
          "base_uri": "https://localhost:8080/",
          "height": 1000
        },
        "outputId": "fe6a77a9-7443-439d-a600-eb2c694f8b06"
      },
      "source": [
        "for i in np.arange(0,1.1, 0.5):\n",
        "  print(i)\n",
        "  learn = learn.load('stage-1-cifar_px_shuffle')\n",
        "  learn.data.batch_size = 128\n",
        "  learn.metrics = [mse, mae]\n",
        "  learn.split(lambda m: (m.encoder[1], m.encoder[2], m.encoder[3], m.encoder[4], m.encoder[5], m.decoder[0], m.decoder[2], m.decoder[3], m.decoder[4]))\n",
        "  feat_loss = FeatureLoss(vgg_m, blocks[0:3], [0, i, 0])\n",
        "  learn.loss_func = feat_loss\n",
        "  learn.unfreeze()\n",
        "  do_fit('test')"
      ],
      "execution_count": 57,
      "outputs": [
        {
          "output_type": "stream",
          "text": [
            "0.0\n"
          ],
          "name": "stdout"
        },
        {
          "output_type": "display_data",
          "data": {
            "text/html": [
              "<table border=\"1\" class=\"dataframe\">\n",
              "  <thead>\n",
              "    <tr style=\"text-align: left;\">\n",
              "      <th>epoch</th>\n",
              "      <th>train_loss</th>\n",
              "      <th>valid_loss</th>\n",
              "      <th>mean_squared_error</th>\n",
              "      <th>mean_absolute_error</th>\n",
              "      <th>time</th>\n",
              "    </tr>\n",
              "  </thead>\n",
              "  <tbody>\n",
              "    <tr>\n",
              "      <td>0</td>\n",
              "      <td>0.020873</td>\n",
              "      <td>0.022469</td>\n",
              "      <td>0.022469</td>\n",
              "      <td>0.111894</td>\n",
              "      <td>00:16</td>\n",
              "    </tr>\n",
              "    <tr>\n",
              "      <td>1</td>\n",
              "      <td>0.021262</td>\n",
              "      <td>0.023578</td>\n",
              "      <td>0.023578</td>\n",
              "      <td>0.115472</td>\n",
              "      <td>00:16</td>\n",
              "    </tr>\n",
              "    <tr>\n",
              "      <td>2</td>\n",
              "      <td>0.020991</td>\n",
              "      <td>0.021534</td>\n",
              "      <td>0.021534</td>\n",
              "      <td>0.109660</td>\n",
              "      <td>00:15</td>\n",
              "    </tr>\n",
              "    <tr>\n",
              "      <td>3</td>\n",
              "      <td>0.020375</td>\n",
              "      <td>0.021352</td>\n",
              "      <td>0.021352</td>\n",
              "      <td>0.110465</td>\n",
              "      <td>00:15</td>\n",
              "    </tr>\n",
              "    <tr>\n",
              "      <td>4</td>\n",
              "      <td>0.019821</td>\n",
              "      <td>0.020828</td>\n",
              "      <td>0.020828</td>\n",
              "      <td>0.107951</td>\n",
              "      <td>00:15</td>\n",
              "    </tr>\n",
              "  </tbody>\n",
              "</table>"
            ],
            "text/plain": [
              "<IPython.core.display.HTML object>"
            ]
          },
          "metadata": {
            "tags": []
          }
        },
        {
          "output_type": "stream",
          "text": [
            "0.5\n"
          ],
          "name": "stdout"
        },
        {
          "output_type": "display_data",
          "data": {
            "text/html": [
              "<table border=\"1\" class=\"dataframe\">\n",
              "  <thead>\n",
              "    <tr style=\"text-align: left;\">\n",
              "      <th>epoch</th>\n",
              "      <th>train_loss</th>\n",
              "      <th>valid_loss</th>\n",
              "      <th>mean_squared_error</th>\n",
              "      <th>mean_absolute_error</th>\n",
              "      <th>time</th>\n",
              "    </tr>\n",
              "  </thead>\n",
              "  <tbody>\n",
              "    <tr>\n",
              "      <td>0</td>\n",
              "      <td>0.028386</td>\n",
              "      <td>0.030736</td>\n",
              "      <td>0.022429</td>\n",
              "      <td>0.113072</td>\n",
              "      <td>00:15</td>\n",
              "    </tr>\n",
              "    <tr>\n",
              "      <td>1</td>\n",
              "      <td>0.029077</td>\n",
              "      <td>0.031988</td>\n",
              "      <td>0.023615</td>\n",
              "      <td>0.116157</td>\n",
              "      <td>00:15</td>\n",
              "    </tr>\n",
              "    <tr>\n",
              "      <td>2</td>\n",
              "      <td>0.028634</td>\n",
              "      <td>0.029965</td>\n",
              "      <td>0.021760</td>\n",
              "      <td>0.110830</td>\n",
              "      <td>00:15</td>\n",
              "    </tr>\n",
              "    <tr>\n",
              "      <td>3</td>\n",
              "      <td>0.027819</td>\n",
              "      <td>0.029235</td>\n",
              "      <td>0.021127</td>\n",
              "      <td>0.108877</td>\n",
              "      <td>00:15</td>\n",
              "    </tr>\n",
              "    <tr>\n",
              "      <td>4</td>\n",
              "      <td>0.027210</td>\n",
              "      <td>0.029076</td>\n",
              "      <td>0.020980</td>\n",
              "      <td>0.108067</td>\n",
              "      <td>00:15</td>\n",
              "    </tr>\n",
              "  </tbody>\n",
              "</table>"
            ],
            "text/plain": [
              "<IPython.core.display.HTML object>"
            ]
          },
          "metadata": {
            "tags": []
          }
        },
        {
          "output_type": "stream",
          "text": [
            "1.0\n"
          ],
          "name": "stdout"
        },
        {
          "output_type": "display_data",
          "data": {
            "text/html": [
              "<table border=\"1\" class=\"dataframe\">\n",
              "  <thead>\n",
              "    <tr style=\"text-align: left;\">\n",
              "      <th>epoch</th>\n",
              "      <th>train_loss</th>\n",
              "      <th>valid_loss</th>\n",
              "      <th>mean_squared_error</th>\n",
              "      <th>mean_absolute_error</th>\n",
              "      <th>time</th>\n",
              "    </tr>\n",
              "  </thead>\n",
              "  <tbody>\n",
              "    <tr>\n",
              "      <td>0</td>\n",
              "      <td>0.036094</td>\n",
              "      <td>0.039333</td>\n",
              "      <td>0.022763</td>\n",
              "      <td>0.114052</td>\n",
              "      <td>00:15</td>\n",
              "    </tr>\n",
              "    <tr>\n",
              "      <td>1</td>\n",
              "      <td>0.036366</td>\n",
              "      <td>0.039044</td>\n",
              "      <td>0.022685</td>\n",
              "      <td>0.113513</td>\n",
              "      <td>00:15</td>\n",
              "    </tr>\n",
              "    <tr>\n",
              "      <td>2</td>\n",
              "      <td>0.035756</td>\n",
              "      <td>0.037947</td>\n",
              "      <td>0.021925</td>\n",
              "      <td>0.110851</td>\n",
              "      <td>00:15</td>\n",
              "    </tr>\n",
              "    <tr>\n",
              "      <td>3</td>\n",
              "      <td>0.035098</td>\n",
              "      <td>0.037298</td>\n",
              "      <td>0.021434</td>\n",
              "      <td>0.109871</td>\n",
              "      <td>00:15</td>\n",
              "    </tr>\n",
              "    <tr>\n",
              "      <td>4</td>\n",
              "      <td>0.034519</td>\n",
              "      <td>0.036933</td>\n",
              "      <td>0.021119</td>\n",
              "      <td>0.108412</td>\n",
              "      <td>00:15</td>\n",
              "    </tr>\n",
              "  </tbody>\n",
              "</table>"
            ],
            "text/plain": [
              "<IPython.core.display.HTML object>"
            ]
          },
          "metadata": {
            "tags": []
          }
        },
        {
          "output_type": "display_data",
          "data": {
            "image/png": "[encoded data removed]",
            "text/plain": [
              "<Figure size 1080x360 with 3 Axes>"
            ]
          },
          "metadata": {
            "tags": [],
            "needs_background": "light"
          }
        },
        {
          "output_type": "display_data",
          "data": {
            "image/png": "[encoded data removed]",
            "text/plain": [
              "<Figure size 1080x360 with 3 Axes>"
            ]
          },
          "metadata": {
            "tags": [],
            "needs_background": "light"
          }
        },
        {
          "output_type": "display_data",
          "data": {
            "image/png": "[encoded data removed]",
            "text/plain": [
              "<Figure size 1080x360 with 3 Axes>"
            ]
          },
          "metadata": {
            "tags": [],
            "needs_background": "light"
          }
        }
      ]
    },
    {
      "cell_type": "code",
      "metadata": {
        "id": "1wJD9eSKaqFi",
        "colab_type": "code",
        "colab": {
          "base_uri": "https://localhost:8080/",
          "height": 513
        },
        "outputId": "7b67c318-7620-416f-9c27-6abce9f74880"
      },
      "source": [
        "learn = learn.load('stage-1-cifar_px_shuffle')\n",
        "learn.data.batch_size = 128\n",
        "learn.metrics = [mse, mae]\n",
        "learn.split(lambda m: (m.encoder[1], m.encoder[2], m.encoder[3], m.encoder[4], m.encoder[5], m.decoder[0], m.decoder[2], m.decoder[3], m.decoder[4]))\n",
        "feat_loss = FeatureLoss(vgg_m, blocks, [0.5, 0, 0.3, 1, 0])\n",
        "learn.loss_func = feat_loss\n",
        "learn.unfreeze()\n",
        "do_fit('test')"
      ],
      "execution_count": 58,
      "outputs": [
        {
          "output_type": "display_data",
          "data": {
            "text/html": [
              "<table border=\"1\" class=\"dataframe\">\n",
              "  <thead>\n",
              "    <tr style=\"text-align: left;\">\n",
              "      <th>epoch</th>\n",
              "      <th>train_loss</th>\n",
              "      <th>valid_loss</th>\n",
              "      <th>mean_squared_error</th>\n",
              "      <th>mean_absolute_error</th>\n",
              "      <th>time</th>\n",
              "    </tr>\n",
              "  </thead>\n",
              "  <tbody>\n",
              "    <tr>\n",
              "      <td>0</td>\n",
              "      <td>0.038360</td>\n",
              "      <td>0.041676</td>\n",
              "      <td>0.023283</td>\n",
              "      <td>0.115395</td>\n",
              "      <td>00:15</td>\n",
              "    </tr>\n",
              "    <tr>\n",
              "      <td>1</td>\n",
              "      <td>0.038240</td>\n",
              "      <td>0.040673</td>\n",
              "      <td>0.022962</td>\n",
              "      <td>0.114357</td>\n",
              "      <td>00:15</td>\n",
              "    </tr>\n",
              "    <tr>\n",
              "      <td>2</td>\n",
              "      <td>0.037438</td>\n",
              "      <td>0.039675</td>\n",
              "      <td>0.022320</td>\n",
              "      <td>0.112492</td>\n",
              "      <td>00:15</td>\n",
              "    </tr>\n",
              "    <tr>\n",
              "      <td>3</td>\n",
              "      <td>0.036654</td>\n",
              "      <td>0.038906</td>\n",
              "      <td>0.021836</td>\n",
              "      <td>0.111185</td>\n",
              "      <td>00:15</td>\n",
              "    </tr>\n",
              "    <tr>\n",
              "      <td>4</td>\n",
              "      <td>0.035927</td>\n",
              "      <td>0.038806</td>\n",
              "      <td>0.021771</td>\n",
              "      <td>0.110720</td>\n",
              "      <td>00:16</td>\n",
              "    </tr>\n",
              "  </tbody>\n",
              "</table>"
            ],
            "text/plain": [
              "<IPython.core.display.HTML object>"
            ]
          },
          "metadata": {
            "tags": []
          }
        },
        {
          "output_type": "display_data",
          "data": {
            "image/png": "[encoded data removed]",
            "text/plain": [
              "<Figure size 1080x360 with 3 Axes>"
            ]
          },
          "metadata": {
            "tags": [],
            "needs_background": "light"
          }
        }
      ]
    },
    {
      "cell_type": "code",
      "metadata": {
        "id": "2oL_plXQbTC7",
        "colab_type": "code",
        "colab": {
          "base_uri": "https://localhost:8080/",
          "height": 668
        },
        "outputId": "a9186351-b2e2-4437-a194-34506ff4bd53"
      },
      "source": [
        "learn.fit_one_cycle(10, slice(lr[0],lr[1]))\n",
        "learn.show_results(rows=1, imgsize=5)"
      ],
      "execution_count": 60,
      "outputs": [
        {
          "output_type": "display_data",
          "data": {
            "text/html": [
              "<table border=\"1\" class=\"dataframe\">\n",
              "  <thead>\n",
              "    <tr style=\"text-align: left;\">\n",
              "      <th>epoch</th>\n",
              "      <th>train_loss</th>\n",
              "      <th>valid_loss</th>\n",
              "      <th>mean_squared_error</th>\n",
              "      <th>mean_absolute_error</th>\n",
              "      <th>time</th>\n",
              "    </tr>\n",
              "  </thead>\n",
              "  <tbody>\n",
              "    <tr>\n",
              "      <td>0</td>\n",
              "      <td>0.035243</td>\n",
              "      <td>0.038501</td>\n",
              "      <td>0.021562</td>\n",
              "      <td>0.110191</td>\n",
              "      <td>00:15</td>\n",
              "    </tr>\n",
              "    <tr>\n",
              "      <td>1</td>\n",
              "      <td>0.035454</td>\n",
              "      <td>0.038750</td>\n",
              "      <td>0.021751</td>\n",
              "      <td>0.110737</td>\n",
              "      <td>00:16</td>\n",
              "    </tr>\n",
              "    <tr>\n",
              "      <td>2</td>\n",
              "      <td>0.035882</td>\n",
              "      <td>0.039183</td>\n",
              "      <td>0.022199</td>\n",
              "      <td>0.112534</td>\n",
              "      <td>00:16</td>\n",
              "    </tr>\n",
              "    <tr>\n",
              "      <td>3</td>\n",
              "      <td>0.035782</td>\n",
              "      <td>0.038663</td>\n",
              "      <td>0.021836</td>\n",
              "      <td>0.110693</td>\n",
              "      <td>00:15</td>\n",
              "    </tr>\n",
              "    <tr>\n",
              "      <td>4</td>\n",
              "      <td>0.035543</td>\n",
              "      <td>0.038394</td>\n",
              "      <td>0.021707</td>\n",
              "      <td>0.110705</td>\n",
              "      <td>00:15</td>\n",
              "    </tr>\n",
              "    <tr>\n",
              "      <td>5</td>\n",
              "      <td>0.035043</td>\n",
              "      <td>0.037517</td>\n",
              "      <td>0.020943</td>\n",
              "      <td>0.108283</td>\n",
              "      <td>00:15</td>\n",
              "    </tr>\n",
              "    <tr>\n",
              "      <td>6</td>\n",
              "      <td>0.034585</td>\n",
              "      <td>0.037047</td>\n",
              "      <td>0.020673</td>\n",
              "      <td>0.107626</td>\n",
              "      <td>00:15</td>\n",
              "    </tr>\n",
              "    <tr>\n",
              "      <td>7</td>\n",
              "      <td>0.034062</td>\n",
              "      <td>0.036659</td>\n",
              "      <td>0.020354</td>\n",
              "      <td>0.106060</td>\n",
              "      <td>00:15</td>\n",
              "    </tr>\n",
              "    <tr>\n",
              "      <td>8</td>\n",
              "      <td>0.033555</td>\n",
              "      <td>0.036592</td>\n",
              "      <td>0.020296</td>\n",
              "      <td>0.105980</td>\n",
              "      <td>00:16</td>\n",
              "    </tr>\n",
              "    <tr>\n",
              "      <td>9</td>\n",
              "      <td>0.033188</td>\n",
              "      <td>0.036743</td>\n",
              "      <td>0.020452</td>\n",
              "      <td>0.106781</td>\n",
              "      <td>00:15</td>\n",
              "    </tr>\n",
              "  </tbody>\n",
              "</table>"
            ],
            "text/plain": [
              "<IPython.core.display.HTML object>"
            ]
          },
          "metadata": {
            "tags": []
          }
        },
        {
          "output_type": "display_data",
          "data": {
            "image/png": "[encoded data removed]",
            "text/plain": [
              "<Figure size 1080x360 with 3 Axes>"
            ]
          },
          "metadata": {
            "tags": [],
            "needs_background": "light"
          }
        }
      ]
    },
    {
      "cell_type": "code",
      "metadata": {
        "id": "8eKZZJYUb3MU",
        "colab_type": "code",
        "colab": {
          "base_uri": "https://localhost:8080/",
          "height": 978
        },
        "outputId": "5f8056db-e7d9-43fa-9554-c54367c8bb07"
      },
      "source": [
        "learn.fit_one_cycle(20, slice(lr[0],lr[1]))\n",
        "learn.show_results(rows=1, imgsize=5)"
      ],
      "execution_count": 61,
      "outputs": [
        {
          "output_type": "display_data",
          "data": {
            "text/html": [
              "<table border=\"1\" class=\"dataframe\">\n",
              "  <thead>\n",
              "    <tr style=\"text-align: left;\">\n",
              "      <th>epoch</th>\n",
              "      <th>train_loss</th>\n",
              "      <th>valid_loss</th>\n",
              "      <th>mean_squared_error</th>\n",
              "      <th>mean_absolute_error</th>\n",
              "      <th>time</th>\n",
              "    </tr>\n",
              "  </thead>\n",
              "  <tbody>\n",
              "    <tr>\n",
              "      <td>0</td>\n",
              "      <td>0.033140</td>\n",
              "      <td>0.036398</td>\n",
              "      <td>0.020180</td>\n",
              "      <td>0.106137</td>\n",
              "      <td>00:15</td>\n",
              "    </tr>\n",
              "    <tr>\n",
              "      <td>1</td>\n",
              "      <td>0.033077</td>\n",
              "      <td>0.036484</td>\n",
              "      <td>0.020259</td>\n",
              "      <td>0.106155</td>\n",
              "      <td>00:16</td>\n",
              "    </tr>\n",
              "    <tr>\n",
              "      <td>2</td>\n",
              "      <td>0.033165</td>\n",
              "      <td>0.036797</td>\n",
              "      <td>0.020490</td>\n",
              "      <td>0.106894</td>\n",
              "      <td>00:15</td>\n",
              "    </tr>\n",
              "    <tr>\n",
              "      <td>3</td>\n",
              "      <td>0.033406</td>\n",
              "      <td>0.037315</td>\n",
              "      <td>0.020875</td>\n",
              "      <td>0.108612</td>\n",
              "      <td>00:15</td>\n",
              "    </tr>\n",
              "    <tr>\n",
              "      <td>4</td>\n",
              "      <td>0.033464</td>\n",
              "      <td>0.037410</td>\n",
              "      <td>0.021059</td>\n",
              "      <td>0.109315</td>\n",
              "      <td>00:15</td>\n",
              "    </tr>\n",
              "    <tr>\n",
              "      <td>5</td>\n",
              "      <td>0.033563</td>\n",
              "      <td>0.037958</td>\n",
              "      <td>0.021622</td>\n",
              "      <td>0.109691</td>\n",
              "      <td>00:15</td>\n",
              "    </tr>\n",
              "    <tr>\n",
              "      <td>6</td>\n",
              "      <td>0.033325</td>\n",
              "      <td>0.036598</td>\n",
              "      <td>0.020347</td>\n",
              "      <td>0.106579</td>\n",
              "      <td>00:16</td>\n",
              "    </tr>\n",
              "    <tr>\n",
              "      <td>7</td>\n",
              "      <td>0.033037</td>\n",
              "      <td>0.037080</td>\n",
              "      <td>0.020880</td>\n",
              "      <td>0.106734</td>\n",
              "      <td>00:16</td>\n",
              "    </tr>\n",
              "    <tr>\n",
              "      <td>8</td>\n",
              "      <td>0.032677</td>\n",
              "      <td>0.036746</td>\n",
              "      <td>0.020620</td>\n",
              "      <td>0.104867</td>\n",
              "      <td>00:15</td>\n",
              "    </tr>\n",
              "    <tr>\n",
              "      <td>9</td>\n",
              "      <td>0.032442</td>\n",
              "      <td>0.036254</td>\n",
              "      <td>0.020248</td>\n",
              "      <td>0.105065</td>\n",
              "      <td>00:15</td>\n",
              "    </tr>\n",
              "    <tr>\n",
              "      <td>10</td>\n",
              "      <td>0.032075</td>\n",
              "      <td>0.035318</td>\n",
              "      <td>0.019438</td>\n",
              "      <td>0.103959</td>\n",
              "      <td>00:15</td>\n",
              "    </tr>\n",
              "    <tr>\n",
              "      <td>11</td>\n",
              "      <td>0.031822</td>\n",
              "      <td>0.034918</td>\n",
              "      <td>0.019089</td>\n",
              "      <td>0.102228</td>\n",
              "      <td>00:15</td>\n",
              "    </tr>\n",
              "    <tr>\n",
              "      <td>12</td>\n",
              "      <td>0.031767</td>\n",
              "      <td>0.035265</td>\n",
              "      <td>0.019495</td>\n",
              "      <td>0.104171</td>\n",
              "      <td>00:15</td>\n",
              "    </tr>\n",
              "    <tr>\n",
              "      <td>13</td>\n",
              "      <td>0.031419</td>\n",
              "      <td>0.034419</td>\n",
              "      <td>0.018704</td>\n",
              "      <td>0.101107</td>\n",
              "      <td>00:15</td>\n",
              "    </tr>\n",
              "    <tr>\n",
              "      <td>14</td>\n",
              "      <td>0.031056</td>\n",
              "      <td>0.034666</td>\n",
              "      <td>0.018973</td>\n",
              "      <td>0.101061</td>\n",
              "      <td>00:15</td>\n",
              "    </tr>\n",
              "    <tr>\n",
              "      <td>15</td>\n",
              "      <td>0.030838</td>\n",
              "      <td>0.034192</td>\n",
              "      <td>0.018567</td>\n",
              "      <td>0.100710</td>\n",
              "      <td>00:15</td>\n",
              "    </tr>\n",
              "    <tr>\n",
              "      <td>16</td>\n",
              "      <td>0.030615</td>\n",
              "      <td>0.034395</td>\n",
              "      <td>0.018807</td>\n",
              "      <td>0.100445</td>\n",
              "      <td>00:16</td>\n",
              "    </tr>\n",
              "    <tr>\n",
              "      <td>17</td>\n",
              "      <td>0.030339</td>\n",
              "      <td>0.034784</td>\n",
              "      <td>0.019177</td>\n",
              "      <td>0.100770</td>\n",
              "      <td>00:15</td>\n",
              "    </tr>\n",
              "    <tr>\n",
              "      <td>18</td>\n",
              "      <td>0.030194</td>\n",
              "      <td>0.035004</td>\n",
              "      <td>0.019381</td>\n",
              "      <td>0.101099</td>\n",
              "      <td>00:15</td>\n",
              "    </tr>\n",
              "    <tr>\n",
              "      <td>19</td>\n",
              "      <td>0.030021</td>\n",
              "      <td>0.034815</td>\n",
              "      <td>0.019220</td>\n",
              "      <td>0.100884</td>\n",
              "      <td>00:15</td>\n",
              "    </tr>\n",
              "  </tbody>\n",
              "</table>"
            ],
            "text/plain": [
              "<IPython.core.display.HTML object>"
            ]
          },
          "metadata": {
            "tags": []
          }
        },
        {
          "output_type": "display_data",
          "data": {
            "image/png": "[encoded data removed]",
            "text/plain": [
              "<Figure size 1080x360 with 3 Axes>"
            ]
          },
          "metadata": {
            "tags": [],
            "needs_background": "light"
          }
        }
      ]
    },
    {
      "cell_type": "code",
      "metadata": {
        "id": "sTi6ExA7cgNd",
        "colab_type": "code",
        "colab": {
          "base_uri": "https://localhost:8080/",
          "height": 1000
        },
        "outputId": "3d1d2e89-d1d7-43dd-8e7b-e7c87bba940c"
      },
      "source": [
        "learn.fit_one_cycle(25, slice(lr[0], lr[1]))\n",
        "learn.show_results(rows=1, imgsize=5)"
      ],
      "execution_count": 62,
      "outputs": [
        {
          "output_type": "display_data",
          "data": {
            "text/html": [
              "<table border=\"1\" class=\"dataframe\">\n",
              "  <thead>\n",
              "    <tr style=\"text-align: left;\">\n",
              "      <th>epoch</th>\n",
              "      <th>train_loss</th>\n",
              "      <th>valid_loss</th>\n",
              "      <th>mean_squared_error</th>\n",
              "      <th>mean_absolute_error</th>\n",
              "      <th>time</th>\n",
              "    </tr>\n",
              "  </thead>\n",
              "  <tbody>\n",
              "    <tr>\n",
              "      <td>0</td>\n",
              "      <td>0.030120</td>\n",
              "      <td>0.034949</td>\n",
              "      <td>0.019352</td>\n",
              "      <td>0.101133</td>\n",
              "      <td>00:15</td>\n",
              "    </tr>\n",
              "    <tr>\n",
              "      <td>1</td>\n",
              "      <td>0.030082</td>\n",
              "      <td>0.034745</td>\n",
              "      <td>0.019131</td>\n",
              "      <td>0.100731</td>\n",
              "      <td>00:15</td>\n",
              "    </tr>\n",
              "    <tr>\n",
              "      <td>2</td>\n",
              "      <td>0.031264</td>\n",
              "      <td>0.036435</td>\n",
              "      <td>0.020494</td>\n",
              "      <td>0.103989</td>\n",
              "      <td>00:15</td>\n",
              "    </tr>\n",
              "    <tr>\n",
              "      <td>3</td>\n",
              "      <td>0.031116</td>\n",
              "      <td>0.034532</td>\n",
              "      <td>0.018830</td>\n",
              "      <td>0.100684</td>\n",
              "      <td>00:15</td>\n",
              "    </tr>\n",
              "    <tr>\n",
              "      <td>4</td>\n",
              "      <td>0.030861</td>\n",
              "      <td>0.034289</td>\n",
              "      <td>0.018644</td>\n",
              "      <td>0.101251</td>\n",
              "      <td>00:15</td>\n",
              "    </tr>\n",
              "    <tr>\n",
              "      <td>5</td>\n",
              "      <td>0.030757</td>\n",
              "      <td>0.034512</td>\n",
              "      <td>0.018865</td>\n",
              "      <td>0.101695</td>\n",
              "      <td>00:15</td>\n",
              "    </tr>\n",
              "    <tr>\n",
              "      <td>6</td>\n",
              "      <td>0.030856</td>\n",
              "      <td>0.035290</td>\n",
              "      <td>0.019655</td>\n",
              "      <td>0.103507</td>\n",
              "      <td>00:15</td>\n",
              "    </tr>\n",
              "    <tr>\n",
              "      <td>7</td>\n",
              "      <td>0.031010</td>\n",
              "      <td>0.034722</td>\n",
              "      <td>0.019010</td>\n",
              "      <td>0.103011</td>\n",
              "      <td>00:15</td>\n",
              "    </tr>\n",
              "    <tr>\n",
              "      <td>8</td>\n",
              "      <td>0.030883</td>\n",
              "      <td>0.034397</td>\n",
              "      <td>0.018772</td>\n",
              "      <td>0.101287</td>\n",
              "      <td>00:15</td>\n",
              "    </tr>\n",
              "    <tr>\n",
              "      <td>9</td>\n",
              "      <td>0.030846</td>\n",
              "      <td>0.035377</td>\n",
              "      <td>0.019680</td>\n",
              "      <td>0.102756</td>\n",
              "      <td>00:15</td>\n",
              "    </tr>\n",
              "    <tr>\n",
              "      <td>10</td>\n",
              "      <td>0.030763</td>\n",
              "      <td>0.034862</td>\n",
              "      <td>0.019294</td>\n",
              "      <td>0.101923</td>\n",
              "      <td>00:15</td>\n",
              "    </tr>\n",
              "    <tr>\n",
              "      <td>11</td>\n",
              "      <td>0.030672</td>\n",
              "      <td>0.034216</td>\n",
              "      <td>0.018709</td>\n",
              "      <td>0.101152</td>\n",
              "      <td>00:16</td>\n",
              "    </tr>\n",
              "    <tr>\n",
              "      <td>12</td>\n",
              "      <td>0.030461</td>\n",
              "      <td>0.034400</td>\n",
              "      <td>0.018917</td>\n",
              "      <td>0.102275</td>\n",
              "      <td>00:15</td>\n",
              "    </tr>\n",
              "    <tr>\n",
              "      <td>13</td>\n",
              "      <td>0.030252</td>\n",
              "      <td>0.034259</td>\n",
              "      <td>0.018781</td>\n",
              "      <td>0.101028</td>\n",
              "      <td>00:15</td>\n",
              "    </tr>\n",
              "    <tr>\n",
              "      <td>14</td>\n",
              "      <td>0.030067</td>\n",
              "      <td>0.034316</td>\n",
              "      <td>0.018852</td>\n",
              "      <td>0.100508</td>\n",
              "      <td>00:15</td>\n",
              "    </tr>\n",
              "    <tr>\n",
              "      <td>15</td>\n",
              "      <td>0.029874</td>\n",
              "      <td>0.033789</td>\n",
              "      <td>0.018370</td>\n",
              "      <td>0.099318</td>\n",
              "      <td>00:15</td>\n",
              "    </tr>\n",
              "    <tr>\n",
              "      <td>16</td>\n",
              "      <td>0.029801</td>\n",
              "      <td>0.034011</td>\n",
              "      <td>0.018698</td>\n",
              "      <td>0.100941</td>\n",
              "      <td>00:15</td>\n",
              "    </tr>\n",
              "    <tr>\n",
              "      <td>17</td>\n",
              "      <td>0.029619</td>\n",
              "      <td>0.033286</td>\n",
              "      <td>0.018000</td>\n",
              "      <td>0.098688</td>\n",
              "      <td>00:15</td>\n",
              "    </tr>\n",
              "    <tr>\n",
              "      <td>18</td>\n",
              "      <td>0.029401</td>\n",
              "      <td>0.033262</td>\n",
              "      <td>0.018042</td>\n",
              "      <td>0.098667</td>\n",
              "      <td>00:16</td>\n",
              "    </tr>\n",
              "    <tr>\n",
              "      <td>19</td>\n",
              "      <td>0.029203</td>\n",
              "      <td>0.033117</td>\n",
              "      <td>0.017911</td>\n",
              "      <td>0.097868</td>\n",
              "      <td>00:15</td>\n",
              "    </tr>\n",
              "    <tr>\n",
              "      <td>20</td>\n",
              "      <td>0.029013</td>\n",
              "      <td>0.033601</td>\n",
              "      <td>0.018373</td>\n",
              "      <td>0.098366</td>\n",
              "      <td>00:15</td>\n",
              "    </tr>\n",
              "    <tr>\n",
              "      <td>21</td>\n",
              "      <td>0.028918</td>\n",
              "      <td>0.034848</td>\n",
              "      <td>0.019558</td>\n",
              "      <td>0.099849</td>\n",
              "      <td>00:15</td>\n",
              "    </tr>\n",
              "    <tr>\n",
              "      <td>22</td>\n",
              "      <td>0.028752</td>\n",
              "      <td>0.032995</td>\n",
              "      <td>0.017847</td>\n",
              "      <td>0.097484</td>\n",
              "      <td>00:15</td>\n",
              "    </tr>\n",
              "    <tr>\n",
              "      <td>23</td>\n",
              "      <td>0.028570</td>\n",
              "      <td>0.033496</td>\n",
              "      <td>0.018300</td>\n",
              "      <td>0.097921</td>\n",
              "      <td>00:15</td>\n",
              "    </tr>\n",
              "    <tr>\n",
              "      <td>24</td>\n",
              "      <td>0.028513</td>\n",
              "      <td>0.033023</td>\n",
              "      <td>0.017878</td>\n",
              "      <td>0.097549</td>\n",
              "      <td>00:15</td>\n",
              "    </tr>\n",
              "  </tbody>\n",
              "</table>"
            ],
            "text/plain": [
              "<IPython.core.display.HTML object>"
            ]
          },
          "metadata": {
            "tags": []
          }
        },
        {
          "output_type": "display_data",
          "data": {
            "image/png": "[encoded data removed]",
            "text/plain": [
              "<Figure size 1080x360 with 3 Axes>"
            ]
          },
          "metadata": {
            "tags": [],
            "needs_background": "light"
          }
        }
      ]
    },
    {
      "cell_type": "code",
      "metadata": {
        "id": "krSCJCq2fcU2",
        "colab_type": "code",
        "colab": {
          "base_uri": "https://localhost:8080/",
          "height": 326
        },
        "outputId": "5b66390d-b3f8-442a-86fa-22efb7eab463"
      },
      "source": [
        "learn.show_results(rows=1, imgsize=5)"
      ],
      "execution_count": 33,
      "outputs": [
        {
          "output_type": "display_data",
          "data": {
            "image/png": "[encoded data removed]",
            "text/plain": [
              "<Figure size 1080x360 with 3 Axes>"
            ]
          },
          "metadata": {
            "tags": [],
            "needs_background": "light"
          }
        }
      ]
    },
    {
      "cell_type": "code",
      "metadata": {
        "id": "G8_CfLYAfdBl",
        "colab_type": "code",
        "colab": {}
      },
      "source": [
        ""
      ],
      "execution_count": 0,
      "outputs": []
    }
  ]
}