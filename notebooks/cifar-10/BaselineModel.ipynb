{
  "nbformat": 4,
  "nbformat_minor": 0,
  "metadata": {
    "colab": {
      "name": "BaselineModel.ipynb",
      "provenance": [],
      "collapsed_sections": []
    },
    "kernelspec": {
      "name": "python3",
      "display_name": "Python 3"
    },
    "accelerator": "GPU"
  },
  "cells": [
    {
      "cell_type": "markdown",
      "metadata": {
        "id": "Ltq9MD_f7tqm",
        "colab_type": "text"
      },
      "source": [
        "# Baseline Model\n",
        "\n",
        "This notebook is to showthe results for the baseline model.  This is the standard autoencoder architecture before adding any of the training methods to be analysed."
      ]
    },
    {
      "cell_type": "markdown",
      "metadata": {
        "id": "pLn13kmL76LX",
        "colab_type": "text"
      },
      "source": [
        "## Imports"
      ]
    },
    {
      "cell_type": "code",
      "metadata": {
        "id": "gAHvfEsk7Ze7",
        "colab_type": "code",
        "colab": {}
      },
      "source": [
        "from fastai import *\n",
        "from fastai.tabular import *\n",
        "import pandas as pd\n",
        "from torchsummary import summary\n",
        "import torch\n",
        "from torch import nn\n",
        "import imageio\n",
        "import torch\n",
        "import glob\n",
        "from fastai.vision import *\n",
        "import os\n",
        "from torch import nn\n",
        "import torch.nn.functional as F"
      ],
      "execution_count": 0,
      "outputs": []
    },
    {
      "cell_type": "markdown",
      "metadata": {
        "id": "wWakgnFc7-4X",
        "colab_type": "text"
      },
      "source": [
        "## Data"
      ]
    },
    {
      "cell_type": "code",
      "metadata": {
        "id": "YwciYFUD79cG",
        "colab_type": "code",
        "outputId": "f3b16ce3-7cab-4dc9-a613-c989126ca06d",
        "colab": {
          "base_uri": "https://localhost:8080/",
          "height": 122
        }
      },
      "source": [
        "colab = True\n",
        "if colab:\n",
        "  from google.colab import drive\n",
        "  drive.mount('/content/drive', force_remount = True)\n",
        "  %cp \"/content/drive/My Drive/autoencoder-training/data.zip\" .\n",
        "  !unzip -q data.zip\n",
        "  image_path = \"data\"\n",
        "else: \n",
        "  os.chdir(\"../\")\n",
        "  image_path = os.getcwd() + \"/data\""
      ],
      "execution_count": 2,
      "outputs": [
        {
          "output_type": "stream",
          "text": [
            "Go to this URL in a browser: https://accounts.google.com/o/oauth2/auth?client_id=947318989803-6bn6qk8qdgf4n4g3pfee6491hc0brc4i.apps.googleusercontent.com&redirect_uri=urn%3aietf%3awg%3aoauth%3a2.0%3aoob&response_type=code&scope=email%20https%3a%2f%2fwww.googleapis.com%2fauth%2fdocs.test%20https%3a%2f%2fwww.googleapis.com%2fauth%2fdrive%20https%3a%2f%2fwww.googleapis.com%2fauth%2fdrive.photos.readonly%20https%3a%2f%2fwww.googleapis.com%2fauth%2fpeopleapi.readonly\n",
            "\n",
            "Enter your authorization code:\n",
            "··········\n",
            "Mounted at /content/drive\n"
          ],
          "name": "stdout"
        }
      ]
    },
    {
      "cell_type": "code",
      "metadata": {
        "id": "BSBygchl8Cq_",
        "colab_type": "code",
        "colab": {}
      },
      "source": [
        "np.random.seed(3333)\n",
        "torch.manual_seed(3333)\n",
        "\n",
        "size = 32\n",
        "batchsize = 128\n",
        "\n",
        "#tfms = get_transforms(do_flip = True)\n",
        "tfms = get_transforms(do_flip=True, flip_vert=True, max_rotate=10, max_zoom=1.1, max_lighting=0.2, max_warp=0.2, p_affine=0, \n",
        "                      p_lighting=0.75)\n",
        "src = (ImageImageList.from_folder(image_path).split_by_folder().label_from_func(lambda x: x))\n",
        "data = (src.transform(tfms, size=size, tfm_y=True)\n",
        "        .databunch(bs=batchsize)\n",
        "        .normalize(imagenet_stats, do_y = False))"
      ],
      "execution_count": 0,
      "outputs": []
    },
    {
      "cell_type": "markdown",
      "metadata": {
        "id": "RBQeBJ_W8MX4",
        "colab_type": "text"
      },
      "source": [
        "## Model"
      ]
    },
    {
      "cell_type": "code",
      "metadata": {
        "id": "XHbez1Xp8NTu",
        "colab_type": "code",
        "colab": {}
      },
      "source": [
        "class reshape(nn.Module):\n",
        "  def __init__(self, shape):\n",
        "      super(reshape, self).__init__()\n",
        "      self.shape = shape\n",
        "  def forward(self, x): return x.reshape(self.shape)"
      ],
      "execution_count": 0,
      "outputs": []
    },
    {
      "cell_type": "code",
      "metadata": {
        "id": "XowCm90Z8Es2",
        "colab_type": "code",
        "colab": {}
      },
      "source": [
        "class convblock(nn.Module):\n",
        "  def __init__(self, in_:int, out:int):\n",
        "    super().__init__()\n",
        "    self.conv1 = nn.Conv2d(in_, out, kernel_size=(3, 3), stride=(1, 1), padding=(1, 1), bias=False)\n",
        "    self.bn = nn.BatchNorm2d(out, eps=1e-05, momentum=0.1, affine=True, track_running_stats=True)\n",
        "    self.relu = nn.ReLU(inplace=True)\n",
        "\n",
        "  def forward(self, x):\n",
        "    x = self.conv1(x)\n",
        "    x = self.bn(x)\n",
        "    x = self.relu(x)\n",
        "    return x\n",
        "\n",
        "class downsamp(nn.Module):\n",
        "  def __init__(self, size:int, scale:int=2):\n",
        "    super().__init__()\n",
        "    self.pool = nn.AdaptiveMaxPool2d(scale)\n",
        "    self.bn = nn.BatchNorm2d(size, eps=1e-05, momentum=0.1, affine=True, track_running_stats=True)\n",
        "    self.relu = nn.ReLU(inplace = True)\n",
        "\n",
        "  def forward(self,x):\n",
        "    x = self.pool(x)\n",
        "    x = self.bn(x)\n",
        "    x = self.relu(x)\n",
        "    return x"
      ],
      "execution_count": 0,
      "outputs": []
    },
    {
      "cell_type": "code",
      "metadata": {
        "id": "2OC0bEvOZQXm",
        "colab_type": "code",
        "colab": {}
      },
      "source": [
        "class encoder1(nn.Module):\n",
        "  def __init__(self):\n",
        "    super(encoder1, self).__init__()\n",
        "    self.convblock1 = convblock(3, 12)\n",
        "    self.convblock2 = convblock(12,12)\n",
        "    self.downsamp1 = downsamp(12, 16)\n",
        "\n",
        "    self.convblock3 = convblock(12, 12)\n",
        "    self.convblock4 = convblock(12,24)\n",
        "    self.downsamp2 = downsamp(24, 8)\n",
        "\n",
        "    self.bottleneck = nn.Sequential(nn.Flatten(),\n",
        "                                    nn.Linear(24 * 8 * 8, 1000)\n",
        "                                    )\n",
        "  \n",
        "  def forward(self, x):\n",
        "    x = self.convblock1(x)\n",
        "    x = self.convblock2(x)\n",
        "    x = self.downsamp1(x)\n",
        "\n",
        "    x = self.convblock3(x)\n",
        "    x = self.convblock4(x)\n",
        "    x = self.downsamp2(x)\n",
        "\n",
        "    x = self.bottleneck(x)\n",
        "\n",
        "    return x\n",
        "\n",
        "\n",
        "class encoder2(nn.Module):\n",
        "  def __init__(self):\n",
        "    super(encoder2, self).__init__()\n",
        "    self.convblock1 = convblock(3, 12)\n",
        "    self.downsamp1 = downsamp(12, 16)\n",
        "\n",
        "    self.convblock2 = convblock(12,24)\n",
        "    self.downsamp2 = downsamp(24, 8)\n",
        "\n",
        "    self.bottleneck = nn.Sequential(nn.Flatten(),\n",
        "                                    nn.Linear(24 * 8 * 8, 1000)\n",
        "                                    )\n",
        "  \n",
        "  def forward(self, x):\n",
        "    x = self.convblock1(x)\n",
        "    x = self.downsamp1(x)\n",
        "\n",
        "    x = self.convblock2(x)\n",
        "    x = self.downsamp2(x)\n",
        "\n",
        "    x = self.bottleneck(x)\n",
        "\n",
        "    return x"
      ],
      "execution_count": 0,
      "outputs": []
    },
    {
      "cell_type": "code",
      "metadata": {
        "id": "Xpg0FHSvZUF2",
        "colab_type": "code",
        "colab": {}
      },
      "source": [
        "class Upsample1(nn.Module):\n",
        "  def __init__(self, in_:int, out:int, scale:int=2, blur:bool=True):\n",
        "    super().__init__()\n",
        "    self.upsample = nn.Upsample(scale_factor=2, mode='nearest')\n",
        "    self.bn = nn.BatchNorm2d(in_, eps=1e-05, momentum=0.1, affine=True, track_running_stats=True)\n",
        "    self.conv1 = nn.Sequential(\n",
        "            nn.Conv2d(in_, out, kernel_size=(3, 3), stride=(1, 1), padding=(1, 1)),\n",
        "            nn.BatchNorm2d(out, eps=1e-05, momentum=0.1, affine=True, track_running_stats=True),\n",
        "            nn.ReLU(inplace=True)\n",
        "    )\n",
        "    self.conv2 = nn.Sequential(\n",
        "            nn.Conv2d(out, out, kernel_size=(3, 3), stride=(1, 1), padding=(1, 1)),\n",
        "            nn.BatchNorm2d(out, eps=1e-05, momentum=0.1, affine=True, track_running_stats=True),\n",
        "            nn.ReLU(inplace=True)\n",
        "    )\n",
        "\n",
        "  def forward(self, x):\n",
        "    x = self.upsample(x)\n",
        "    x = self.bn(x)\n",
        "    x = self.conv1(x)\n",
        "    x = self.conv2(x)\n",
        "    return x\n",
        "\n",
        "\n",
        "class Upsample2(nn.Module):\n",
        "  def __init__(self, in_:int, out:int, scale:int=2, blur:bool=True):\n",
        "    super().__init__()\n",
        "    self.upsample = nn.Upsample(scale_factor=2, mode='nearest')\n",
        "    self.bn = nn.BatchNorm2d(in_, eps=1e-05, momentum=0.1, affine=True, track_running_stats=True)\n",
        "    self.conv1 = nn.Sequential(\n",
        "            nn.Conv2d(in_, out, kernel_size=(3, 3), stride=(1, 1), padding=(1, 1)),\n",
        "            nn.BatchNorm2d(out, eps=1e-05, momentum=0.1, affine=True, track_running_stats=True),\n",
        "            nn.ReLU(inplace=True)\n",
        "    )\n",
        "\n",
        "  def forward(self, x):\n",
        "    x = self.upsample(x)\n",
        "    x = self.bn(x)\n",
        "    x = self.conv1(x)\n",
        "    return x"
      ],
      "execution_count": 0,
      "outputs": []
    },
    {
      "cell_type": "code",
      "metadata": {
        "id": "ljsPs3d4arLi",
        "colab_type": "code",
        "colab": {}
      },
      "source": [
        "class decoder1(nn.Module):\n",
        "  def __init__(self):\n",
        "    super(decoder1, self).__init__()\n",
        "\n",
        "    self.bottleneck = nn.Sequential(nn.Linear(1000, 24 * 8 * 8),\n",
        "                                    reshape([-1,24,8,8]))\n",
        "    self.up1 = Upsample1(24, 12)\n",
        "    self.up2 = Upsample1(12,3)\n",
        "\n",
        "  def forward(self, x):\n",
        "    x = self.bottleneck(x)\n",
        "    x = self.up1(x)\n",
        "    x = self.up2(x)\n",
        "    return x\n",
        "\n",
        "\n",
        "class decoder2(nn.Module):\n",
        "  def __init__(self):\n",
        "    super(decoder2, self).__init__()\n",
        "\n",
        "    self.bottleneck = nn.Sequential(nn.Linear(1000, 24 * 8 * 8),\n",
        "                                    reshape([-1,24,8,8])\n",
        "    )\n",
        "    self.up1 = Upsample2(24, 12)\n",
        "    self.up2 = Upsample2(12,3)\n",
        "\n",
        "  def forward(self, x):\n",
        "    x = self.bottleneck(x)\n",
        "    x = self.up1(x)\n",
        "    x = self.up2(x)\n",
        "    return x"
      ],
      "execution_count": 0,
      "outputs": []
    },
    {
      "cell_type": "code",
      "metadata": {
        "id": "7ak58zT6au4j",
        "colab_type": "code",
        "colab": {}
      },
      "source": [
        "class autoencoder1(nn.Module):\n",
        "  def __init__(self):\n",
        "    super(autoencoder1, self).__init__()\n",
        "\n",
        "    self.encoder = encoder1()\n",
        "    self.decoder = decoder1()\n",
        "\n",
        "  def encode(self, x): return self.encoder(x)\n",
        "  def decode(self, x): return torch.clamp(self.decoder(x), min = 0, max = 1)\n",
        "\n",
        "  def forward(self, x):\n",
        "    x = self.encoder(x)\n",
        "    x = self.decoder(x)\n",
        "    return torch.clamp(x, min = 0, max = 1)\n",
        "\n",
        "class autoencoder2(nn.Module):\n",
        "  def __init__(self):\n",
        "    super(autoencoder2, self).__init__()\n",
        "\n",
        "    self.encoder = encoder2()\n",
        "    self.decoder = decoder2()\n",
        "\n",
        "  def encode(self, x): return self.encoder(x)\n",
        "  def decode(self, x): return torch.clamp(self.decoder(x), min = 0, max = 1)\n",
        "  \n",
        "  def forward(self, x):\n",
        "    x = self.encoder(x)\n",
        "    x = self.decoder(x)\n",
        "    return torch.clamp(x, min = 0, max = 1)"
      ],
      "execution_count": 0,
      "outputs": []
    },
    {
      "cell_type": "code",
      "metadata": {
        "id": "sxcXeJxZbHOh",
        "colab_type": "code",
        "colab": {}
      },
      "source": [
        "ae1 = autoencoder1()\n",
        "ae2 = autoencoder2()"
      ],
      "execution_count": 0,
      "outputs": []
    },
    {
      "cell_type": "code",
      "metadata": {
        "id": "OsLwxiEQbMLf",
        "colab_type": "code",
        "colab": {}
      },
      "source": [
        "learn1 = Learner(data, ae1, loss_func = F.mse_loss)\n",
        "learn2 = Learner(data, ae2, loss_func = F.mse_loss)"
      ],
      "execution_count": 0,
      "outputs": []
    },
    {
      "cell_type": "code",
      "metadata": {
        "id": "YbolgWecbGHH",
        "colab_type": "code",
        "colab": {
          "base_uri": "https://localhost:8080/",
          "height": 204
        },
        "outputId": "327953e7-2d0c-4f50-c837-71904c9538e9"
      },
      "source": [
        "learn1.fit_one_cycle(5)"
      ],
      "execution_count": 17,
      "outputs": [
        {
          "output_type": "display_data",
          "data": {
            "text/html": [
              "<table border=\"1\" class=\"dataframe\">\n",
              "  <thead>\n",
              "    <tr style=\"text-align: left;\">\n",
              "      <th>epoch</th>\n",
              "      <th>train_loss</th>\n",
              "      <th>valid_loss</th>\n",
              "      <th>time</th>\n",
              "    </tr>\n",
              "  </thead>\n",
              "  <tbody>\n",
              "    <tr>\n",
              "      <td>0</td>\n",
              "      <td>0.019191</td>\n",
              "      <td>0.020103</td>\n",
              "      <td>01:55</td>\n",
              "    </tr>\n",
              "    <tr>\n",
              "      <td>1</td>\n",
              "      <td>0.011296</td>\n",
              "      <td>0.012014</td>\n",
              "      <td>01:55</td>\n",
              "    </tr>\n",
              "    <tr>\n",
              "      <td>2</td>\n",
              "      <td>0.009362</td>\n",
              "      <td>0.011079</td>\n",
              "      <td>01:56</td>\n",
              "    </tr>\n",
              "    <tr>\n",
              "      <td>3</td>\n",
              "      <td>0.008631</td>\n",
              "      <td>0.009872</td>\n",
              "      <td>01:55</td>\n",
              "    </tr>\n",
              "    <tr>\n",
              "      <td>4</td>\n",
              "      <td>0.008358</td>\n",
              "      <td>0.009606</td>\n",
              "      <td>01:52</td>\n",
              "    </tr>\n",
              "  </tbody>\n",
              "</table>"
            ],
            "text/plain": [
              "<IPython.core.display.HTML object>"
            ]
          },
          "metadata": {
            "tags": []
          }
        }
      ]
    },
    {
      "cell_type": "code",
      "metadata": {
        "id": "FRlxPrYkbbPr",
        "colab_type": "code",
        "colab": {
          "base_uri": "https://localhost:8080/",
          "height": 204
        },
        "outputId": "d9391234-6ca8-448a-f8d7-1010e4be4645"
      },
      "source": [
        "learn2.fit_one_cycle(5)"
      ],
      "execution_count": 18,
      "outputs": [
        {
          "output_type": "display_data",
          "data": {
            "text/html": [
              "<table border=\"1\" class=\"dataframe\">\n",
              "  <thead>\n",
              "    <tr style=\"text-align: left;\">\n",
              "      <th>epoch</th>\n",
              "      <th>train_loss</th>\n",
              "      <th>valid_loss</th>\n",
              "      <th>time</th>\n",
              "    </tr>\n",
              "  </thead>\n",
              "  <tbody>\n",
              "    <tr>\n",
              "      <td>0</td>\n",
              "      <td>0.014998</td>\n",
              "      <td>0.012824</td>\n",
              "      <td>01:50</td>\n",
              "    </tr>\n",
              "    <tr>\n",
              "      <td>1</td>\n",
              "      <td>0.006388</td>\n",
              "      <td>0.007653</td>\n",
              "      <td>01:51</td>\n",
              "    </tr>\n",
              "    <tr>\n",
              "      <td>2</td>\n",
              "      <td>0.004993</td>\n",
              "      <td>0.006254</td>\n",
              "      <td>01:51</td>\n",
              "    </tr>\n",
              "    <tr>\n",
              "      <td>3</td>\n",
              "      <td>0.004122</td>\n",
              "      <td>0.005399</td>\n",
              "      <td>01:51</td>\n",
              "    </tr>\n",
              "    <tr>\n",
              "      <td>4</td>\n",
              "      <td>0.003797</td>\n",
              "      <td>0.005155</td>\n",
              "      <td>01:51</td>\n",
              "    </tr>\n",
              "  </tbody>\n",
              "</table>"
            ],
            "text/plain": [
              "<IPython.core.display.HTML object>"
            ]
          },
          "metadata": {
            "tags": []
          }
        }
      ]
    },
    {
      "cell_type": "code",
      "metadata": {
        "id": "3Sd0gDxtdaux",
        "colab_type": "code",
        "colab": {
          "base_uri": "https://localhost:8080/",
          "height": 267
        },
        "outputId": "23aaf7ad-27a5-4af5-8a4e-4e16a0d5e92e"
      },
      "source": [
        "learn1.show_results(rows = 1)"
      ],
      "execution_count": 19,
      "outputs": [
        {
          "output_type": "display_data",
          "data": {
            "image/png": "[encoded data removed]",
            "text/plain": [
              "<Figure size 864x288 with 3 Axes>"
            ]
          },
          "metadata": {
            "tags": [],
            "needs_background": "light"
          }
        }
      ]
    },
    {
      "cell_type": "code",
      "metadata": {
        "id": "NrChMKtqdeUI",
        "colab_type": "code",
        "colab": {
          "base_uri": "https://localhost:8080/",
          "height": 267
        },
        "outputId": "c7a29119-e19e-433c-f640-35ef4ec6d6bc"
      },
      "source": [
        "learn2.show_results(rows = 1)"
      ],
      "execution_count": 20,
      "outputs": [
        {
          "output_type": "display_data",
          "data": {
            "image/png": "[encoded data removed]",
            "text/plain": [
              "<Figure size 864x288 with 3 Axes>"
            ]
          },
          "metadata": {
            "tags": [],
            "needs_background": "light"
          }
        }
      ]
    }
  ]
}