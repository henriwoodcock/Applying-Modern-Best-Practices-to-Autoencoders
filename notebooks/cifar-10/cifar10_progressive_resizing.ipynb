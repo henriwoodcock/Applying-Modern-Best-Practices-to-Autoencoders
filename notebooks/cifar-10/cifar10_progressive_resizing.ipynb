{
  "nbformat": 4,
  "nbformat_minor": 0,
  "metadata": {
    "colab": {
      "name": "cifar10-progressive-resizing.ipynb",
      "provenance": [],
      "collapsed_sections": []
    },
    "kernelspec": {
      "name": "python3",
      "display_name": "Python 3"
    },
    "accelerator": "GPU"
  },
  "cells": [
    {
      "cell_type": "code",
      "metadata": {
        "id": "zIe1y8Iz3hD5",
        "colab_type": "code",
        "colab": {}
      },
      "source": [
        "from fastai import *\n",
        "from fastai.tabular import *\n",
        "import pandas as pd\n",
        "from torchsummary import summary\n",
        "import torch\n",
        "from torch import nn\n",
        "import imageio\n",
        "import torch\n",
        "import glob\n",
        "from fastai.vision import *\n",
        "import os\n",
        "from torch import nn\n",
        "import torch.nn.functional as F"
      ],
      "execution_count": 0,
      "outputs": []
    },
    {
      "cell_type": "code",
      "metadata": {
        "id": "OTKzEvql4Rbx",
        "colab_type": "code",
        "outputId": "94f9599b-f9f8-4ca6-db42-e10fbe0b59d1",
        "colab": {
          "base_uri": "https://localhost:8080/",
          "height": 122
        }
      },
      "source": [
        "colab = True\n",
        "if colab:\n",
        "  from google.colab import drive\n",
        "  drive.mount('/content/drive', force_remount = True)\n",
        "  %cp \"/content/drive/My Drive/autoencoder-training/data.zip\" .\n",
        "  !unzip -q data.zip\n",
        "  image_path = \"data\"\n",
        "else: \n",
        "  os.chdir(\"../\")\n",
        "  image_path = os.getcwd() + \"/data\""
      ],
      "execution_count": 2,
      "outputs": [
        {
          "output_type": "stream",
          "text": [
            "Go to this URL in a browser: https://accounts.google.com/o/oauth2/auth?client_id=947318989803-6bn6qk8qdgf4n4g3pfee6491hc0brc4i.apps.googleusercontent.com&redirect_uri=urn%3aietf%3awg%3aoauth%3a2.0%3aoob&response_type=code&scope=email%20https%3a%2f%2fwww.googleapis.com%2fauth%2fdocs.test%20https%3a%2f%2fwww.googleapis.com%2fauth%2fdrive%20https%3a%2f%2fwww.googleapis.com%2fauth%2fdrive.photos.readonly%20https%3a%2f%2fwww.googleapis.com%2fauth%2fpeopleapi.readonly\n",
            "\n",
            "Enter your authorization code:\n",
            "··········\n",
            "Mounted at /content/drive\n"
          ],
          "name": "stdout"
        }
      ]
    },
    {
      "cell_type": "markdown",
      "metadata": {
        "id": "XlB0lNaB4Z2M",
        "colab_type": "text"
      },
      "source": [
        "# Data"
      ]
    },
    {
      "cell_type": "code",
      "metadata": {
        "id": "6cIwr9HB4T_q",
        "colab_type": "code",
        "colab": {}
      },
      "source": [
        "np.random.seed(3333)\n",
        "torch.manual_seed(3333)\n",
        "\n",
        "size = 32\n",
        "def get_data(size):\n",
        "  batchsize = 128\n",
        "  tfms = get_transforms(do_flip = True)\n",
        "  src = (ImageImageList.from_folder(image_path).use_partial_data(0.1).split_by_folder().label_from_func(lambda x: x))\n",
        "  data = (src.transform(tfms, size=size, tfm_y=True)\n",
        "          .databunch(bs=batchsize)\n",
        "          .normalize(imagenet_stats, do_y = False))\n",
        "  return data"
      ],
      "execution_count": 0,
      "outputs": []
    },
    {
      "cell_type": "markdown",
      "metadata": {
        "id": "nFF92JgE4gAt",
        "colab_type": "text"
      },
      "source": [
        "# Model"
      ]
    },
    {
      "cell_type": "markdown",
      "metadata": {
        "id": "Y9Jx_PdA4lLc",
        "colab_type": "text"
      },
      "source": [
        "## Pixelshuffle"
      ]
    },
    {
      "cell_type": "code",
      "metadata": {
        "id": "kF88qN9Y4mzh",
        "colab_type": "code",
        "colab": {}
      },
      "source": [
        "def icnr(x, scale=2, init=nn.init.kaiming_normal_):\n",
        "    \"ICNR init of `x`, with `scale` and `init` function.\"\n",
        "    ni,nf,h,w = x.shape\n",
        "    ni2 = int(ni/(scale**2))\n",
        "    k = init(torch.zeros([ni2,nf,h,w])).transpose(0, 1)\n",
        "    k = k.contiguous().view(ni2, nf, -1)\n",
        "    k = k.repeat(1, 1, scale**2)\n",
        "    k = k.contiguous().view([nf,ni,h,w]).transpose(0, 1)\n",
        "    x.data.copy_(k)\n",
        "\n",
        "class PixelShuffle_ICNR(nn.Module):\n",
        "    \"Upsample by `scale` from `ni` filters to `nf` (default `ni`), using `nn.PixelShuffle`, `icnr` init, and `weight_norm`.\"\n",
        "    def __init__(self, ni:int, nf:int=None, scale:int=2, blur:bool=False, norm_type=NormType.Weight, leaky:float=None):\n",
        "        super().__init__()\n",
        "        nf = ifnone(nf, ni)\n",
        "        self.conv = conv_layer(ni, nf*(scale**2), ks=1, norm_type=norm_type, use_activ=False)\n",
        "        icnr(self.conv[0].weight)\n",
        "        self.shuf = nn.PixelShuffle(scale)\n",
        "        # Blurring over (h*w) kernel\n",
        "        # \"Super-Resolution using Convolutional Neural Networks without Any Checkerboard Artifacts\"\n",
        "        # - https://arxiv.org/abs/1806.02658\n",
        "        self.pad = nn.ReplicationPad2d((1,0,1,0))\n",
        "        self.blur = nn.AvgPool2d(2, stride=1)\n",
        "        self.relu = relu(True, leaky=leaky)\n",
        "\n",
        "    def forward(self,x):\n",
        "        x = self.shuf(self.relu(self.conv(x)))\n",
        "        return self.blur(self.pad(x)) if self.blur else x"
      ],
      "execution_count": 0,
      "outputs": []
    },
    {
      "cell_type": "markdown",
      "metadata": {
        "id": "gsoyvV5_4oTM",
        "colab_type": "text"
      },
      "source": [
        "## Autoencoder"
      ]
    },
    {
      "cell_type": "code",
      "metadata": {
        "id": "UUOthtBD4ht5",
        "colab_type": "code",
        "colab": {}
      },
      "source": [
        "class Encoder1(nn.Module):\n",
        "    def __init__(self):\n",
        "        super(Encoder1, self).__init__()\n",
        "\n",
        "        resnet = torch.hub.load('pytorch/vision:v0.5.0', 'resnet34', pretrained = True)\n",
        "        resnet = nn.Sequential(*(list(resnet.children())[0:3]))\n",
        "        for param in resnet.parameters():\n",
        "            param.requires_grad = False\n",
        "\n",
        "        self.encoder = nn.Sequential(resnet)\n",
        "\n",
        "    def encode(self, x): return self.encoder(x)\n",
        "\n",
        "    def forward(self, x):\n",
        "      encoded = self.encoder(x)\n",
        "      return encoded\n",
        "\n",
        "class Encoder2(nn.Module):\n",
        "    def __init__(self):\n",
        "        super(Encoder2, self).__init__()\n",
        "\n",
        "        resnet = torch.hub.load('pytorch/vision:v0.5.0', 'resnet34', pretrained = True)\n",
        "        resnet = nn.Sequential(*(list(resnet.children())[3:5]))\n",
        "        for param in resnet.parameters():\n",
        "            param.requires_grad = False\n",
        "        for i in range(len(resnet)):\n",
        "            for param in resnet[1][i].bn1.parameters():\n",
        "                param.requires_grad = True\n",
        "            for param in resnet[1][i].bn2.parameters():\n",
        "                param.requires_grad = True\n",
        "\n",
        "        self.encoder = nn.Sequential(resnet)\n",
        "\n",
        "    def encode(self, x): return self.encoder(x)\n",
        "\n",
        "    def forward(self, x):\n",
        "      encoded = self.encoder(x)\n",
        "      return encoded\n",
        "\n",
        "class Encoder3(nn.Module):\n",
        "    def __init__(self):\n",
        "        super(Encoder3, self).__init__()\n",
        "\n",
        "        resnet = torch.hub.load('pytorch/vision:v0.5.0', 'resnet34', pretrained = True)\n",
        "        resnet = nn.Sequential(*(list(resnet.children())[5]))\n",
        "        for param in resnet.parameters():\n",
        "            param.requires_grad = False\n",
        "        for i in range(len(resnet)):\n",
        "            for param in resnet[i].bn1.parameters():\n",
        "                param.requires_grad = True\n",
        "            if i== 0:\n",
        "                for param in resnet[i].downsample[1].parameters():\n",
        "                  param.requires_grad = True\n",
        "            for param in resnet[i].bn2.parameters():\n",
        "                param.requires_grad = True\n",
        "\n",
        "        self.encoder = nn.Sequential(resnet)\n",
        "\n",
        "    def encode(self, x): return self.encoder(x)\n",
        "\n",
        "    def forward(self, x):\n",
        "      encoded = self.encoder(x)\n",
        "      return encoded\n",
        "\n",
        "class Encoder4(nn.Module):\n",
        "    def __init__(self):\n",
        "        super(Encoder4, self).__init__()\n",
        "\n",
        "        resnet = torch.hub.load('pytorch/vision:v0.5.0', 'resnet34', pretrained = True)\n",
        "        resnet = nn.Sequential(*(list(resnet.children())[6]))\n",
        "        for param in resnet.parameters():\n",
        "            param.requires_grad = False\n",
        "        for i in range(len(resnet)):\n",
        "            for param in resnet[i].bn1.parameters():\n",
        "                param.requires_grad = True\n",
        "            if i== 0:\n",
        "                for param in resnet[i].downsample[1].parameters():\n",
        "                  param.requires_grad = True\n",
        "            for param in resnet[i].bn2.parameters():\n",
        "                param.requires_grad = True\n",
        "\n",
        "        self.encoder = nn.Sequential(resnet)\n",
        "\n",
        "    def encode(self, x): return self.encoder(x)\n",
        "\n",
        "    def forward(self, x):\n",
        "      encoded = self.encoder(x)\n",
        "      return encoded\n",
        "\n",
        "class Encoder5(nn.Module):\n",
        "    def __init__(self):\n",
        "        super(Encoder5, self).__init__()\n",
        "\n",
        "        resnet = torch.hub.load('pytorch/vision:v0.5.0', 'resnet34', pretrained = True)\n",
        "        resnet = nn.Sequential(*(list(resnet.children())[7]))\n",
        "        for param in resnet.parameters():\n",
        "            param.requires_grad = False\n",
        "        for i in range(len(resnet)):\n",
        "            for param in resnet[i].bn1.parameters():\n",
        "                param.requires_grad = True\n",
        "            if i== 0:\n",
        "                for param in resnet[i].downsample[1].parameters():\n",
        "                  param.requires_grad = True\n",
        "            for param in resnet[i].bn2.parameters():\n",
        "                param.requires_grad = True\n",
        "\n",
        "        self.encoder = nn.Sequential(resnet)\n",
        "\n",
        "    def encode(self, x): return self.encoder(x)\n",
        "\n",
        "    def forward(self, x):\n",
        "      encoded = self.encoder(x)\n",
        "      return encoded\n",
        "\n",
        "class AdaptiveConcatPool2d(Module):\n",
        "    \"Layer that concats `AdaptiveAvgPool2d` and `AdaptiveMaxPool2d`.\"\n",
        "    def __init__(self, sz:Optional[int]=None):\n",
        "        \"Output will be 2*sz or 2 if sz is None\"\n",
        "        self.output_size = sz or 1\n",
        "        self.ap = nn.AdaptiveAvgPool2d(self.output_size)\n",
        "        self.mp = nn.AdaptiveMaxPool2d(self.output_size)\n",
        "\n",
        "    def forward(self, x): return torch.cat([self.mp(x), self.ap(x)], 1)\n",
        "\n",
        "class Encoder6(nn.Module):\n",
        "    def __init__(self):\n",
        "        super(Encoder6, self).__init__()\n",
        "\n",
        "        self.encoder = nn.Sequential(AdaptiveConcatPool2d())\n",
        "\n",
        "    def encode(self, x): return self.encoder(x)\n",
        "\n",
        "    def forward(self, x):\n",
        "      encoded = self.encoder(x)\n",
        "      return encoded\n",
        "\n",
        "class Decoder1(nn.Module):\n",
        "    def __init__(self):\n",
        "        super(Decoder1, self).__init__()\n",
        "\n",
        "        self.decoder = nn.Sequential( \n",
        "            PixelShuffle_ICNR(64, 3),\n",
        "            nn.BatchNorm2d(3, eps=1e-05, momentum=0.1, affine=True, track_running_stats=True),\n",
        "            nn.ReLU(inplace=True),\n",
        "        )\n",
        "\n",
        "    def decode(self,x): return self.decoder(x)\n",
        "\n",
        "    def forward(self, x):\n",
        "      decoded = self.decoder(x)\n",
        "      return decoded\n",
        "\n",
        "class Decoder2(nn.Module):\n",
        "    def __init__(self):\n",
        "        super(Decoder2, self).__init__()\n",
        "\n",
        "        self.decoder = nn.Sequential( \n",
        "            PixelShuffle_ICNR(64, 64),\n",
        "            nn.BatchNorm2d(64, eps=1e-05, momentum=0.1, affine=True, track_running_stats=True),\n",
        "            nn.ReLU(inplace=True)\n",
        "        )\n",
        "\n",
        "    def decode(self,x): return self.decoder(x)\n",
        "\n",
        "    def forward(self, x):\n",
        "      decoded = self.decoder(x)\n",
        "      return decoded\n",
        "\n",
        "class Decoder3(nn.Module):\n",
        "    def __init__(self):\n",
        "        super(Decoder3, self).__init__()\n",
        "\n",
        "        self.decoder = nn.Sequential( \n",
        "            PixelShuffle_ICNR(128, 64),\n",
        "            nn.BatchNorm2d(64, eps=1e-05, momentum=0.1, affine=True, track_running_stats=True),\n",
        "            nn.ReLU(inplace=True),\n",
        "            nn.Conv2d(64, 64, kernel_size=(3, 3), stride=(1, 1), padding=(1, 1), bias=False),\n",
        "            nn.BatchNorm2d(64, eps=1e-05, momentum=0.1, affine=True, track_running_stats=True),\n",
        "            nn.ReLU(inplace=True)\n",
        "        )\n",
        "\n",
        "    def decode(self,x): return self.decoder(x)\n",
        "\n",
        "    def forward(self, x):\n",
        "      decoded = self.decoder(x)\n",
        "      return decoded\n",
        "\n",
        "class Decoder4(nn.Module):\n",
        "    def __init__(self):\n",
        "        super(Decoder4, self).__init__()\n",
        "\n",
        "        self.decoder = nn.Sequential( \n",
        "            PixelShuffle_ICNR(256, 128),\n",
        "            nn.BatchNorm2d(128, eps=1e-05, momentum=0.1, affine=True, track_running_stats=True),\n",
        "            nn.ReLU(inplace=True),\n",
        "            nn.Conv2d(128, 128, kernel_size=(3, 3), stride=(1, 1), padding=(1, 1), bias=False),\n",
        "            nn.BatchNorm2d(128, eps=1e-05, momentum=0.1, affine=True, track_running_stats=True),\n",
        "            nn.ReLU(inplace=True)\n",
        "        )\n",
        "\n",
        "    def decode(self,x): return self.decoder(x)\n",
        "\n",
        "    def forward(self, x):\n",
        "      decoded = self.decoder(x)\n",
        "      return decoded\n",
        "\n",
        "class Decoder5(nn.Module):\n",
        "    def __init__(self):\n",
        "        super(Decoder5, self).__init__()\n",
        "\n",
        "        self.decoder = nn.Sequential( \n",
        "            PixelShuffle_ICNR(512, 256),\n",
        "            nn.BatchNorm2d(256, eps=1e-05, momentum=0.1, affine=True, track_running_stats=True),\n",
        "            nn.ReLU(inplace=True),\n",
        "            nn.Conv2d(256, 256, kernel_size=(3, 3), stride=(1, 1), padding=(1, 1), bias=False),\n",
        "            nn.BatchNorm2d(256, eps=1e-05, momentum=0.1, affine=True, track_running_stats=True),\n",
        "            nn.ReLU(inplace=True),\n",
        "        )\n",
        "\n",
        "    def decode(self,x): return self.decoder(x)\n",
        "\n",
        "    def forward(self, x):\n",
        "      decoded = self.decoder(x)\n",
        "      return decoded\n",
        "\n",
        "\n",
        "class Decoder6(nn.Module):\n",
        "    def __init__(self):\n",
        "        super(Decoder6, self).__init__()\n",
        "\n",
        "        self.decoder = nn.Sequential( \n",
        "            nn.Conv2d(1024, 512, kernel_size=(3, 3), stride=(1, 1), padding=(1, 1), bias=False),\n",
        "            nn.BatchNorm2d(512, eps=1e-05, momentum=0.1, affine=True, track_running_stats=True),\n",
        "            nn.ReLU(inplace=True),\n",
        "        )\n",
        "\n",
        "    def decode(self,x): return self.decoder(x)\n",
        "\n",
        "    def forward(self, x):\n",
        "      decoded = self.decoder(x)\n",
        "      return decoded\n",
        "\n",
        "class AutoEncoder(nn.Module):\n",
        "    def __init__(self):\n",
        "        super(AutoEncoder, self).__init__()\n",
        "\n",
        "        self.encoder = nn.Sequential(Encoder1(), \n",
        "                                     Encoder2(), \n",
        "                                     Encoder3(), \n",
        "                                     Encoder4(), \n",
        "                                     Encoder5(), \n",
        "                                     Encoder6())\n",
        "\n",
        "        self.decoder = nn.Sequential(Decoder6(),\n",
        "                                     #Decoder5(),\n",
        "                                     nn.Conv2d(512, 256, kernel_size=(3, 3), stride=(1, 1), padding=(1, 1), bias=False),\n",
        "                                     nn.BatchNorm2d(256, eps=1e-05, momentum=0.1, affine=True, track_running_stats=True),\n",
        "                                     nn.ReLU(inplace=True),\n",
        "                                     Decoder4(),\n",
        "                                     Decoder3(),\n",
        "                                     Decoder2(),\n",
        "                                     Decoder1())\n",
        "\n",
        "    def encode(self, x): return self.encoder(x)\n",
        "\n",
        "    def decode(self,x): return torch.clamp(self.decoder(x), min = 0, max=1)\n",
        "\n",
        "      \n",
        "    def forward(self, x):\n",
        "      encoded = self.encoder(x)\n",
        "      decoded = self.decoder(encoded)\n",
        "      return torch.clamp(decoded, min = 0, max = 1)"
      ],
      "execution_count": 0,
      "outputs": []
    },
    {
      "cell_type": "code",
      "metadata": {
        "id": "dPY37eWyojms",
        "colab_type": "code",
        "colab": {
          "base_uri": "https://localhost:8080/",
          "height": 102
        },
        "outputId": "15c6ed6e-192d-4c02-949f-4c4a4e434726"
      },
      "source": [
        "ae = AutoEncoder()"
      ],
      "execution_count": 103,
      "outputs": [
        {
          "output_type": "stream",
          "text": [
            "Using cache found in /root/.cache/torch/hub/pytorch_vision_v0.5.0\n",
            "Using cache found in /root/.cache/torch/hub/pytorch_vision_v0.5.0\n",
            "Using cache found in /root/.cache/torch/hub/pytorch_vision_v0.5.0\n",
            "Using cache found in /root/.cache/torch/hub/pytorch_vision_v0.5.0\n",
            "Using cache found in /root/.cache/torch/hub/pytorch_vision_v0.5.0\n"
          ],
          "name": "stderr"
        }
      ]
    },
    {
      "cell_type": "code",
      "metadata": {
        "id": "zU-70Sp7olSb",
        "colab_type": "code",
        "colab": {}
      },
      "source": [
        "tens = torch.randn([32, 3, 32, 32])"
      ],
      "execution_count": 0,
      "outputs": []
    },
    {
      "cell_type": "code",
      "metadata": {
        "id": "VXHS68TAo_cK",
        "colab_type": "code",
        "colab": {}
      },
      "source": [
        "learn = Learner(get_data(16), ae, loss_func = F.mse_loss)"
      ],
      "execution_count": 0,
      "outputs": []
    },
    {
      "cell_type": "code",
      "metadata": {
        "id": "WqpC-9Tw5TcL",
        "colab_type": "code",
        "colab": {
          "base_uri": "https://localhost:8080/",
          "height": 359
        },
        "outputId": "7eadc6d7-84a1-4107-bc9e-b0376d329738"
      },
      "source": [
        "learn.fit_one_cycle(10)"
      ],
      "execution_count": 107,
      "outputs": [
        {
          "output_type": "display_data",
          "data": {
            "text/html": [
              "<table border=\"1\" class=\"dataframe\">\n",
              "  <thead>\n",
              "    <tr style=\"text-align: left;\">\n",
              "      <th>epoch</th>\n",
              "      <th>train_loss</th>\n",
              "      <th>valid_loss</th>\n",
              "      <th>time</th>\n",
              "    </tr>\n",
              "  </thead>\n",
              "  <tbody>\n",
              "    <tr>\n",
              "      <td>0</td>\n",
              "      <td>0.227925</td>\n",
              "      <td>0.216314</td>\n",
              "      <td>00:13</td>\n",
              "    </tr>\n",
              "    <tr>\n",
              "      <td>1</td>\n",
              "      <td>0.158528</td>\n",
              "      <td>0.163009</td>\n",
              "      <td>00:14</td>\n",
              "    </tr>\n",
              "    <tr>\n",
              "      <td>2</td>\n",
              "      <td>0.110426</td>\n",
              "      <td>0.131893</td>\n",
              "      <td>00:14</td>\n",
              "    </tr>\n",
              "    <tr>\n",
              "      <td>3</td>\n",
              "      <td>0.084778</td>\n",
              "      <td>0.078808</td>\n",
              "      <td>00:14</td>\n",
              "    </tr>\n",
              "    <tr>\n",
              "      <td>4</td>\n",
              "      <td>0.072364</td>\n",
              "      <td>0.060996</td>\n",
              "      <td>00:13</td>\n",
              "    </tr>\n",
              "    <tr>\n",
              "      <td>5</td>\n",
              "      <td>0.062975</td>\n",
              "      <td>0.052829</td>\n",
              "      <td>00:14</td>\n",
              "    </tr>\n",
              "    <tr>\n",
              "      <td>6</td>\n",
              "      <td>0.057798</td>\n",
              "      <td>0.051686</td>\n",
              "      <td>00:14</td>\n",
              "    </tr>\n",
              "    <tr>\n",
              "      <td>7</td>\n",
              "      <td>0.053799</td>\n",
              "      <td>0.049293</td>\n",
              "      <td>00:14</td>\n",
              "    </tr>\n",
              "    <tr>\n",
              "      <td>8</td>\n",
              "      <td>0.051459</td>\n",
              "      <td>0.049747</td>\n",
              "      <td>00:13</td>\n",
              "    </tr>\n",
              "    <tr>\n",
              "      <td>9</td>\n",
              "      <td>0.050327</td>\n",
              "      <td>0.048745</td>\n",
              "      <td>00:13</td>\n",
              "    </tr>\n",
              "  </tbody>\n",
              "</table>"
            ],
            "text/plain": [
              "<IPython.core.display.HTML object>"
            ]
          },
          "metadata": {
            "tags": []
          }
        }
      ]
    },
    {
      "cell_type": "code",
      "metadata": {
        "id": "Je5Hstln5UZ-",
        "colab_type": "code",
        "colab": {
          "base_uri": "https://localhost:8080/",
          "height": 174
        },
        "outputId": "8a8a42dc-d681-4511-ee05-d1609b0326ec"
      },
      "source": [
        "learn.lr_find()"
      ],
      "execution_count": 108,
      "outputs": [
        {
          "output_type": "display_data",
          "data": {
            "text/html": [
              "\n",
              "    <div>\n",
              "        <style>\n",
              "            /* Turns off some styling */\n",
              "            progress {\n",
              "                /* gets rid of default border in Firefox and Opera. */\n",
              "                border: none;\n",
              "                /* Needs to be in here for Safari polyfill so background images work as expected. */\n",
              "                background-size: auto;\n",
              "            }\n",
              "            .progress-bar-interrupted, .progress-bar-interrupted::-webkit-progress-bar {\n",
              "                background: #F44336;\n",
              "            }\n",
              "        </style>\n",
              "      <progress value='2' class='' max='3' style='width:300px; height:20px; vertical-align: middle;'></progress>\n",
              "      66.67% [2/3 00:24<00:12]\n",
              "    </div>\n",
              "    \n",
              "<table border=\"1\" class=\"dataframe\">\n",
              "  <thead>\n",
              "    <tr style=\"text-align: left;\">\n",
              "      <th>epoch</th>\n",
              "      <th>train_loss</th>\n",
              "      <th>valid_loss</th>\n",
              "      <th>time</th>\n",
              "    </tr>\n",
              "  </thead>\n",
              "  <tbody>\n",
              "    <tr>\n",
              "      <td>0</td>\n",
              "      <td>0.048605</td>\n",
              "      <td>#na#</td>\n",
              "      <td>00:12</td>\n",
              "    </tr>\n",
              "    <tr>\n",
              "      <td>1</td>\n",
              "      <td>0.058974</td>\n",
              "      <td>#na#</td>\n",
              "      <td>00:12</td>\n",
              "    </tr>\n",
              "  </tbody>\n",
              "</table><p>\n",
              "\n",
              "    <div>\n",
              "        <style>\n",
              "            /* Turns off some styling */\n",
              "            progress {\n",
              "                /* gets rid of default border in Firefox and Opera. */\n",
              "                border: none;\n",
              "                /* Needs to be in here for Safari polyfill so background images work as expected. */\n",
              "                background-size: auto;\n",
              "            }\n",
              "            .progress-bar-interrupted, .progress-bar-interrupted::-webkit-progress-bar {\n",
              "                background: #F44336;\n",
              "            }\n",
              "        </style>\n",
              "      <progress value='21' class='' max='39' style='width:300px; height:20px; vertical-align: middle;'></progress>\n",
              "      53.85% [21/39 00:07<00:06 0.0790]\n",
              "    </div>\n",
              "    "
            ],
            "text/plain": [
              "<IPython.core.display.HTML object>"
            ]
          },
          "metadata": {
            "tags": []
          }
        },
        {
          "output_type": "stream",
          "text": [
            "LR Finder is complete, type {learner_name}.recorder.plot() to see the graph.\n"
          ],
          "name": "stdout"
        }
      ]
    },
    {
      "cell_type": "code",
      "metadata": {
        "id": "18oTEILa5ub0",
        "colab_type": "code",
        "colab": {
          "base_uri": "https://localhost:8080/",
          "height": 313
        },
        "outputId": "ecc3ce6f-5512-4fce-80fb-239fe934cd74"
      },
      "source": [
        "learn.recorder.plot(suggestion = True)"
      ],
      "execution_count": 109,
      "outputs": [
        {
          "output_type": "stream",
          "text": [
            "Min numerical gradient: 1.10E-06\n",
            "Min loss divided by 10: 1.10E-05\n"
          ],
          "name": "stdout"
        },
        {
          "output_type": "display_data",
          "data": {
            "image/png": "[encoded data removed]",
            "text/plain": [
              "<Figure size 432x288 with 1 Axes>"
            ]
          },
          "metadata": {
            "tags": [],
            "needs_background": "light"
          }
        }
      ]
    },
    {
      "cell_type": "code",
      "metadata": {
        "id": "kVeCSDQJ6FyM",
        "colab_type": "code",
        "colab": {
          "base_uri": "https://localhost:8080/",
          "height": 513
        },
        "outputId": "e7800643-e41e-4981-ff50-4d06611bc76c"
      },
      "source": [
        "torch.save(learn.model, 'first_size')"
      ],
      "execution_count": 111,
      "outputs": [
        {
          "output_type": "stream",
          "text": [
            "/usr/local/lib/python3.6/dist-packages/torch/serialization.py:360: UserWarning: Couldn't retrieve source code for container of type AutoEncoder. It won't be checked for correctness upon loading.\n",
            "  \"type \" + obj.__name__ + \". It won't be checked \"\n",
            "/usr/local/lib/python3.6/dist-packages/torch/serialization.py:360: UserWarning: Couldn't retrieve source code for container of type Encoder1. It won't be checked for correctness upon loading.\n",
            "  \"type \" + obj.__name__ + \". It won't be checked \"\n",
            "/usr/local/lib/python3.6/dist-packages/torch/serialization.py:360: UserWarning: Couldn't retrieve source code for container of type Encoder2. It won't be checked for correctness upon loading.\n",
            "  \"type \" + obj.__name__ + \". It won't be checked \"\n",
            "/usr/local/lib/python3.6/dist-packages/torch/serialization.py:360: UserWarning: Couldn't retrieve source code for container of type Encoder3. It won't be checked for correctness upon loading.\n",
            "  \"type \" + obj.__name__ + \". It won't be checked \"\n",
            "/usr/local/lib/python3.6/dist-packages/torch/serialization.py:360: UserWarning: Couldn't retrieve source code for container of type Encoder4. It won't be checked for correctness upon loading.\n",
            "  \"type \" + obj.__name__ + \". It won't be checked \"\n",
            "/usr/local/lib/python3.6/dist-packages/torch/serialization.py:360: UserWarning: Couldn't retrieve source code for container of type Encoder5. It won't be checked for correctness upon loading.\n",
            "  \"type \" + obj.__name__ + \". It won't be checked \"\n",
            "/usr/local/lib/python3.6/dist-packages/torch/serialization.py:360: UserWarning: Couldn't retrieve source code for container of type Encoder6. It won't be checked for correctness upon loading.\n",
            "  \"type \" + obj.__name__ + \". It won't be checked \"\n",
            "/usr/local/lib/python3.6/dist-packages/torch/serialization.py:360: UserWarning: Couldn't retrieve source code for container of type AdaptiveConcatPool2d. It won't be checked for correctness upon loading.\n",
            "  \"type \" + obj.__name__ + \". It won't be checked \"\n",
            "/usr/local/lib/python3.6/dist-packages/torch/serialization.py:360: UserWarning: Couldn't retrieve source code for container of type Decoder6. It won't be checked for correctness upon loading.\n",
            "  \"type \" + obj.__name__ + \". It won't be checked \"\n",
            "/usr/local/lib/python3.6/dist-packages/torch/serialization.py:360: UserWarning: Couldn't retrieve source code for container of type Decoder4. It won't be checked for correctness upon loading.\n",
            "  \"type \" + obj.__name__ + \". It won't be checked \"\n",
            "/usr/local/lib/python3.6/dist-packages/torch/serialization.py:360: UserWarning: Couldn't retrieve source code for container of type PixelShuffle_ICNR. It won't be checked for correctness upon loading.\n",
            "  \"type \" + obj.__name__ + \". It won't be checked \"\n",
            "/usr/local/lib/python3.6/dist-packages/torch/serialization.py:360: UserWarning: Couldn't retrieve source code for container of type Decoder3. It won't be checked for correctness upon loading.\n",
            "  \"type \" + obj.__name__ + \". It won't be checked \"\n",
            "/usr/local/lib/python3.6/dist-packages/torch/serialization.py:360: UserWarning: Couldn't retrieve source code for container of type Decoder2. It won't be checked for correctness upon loading.\n",
            "  \"type \" + obj.__name__ + \". It won't be checked \"\n",
            "/usr/local/lib/python3.6/dist-packages/torch/serialization.py:360: UserWarning: Couldn't retrieve source code for container of type Decoder1. It won't be checked for correctness upon loading.\n",
            "  \"type \" + obj.__name__ + \". It won't be checked \"\n"
          ],
          "name": "stderr"
        }
      ]
    },
    {
      "cell_type": "code",
      "metadata": {
        "id": "ySuS-frM6KQa",
        "colab_type": "code",
        "colab": {}
      },
      "source": [
        "first_ae = torch.load('first_size')"
      ],
      "execution_count": 0,
      "outputs": []
    },
    {
      "cell_type": "code",
      "metadata": {
        "id": "zMt-Uk1K6Oec",
        "colab_type": "code",
        "colab": {
          "base_uri": "https://localhost:8080/",
          "height": 272
        },
        "outputId": "cc663886-71c4-4f48-828a-b3becb67187d"
      },
      "source": [
        "first_ae.decoder[7]"
      ],
      "execution_count": 122,
      "outputs": [
        {
          "output_type": "execute_result",
          "data": {
            "text/plain": [
              "Decoder1(\n",
              "  (decoder): Sequential(\n",
              "    (0): PixelShuffle_ICNR(\n",
              "      (conv): Sequential(\n",
              "        (0): Conv2d(64, 12, kernel_size=(1, 1), stride=(1, 1))\n",
              "      )\n",
              "      (shuf): PixelShuffle(upscale_factor=2)\n",
              "      (pad): ReplicationPad2d((1, 0, 1, 0))\n",
              "      (blur): AvgPool2d(kernel_size=2, stride=1, padding=0)\n",
              "      (relu): ReLU(inplace=True)\n",
              "    )\n",
              "    (1): BatchNorm2d(3, eps=1e-05, momentum=0.1, affine=True, track_running_stats=True)\n",
              "    (2): ReLU(inplace=True)\n",
              "  )\n",
              ")"
            ]
          },
          "metadata": {
            "tags": []
          },
          "execution_count": 122
        }
      ]
    },
    {
      "cell_type": "code",
      "metadata": {
        "id": "CC3eWQ-w5xOV",
        "colab_type": "code",
        "colab": {}
      },
      "source": [
        "class AutoEncoder2(nn.Module):\n",
        "    def __init__(self):\n",
        "        super(AutoEncoder2, self).__init__()\n",
        "        self.first_ae = torch.load('first_size')\n",
        "        self.encoder = self.first_ae.encoder\n",
        "        self.decoders = self.first_ae.decoder\n",
        "        self.decoder = nn.Sequential(self.decoders[0],\n",
        "                                     Decoder5(),\n",
        "                                     self.decoders[4],\n",
        "                                     self.decoders[5],\n",
        "                                     self.decoders[6],\n",
        "                                     self.decoders[7]\n",
        "                                     )\n",
        "\n",
        "    def encode(self, x): return self.encoder(x)\n",
        "\n",
        "    def decode(self,x): return torch.clamp(self.decoder(x), min = 0, max=1)\n",
        "\n",
        "      \n",
        "    def forward(self, x):\n",
        "      encoded = self.encoder(x)\n",
        "      decoded = self.decoder(encoded)\n",
        "      return torch.clamp(decoded, min = 0, max = 1)"
      ],
      "execution_count": 0,
      "outputs": []
    },
    {
      "cell_type": "code",
      "metadata": {
        "id": "buKVPCjr7EM5",
        "colab_type": "code",
        "colab": {}
      },
      "source": [
        "ae2 = AutoEncoder2()"
      ],
      "execution_count": 0,
      "outputs": []
    },
    {
      "cell_type": "markdown",
      "metadata": {
        "id": "7UYthWeh5cIX",
        "colab_type": "text"
      },
      "source": [
        "# Learner"
      ]
    },
    {
      "cell_type": "code",
      "metadata": {
        "id": "8XsnHbjN5dYc",
        "colab_type": "code",
        "colab": {}
      },
      "source": [
        "learn = Learner(get_data(32), ae2, loss_func = F.mse_loss)"
      ],
      "execution_count": 0,
      "outputs": []
    },
    {
      "cell_type": "code",
      "metadata": {
        "id": "V9QYu4b65w0u",
        "colab_type": "code",
        "outputId": "9a652b21-1769-46a7-e186-5a14834f5410",
        "colab": {
          "base_uri": "https://localhost:8080/",
          "height": 359
        }
      },
      "source": [
        "learn.fit_one_cycle(10)"
      ],
      "execution_count": 126,
      "outputs": [
        {
          "output_type": "display_data",
          "data": {
            "text/html": [
              "<table border=\"1\" class=\"dataframe\">\n",
              "  <thead>\n",
              "    <tr style=\"text-align: left;\">\n",
              "      <th>epoch</th>\n",
              "      <th>train_loss</th>\n",
              "      <th>valid_loss</th>\n",
              "      <th>time</th>\n",
              "    </tr>\n",
              "  </thead>\n",
              "  <tbody>\n",
              "    <tr>\n",
              "      <td>0</td>\n",
              "      <td>0.077826</td>\n",
              "      <td>0.061077</td>\n",
              "      <td>00:14</td>\n",
              "    </tr>\n",
              "    <tr>\n",
              "      <td>1</td>\n",
              "      <td>0.062042</td>\n",
              "      <td>0.056297</td>\n",
              "      <td>00:14</td>\n",
              "    </tr>\n",
              "    <tr>\n",
              "      <td>2</td>\n",
              "      <td>0.056353</td>\n",
              "      <td>0.063677</td>\n",
              "      <td>00:14</td>\n",
              "    </tr>\n",
              "    <tr>\n",
              "      <td>3</td>\n",
              "      <td>0.052084</td>\n",
              "      <td>0.064559</td>\n",
              "      <td>00:14</td>\n",
              "    </tr>\n",
              "    <tr>\n",
              "      <td>4</td>\n",
              "      <td>0.047528</td>\n",
              "      <td>0.044999</td>\n",
              "      <td>00:14</td>\n",
              "    </tr>\n",
              "    <tr>\n",
              "      <td>5</td>\n",
              "      <td>0.043579</td>\n",
              "      <td>0.045170</td>\n",
              "      <td>00:14</td>\n",
              "    </tr>\n",
              "    <tr>\n",
              "      <td>6</td>\n",
              "      <td>0.040788</td>\n",
              "      <td>0.041236</td>\n",
              "      <td>00:14</td>\n",
              "    </tr>\n",
              "    <tr>\n",
              "      <td>7</td>\n",
              "      <td>0.038832</td>\n",
              "      <td>0.041783</td>\n",
              "      <td>00:14</td>\n",
              "    </tr>\n",
              "    <tr>\n",
              "      <td>8</td>\n",
              "      <td>0.037432</td>\n",
              "      <td>0.038380</td>\n",
              "      <td>00:14</td>\n",
              "    </tr>\n",
              "    <tr>\n",
              "      <td>9</td>\n",
              "      <td>0.036425</td>\n",
              "      <td>0.038435</td>\n",
              "      <td>00:14</td>\n",
              "    </tr>\n",
              "  </tbody>\n",
              "</table>"
            ],
            "text/plain": [
              "<IPython.core.display.HTML object>"
            ]
          },
          "metadata": {
            "tags": []
          }
        }
      ]
    },
    {
      "cell_type": "code",
      "metadata": {
        "id": "8qQlnL1F7x3c",
        "colab_type": "code",
        "colab": {
          "base_uri": "https://localhost:8080/",
          "height": 34
        },
        "outputId": "cbfbd873-e1cc-4d65-d91f-e934a97ac612"
      },
      "source": [
        "learn.split(lambda m: (m.encoder[1], m.encoder[2], m.encoder[3], m.encoder[4], m.encoder[5], m.decoder[0], m.decoder[2], m.decoder[3], m.decoder[4]))\n",
        "print(\"\")"
      ],
      "execution_count": 132,
      "outputs": [
        {
          "output_type": "stream",
          "text": [
            "\n"
          ],
          "name": "stdout"
        }
      ]
    },
    {
      "cell_type": "code",
      "metadata": {
        "id": "LyYXHFHR7y5F",
        "colab_type": "code",
        "colab": {
          "base_uri": "https://localhost:8080/",
          "height": 1000
        },
        "outputId": "d4babb3f-be82-444b-cff9-4e4ffc90c3b3"
      },
      "source": [
        "learn.summary()"
      ],
      "execution_count": 130,
      "outputs": [
        {
          "output_type": "execute_result",
          "data": {
            "text/plain": [
              "AutoEncoder2\n",
              "======================================================================\n",
              "Layer (type)         Output Shape         Param #    Trainable \n",
              "======================================================================\n",
              "Conv2d               [64, 16, 16]         9,408      True      \n",
              "______________________________________________________________________\n",
              "BatchNorm2d          [64, 16, 16]         128        True      \n",
              "______________________________________________________________________\n",
              "ReLU                 [64, 16, 16]         0          False     \n",
              "______________________________________________________________________\n",
              "MaxPool2d            [64, 8, 8]           0          False     \n",
              "______________________________________________________________________\n",
              "Conv2d               [64, 8, 8]           36,864     True      \n",
              "______________________________________________________________________\n",
              "BatchNorm2d          [64, 8, 8]           128        True      \n",
              "______________________________________________________________________\n",
              "ReLU                 [64, 8, 8]           0          False     \n",
              "______________________________________________________________________\n",
              "Conv2d               [64, 8, 8]           36,864     True      \n",
              "______________________________________________________________________\n",
              "BatchNorm2d          [64, 8, 8]           128        True      \n",
              "______________________________________________________________________\n",
              "Conv2d               [64, 8, 8]           36,864     True      \n",
              "______________________________________________________________________\n",
              "BatchNorm2d          [64, 8, 8]           128        True      \n",
              "______________________________________________________________________\n",
              "ReLU                 [64, 8, 8]           0          False     \n",
              "______________________________________________________________________\n",
              "Conv2d               [64, 8, 8]           36,864     True      \n",
              "______________________________________________________________________\n",
              "BatchNorm2d          [64, 8, 8]           128        True      \n",
              "______________________________________________________________________\n",
              "Conv2d               [64, 8, 8]           36,864     True      \n",
              "______________________________________________________________________\n",
              "BatchNorm2d          [64, 8, 8]           128        True      \n",
              "______________________________________________________________________\n",
              "ReLU                 [64, 8, 8]           0          False     \n",
              "______________________________________________________________________\n",
              "Conv2d               [64, 8, 8]           36,864     True      \n",
              "______________________________________________________________________\n",
              "BatchNorm2d          [64, 8, 8]           128        True      \n",
              "______________________________________________________________________\n",
              "Conv2d               [128, 4, 4]          73,728     True      \n",
              "______________________________________________________________________\n",
              "BatchNorm2d          [128, 4, 4]          256        True      \n",
              "______________________________________________________________________\n",
              "ReLU                 [128, 4, 4]          0          False     \n",
              "______________________________________________________________________\n",
              "Conv2d               [128, 4, 4]          147,456    True      \n",
              "______________________________________________________________________\n",
              "BatchNorm2d          [128, 4, 4]          256        True      \n",
              "______________________________________________________________________\n",
              "Conv2d               [128, 4, 4]          8,192      True      \n",
              "______________________________________________________________________\n",
              "BatchNorm2d          [128, 4, 4]          256        True      \n",
              "______________________________________________________________________\n",
              "Conv2d               [128, 4, 4]          147,456    True      \n",
              "______________________________________________________________________\n",
              "BatchNorm2d          [128, 4, 4]          256        True      \n",
              "______________________________________________________________________\n",
              "ReLU                 [128, 4, 4]          0          False     \n",
              "______________________________________________________________________\n",
              "Conv2d               [128, 4, 4]          147,456    True      \n",
              "______________________________________________________________________\n",
              "BatchNorm2d          [128, 4, 4]          256        True      \n",
              "______________________________________________________________________\n",
              "Conv2d               [128, 4, 4]          147,456    True      \n",
              "______________________________________________________________________\n",
              "BatchNorm2d          [128, 4, 4]          256        True      \n",
              "______________________________________________________________________\n",
              "ReLU                 [128, 4, 4]          0          False     \n",
              "______________________________________________________________________\n",
              "Conv2d               [128, 4, 4]          147,456    True      \n",
              "______________________________________________________________________\n",
              "BatchNorm2d          [128, 4, 4]          256        True      \n",
              "______________________________________________________________________\n",
              "Conv2d               [128, 4, 4]          147,456    True      \n",
              "______________________________________________________________________\n",
              "BatchNorm2d          [128, 4, 4]          256        True      \n",
              "______________________________________________________________________\n",
              "ReLU                 [128, 4, 4]          0          False     \n",
              "______________________________________________________________________\n",
              "Conv2d               [128, 4, 4]          147,456    True      \n",
              "______________________________________________________________________\n",
              "BatchNorm2d          [128, 4, 4]          256        True      \n",
              "______________________________________________________________________\n",
              "Conv2d               [256, 2, 2]          294,912    True      \n",
              "______________________________________________________________________\n",
              "BatchNorm2d          [256, 2, 2]          512        True      \n",
              "______________________________________________________________________\n",
              "ReLU                 [256, 2, 2]          0          False     \n",
              "______________________________________________________________________\n",
              "Conv2d               [256, 2, 2]          589,824    True      \n",
              "______________________________________________________________________\n",
              "BatchNorm2d          [256, 2, 2]          512        True      \n",
              "______________________________________________________________________\n",
              "Conv2d               [256, 2, 2]          32,768     True      \n",
              "______________________________________________________________________\n",
              "BatchNorm2d          [256, 2, 2]          512        True      \n",
              "______________________________________________________________________\n",
              "Conv2d               [256, 2, 2]          589,824    True      \n",
              "______________________________________________________________________\n",
              "BatchNorm2d          [256, 2, 2]          512        True      \n",
              "______________________________________________________________________\n",
              "ReLU                 [256, 2, 2]          0          False     \n",
              "______________________________________________________________________\n",
              "Conv2d               [256, 2, 2]          589,824    True      \n",
              "______________________________________________________________________\n",
              "BatchNorm2d          [256, 2, 2]          512        True      \n",
              "______________________________________________________________________\n",
              "Conv2d               [256, 2, 2]          589,824    True      \n",
              "______________________________________________________________________\n",
              "BatchNorm2d          [256, 2, 2]          512        True      \n",
              "______________________________________________________________________\n",
              "ReLU                 [256, 2, 2]          0          False     \n",
              "______________________________________________________________________\n",
              "Conv2d               [256, 2, 2]          589,824    True      \n",
              "______________________________________________________________________\n",
              "BatchNorm2d          [256, 2, 2]          512        True      \n",
              "______________________________________________________________________\n",
              "Conv2d               [256, 2, 2]          589,824    True      \n",
              "______________________________________________________________________\n",
              "BatchNorm2d          [256, 2, 2]          512        True      \n",
              "______________________________________________________________________\n",
              "ReLU                 [256, 2, 2]          0          False     \n",
              "______________________________________________________________________\n",
              "Conv2d               [256, 2, 2]          589,824    True      \n",
              "______________________________________________________________________\n",
              "BatchNorm2d          [256, 2, 2]          512        True      \n",
              "______________________________________________________________________\n",
              "Conv2d               [256, 2, 2]          589,824    True      \n",
              "______________________________________________________________________\n",
              "BatchNorm2d          [256, 2, 2]          512        True      \n",
              "______________________________________________________________________\n",
              "ReLU                 [256, 2, 2]          0          False     \n",
              "______________________________________________________________________\n",
              "Conv2d               [256, 2, 2]          589,824    True      \n",
              "______________________________________________________________________\n",
              "BatchNorm2d          [256, 2, 2]          512        True      \n",
              "______________________________________________________________________\n",
              "Conv2d               [256, 2, 2]          589,824    True      \n",
              "______________________________________________________________________\n",
              "BatchNorm2d          [256, 2, 2]          512        True      \n",
              "______________________________________________________________________\n",
              "ReLU                 [256, 2, 2]          0          False     \n",
              "______________________________________________________________________\n",
              "Conv2d               [256, 2, 2]          589,824    True      \n",
              "______________________________________________________________________\n",
              "BatchNorm2d          [256, 2, 2]          512        True      \n",
              "______________________________________________________________________\n",
              "Conv2d               [512, 1, 1]          1,179,648  True      \n",
              "______________________________________________________________________\n",
              "BatchNorm2d          [512, 1, 1]          1,024      True      \n",
              "______________________________________________________________________\n",
              "ReLU                 [512, 1, 1]          0          False     \n",
              "______________________________________________________________________\n",
              "Conv2d               [512, 1, 1]          2,359,296  True      \n",
              "______________________________________________________________________\n",
              "BatchNorm2d          [512, 1, 1]          1,024      True      \n",
              "______________________________________________________________________\n",
              "Conv2d               [512, 1, 1]          131,072    True      \n",
              "______________________________________________________________________\n",
              "BatchNorm2d          [512, 1, 1]          1,024      True      \n",
              "______________________________________________________________________\n",
              "Conv2d               [512, 1, 1]          2,359,296  True      \n",
              "______________________________________________________________________\n",
              "BatchNorm2d          [512, 1, 1]          1,024      True      \n",
              "______________________________________________________________________\n",
              "ReLU                 [512, 1, 1]          0          False     \n",
              "______________________________________________________________________\n",
              "Conv2d               [512, 1, 1]          2,359,296  True      \n",
              "______________________________________________________________________\n",
              "BatchNorm2d          [512, 1, 1]          1,024      True      \n",
              "______________________________________________________________________\n",
              "Conv2d               [512, 1, 1]          2,359,296  True      \n",
              "______________________________________________________________________\n",
              "BatchNorm2d          [512, 1, 1]          1,024      True      \n",
              "______________________________________________________________________\n",
              "ReLU                 [512, 1, 1]          0          False     \n",
              "______________________________________________________________________\n",
              "Conv2d               [512, 1, 1]          2,359,296  True      \n",
              "______________________________________________________________________\n",
              "BatchNorm2d          [512, 1, 1]          1,024      True      \n",
              "______________________________________________________________________\n",
              "AdaptiveAvgPool2d    [512, 1, 1]          0          False     \n",
              "______________________________________________________________________\n",
              "AdaptiveMaxPool2d    [512, 1, 1]          0          False     \n",
              "______________________________________________________________________\n",
              "Conv2d               [512, 1, 1]          4,718,592  True      \n",
              "______________________________________________________________________\n",
              "BatchNorm2d          [512, 1, 1]          1,024      True      \n",
              "______________________________________________________________________\n",
              "ReLU                 [512, 1, 1]          0          False     \n",
              "______________________________________________________________________\n",
              "Conv2d               [512, 2, 2]          131,584    True      \n",
              "______________________________________________________________________\n",
              "PixelShuffle         [128, 4, 4]          0          False     \n",
              "______________________________________________________________________\n",
              "ReplicationPad2d     [128, 5, 5]          0          False     \n",
              "______________________________________________________________________\n",
              "AvgPool2d            [128, 4, 4]          0          False     \n",
              "______________________________________________________________________\n",
              "ReLU                 [512, 2, 2]          0          False     \n",
              "______________________________________________________________________\n",
              "BatchNorm2d          [128, 4, 4]          256        True      \n",
              "______________________________________________________________________\n",
              "ReLU                 [128, 4, 4]          0          False     \n",
              "______________________________________________________________________\n",
              "Conv2d               [128, 4, 4]          147,456    True      \n",
              "______________________________________________________________________\n",
              "BatchNorm2d          [128, 4, 4]          256        True      \n",
              "______________________________________________________________________\n",
              "ReLU                 [128, 4, 4]          0          False     \n",
              "______________________________________________________________________\n",
              "Conv2d               [256, 4, 4]          33,024     True      \n",
              "______________________________________________________________________\n",
              "PixelShuffle         [64, 8, 8]           0          False     \n",
              "______________________________________________________________________\n",
              "ReplicationPad2d     [64, 9, 9]           0          False     \n",
              "______________________________________________________________________\n",
              "AvgPool2d            [64, 8, 8]           0          False     \n",
              "______________________________________________________________________\n",
              "ReLU                 [256, 4, 4]          0          False     \n",
              "______________________________________________________________________\n",
              "BatchNorm2d          [64, 8, 8]           128        True      \n",
              "______________________________________________________________________\n",
              "ReLU                 [64, 8, 8]           0          False     \n",
              "______________________________________________________________________\n",
              "Conv2d               [64, 8, 8]           36,864     True      \n",
              "______________________________________________________________________\n",
              "BatchNorm2d          [64, 8, 8]           128        True      \n",
              "______________________________________________________________________\n",
              "ReLU                 [64, 8, 8]           0          False     \n",
              "______________________________________________________________________\n",
              "Conv2d               [256, 8, 8]          16,640     True      \n",
              "______________________________________________________________________\n",
              "PixelShuffle         [64, 16, 16]         0          False     \n",
              "______________________________________________________________________\n",
              "ReplicationPad2d     [64, 17, 17]         0          False     \n",
              "______________________________________________________________________\n",
              "AvgPool2d            [64, 16, 16]         0          False     \n",
              "______________________________________________________________________\n",
              "ReLU                 [256, 8, 8]          0          False     \n",
              "______________________________________________________________________\n",
              "BatchNorm2d          [64, 16, 16]         128        True      \n",
              "______________________________________________________________________\n",
              "ReLU                 [64, 16, 16]         0          False     \n",
              "______________________________________________________________________\n",
              "Conv2d               [12, 16, 16]         780        True      \n",
              "______________________________________________________________________\n",
              "PixelShuffle         [3, 32, 32]          0          False     \n",
              "______________________________________________________________________\n",
              "ReplicationPad2d     [3, 33, 33]          0          False     \n",
              "______________________________________________________________________\n",
              "AvgPool2d            [3, 32, 32]          0          False     \n",
              "______________________________________________________________________\n",
              "ReLU                 [12, 16, 16]         0          False     \n",
              "______________________________________________________________________\n",
              "BatchNorm2d          [3, 32, 32]          6          True      \n",
              "______________________________________________________________________\n",
              "ReLU                 [3, 32, 32]          0          False     \n",
              "______________________________________________________________________\n",
              "Conv2d               [64, 16, 16]         9,408      True      \n",
              "______________________________________________________________________\n",
              "BatchNorm2d          [64, 16, 16]         128        True      \n",
              "______________________________________________________________________\n",
              "ReLU                 [64, 16, 16]         0          False     \n",
              "______________________________________________________________________\n",
              "MaxPool2d            [64, 8, 8]           0          False     \n",
              "______________________________________________________________________\n",
              "Conv2d               [64, 8, 8]           36,864     True      \n",
              "______________________________________________________________________\n",
              "BatchNorm2d          [64, 8, 8]           128        True      \n",
              "______________________________________________________________________\n",
              "ReLU                 [64, 8, 8]           0          False     \n",
              "______________________________________________________________________\n",
              "Conv2d               [64, 8, 8]           36,864     True      \n",
              "______________________________________________________________________\n",
              "BatchNorm2d          [64, 8, 8]           128        True      \n",
              "______________________________________________________________________\n",
              "Conv2d               [64, 8, 8]           36,864     True      \n",
              "______________________________________________________________________\n",
              "BatchNorm2d          [64, 8, 8]           128        True      \n",
              "______________________________________________________________________\n",
              "ReLU                 [64, 8, 8]           0          False     \n",
              "______________________________________________________________________\n",
              "Conv2d               [64, 8, 8]           36,864     True      \n",
              "______________________________________________________________________\n",
              "BatchNorm2d          [64, 8, 8]           128        True      \n",
              "______________________________________________________________________\n",
              "Conv2d               [64, 8, 8]           36,864     True      \n",
              "______________________________________________________________________\n",
              "BatchNorm2d          [64, 8, 8]           128        True      \n",
              "______________________________________________________________________\n",
              "ReLU                 [64, 8, 8]           0          False     \n",
              "______________________________________________________________________\n",
              "Conv2d               [64, 8, 8]           36,864     True      \n",
              "______________________________________________________________________\n",
              "BatchNorm2d          [64, 8, 8]           128        True      \n",
              "______________________________________________________________________\n",
              "Conv2d               [128, 4, 4]          73,728     True      \n",
              "______________________________________________________________________\n",
              "BatchNorm2d          [128, 4, 4]          256        True      \n",
              "______________________________________________________________________\n",
              "ReLU                 [128, 4, 4]          0          False     \n",
              "______________________________________________________________________\n",
              "Conv2d               [128, 4, 4]          147,456    True      \n",
              "______________________________________________________________________\n",
              "BatchNorm2d          [128, 4, 4]          256        True      \n",
              "______________________________________________________________________\n",
              "Conv2d               [128, 4, 4]          8,192      True      \n",
              "______________________________________________________________________\n",
              "BatchNorm2d          [128, 4, 4]          256        True      \n",
              "______________________________________________________________________\n",
              "Conv2d               [128, 4, 4]          147,456    True      \n",
              "______________________________________________________________________\n",
              "BatchNorm2d          [128, 4, 4]          256        True      \n",
              "______________________________________________________________________\n",
              "ReLU                 [128, 4, 4]          0          False     \n",
              "______________________________________________________________________\n",
              "Conv2d               [128, 4, 4]          147,456    True      \n",
              "______________________________________________________________________\n",
              "BatchNorm2d          [128, 4, 4]          256        True      \n",
              "______________________________________________________________________\n",
              "Conv2d               [128, 4, 4]          147,456    True      \n",
              "______________________________________________________________________\n",
              "BatchNorm2d          [128, 4, 4]          256        True      \n",
              "______________________________________________________________________\n",
              "ReLU                 [128, 4, 4]          0          False     \n",
              "______________________________________________________________________\n",
              "Conv2d               [128, 4, 4]          147,456    True      \n",
              "______________________________________________________________________\n",
              "BatchNorm2d          [128, 4, 4]          256        True      \n",
              "______________________________________________________________________\n",
              "Conv2d               [128, 4, 4]          147,456    True      \n",
              "______________________________________________________________________\n",
              "BatchNorm2d          [128, 4, 4]          256        True      \n",
              "______________________________________________________________________\n",
              "ReLU                 [128, 4, 4]          0          False     \n",
              "______________________________________________________________________\n",
              "Conv2d               [128, 4, 4]          147,456    True      \n",
              "______________________________________________________________________\n",
              "BatchNorm2d          [128, 4, 4]          256        True      \n",
              "______________________________________________________________________\n",
              "Conv2d               [256, 2, 2]          294,912    True      \n",
              "______________________________________________________________________\n",
              "BatchNorm2d          [256, 2, 2]          512        True      \n",
              "______________________________________________________________________\n",
              "ReLU                 [256, 2, 2]          0          False     \n",
              "______________________________________________________________________\n",
              "Conv2d               [256, 2, 2]          589,824    True      \n",
              "______________________________________________________________________\n",
              "BatchNorm2d          [256, 2, 2]          512        True      \n",
              "______________________________________________________________________\n",
              "Conv2d               [256, 2, 2]          32,768     True      \n",
              "______________________________________________________________________\n",
              "BatchNorm2d          [256, 2, 2]          512        True      \n",
              "______________________________________________________________________\n",
              "Conv2d               [256, 2, 2]          589,824    True      \n",
              "______________________________________________________________________\n",
              "BatchNorm2d          [256, 2, 2]          512        True      \n",
              "______________________________________________________________________\n",
              "ReLU                 [256, 2, 2]          0          False     \n",
              "______________________________________________________________________\n",
              "Conv2d               [256, 2, 2]          589,824    True      \n",
              "______________________________________________________________________\n",
              "BatchNorm2d          [256, 2, 2]          512        True      \n",
              "______________________________________________________________________\n",
              "Conv2d               [256, 2, 2]          589,824    True      \n",
              "______________________________________________________________________\n",
              "BatchNorm2d          [256, 2, 2]          512        True      \n",
              "______________________________________________________________________\n",
              "ReLU                 [256, 2, 2]          0          False     \n",
              "______________________________________________________________________\n",
              "Conv2d               [256, 2, 2]          589,824    True      \n",
              "______________________________________________________________________\n",
              "BatchNorm2d          [256, 2, 2]          512        True      \n",
              "______________________________________________________________________\n",
              "Conv2d               [256, 2, 2]          589,824    True      \n",
              "______________________________________________________________________\n",
              "BatchNorm2d          [256, 2, 2]          512        True      \n",
              "______________________________________________________________________\n",
              "ReLU                 [256, 2, 2]          0          False     \n",
              "______________________________________________________________________\n",
              "Conv2d               [256, 2, 2]          589,824    True      \n",
              "______________________________________________________________________\n",
              "BatchNorm2d          [256, 2, 2]          512        True      \n",
              "______________________________________________________________________\n",
              "Conv2d               [256, 2, 2]          589,824    True      \n",
              "______________________________________________________________________\n",
              "BatchNorm2d          [256, 2, 2]          512        True      \n",
              "______________________________________________________________________\n",
              "ReLU                 [256, 2, 2]          0          False     \n",
              "______________________________________________________________________\n",
              "Conv2d               [256, 2, 2]          589,824    True      \n",
              "______________________________________________________________________\n",
              "BatchNorm2d          [256, 2, 2]          512        True      \n",
              "______________________________________________________________________\n",
              "Conv2d               [256, 2, 2]          589,824    True      \n",
              "______________________________________________________________________\n",
              "BatchNorm2d          [256, 2, 2]          512        True      \n",
              "______________________________________________________________________\n",
              "ReLU                 [256, 2, 2]          0          False     \n",
              "______________________________________________________________________\n",
              "Conv2d               [256, 2, 2]          589,824    True      \n",
              "______________________________________________________________________\n",
              "BatchNorm2d          [256, 2, 2]          512        True      \n",
              "______________________________________________________________________\n",
              "Conv2d               [512, 1, 1]          1,179,648  True      \n",
              "______________________________________________________________________\n",
              "BatchNorm2d          [512, 1, 1]          1,024      True      \n",
              "______________________________________________________________________\n",
              "ReLU                 [512, 1, 1]          0          False     \n",
              "______________________________________________________________________\n",
              "Conv2d               [512, 1, 1]          2,359,296  True      \n",
              "______________________________________________________________________\n",
              "BatchNorm2d          [512, 1, 1]          1,024      True      \n",
              "______________________________________________________________________\n",
              "Conv2d               [512, 1, 1]          131,072    True      \n",
              "______________________________________________________________________\n",
              "BatchNorm2d          [512, 1, 1]          1,024      True      \n",
              "______________________________________________________________________\n",
              "Conv2d               [512, 1, 1]          2,359,296  True      \n",
              "______________________________________________________________________\n",
              "BatchNorm2d          [512, 1, 1]          1,024      True      \n",
              "______________________________________________________________________\n",
              "ReLU                 [512, 1, 1]          0          False     \n",
              "______________________________________________________________________\n",
              "Conv2d               [512, 1, 1]          2,359,296  True      \n",
              "______________________________________________________________________\n",
              "BatchNorm2d          [512, 1, 1]          1,024      True      \n",
              "______________________________________________________________________\n",
              "Conv2d               [512, 1, 1]          2,359,296  True      \n",
              "______________________________________________________________________\n",
              "BatchNorm2d          [512, 1, 1]          1,024      True      \n",
              "______________________________________________________________________\n",
              "ReLU                 [512, 1, 1]          0          False     \n",
              "______________________________________________________________________\n",
              "Conv2d               [512, 1, 1]          2,359,296  True      \n",
              "______________________________________________________________________\n",
              "BatchNorm2d          [512, 1, 1]          1,024      True      \n",
              "______________________________________________________________________\n",
              "AdaptiveAvgPool2d    [512, 1, 1]          0          False     \n",
              "______________________________________________________________________\n",
              "AdaptiveMaxPool2d    [512, 1, 1]          0          False     \n",
              "______________________________________________________________________\n",
              "Conv2d               [512, 1, 1]          4,718,592  True      \n",
              "______________________________________________________________________\n",
              "BatchNorm2d          [512, 1, 1]          1,024      True      \n",
              "______________________________________________________________________\n",
              "ReLU                 [512, 1, 1]          0          False     \n",
              "______________________________________________________________________\n",
              "Conv2d               [512, 2, 2]          131,584    True      \n",
              "______________________________________________________________________\n",
              "PixelShuffle         [128, 4, 4]          0          False     \n",
              "______________________________________________________________________\n",
              "ReplicationPad2d     [128, 5, 5]          0          False     \n",
              "______________________________________________________________________\n",
              "AvgPool2d            [128, 4, 4]          0          False     \n",
              "______________________________________________________________________\n",
              "ReLU                 [512, 2, 2]          0          False     \n",
              "______________________________________________________________________\n",
              "BatchNorm2d          [128, 4, 4]          256        True      \n",
              "______________________________________________________________________\n",
              "ReLU                 [128, 4, 4]          0          False     \n",
              "______________________________________________________________________\n",
              "Conv2d               [128, 4, 4]          147,456    True      \n",
              "______________________________________________________________________\n",
              "BatchNorm2d          [128, 4, 4]          256        True      \n",
              "______________________________________________________________________\n",
              "ReLU                 [128, 4, 4]          0          False     \n",
              "______________________________________________________________________\n",
              "Conv2d               [256, 4, 4]          33,024     True      \n",
              "______________________________________________________________________\n",
              "PixelShuffle         [64, 8, 8]           0          False     \n",
              "______________________________________________________________________\n",
              "ReplicationPad2d     [64, 9, 9]           0          False     \n",
              "______________________________________________________________________\n",
              "AvgPool2d            [64, 8, 8]           0          False     \n",
              "______________________________________________________________________\n",
              "ReLU                 [256, 4, 4]          0          False     \n",
              "______________________________________________________________________\n",
              "BatchNorm2d          [64, 8, 8]           128        True      \n",
              "______________________________________________________________________\n",
              "ReLU                 [64, 8, 8]           0          False     \n",
              "______________________________________________________________________\n",
              "Conv2d               [64, 8, 8]           36,864     True      \n",
              "______________________________________________________________________\n",
              "BatchNorm2d          [64, 8, 8]           128        True      \n",
              "______________________________________________________________________\n",
              "ReLU                 [64, 8, 8]           0          False     \n",
              "______________________________________________________________________\n",
              "Conv2d               [256, 8, 8]          16,640     True      \n",
              "______________________________________________________________________\n",
              "PixelShuffle         [64, 16, 16]         0          False     \n",
              "______________________________________________________________________\n",
              "ReplicationPad2d     [64, 17, 17]         0          False     \n",
              "______________________________________________________________________\n",
              "AvgPool2d            [64, 16, 16]         0          False     \n",
              "______________________________________________________________________\n",
              "ReLU                 [256, 8, 8]          0          False     \n",
              "______________________________________________________________________\n",
              "BatchNorm2d          [64, 16, 16]         128        True      \n",
              "______________________________________________________________________\n",
              "ReLU                 [64, 16, 16]         0          False     \n",
              "______________________________________________________________________\n",
              "Conv2d               [12, 16, 16]         780        True      \n",
              "______________________________________________________________________\n",
              "PixelShuffle         [3, 32, 32]          0          False     \n",
              "______________________________________________________________________\n",
              "ReplicationPad2d     [3, 33, 33]          0          False     \n",
              "______________________________________________________________________\n",
              "AvgPool2d            [3, 32, 32]          0          False     \n",
              "______________________________________________________________________\n",
              "ReLU                 [12, 16, 16]         0          False     \n",
              "______________________________________________________________________\n",
              "BatchNorm2d          [3, 32, 32]          6          True      \n",
              "______________________________________________________________________\n",
              "ReLU                 [3, 32, 32]          0          False     \n",
              "______________________________________________________________________\n",
              "Conv2d               [512, 1, 1]          4,718,592  True      \n",
              "______________________________________________________________________\n",
              "BatchNorm2d          [512, 1, 1]          1,024      True      \n",
              "______________________________________________________________________\n",
              "ReLU                 [512, 1, 1]          0          False     \n",
              "______________________________________________________________________\n",
              "Conv2d               [1024, 1, 1]         525,312    True      \n",
              "______________________________________________________________________\n",
              "PixelShuffle         [256, 2, 2]          0          False     \n",
              "______________________________________________________________________\n",
              "ReplicationPad2d     [256, 3, 3]          0          False     \n",
              "______________________________________________________________________\n",
              "AvgPool2d            [256, 2, 2]          0          False     \n",
              "______________________________________________________________________\n",
              "ReLU                 [1024, 1, 1]         0          False     \n",
              "______________________________________________________________________\n",
              "BatchNorm2d          [256, 2, 2]          512        True      \n",
              "______________________________________________________________________\n",
              "ReLU                 [256, 2, 2]          0          False     \n",
              "______________________________________________________________________\n",
              "Conv2d               [512, 2, 2]          131,584    True      \n",
              "______________________________________________________________________\n",
              "PixelShuffle         [128, 4, 4]          0          False     \n",
              "______________________________________________________________________\n",
              "ReplicationPad2d     [128, 5, 5]          0          False     \n",
              "______________________________________________________________________\n",
              "AvgPool2d            [128, 4, 4]          0          False     \n",
              "______________________________________________________________________\n",
              "ReLU                 [512, 2, 2]          0          False     \n",
              "______________________________________________________________________\n",
              "BatchNorm2d          [128, 4, 4]          256        True      \n",
              "______________________________________________________________________\n",
              "ReLU                 [128, 4, 4]          0          False     \n",
              "______________________________________________________________________\n",
              "Conv2d               [128, 4, 4]          147,456    True      \n",
              "______________________________________________________________________\n",
              "BatchNorm2d          [128, 4, 4]          256        True      \n",
              "______________________________________________________________________\n",
              "ReLU                 [128, 4, 4]          0          False     \n",
              "______________________________________________________________________\n",
              "Conv2d               [256, 4, 4]          33,024     True      \n",
              "______________________________________________________________________\n",
              "PixelShuffle         [64, 8, 8]           0          False     \n",
              "______________________________________________________________________\n",
              "ReplicationPad2d     [64, 9, 9]           0          False     \n",
              "______________________________________________________________________\n",
              "AvgPool2d            [64, 8, 8]           0          False     \n",
              "______________________________________________________________________\n",
              "ReLU                 [256, 4, 4]          0          False     \n",
              "______________________________________________________________________\n",
              "BatchNorm2d          [64, 8, 8]           128        True      \n",
              "______________________________________________________________________\n",
              "ReLU                 [64, 8, 8]           0          False     \n",
              "______________________________________________________________________\n",
              "Conv2d               [64, 8, 8]           36,864     True      \n",
              "______________________________________________________________________\n",
              "BatchNorm2d          [64, 8, 8]           128        True      \n",
              "______________________________________________________________________\n",
              "ReLU                 [64, 8, 8]           0          False     \n",
              "______________________________________________________________________\n",
              "Conv2d               [256, 8, 8]          16,640     True      \n",
              "______________________________________________________________________\n",
              "PixelShuffle         [64, 16, 16]         0          False     \n",
              "______________________________________________________________________\n",
              "ReplicationPad2d     [64, 17, 17]         0          False     \n",
              "______________________________________________________________________\n",
              "AvgPool2d            [64, 16, 16]         0          False     \n",
              "______________________________________________________________________\n",
              "ReLU                 [256, 8, 8]          0          False     \n",
              "______________________________________________________________________\n",
              "BatchNorm2d          [64, 16, 16]         128        True      \n",
              "______________________________________________________________________\n",
              "ReLU                 [64, 16, 16]         0          False     \n",
              "______________________________________________________________________\n",
              "Conv2d               [12, 16, 16]         780        True      \n",
              "______________________________________________________________________\n",
              "PixelShuffle         [3, 32, 32]          0          False     \n",
              "______________________________________________________________________\n",
              "ReplicationPad2d     [3, 33, 33]          0          False     \n",
              "______________________________________________________________________\n",
              "AvgPool2d            [3, 32, 32]          0          False     \n",
              "______________________________________________________________________\n",
              "ReLU                 [12, 16, 16]         0          False     \n",
              "______________________________________________________________________\n",
              "BatchNorm2d          [3, 32, 32]          6          True      \n",
              "______________________________________________________________________\n",
              "ReLU                 [3, 32, 32]          0          False     \n",
              "______________________________________________________________________\n",
              "\n",
              "Total params: 58,355,766\n",
              "Total trainable params: 58,355,766\n",
              "Total non-trainable params: 0\n",
              "Optimized with 'torch.optim.adam.Adam', betas=(0.9, 0.99)\n",
              "Using true weight decay as discussed in https://www.fast.ai/2018/07/02/adam-weight-decay/ \n",
              "Loss function : function\n",
              "======================================================================\n",
              "Callbacks functions applied "
            ]
          },
          "metadata": {
            "tags": []
          },
          "execution_count": 130
        }
      ]
    },
    {
      "cell_type": "code",
      "metadata": {
        "id": "ecxLQI6Q70uL",
        "colab_type": "code",
        "colab": {}
      },
      "source": [
        ""
      ],
      "execution_count": 0,
      "outputs": []
    },
    {
      "cell_type": "code",
      "metadata": {
        "id": "EsqwvuhH52tV",
        "colab_type": "code",
        "colab": {
          "base_uri": "https://localhost:8080/",
          "height": 34
        },
        "outputId": "761c2d46-780f-47c1-d591-046853298dbc"
      },
      "source": [
        "tens.shape"
      ],
      "execution_count": 28,
      "outputs": [
        {
          "output_type": "execute_result",
          "data": {
            "text/plain": [
              "torch.Size([32, 3, 32, 32])"
            ]
          },
          "metadata": {
            "tags": []
          },
          "execution_count": 28
        }
      ]
    },
    {
      "cell_type": "code",
      "metadata": {
        "id": "pu5gHAj6sfOD",
        "colab_type": "code",
        "colab": {
          "base_uri": "https://localhost:8080/",
          "height": 34
        },
        "outputId": "32f0e9ae-df4d-43a5-b3c9-15f27da1e8b6"
      },
      "source": [
        "tens2.shape"
      ],
      "execution_count": 29,
      "outputs": [
        {
          "output_type": "execute_result",
          "data": {
            "text/plain": [
              "torch.Size([32, 3, 16, 16])"
            ]
          },
          "metadata": {
            "tags": []
          },
          "execution_count": 29
        }
      ]
    },
    {
      "cell_type": "code",
      "metadata": {
        "id": "DWe9a-3PvLYk",
        "colab_type": "code",
        "colab": {
          "base_uri": "https://localhost:8080/",
          "height": 119
        },
        "outputId": "fee03c50-e08a-4c60-e267-21a6074a5605"
      },
      "source": [
        "Encoder6().cuda()(Encoder5().cuda()(Encoder4().cuda()(Encoder3().cuda()(Encoder2().cuda()(Encoder1().cuda()(tens2.cuda())))))).shape"
      ],
      "execution_count": 52,
      "outputs": [
        {
          "output_type": "stream",
          "text": [
            "Using cache found in /root/.cache/torch/hub/pytorch_vision_v0.5.0\n",
            "Using cache found in /root/.cache/torch/hub/pytorch_vision_v0.5.0\n",
            "Using cache found in /root/.cache/torch/hub/pytorch_vision_v0.5.0\n",
            "Using cache found in /root/.cache/torch/hub/pytorch_vision_v0.5.0\n",
            "Using cache found in /root/.cache/torch/hub/pytorch_vision_v0.5.0\n"
          ],
          "name": "stderr"
        },
        {
          "output_type": "execute_result",
          "data": {
            "text/plain": [
              "torch.Size([32, 1024, 1, 1])"
            ]
          },
          "metadata": {
            "tags": []
          },
          "execution_count": 52
        }
      ]
    },
    {
      "cell_type": "code",
      "metadata": {
        "id": "2mYvFeoMs-QX",
        "colab_type": "code",
        "colab": {
          "base_uri": "https://localhost:8080/",
          "height": 34
        },
        "outputId": "b6681f91-a025-4ead-99a5-d6200ba59a7e"
      },
      "source": [
        "Decoder6().cuda()(ae.encoder(tens2.cuda())).shape"
      ],
      "execution_count": 37,
      "outputs": [
        {
          "output_type": "execute_result",
          "data": {
            "text/plain": [
              "torch.Size([32, 512, 1, 1])"
            ]
          },
          "metadata": {
            "tags": []
          },
          "execution_count": 37
        }
      ]
    },
    {
      "cell_type": "code",
      "metadata": {
        "id": "fhfQRtD0vFSn",
        "colab_type": "code",
        "colab": {
          "base_uri": "https://localhost:8080/",
          "height": 119
        },
        "outputId": "2c546a8b-015a-48e6-b3b9-c0b3f9cef11c"
      },
      "source": [
        "Encoder5().cuda()(Encoder4().cuda()(Encoder3().cuda()(Encoder2().cuda()(Encoder1().cuda()(tens2.cuda()))))).shape"
      ],
      "execution_count": 50,
      "outputs": [
        {
          "output_type": "stream",
          "text": [
            "Using cache found in /root/.cache/torch/hub/pytorch_vision_v0.5.0\n",
            "Using cache found in /root/.cache/torch/hub/pytorch_vision_v0.5.0\n",
            "Using cache found in /root/.cache/torch/hub/pytorch_vision_v0.5.0\n",
            "Using cache found in /root/.cache/torch/hub/pytorch_vision_v0.5.0\n",
            "Using cache found in /root/.cache/torch/hub/pytorch_vision_v0.5.0\n"
          ],
          "name": "stderr"
        },
        {
          "output_type": "execute_result",
          "data": {
            "text/plain": [
              "torch.Size([32, 512, 1, 1])"
            ]
          },
          "metadata": {
            "tags": []
          },
          "execution_count": 50
        }
      ]
    },
    {
      "cell_type": "code",
      "metadata": {
        "id": "L44aXWkdtGuc",
        "colab_type": "code",
        "colab": {
          "base_uri": "https://localhost:8080/",
          "height": 34
        },
        "outputId": "8557b07f-f9cd-43e9-f013-b0226d4c221c"
      },
      "source": [
        "Decoder5().cuda()(Decoder6().cuda()(ae.encoder(tens2.cuda()))).shape"
      ],
      "execution_count": 40,
      "outputs": [
        {
          "output_type": "execute_result",
          "data": {
            "text/plain": [
              "torch.Size([32, 256, 2, 2])"
            ]
          },
          "metadata": {
            "tags": []
          },
          "execution_count": 40
        }
      ]
    },
    {
      "cell_type": "code",
      "metadata": {
        "id": "vrA2KRaAtSgt",
        "colab_type": "code",
        "colab": {
          "base_uri": "https://localhost:8080/",
          "height": 34
        },
        "outputId": "b4151652-78f9-4d15-e9b8-f47a65aff85f"
      },
      "source": [
        "Decoder4().cuda()(Decoder5().cuda()(Decoder6().cuda()(ae.encoder(tens2.cuda())))).shape"
      ],
      "execution_count": 42,
      "outputs": [
        {
          "output_type": "execute_result",
          "data": {
            "text/plain": [
              "torch.Size([32, 128, 4, 4])"
            ]
          },
          "metadata": {
            "tags": []
          },
          "execution_count": 42
        }
      ]
    },
    {
      "cell_type": "code",
      "metadata": {
        "id": "VYDAwAKyu_4J",
        "colab_type": "code",
        "colab": {
          "base_uri": "https://localhost:8080/",
          "height": 102
        },
        "outputId": "ae75b010-8ad9-4c30-b457-711b097d3248"
      },
      "source": [
        "Encoder4().cuda()(Encoder3().cuda()(Encoder2().cuda()(Encoder1().cuda()(tens2.cuda())))).shape"
      ],
      "execution_count": 49,
      "outputs": [
        {
          "output_type": "stream",
          "text": [
            "Using cache found in /root/.cache/torch/hub/pytorch_vision_v0.5.0\n",
            "Using cache found in /root/.cache/torch/hub/pytorch_vision_v0.5.0\n",
            "Using cache found in /root/.cache/torch/hub/pytorch_vision_v0.5.0\n",
            "Using cache found in /root/.cache/torch/hub/pytorch_vision_v0.5.0\n"
          ],
          "name": "stderr"
        },
        {
          "output_type": "execute_result",
          "data": {
            "text/plain": [
              "torch.Size([32, 256, 1, 1])"
            ]
          },
          "metadata": {
            "tags": []
          },
          "execution_count": 49
        }
      ]
    },
    {
      "cell_type": "code",
      "metadata": {
        "id": "Lu1Ra40xukpI",
        "colab_type": "code",
        "colab": {
          "base_uri": "https://localhost:8080/",
          "height": 34
        },
        "outputId": "b8fdc8ab-b076-4c1a-93b9-098b07a3bfc7"
      },
      "source": [
        "Decoder3().cuda()(Decoder4().cuda()(Decoder5().cuda()(Decoder6().cuda()(ae.encoder(tens2.cuda()))))).shape"
      ],
      "execution_count": 44,
      "outputs": [
        {
          "output_type": "execute_result",
          "data": {
            "text/plain": [
              "torch.Size([32, 64, 8, 8])"
            ]
          },
          "metadata": {
            "tags": []
          },
          "execution_count": 44
        }
      ]
    },
    {
      "cell_type": "code",
      "metadata": {
        "id": "4fZ0uiozu6er",
        "colab_type": "code",
        "colab": {
          "base_uri": "https://localhost:8080/",
          "height": 85
        },
        "outputId": "af381cf0-2725-4ce5-b29a-9439f46e5c4d"
      },
      "source": [
        "Encoder3().cuda()(Encoder2().cuda()(Encoder1().cuda()(tens2.cuda()))).shape"
      ],
      "execution_count": 48,
      "outputs": [
        {
          "output_type": "stream",
          "text": [
            "Using cache found in /root/.cache/torch/hub/pytorch_vision_v0.5.0\n",
            "Using cache found in /root/.cache/torch/hub/pytorch_vision_v0.5.0\n",
            "Using cache found in /root/.cache/torch/hub/pytorch_vision_v0.5.0\n"
          ],
          "name": "stderr"
        },
        {
          "output_type": "execute_result",
          "data": {
            "text/plain": [
              "torch.Size([32, 128, 2, 2])"
            ]
          },
          "metadata": {
            "tags": []
          },
          "execution_count": 48
        }
      ]
    },
    {
      "cell_type": "code",
      "metadata": {
        "id": "BVBKDbeUungj",
        "colab_type": "code",
        "colab": {
          "base_uri": "https://localhost:8080/",
          "height": 34
        },
        "outputId": "8e9de487-9b5a-4ce1-ddf2-de75f8f78c6e"
      },
      "source": [
        "Decoder2().cuda()(Decoder3().cuda()(Decoder4().cuda()(Decoder5().cuda()(Decoder6().cuda()(ae.encoder(tens2.cuda())))))).shape"
      ],
      "execution_count": 45,
      "outputs": [
        {
          "output_type": "execute_result",
          "data": {
            "text/plain": [
              "torch.Size([32, 64, 16, 16])"
            ]
          },
          "metadata": {
            "tags": []
          },
          "execution_count": 45
        }
      ]
    },
    {
      "cell_type": "code",
      "metadata": {
        "id": "6Z1j0M2nuzPU",
        "colab_type": "code",
        "colab": {
          "base_uri": "https://localhost:8080/",
          "height": 68
        },
        "outputId": "f6a27f9e-cf97-426a-ef44-8f7d1e8c699d"
      },
      "source": [
        "Encoder2().cuda()(Encoder1().cuda()(tens2.cuda())).shape"
      ],
      "execution_count": 47,
      "outputs": [
        {
          "output_type": "stream",
          "text": [
            "Using cache found in /root/.cache/torch/hub/pytorch_vision_v0.5.0\n",
            "Using cache found in /root/.cache/torch/hub/pytorch_vision_v0.5.0\n"
          ],
          "name": "stderr"
        },
        {
          "output_type": "execute_result",
          "data": {
            "text/plain": [
              "torch.Size([32, 64, 4, 4])"
            ]
          },
          "metadata": {
            "tags": []
          },
          "execution_count": 47
        }
      ]
    },
    {
      "cell_type": "code",
      "metadata": {
        "id": "4XZlRb2euq42",
        "colab_type": "code",
        "colab": {
          "base_uri": "https://localhost:8080/",
          "height": 34
        },
        "outputId": "a1fc96b3-529f-412f-ebd5-b2eab42947e4"
      },
      "source": [
        "Decoder1().cuda()(Decoder2().cuda()(Decoder3().cuda()(Decoder4().cuda()(Decoder5().cuda()(Decoder6().cuda()(ae.encoder(tens2.cuda()))))))).shape"
      ],
      "execution_count": 46,
      "outputs": [
        {
          "output_type": "execute_result",
          "data": {
            "text/plain": [
              "torch.Size([32, 3, 32, 32])"
            ]
          },
          "metadata": {
            "tags": []
          },
          "execution_count": 46
        }
      ]
    },
    {
      "cell_type": "code",
      "metadata": {
        "id": "dhbpm_afuMzz",
        "colab_type": "code",
        "colab": {
          "base_uri": "https://localhost:8080/",
          "height": 51
        },
        "outputId": "546f57b8-49ba-4774-fc8a-9bcc61a60518"
      },
      "source": [
        "Encoder1().cuda()(tens2.cuda()).shape"
      ],
      "execution_count": 43,
      "outputs": [
        {
          "output_type": "stream",
          "text": [
            "Using cache found in /root/.cache/torch/hub/pytorch_vision_v0.5.0\n"
          ],
          "name": "stderr"
        },
        {
          "output_type": "execute_result",
          "data": {
            "text/plain": [
              "torch.Size([32, 64, 8, 8])"
            ]
          },
          "metadata": {
            "tags": []
          },
          "execution_count": 43
        }
      ]
    },
    {
      "cell_type": "code",
      "metadata": {
        "id": "iHNM_QVOwaBE",
        "colab_type": "code",
        "colab": {}
      },
      "source": [
        "tens2 = torch.randn([32, 3, 16, 16])"
      ],
      "execution_count": 0,
      "outputs": []
    },
    {
      "cell_type": "code",
      "metadata": {
        "id": "LEdVLD4xwaxs",
        "colab_type": "code",
        "colab": {
          "base_uri": "https://localhost:8080/",
          "height": 51
        },
        "outputId": "9aeb58ef-455a-4936-b54c-2107c526dbeb"
      },
      "source": [
        "test = Encoder1()(tens2)\n",
        "test.shape"
      ],
      "execution_count": 55,
      "outputs": [
        {
          "output_type": "stream",
          "text": [
            "Using cache found in /root/.cache/torch/hub/pytorch_vision_v0.5.0\n"
          ],
          "name": "stderr"
        },
        {
          "output_type": "execute_result",
          "data": {
            "text/plain": [
              "torch.Size([32, 64, 8, 8])"
            ]
          },
          "metadata": {
            "tags": []
          },
          "execution_count": 55
        }
      ]
    },
    {
      "cell_type": "code",
      "metadata": {
        "id": "EcTIUpHjwgLv",
        "colab_type": "code",
        "colab": {
          "base_uri": "https://localhost:8080/",
          "height": 34
        },
        "outputId": "46e18c39-f015-4767-d37b-fea0302fbecb"
      },
      "source": [
        "test = Decoder1()(test)\n",
        "test.shape"
      ],
      "execution_count": 56,
      "outputs": [
        {
          "output_type": "execute_result",
          "data": {
            "text/plain": [
              "torch.Size([32, 3, 16, 16])"
            ]
          },
          "metadata": {
            "tags": []
          },
          "execution_count": 56
        }
      ]
    },
    {
      "cell_type": "code",
      "metadata": {
        "id": "4lW6POEAwlyn",
        "colab_type": "code",
        "colab": {}
      },
      "source": [
        "tens2 = torch.randn([32, 64, 8, 8])"
      ],
      "execution_count": 0,
      "outputs": []
    },
    {
      "cell_type": "code",
      "metadata": {
        "id": "rCoa3E-dwqaf",
        "colab_type": "code",
        "colab": {
          "base_uri": "https://localhost:8080/",
          "height": 51
        },
        "outputId": "a9f8800d-aec5-4099-e094-bd9bb697a75b"
      },
      "source": [
        "test = Encoder2()(tens2)\n",
        "test.shape"
      ],
      "execution_count": 58,
      "outputs": [
        {
          "output_type": "stream",
          "text": [
            "Using cache found in /root/.cache/torch/hub/pytorch_vision_v0.5.0\n"
          ],
          "name": "stderr"
        },
        {
          "output_type": "execute_result",
          "data": {
            "text/plain": [
              "torch.Size([32, 64, 4, 4])"
            ]
          },
          "metadata": {
            "tags": []
          },
          "execution_count": 58
        }
      ]
    },
    {
      "cell_type": "code",
      "metadata": {
        "id": "ZT25_zOpwsSt",
        "colab_type": "code",
        "colab": {
          "base_uri": "https://localhost:8080/",
          "height": 34
        },
        "outputId": "3a551658-5901-4b97-cded-a66a7c508cc2"
      },
      "source": [
        "test = Decoder2()(test)\n",
        "test.shape"
      ],
      "execution_count": 59,
      "outputs": [
        {
          "output_type": "execute_result",
          "data": {
            "text/plain": [
              "torch.Size([32, 64, 8, 8])"
            ]
          },
          "metadata": {
            "tags": []
          },
          "execution_count": 59
        }
      ]
    },
    {
      "cell_type": "code",
      "metadata": {
        "id": "u0h9CHFBwt6o",
        "colab_type": "code",
        "colab": {}
      },
      "source": [
        "tens2 = torch.randn([32, 64, 4, 4])"
      ],
      "execution_count": 0,
      "outputs": []
    },
    {
      "cell_type": "code",
      "metadata": {
        "id": "bBs4uGoXwxbe",
        "colab_type": "code",
        "colab": {
          "base_uri": "https://localhost:8080/",
          "height": 51
        },
        "outputId": "4c1cda9f-435c-4a77-9c56-b7c80e329009"
      },
      "source": [
        "test = Encoder3()(tens2)\n",
        "test.shape"
      ],
      "execution_count": 61,
      "outputs": [
        {
          "output_type": "stream",
          "text": [
            "Using cache found in /root/.cache/torch/hub/pytorch_vision_v0.5.0\n"
          ],
          "name": "stderr"
        },
        {
          "output_type": "execute_result",
          "data": {
            "text/plain": [
              "torch.Size([32, 128, 2, 2])"
            ]
          },
          "metadata": {
            "tags": []
          },
          "execution_count": 61
        }
      ]
    },
    {
      "cell_type": "code",
      "metadata": {
        "id": "A7v2tT8ww0VI",
        "colab_type": "code",
        "colab": {
          "base_uri": "https://localhost:8080/",
          "height": 34
        },
        "outputId": "bb3197ed-1dff-4b4b-b022-ace515d84e02"
      },
      "source": [
        "test = Decoder3()(test)\n",
        "test.shape"
      ],
      "execution_count": 62,
      "outputs": [
        {
          "output_type": "execute_result",
          "data": {
            "text/plain": [
              "torch.Size([32, 64, 4, 4])"
            ]
          },
          "metadata": {
            "tags": []
          },
          "execution_count": 62
        }
      ]
    },
    {
      "cell_type": "code",
      "metadata": {
        "id": "AGqN875pw2dl",
        "colab_type": "code",
        "colab": {}
      },
      "source": [
        "tens2 = torch.randn([32, 128, 2, 2])"
      ],
      "execution_count": 0,
      "outputs": []
    },
    {
      "cell_type": "code",
      "metadata": {
        "id": "8Ch1iHUDw710",
        "colab_type": "code",
        "colab": {
          "base_uri": "https://localhost:8080/",
          "height": 51
        },
        "outputId": "9b1d9ae3-53ae-44f1-f7a4-1effeb62a439"
      },
      "source": [
        "test = Encoder4()(tens2)\n",
        "test.shape"
      ],
      "execution_count": 64,
      "outputs": [
        {
          "output_type": "stream",
          "text": [
            "Using cache found in /root/.cache/torch/hub/pytorch_vision_v0.5.0\n"
          ],
          "name": "stderr"
        },
        {
          "output_type": "execute_result",
          "data": {
            "text/plain": [
              "torch.Size([32, 256, 1, 1])"
            ]
          },
          "metadata": {
            "tags": []
          },
          "execution_count": 64
        }
      ]
    },
    {
      "cell_type": "code",
      "metadata": {
        "id": "6awlv02ww9bC",
        "colab_type": "code",
        "colab": {
          "base_uri": "https://localhost:8080/",
          "height": 34
        },
        "outputId": "c3f2438c-5c74-4d8a-a0c2-ba54ea9891c4"
      },
      "source": [
        "test = Decoder4()(test)\n",
        "test.shape"
      ],
      "execution_count": 65,
      "outputs": [
        {
          "output_type": "execute_result",
          "data": {
            "text/plain": [
              "torch.Size([32, 128, 2, 2])"
            ]
          },
          "metadata": {
            "tags": []
          },
          "execution_count": 65
        }
      ]
    },
    {
      "cell_type": "code",
      "metadata": {
        "id": "b1HXGee7w_LB",
        "colab_type": "code",
        "colab": {}
      },
      "source": [
        "tens2 = torch.randn([32, 256, 1, 1])"
      ],
      "execution_count": 0,
      "outputs": []
    },
    {
      "cell_type": "code",
      "metadata": {
        "id": "XGrmoIowxCqa",
        "colab_type": "code",
        "colab": {
          "base_uri": "https://localhost:8080/",
          "height": 51
        },
        "outputId": "1049eb70-f446-4f2d-aa77-836384f9bafb"
      },
      "source": [
        "test = Encoder5()(tens2)\n",
        "test.shape"
      ],
      "execution_count": 74,
      "outputs": [
        {
          "output_type": "stream",
          "text": [
            "Using cache found in /root/.cache/torch/hub/pytorch_vision_v0.5.0\n"
          ],
          "name": "stderr"
        },
        {
          "output_type": "execute_result",
          "data": {
            "text/plain": [
              "torch.Size([32, 512, 1, 1])"
            ]
          },
          "metadata": {
            "tags": []
          },
          "execution_count": 74
        }
      ]
    },
    {
      "cell_type": "code",
      "metadata": {
        "id": "TwKKKJ5YxEJg",
        "colab_type": "code",
        "colab": {
          "base_uri": "https://localhost:8080/",
          "height": 34
        },
        "outputId": "a12c5526-6a27-4821-e65e-ad3d3296d93b"
      },
      "source": [
        "test = Decoder5()(test)\n",
        "test.shape"
      ],
      "execution_count": 75,
      "outputs": [
        {
          "output_type": "execute_result",
          "data": {
            "text/plain": [
              "torch.Size([32, 256, 1, 1])"
            ]
          },
          "metadata": {
            "tags": []
          },
          "execution_count": 75
        }
      ]
    },
    {
      "cell_type": "code",
      "metadata": {
        "id": "9u9ke3YMxGR5",
        "colab_type": "code",
        "colab": {}
      },
      "source": [
        "tens2 = torch.randn([32, 512, 1, 1])"
      ],
      "execution_count": 0,
      "outputs": []
    },
    {
      "cell_type": "code",
      "metadata": {
        "id": "wazsCbUYyAb7",
        "colab_type": "code",
        "colab": {
          "base_uri": "https://localhost:8080/",
          "height": 34
        },
        "outputId": "ee1d8c1a-8aad-4fd9-8509-b4f1dc01df79"
      },
      "source": [
        "test = Encoder6()(tens2)\n",
        "test.shape"
      ],
      "execution_count": 77,
      "outputs": [
        {
          "output_type": "execute_result",
          "data": {
            "text/plain": [
              "torch.Size([32, 1024, 1, 1])"
            ]
          },
          "metadata": {
            "tags": []
          },
          "execution_count": 77
        }
      ]
    },
    {
      "cell_type": "code",
      "metadata": {
        "id": "huPDRrtKyDHo",
        "colab_type": "code",
        "colab": {
          "base_uri": "https://localhost:8080/",
          "height": 34
        },
        "outputId": "cbbe790c-20e5-4847-86b7-e82343fab147"
      },
      "source": [
        "test = Decoder6()(test)\n",
        "test.shape"
      ],
      "execution_count": 78,
      "outputs": [
        {
          "output_type": "execute_result",
          "data": {
            "text/plain": [
              "torch.Size([32, 512, 1, 1])"
            ]
          },
          "metadata": {
            "tags": []
          },
          "execution_count": 78
        }
      ]
    },
    {
      "cell_type": "code",
      "metadata": {
        "id": "QI9xOwThyJ94",
        "colab_type": "code",
        "colab": {
          "base_uri": "https://localhost:8080/",
          "height": 102
        },
        "outputId": "cc2ac4ba-85f4-4c56-d761-b894476e50f5"
      },
      "source": [
        "ae = AutoEncoder()"
      ],
      "execution_count": 79,
      "outputs": [
        {
          "output_type": "stream",
          "text": [
            "Using cache found in /root/.cache/torch/hub/pytorch_vision_v0.5.0\n",
            "Using cache found in /root/.cache/torch/hub/pytorch_vision_v0.5.0\n",
            "Using cache found in /root/.cache/torch/hub/pytorch_vision_v0.5.0\n",
            "Using cache found in /root/.cache/torch/hub/pytorch_vision_v0.5.0\n",
            "Using cache found in /root/.cache/torch/hub/pytorch_vision_v0.5.0\n"
          ],
          "name": "stderr"
        }
      ]
    },
    {
      "cell_type": "code",
      "metadata": {
        "id": "fB3giSYyyNo-",
        "colab_type": "code",
        "colab": {}
      },
      "source": [
        "tens2 = torch.randn([32, 3, 16, 16])"
      ],
      "execution_count": 0,
      "outputs": []
    },
    {
      "cell_type": "code",
      "metadata": {
        "id": "hIdLj_VcyLU5",
        "colab_type": "code",
        "colab": {
          "base_uri": "https://localhost:8080/",
          "height": 34
        },
        "outputId": "20d117ba-99f2-4297-e40a-4a1acc459529"
      },
      "source": [
        "test = ae.encode(tens2)\n",
        "test.shape"
      ],
      "execution_count": 83,
      "outputs": [
        {
          "output_type": "execute_result",
          "data": {
            "text/plain": [
              "torch.Size([32, 1024, 1, 1])"
            ]
          },
          "metadata": {
            "tags": []
          },
          "execution_count": 83
        }
      ]
    },
    {
      "cell_type": "code",
      "metadata": {
        "id": "1mImw12kyNsD",
        "colab_type": "code",
        "colab": {
          "base_uri": "https://localhost:8080/",
          "height": 34
        },
        "outputId": "ea2b0c5f-fc43-49d2-f79e-ab9be9f0f3a2"
      },
      "source": [
        "test = ae.decode(test)\n",
        "test.shape"
      ],
      "execution_count": 84,
      "outputs": [
        {
          "output_type": "execute_result",
          "data": {
            "text/plain": [
              "torch.Size([32, 3, 16, 16])"
            ]
          },
          "metadata": {
            "tags": []
          },
          "execution_count": 84
        }
      ]
    },
    {
      "cell_type": "code",
      "metadata": {
        "id": "KCq68tqSyNu2",
        "colab_type": "code",
        "colab": {}
      },
      "source": [
        "tens2 = torch.randn([32, 3, 32, 32])"
      ],
      "execution_count": 0,
      "outputs": []
    },
    {
      "cell_type": "code",
      "metadata": {
        "id": "8MSY1PfAyaf3",
        "colab_type": "code",
        "colab": {
          "base_uri": "https://localhost:8080/",
          "height": 34
        },
        "outputId": "70097bf0-e71e-4dd8-c37c-a626ca0ba2d8"
      },
      "source": [
        "test = ae.encode(tens2)\n",
        "test.shape"
      ],
      "execution_count": 86,
      "outputs": [
        {
          "output_type": "execute_result",
          "data": {
            "text/plain": [
              "torch.Size([32, 1024, 1, 1])"
            ]
          },
          "metadata": {
            "tags": []
          },
          "execution_count": 86
        }
      ]
    },
    {
      "cell_type": "code",
      "metadata": {
        "id": "vhc346ORycVl",
        "colab_type": "code",
        "colab": {
          "base_uri": "https://localhost:8080/",
          "height": 34
        },
        "outputId": "c0d3656b-1173-4c68-96a4-8ca833134808"
      },
      "source": [
        "test = ae.decode(test)\n",
        "test.shape"
      ],
      "execution_count": 87,
      "outputs": [
        {
          "output_type": "execute_result",
          "data": {
            "text/plain": [
              "torch.Size([32, 3, 16, 16])"
            ]
          },
          "metadata": {
            "tags": []
          },
          "execution_count": 87
        }
      ]
    },
    {
      "cell_type": "markdown",
      "metadata": {
        "id": "Sz02SVZFynEY",
        "colab_type": "text"
      },
      "source": [
        "for resizing to work we need to upsample one less time than before. this means we have to save the weights from first model then add in new weights for the further upsample."
      ]
    },
    {
      "cell_type": "code",
      "metadata": {
        "id": "PVsIgQbe0Dfd",
        "colab_type": "code",
        "colab": {
          "base_uri": "https://localhost:8080/",
          "height": 34
        },
        "outputId": "591d215a-8a54-4838-d14e-8ac7d48912fc"
      },
      "source": [
        "tens2 = torch.randn([32, 256, 1, 1])\n",
        "nn.Conv2d(256, 512, kernel_size=(3, 3), stride=(1, 1), padding=(1, 1), bias=False)(tens2).shape"
      ],
      "execution_count": 89,
      "outputs": [
        {
          "output_type": "execute_result",
          "data": {
            "text/plain": [
              "torch.Size([32, 512, 1, 1])"
            ]
          },
          "metadata": {
            "tags": []
          },
          "execution_count": 89
        }
      ]
    },
    {
      "cell_type": "code",
      "metadata": {
        "id": "7zgws_wP0MMg",
        "colab_type": "code",
        "colab": {
          "base_uri": "https://localhost:8080/",
          "height": 34
        },
        "outputId": "bca5183b-db6e-4745-ca25-8c57412cff0e"
      },
      "source": [
        "nn.Conv2d(256, 512, kernel_size=(3, 3), stride=(2, 2), padding=(1, 1), bias=False)(tens2).shape"
      ],
      "execution_count": 90,
      "outputs": [
        {
          "output_type": "execute_result",
          "data": {
            "text/plain": [
              "torch.Size([32, 512, 1, 1])"
            ]
          },
          "metadata": {
            "tags": []
          },
          "execution_count": 90
        }
      ]
    },
    {
      "cell_type": "code",
      "metadata": {
        "id": "0VjUDUjj0OzR",
        "colab_type": "code",
        "colab": {
          "base_uri": "https://localhost:8080/",
          "height": 34
        },
        "outputId": "2ed9d62f-9452-4066-de2b-7aba1190b241"
      },
      "source": [
        "tens2 = torch.randn([32, 256, 2, 2])\n",
        "nn.Conv2d(256, 512, kernel_size=(3, 3), stride=(1, 1), padding=(1, 1), bias=False)(tens2).shape"
      ],
      "execution_count": 91,
      "outputs": [
        {
          "output_type": "execute_result",
          "data": {
            "text/plain": [
              "torch.Size([32, 512, 2, 2])"
            ]
          },
          "metadata": {
            "tags": []
          },
          "execution_count": 91
        }
      ]
    },
    {
      "cell_type": "code",
      "metadata": {
        "id": "gLkaNJot0SVD",
        "colab_type": "code",
        "colab": {
          "base_uri": "https://localhost:8080/",
          "height": 34
        },
        "outputId": "2251d4ac-9b50-418c-94ac-6d03cca4421e"
      },
      "source": [
        "nn.Conv2d(256, 512, kernel_size=(3, 3), stride=(2, 2), padding=(1, 1), bias=False)(tens2).shape"
      ],
      "execution_count": 92,
      "outputs": [
        {
          "output_type": "execute_result",
          "data": {
            "text/plain": [
              "torch.Size([32, 512, 1, 1])"
            ]
          },
          "metadata": {
            "tags": []
          },
          "execution_count": 92
        }
      ]
    },
    {
      "cell_type": "code",
      "metadata": {
        "id": "xTmAajCk0Trk",
        "colab_type": "code",
        "colab": {
          "base_uri": "https://localhost:8080/",
          "height": 1000
        },
        "outputId": "8bd8621f-a6d0-4ea8-d7a4-604e2f534023"
      },
      "source": [
        "learn.summary()"
      ],
      "execution_count": 93,
      "outputs": [
        {
          "output_type": "execute_result",
          "data": {
            "text/plain": [
              "AutoEncoder\n",
              "======================================================================\n",
              "Layer (type)         Output Shape         Param #    Trainable \n",
              "======================================================================\n",
              "Conv2d               [64, 8, 8]           9,408      False     \n",
              "______________________________________________________________________\n",
              "BatchNorm2d          [64, 8, 8]           128        False     \n",
              "______________________________________________________________________\n",
              "ReLU                 [64, 8, 8]           0          False     \n",
              "______________________________________________________________________\n",
              "MaxPool2d            [64, 4, 4]           0          False     \n",
              "______________________________________________________________________\n",
              "Conv2d               [64, 4, 4]           36,864     False     \n",
              "______________________________________________________________________\n",
              "BatchNorm2d          [64, 4, 4]           128        True      \n",
              "______________________________________________________________________\n",
              "ReLU                 [64, 4, 4]           0          False     \n",
              "______________________________________________________________________\n",
              "Conv2d               [64, 4, 4]           36,864     False     \n",
              "______________________________________________________________________\n",
              "BatchNorm2d          [64, 4, 4]           128        True      \n",
              "______________________________________________________________________\n",
              "Conv2d               [64, 4, 4]           36,864     False     \n",
              "______________________________________________________________________\n",
              "BatchNorm2d          [64, 4, 4]           128        True      \n",
              "______________________________________________________________________\n",
              "ReLU                 [64, 4, 4]           0          False     \n",
              "______________________________________________________________________\n",
              "Conv2d               [64, 4, 4]           36,864     False     \n",
              "______________________________________________________________________\n",
              "BatchNorm2d          [64, 4, 4]           128        True      \n",
              "______________________________________________________________________\n",
              "Conv2d               [64, 4, 4]           36,864     False     \n",
              "______________________________________________________________________\n",
              "BatchNorm2d          [64, 4, 4]           128        False     \n",
              "______________________________________________________________________\n",
              "ReLU                 [64, 4, 4]           0          False     \n",
              "______________________________________________________________________\n",
              "Conv2d               [64, 4, 4]           36,864     False     \n",
              "______________________________________________________________________\n",
              "BatchNorm2d          [64, 4, 4]           128        False     \n",
              "______________________________________________________________________\n",
              "Conv2d               [128, 2, 2]          73,728     False     \n",
              "______________________________________________________________________\n",
              "BatchNorm2d          [128, 2, 2]          256        True      \n",
              "______________________________________________________________________\n",
              "ReLU                 [128, 2, 2]          0          False     \n",
              "______________________________________________________________________\n",
              "Conv2d               [128, 2, 2]          147,456    False     \n",
              "______________________________________________________________________\n",
              "BatchNorm2d          [128, 2, 2]          256        True      \n",
              "______________________________________________________________________\n",
              "Conv2d               [128, 2, 2]          8,192      False     \n",
              "______________________________________________________________________\n",
              "BatchNorm2d          [128, 2, 2]          256        True      \n",
              "______________________________________________________________________\n",
              "Conv2d               [128, 2, 2]          147,456    False     \n",
              "______________________________________________________________________\n",
              "BatchNorm2d          [128, 2, 2]          256        True      \n",
              "______________________________________________________________________\n",
              "ReLU                 [128, 2, 2]          0          False     \n",
              "______________________________________________________________________\n",
              "Conv2d               [128, 2, 2]          147,456    False     \n",
              "______________________________________________________________________\n",
              "BatchNorm2d          [128, 2, 2]          256        True      \n",
              "______________________________________________________________________\n",
              "Conv2d               [128, 2, 2]          147,456    False     \n",
              "______________________________________________________________________\n",
              "BatchNorm2d          [128, 2, 2]          256        True      \n",
              "______________________________________________________________________\n",
              "ReLU                 [128, 2, 2]          0          False     \n",
              "______________________________________________________________________\n",
              "Conv2d               [128, 2, 2]          147,456    False     \n",
              "______________________________________________________________________\n",
              "BatchNorm2d          [128, 2, 2]          256        True      \n",
              "______________________________________________________________________\n",
              "Conv2d               [128, 2, 2]          147,456    False     \n",
              "______________________________________________________________________\n",
              "BatchNorm2d          [128, 2, 2]          256        True      \n",
              "______________________________________________________________________\n",
              "ReLU                 [128, 2, 2]          0          False     \n",
              "______________________________________________________________________\n",
              "Conv2d               [128, 2, 2]          147,456    False     \n",
              "______________________________________________________________________\n",
              "BatchNorm2d          [128, 2, 2]          256        True      \n",
              "______________________________________________________________________\n",
              "Conv2d               [256, 1, 1]          294,912    False     \n",
              "______________________________________________________________________\n",
              "BatchNorm2d          [256, 1, 1]          512        True      \n",
              "______________________________________________________________________\n",
              "ReLU                 [256, 1, 1]          0          False     \n",
              "______________________________________________________________________\n",
              "Conv2d               [256, 1, 1]          589,824    False     \n",
              "______________________________________________________________________\n",
              "BatchNorm2d          [256, 1, 1]          512        True      \n",
              "______________________________________________________________________\n",
              "Conv2d               [256, 1, 1]          32,768     False     \n",
              "______________________________________________________________________\n",
              "BatchNorm2d          [256, 1, 1]          512        True      \n",
              "______________________________________________________________________\n",
              "Conv2d               [256, 1, 1]          589,824    False     \n",
              "______________________________________________________________________\n",
              "BatchNorm2d          [256, 1, 1]          512        True      \n",
              "______________________________________________________________________\n",
              "ReLU                 [256, 1, 1]          0          False     \n",
              "______________________________________________________________________\n",
              "Conv2d               [256, 1, 1]          589,824    False     \n",
              "______________________________________________________________________\n",
              "BatchNorm2d          [256, 1, 1]          512        True      \n",
              "______________________________________________________________________\n",
              "Conv2d               [256, 1, 1]          589,824    False     \n",
              "______________________________________________________________________\n",
              "BatchNorm2d          [256, 1, 1]          512        True      \n",
              "______________________________________________________________________\n",
              "ReLU                 [256, 1, 1]          0          False     \n",
              "______________________________________________________________________\n",
              "Conv2d               [256, 1, 1]          589,824    False     \n",
              "______________________________________________________________________\n",
              "BatchNorm2d          [256, 1, 1]          512        True      \n",
              "______________________________________________________________________\n",
              "Conv2d               [256, 1, 1]          589,824    False     \n",
              "______________________________________________________________________\n",
              "BatchNorm2d          [256, 1, 1]          512        True      \n",
              "______________________________________________________________________\n",
              "ReLU                 [256, 1, 1]          0          False     \n",
              "______________________________________________________________________\n",
              "Conv2d               [256, 1, 1]          589,824    False     \n",
              "______________________________________________________________________\n",
              "BatchNorm2d          [256, 1, 1]          512        True      \n",
              "______________________________________________________________________\n",
              "Conv2d               [256, 1, 1]          589,824    False     \n",
              "______________________________________________________________________\n",
              "BatchNorm2d          [256, 1, 1]          512        True      \n",
              "______________________________________________________________________\n",
              "ReLU                 [256, 1, 1]          0          False     \n",
              "______________________________________________________________________\n",
              "Conv2d               [256, 1, 1]          589,824    False     \n",
              "______________________________________________________________________\n",
              "BatchNorm2d          [256, 1, 1]          512        True      \n",
              "______________________________________________________________________\n",
              "Conv2d               [256, 1, 1]          589,824    False     \n",
              "______________________________________________________________________\n",
              "BatchNorm2d          [256, 1, 1]          512        True      \n",
              "______________________________________________________________________\n",
              "ReLU                 [256, 1, 1]          0          False     \n",
              "______________________________________________________________________\n",
              "Conv2d               [256, 1, 1]          589,824    False     \n",
              "______________________________________________________________________\n",
              "BatchNorm2d          [256, 1, 1]          512        True      \n",
              "______________________________________________________________________\n",
              "Conv2d               [512, 1, 1]          1,179,648  False     \n",
              "______________________________________________________________________\n",
              "BatchNorm2d          [512, 1, 1]          1,024      True      \n",
              "______________________________________________________________________\n",
              "ReLU                 [512, 1, 1]          0          False     \n",
              "______________________________________________________________________\n",
              "Conv2d               [512, 1, 1]          2,359,296  False     \n",
              "______________________________________________________________________\n",
              "BatchNorm2d          [512, 1, 1]          1,024      True      \n",
              "______________________________________________________________________\n",
              "Conv2d               [512, 1, 1]          131,072    False     \n",
              "______________________________________________________________________\n",
              "BatchNorm2d          [512, 1, 1]          1,024      True      \n",
              "______________________________________________________________________\n",
              "Conv2d               [512, 1, 1]          2,359,296  False     \n",
              "______________________________________________________________________\n",
              "BatchNorm2d          [512, 1, 1]          1,024      True      \n",
              "______________________________________________________________________\n",
              "ReLU                 [512, 1, 1]          0          False     \n",
              "______________________________________________________________________\n",
              "Conv2d               [512, 1, 1]          2,359,296  False     \n",
              "______________________________________________________________________\n",
              "BatchNorm2d          [512, 1, 1]          1,024      True      \n",
              "______________________________________________________________________\n",
              "Conv2d               [512, 1, 1]          2,359,296  False     \n",
              "______________________________________________________________________\n",
              "BatchNorm2d          [512, 1, 1]          1,024      True      \n",
              "______________________________________________________________________\n",
              "ReLU                 [512, 1, 1]          0          False     \n",
              "______________________________________________________________________\n",
              "Conv2d               [512, 1, 1]          2,359,296  False     \n",
              "______________________________________________________________________\n",
              "BatchNorm2d          [512, 1, 1]          1,024      True      \n",
              "______________________________________________________________________\n",
              "AdaptiveAvgPool2d    [512, 1, 1]          0          False     \n",
              "______________________________________________________________________\n",
              "AdaptiveMaxPool2d    [512, 1, 1]          0          False     \n",
              "______________________________________________________________________\n",
              "Conv2d               [512, 1, 1]          4,718,592  True      \n",
              "______________________________________________________________________\n",
              "BatchNorm2d          [512, 1, 1]          1,024      True      \n",
              "______________________________________________________________________\n",
              "ReLU                 [512, 1, 1]          0          False     \n",
              "______________________________________________________________________\n",
              "Conv2d               [1024, 1, 1]         525,312    True      \n",
              "______________________________________________________________________\n",
              "PixelShuffle         [256, 2, 2]          0          False     \n",
              "______________________________________________________________________\n",
              "ReplicationPad2d     [256, 3, 3]          0          False     \n",
              "______________________________________________________________________\n",
              "AvgPool2d            [256, 2, 2]          0          False     \n",
              "______________________________________________________________________\n",
              "ReLU                 [1024, 1, 1]         0          False     \n",
              "______________________________________________________________________\n",
              "BatchNorm2d          [256, 2, 2]          512        True      \n",
              "______________________________________________________________________\n",
              "ReLU                 [256, 2, 2]          0          False     \n",
              "______________________________________________________________________\n",
              "Conv2d               [256, 2, 2]          589,824    True      \n",
              "______________________________________________________________________\n",
              "BatchNorm2d          [256, 2, 2]          512        True      \n",
              "______________________________________________________________________\n",
              "ReLU                 [256, 2, 2]          0          False     \n",
              "______________________________________________________________________\n",
              "Conv2d               [512, 2, 2]          131,584    True      \n",
              "______________________________________________________________________\n",
              "PixelShuffle         [128, 4, 4]          0          False     \n",
              "______________________________________________________________________\n",
              "ReplicationPad2d     [128, 5, 5]          0          False     \n",
              "______________________________________________________________________\n",
              "AvgPool2d            [128, 4, 4]          0          False     \n",
              "______________________________________________________________________\n",
              "ReLU                 [512, 2, 2]          0          False     \n",
              "______________________________________________________________________\n",
              "BatchNorm2d          [128, 4, 4]          256        True      \n",
              "______________________________________________________________________\n",
              "ReLU                 [128, 4, 4]          0          False     \n",
              "______________________________________________________________________\n",
              "Conv2d               [128, 4, 4]          147,456    True      \n",
              "______________________________________________________________________\n",
              "BatchNorm2d          [128, 4, 4]          256        True      \n",
              "______________________________________________________________________\n",
              "ReLU                 [128, 4, 4]          0          False     \n",
              "______________________________________________________________________\n",
              "Conv2d               [256, 4, 4]          33,024     True      \n",
              "______________________________________________________________________\n",
              "PixelShuffle         [64, 8, 8]           0          False     \n",
              "______________________________________________________________________\n",
              "ReplicationPad2d     [64, 9, 9]           0          False     \n",
              "______________________________________________________________________\n",
              "AvgPool2d            [64, 8, 8]           0          False     \n",
              "______________________________________________________________________\n",
              "ReLU                 [256, 4, 4]          0          False     \n",
              "______________________________________________________________________\n",
              "BatchNorm2d          [64, 8, 8]           128        True      \n",
              "______________________________________________________________________\n",
              "ReLU                 [64, 8, 8]           0          False     \n",
              "______________________________________________________________________\n",
              "Conv2d               [64, 8, 8]           36,864     True      \n",
              "______________________________________________________________________\n",
              "BatchNorm2d          [64, 8, 8]           128        True      \n",
              "______________________________________________________________________\n",
              "ReLU                 [64, 8, 8]           0          False     \n",
              "______________________________________________________________________\n",
              "Conv2d               [256, 8, 8]          16,640     True      \n",
              "______________________________________________________________________\n",
              "PixelShuffle         [64, 16, 16]         0          False     \n",
              "______________________________________________________________________\n",
              "ReplicationPad2d     [64, 17, 17]         0          False     \n",
              "______________________________________________________________________\n",
              "AvgPool2d            [64, 16, 16]         0          False     \n",
              "______________________________________________________________________\n",
              "ReLU                 [256, 8, 8]          0          False     \n",
              "______________________________________________________________________\n",
              "BatchNorm2d          [64, 16, 16]         128        True      \n",
              "______________________________________________________________________\n",
              "ReLU                 [64, 16, 16]         0          False     \n",
              "______________________________________________________________________\n",
              "Conv2d               [12, 16, 16]         780        True      \n",
              "______________________________________________________________________\n",
              "PixelShuffle         [3, 32, 32]          0          False     \n",
              "______________________________________________________________________\n",
              "ReplicationPad2d     [3, 33, 33]          0          False     \n",
              "______________________________________________________________________\n",
              "AvgPool2d            [3, 32, 32]          0          False     \n",
              "______________________________________________________________________\n",
              "ReLU                 [12, 16, 16]         0          False     \n",
              "______________________________________________________________________\n",
              "BatchNorm2d          [3, 32, 32]          6          True      \n",
              "______________________________________________________________________\n",
              "ReLU                 [3, 32, 32]          0          False     \n",
              "______________________________________________________________________\n",
              "\n",
              "Total params: 27,487,698\n",
              "Total trainable params: 6,219,666\n",
              "Total non-trainable params: 21,268,032\n",
              "Optimized with 'torch.optim.adam.Adam', betas=(0.9, 0.99)\n",
              "Using true weight decay as discussed in https://www.fast.ai/2018/07/02/adam-weight-decay/ \n",
              "Loss function : function\n",
              "======================================================================\n",
              "Callbacks functions applied "
            ]
          },
          "metadata": {
            "tags": []
          },
          "execution_count": 93
        }
      ]
    }
  ]
}