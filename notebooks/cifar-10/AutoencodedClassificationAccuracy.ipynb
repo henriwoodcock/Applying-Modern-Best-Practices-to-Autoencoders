{
  "nbformat": 4,
  "nbformat_minor": 0,
  "metadata": {
    "kernelspec": {
      "name": "python3",
      "display_name": "Python 3"
    },
    "language_info": {
      "codemirror_mode": {
        "name": "ipython",
        "version": 3
      },
      "file_extension": ".py",
      "mimetype": "text/x-python",
      "name": "python",
      "nbconvert_exporter": "python",
      "pygments_lexer": "ipython3",
      "version": "3.7.3"
    },
    "colab": {
      "name": "cifar-classification.ipynb",
      "provenance": [],
      "collapsed_sections": [
        "QlyXdoGPip28"
      ]
    },
    "accelerator": "GPU",
    "widgets": {
      "application/vnd.jupyter.widget-state+json": {
        "6b6fc13067784125b6c1e2149a061ab4": {
          "model_module": "@jupyter-widgets/controls",
          "model_name": "HBoxModel",
          "state": {
            "_view_name": "HBoxView",
            "_dom_classes": [],
            "_model_name": "HBoxModel",
            "_view_module": "@jupyter-widgets/controls",
            "_model_module_version": "1.5.0",
            "_view_count": null,
            "_view_module_version": "1.5.0",
            "box_style": "",
            "layout": "IPY_MODEL_de1dbe31385c49b2ad3fdb349583cf84",
            "_model_module": "@jupyter-widgets/controls",
            "children": [
              "IPY_MODEL_43a36e6b5c324e309790dcc0eca1911f",
              "IPY_MODEL_79f0fb47a8cc47dcaaed1038e4b7ec3b"
            ]
          }
        },
        "de1dbe31385c49b2ad3fdb349583cf84": {
          "model_module": "@jupyter-widgets/base",
          "model_name": "LayoutModel",
          "state": {
            "_view_name": "LayoutView",
            "grid_template_rows": null,
            "right": null,
            "justify_content": null,
            "_view_module": "@jupyter-widgets/base",
            "overflow": null,
            "_model_module_version": "1.2.0",
            "_view_count": null,
            "flex_flow": null,
            "width": null,
            "min_width": null,
            "border": null,
            "align_items": null,
            "bottom": null,
            "_model_module": "@jupyter-widgets/base",
            "top": null,
            "grid_column": null,
            "overflow_y": null,
            "overflow_x": null,
            "grid_auto_flow": null,
            "grid_area": null,
            "grid_template_columns": null,
            "flex": null,
            "_model_name": "LayoutModel",
            "justify_items": null,
            "grid_row": null,
            "max_height": null,
            "align_content": null,
            "visibility": null,
            "align_self": null,
            "height": null,
            "min_height": null,
            "padding": null,
            "grid_auto_rows": null,
            "grid_gap": null,
            "max_width": null,
            "order": null,
            "_view_module_version": "1.2.0",
            "grid_template_areas": null,
            "object_position": null,
            "object_fit": null,
            "grid_auto_columns": null,
            "margin": null,
            "display": null,
            "left": null
          }
        },
        "43a36e6b5c324e309790dcc0eca1911f": {
          "model_module": "@jupyter-widgets/controls",
          "model_name": "IntProgressModel",
          "state": {
            "_view_name": "ProgressView",
            "style": "IPY_MODEL_d1c7bee4632b4a9aa89b91517a4fcad3",
            "_dom_classes": [],
            "description": "100%",
            "_model_name": "IntProgressModel",
            "bar_style": "success",
            "max": 87306240,
            "_view_module": "@jupyter-widgets/controls",
            "_model_module_version": "1.5.0",
            "value": 87306240,
            "_view_count": null,
            "_view_module_version": "1.5.0",
            "orientation": "horizontal",
            "min": 0,
            "description_tooltip": null,
            "_model_module": "@jupyter-widgets/controls",
            "layout": "IPY_MODEL_7aaa003c3a9a47e9a04264f9fe8e5ef3"
          }
        },
        "79f0fb47a8cc47dcaaed1038e4b7ec3b": {
          "model_module": "@jupyter-widgets/controls",
          "model_name": "HTMLModel",
          "state": {
            "_view_name": "HTMLView",
            "style": "IPY_MODEL_b9ff26ad38da46ab9be24d4ed6301bf4",
            "_dom_classes": [],
            "description": "",
            "_model_name": "HTMLModel",
            "placeholder": "​",
            "_view_module": "@jupyter-widgets/controls",
            "_model_module_version": "1.5.0",
            "value": " 83.3M/83.3M [01:49&lt;00:00, 795kB/s]",
            "_view_count": null,
            "_view_module_version": "1.5.0",
            "description_tooltip": null,
            "_model_module": "@jupyter-widgets/controls",
            "layout": "IPY_MODEL_7c0945ab230f4f68a8fa7dc4df4c6119"
          }
        },
        "d1c7bee4632b4a9aa89b91517a4fcad3": {
          "model_module": "@jupyter-widgets/controls",
          "model_name": "ProgressStyleModel",
          "state": {
            "_view_name": "StyleView",
            "_model_name": "ProgressStyleModel",
            "description_width": "initial",
            "_view_module": "@jupyter-widgets/base",
            "_model_module_version": "1.5.0",
            "_view_count": null,
            "_view_module_version": "1.2.0",
            "bar_color": null,
            "_model_module": "@jupyter-widgets/controls"
          }
        },
        "7aaa003c3a9a47e9a04264f9fe8e5ef3": {
          "model_module": "@jupyter-widgets/base",
          "model_name": "LayoutModel",
          "state": {
            "_view_name": "LayoutView",
            "grid_template_rows": null,
            "right": null,
            "justify_content": null,
            "_view_module": "@jupyter-widgets/base",
            "overflow": null,
            "_model_module_version": "1.2.0",
            "_view_count": null,
            "flex_flow": null,
            "width": null,
            "min_width": null,
            "border": null,
            "align_items": null,
            "bottom": null,
            "_model_module": "@jupyter-widgets/base",
            "top": null,
            "grid_column": null,
            "overflow_y": null,
            "overflow_x": null,
            "grid_auto_flow": null,
            "grid_area": null,
            "grid_template_columns": null,
            "flex": null,
            "_model_name": "LayoutModel",
            "justify_items": null,
            "grid_row": null,
            "max_height": null,
            "align_content": null,
            "visibility": null,
            "align_self": null,
            "height": null,
            "min_height": null,
            "padding": null,
            "grid_auto_rows": null,
            "grid_gap": null,
            "max_width": null,
            "order": null,
            "_view_module_version": "1.2.0",
            "grid_template_areas": null,
            "object_position": null,
            "object_fit": null,
            "grid_auto_columns": null,
            "margin": null,
            "display": null,
            "left": null
          }
        },
        "b9ff26ad38da46ab9be24d4ed6301bf4": {
          "model_module": "@jupyter-widgets/controls",
          "model_name": "DescriptionStyleModel",
          "state": {
            "_view_name": "StyleView",
            "_model_name": "DescriptionStyleModel",
            "description_width": "",
            "_view_module": "@jupyter-widgets/base",
            "_model_module_version": "1.5.0",
            "_view_count": null,
            "_view_module_version": "1.2.0",
            "_model_module": "@jupyter-widgets/controls"
          }
        },
        "7c0945ab230f4f68a8fa7dc4df4c6119": {
          "model_module": "@jupyter-widgets/base",
          "model_name": "LayoutModel",
          "state": {
            "_view_name": "LayoutView",
            "grid_template_rows": null,
            "right": null,
            "justify_content": null,
            "_view_module": "@jupyter-widgets/base",
            "overflow": null,
            "_model_module_version": "1.2.0",
            "_view_count": null,
            "flex_flow": null,
            "width": null,
            "min_width": null,
            "border": null,
            "align_items": null,
            "bottom": null,
            "_model_module": "@jupyter-widgets/base",
            "top": null,
            "grid_column": null,
            "overflow_y": null,
            "overflow_x": null,
            "grid_auto_flow": null,
            "grid_area": null,
            "grid_template_columns": null,
            "flex": null,
            "_model_name": "LayoutModel",
            "justify_items": null,
            "grid_row": null,
            "max_height": null,
            "align_content": null,
            "visibility": null,
            "align_self": null,
            "height": null,
            "min_height": null,
            "padding": null,
            "grid_auto_rows": null,
            "grid_gap": null,
            "max_width": null,
            "order": null,
            "_view_module_version": "1.2.0",
            "grid_template_areas": null,
            "object_position": null,
            "object_fit": null,
            "grid_auto_columns": null,
            "margin": null,
            "display": null,
            "left": null
          }
        }
      }
    }
  },
  "cells": [
    {
      "cell_type": "code",
      "metadata": {
        "id": "tpmf8Ir2ip2v",
        "colab_type": "code",
        "colab": {}
      },
      "source": [
        "%matplotlib inline\n",
        "from fastai.vision import *\n",
        "import numpy as np\n",
        "import pandas as pd\n",
        "import os\n",
        "import matplotlib.pyplot as plt\n",
        "import os"
      ],
      "execution_count": 0,
      "outputs": []
    },
    {
      "cell_type": "code",
      "metadata": {
        "id": "YQTizd3Upndl",
        "colab_type": "code",
        "outputId": "cf0f7c9a-66ef-4d94-f96f-a79e6c09bafe",
        "colab": {
          "base_uri": "https://localhost:8080/",
          "height": 51
        }
      },
      "source": [
        "colab = True\n",
        "if colab:\n",
        "  from google.colab import drive\n",
        "  drive.mount('/content/drive', force_remount = True)\n",
        "  %cp \"/content/drive/My Drive/autoencoder-training/data.zip\" .\n",
        "  %cp \"/content/drive/My Drive/autoencoder-training/baseline-Cifar10.pt\" .\n",
        "  %cp \"/content/drive/My Drive/autoencoder-training/featureLoss-Cifar10.pt\" .\n",
        "  %cp \"/content/drive/My Drive/autoencoder-training/pixelShuffle-Cifar10.pt\" .\n",
        "  %cp \"/content/drive/My Drive/autoencoder-training/preTrained-Cifar10.pt\" .\n",
        "  %cp \"/content/drive/My Drive/autoencoder-training/preTrainednonwWeights-Cifar10.pt\" .\n",
        "  %cp \"/content/drive/My Drive/autoencoder-training/progResizing-Cifar10.pt\" .\n",
        "\n",
        "  %cp \"/content/drive/My Drive/autoencoder-training/baseline_model.py\" .\n",
        "  %cp \"/content/drive/My Drive/autoencoder-training/model_layers.py\" .\n",
        "  %cp \"/content/drive/My Drive/autoencoder-training/featureLoss_function.py\" .\n",
        "  %cp \"/content/drive/My Drive/autoencoder-training/pixelShuffle_model.py\" .\n",
        "  %cp \"/content/drive/My Drive/autoencoder-training/pretrainedModel.py\" .\n",
        "  %cp \"/content/drive/My Drive/autoencoder-training/progressiveResizing_model.py\" .\n",
        "  !unzip -q data.zip\n",
        "  image_path = \"data\"\n",
        "  import baseline_model\n",
        "  import model_layers\n",
        "  import featureLoss_function\n",
        "  import pixelShuffle_model\n",
        "  import pretrainedModel\n",
        "  import progressiveResizing_model\n",
        "else: \n",
        "  os.chdir(\"../\")\n",
        "  image_path = os.getcwd() + \"/data\""
      ],
      "execution_count": 23,
      "outputs": [
        {
          "output_type": "stream",
          "text": [
            "Mounted at /content/drive\n",
            "replace __MACOSX/data/._valid? [y]es, [n]o, [A]ll, [N]one, [r]ename: N\n"
          ],
          "name": "stdout"
        }
      ]
    },
    {
      "cell_type": "markdown",
      "metadata": {
        "id": "QC1G9EpQip20",
        "colab_type": "text"
      },
      "source": [
        "# Cifar10 Classification Accuracy\n",
        "\n",
        "This notebook is going to train a classifier on the Cifar-10 dataset and then used the previously trainined autoencoders to recreate input images. If the model can still recognise the ouput correctly then the recreated image is \"good enough\"."
      ]
    },
    {
      "cell_type": "code",
      "metadata": {
        "id": "O-LykafXip21",
        "colab_type": "code",
        "colab": {}
      },
      "source": [
        "data = ImageDataBunch.from_folder(image_path, size=32,ds_tfms=get_transforms(p_affine=0), bs = 128\n",
        "                                 ).normalize(imagenet_stats)"
      ],
      "execution_count": 0,
      "outputs": []
    },
    {
      "cell_type": "code",
      "metadata": {
        "id": "ogOr_EJmip25",
        "colab_type": "code",
        "outputId": "013725be-ab1e-4534-dd66-194ae514faf7",
        "colab": {
          "base_uri": "https://localhost:8080/",
          "height": 34
        }
      },
      "source": [
        "len(data.train_ds), len(data.valid_ds)"
      ],
      "execution_count": 6,
      "outputs": [
        {
          "output_type": "execute_result",
          "data": {
            "text/plain": [
              "(50000, 10000)"
            ]
          },
          "metadata": {
            "tags": []
          },
          "execution_count": 6
        }
      ]
    },
    {
      "cell_type": "markdown",
      "metadata": {
        "id": "QlyXdoGPip28",
        "colab_type": "text"
      },
      "source": [
        "### Training"
      ]
    },
    {
      "cell_type": "code",
      "metadata": {
        "id": "iJlk8Jdnip29",
        "colab_type": "code",
        "outputId": "44b2809e-aee8-498a-d8fd-68eb41409f5b",
        "colab": {
          "base_uri": "https://localhost:8080/",
          "height": 83,
          "referenced_widgets": [
            "6b6fc13067784125b6c1e2149a061ab4",
            "de1dbe31385c49b2ad3fdb349583cf84",
            "43a36e6b5c324e309790dcc0eca1911f",
            "79f0fb47a8cc47dcaaed1038e4b7ec3b",
            "d1c7bee4632b4a9aa89b91517a4fcad3",
            "7aaa003c3a9a47e9a04264f9fe8e5ef3",
            "b9ff26ad38da46ab9be24d4ed6301bf4",
            "7c0945ab230f4f68a8fa7dc4df4c6119"
          ]
        }
      },
      "source": [
        "learn = cnn_learner(data, models.resnet34, metrics=error_rate)"
      ],
      "execution_count": 7,
      "outputs": [
        {
          "output_type": "stream",
          "text": [
            "Downloading: \"https://download.pytorch.org/models/resnet34-333f7ec4.pth\" to /root/.cache/torch/checkpoints/resnet34-333f7ec4.pth\n"
          ],
          "name": "stderr"
        },
        {
          "output_type": "display_data",
          "data": {
            "application/vnd.jupyter.widget-view+json": {
              "model_id": "6b6fc13067784125b6c1e2149a061ab4",
              "version_minor": 0,
              "version_major": 2
            },
            "text/plain": [
              "HBox(children=(IntProgress(value=0, max=87306240), HTML(value='')))"
            ]
          },
          "metadata": {
            "tags": []
          }
        },
        {
          "output_type": "stream",
          "text": [
            "\n"
          ],
          "name": "stdout"
        }
      ]
    },
    {
      "cell_type": "code",
      "metadata": {
        "id": "MGTy--WLieUz",
        "colab_type": "code",
        "outputId": "85abc83b-da37-453d-e5fb-1201c839b82c",
        "colab": {
          "base_uri": "https://localhost:8080/",
          "height": 1000
        }
      },
      "source": [
        "learn.summary()"
      ],
      "execution_count": 8,
      "outputs": [
        {
          "output_type": "execute_result",
          "data": {
            "text/plain": [
              "Sequential\n",
              "======================================================================\n",
              "Layer (type)         Output Shape         Param #    Trainable \n",
              "======================================================================\n",
              "Conv2d               [64, 16, 16]         9,408      False     \n",
              "______________________________________________________________________\n",
              "BatchNorm2d          [64, 16, 16]         128        True      \n",
              "______________________________________________________________________\n",
              "ReLU                 [64, 16, 16]         0          False     \n",
              "______________________________________________________________________\n",
              "MaxPool2d            [64, 8, 8]           0          False     \n",
              "______________________________________________________________________\n",
              "Conv2d               [64, 8, 8]           36,864     False     \n",
              "______________________________________________________________________\n",
              "BatchNorm2d          [64, 8, 8]           128        True      \n",
              "______________________________________________________________________\n",
              "ReLU                 [64, 8, 8]           0          False     \n",
              "______________________________________________________________________\n",
              "Conv2d               [64, 8, 8]           36,864     False     \n",
              "______________________________________________________________________\n",
              "BatchNorm2d          [64, 8, 8]           128        True      \n",
              "______________________________________________________________________\n",
              "Conv2d               [64, 8, 8]           36,864     False     \n",
              "______________________________________________________________________\n",
              "BatchNorm2d          [64, 8, 8]           128        True      \n",
              "______________________________________________________________________\n",
              "ReLU                 [64, 8, 8]           0          False     \n",
              "______________________________________________________________________\n",
              "Conv2d               [64, 8, 8]           36,864     False     \n",
              "______________________________________________________________________\n",
              "BatchNorm2d          [64, 8, 8]           128        True      \n",
              "______________________________________________________________________\n",
              "Conv2d               [64, 8, 8]           36,864     False     \n",
              "______________________________________________________________________\n",
              "BatchNorm2d          [64, 8, 8]           128        True      \n",
              "______________________________________________________________________\n",
              "ReLU                 [64, 8, 8]           0          False     \n",
              "______________________________________________________________________\n",
              "Conv2d               [64, 8, 8]           36,864     False     \n",
              "______________________________________________________________________\n",
              "BatchNorm2d          [64, 8, 8]           128        True      \n",
              "______________________________________________________________________\n",
              "Conv2d               [128, 4, 4]          73,728     False     \n",
              "______________________________________________________________________\n",
              "BatchNorm2d          [128, 4, 4]          256        True      \n",
              "______________________________________________________________________\n",
              "ReLU                 [128, 4, 4]          0          False     \n",
              "______________________________________________________________________\n",
              "Conv2d               [128, 4, 4]          147,456    False     \n",
              "______________________________________________________________________\n",
              "BatchNorm2d          [128, 4, 4]          256        True      \n",
              "______________________________________________________________________\n",
              "Conv2d               [128, 4, 4]          8,192      False     \n",
              "______________________________________________________________________\n",
              "BatchNorm2d          [128, 4, 4]          256        True      \n",
              "______________________________________________________________________\n",
              "Conv2d               [128, 4, 4]          147,456    False     \n",
              "______________________________________________________________________\n",
              "BatchNorm2d          [128, 4, 4]          256        True      \n",
              "______________________________________________________________________\n",
              "ReLU                 [128, 4, 4]          0          False     \n",
              "______________________________________________________________________\n",
              "Conv2d               [128, 4, 4]          147,456    False     \n",
              "______________________________________________________________________\n",
              "BatchNorm2d          [128, 4, 4]          256        True      \n",
              "______________________________________________________________________\n",
              "Conv2d               [128, 4, 4]          147,456    False     \n",
              "______________________________________________________________________\n",
              "BatchNorm2d          [128, 4, 4]          256        True      \n",
              "______________________________________________________________________\n",
              "ReLU                 [128, 4, 4]          0          False     \n",
              "______________________________________________________________________\n",
              "Conv2d               [128, 4, 4]          147,456    False     \n",
              "______________________________________________________________________\n",
              "BatchNorm2d          [128, 4, 4]          256        True      \n",
              "______________________________________________________________________\n",
              "Conv2d               [128, 4, 4]          147,456    False     \n",
              "______________________________________________________________________\n",
              "BatchNorm2d          [128, 4, 4]          256        True      \n",
              "______________________________________________________________________\n",
              "ReLU                 [128, 4, 4]          0          False     \n",
              "______________________________________________________________________\n",
              "Conv2d               [128, 4, 4]          147,456    False     \n",
              "______________________________________________________________________\n",
              "BatchNorm2d          [128, 4, 4]          256        True      \n",
              "______________________________________________________________________\n",
              "Conv2d               [256, 2, 2]          294,912    False     \n",
              "______________________________________________________________________\n",
              "BatchNorm2d          [256, 2, 2]          512        True      \n",
              "______________________________________________________________________\n",
              "ReLU                 [256, 2, 2]          0          False     \n",
              "______________________________________________________________________\n",
              "Conv2d               [256, 2, 2]          589,824    False     \n",
              "______________________________________________________________________\n",
              "BatchNorm2d          [256, 2, 2]          512        True      \n",
              "______________________________________________________________________\n",
              "Conv2d               [256, 2, 2]          32,768     False     \n",
              "______________________________________________________________________\n",
              "BatchNorm2d          [256, 2, 2]          512        True      \n",
              "______________________________________________________________________\n",
              "Conv2d               [256, 2, 2]          589,824    False     \n",
              "______________________________________________________________________\n",
              "BatchNorm2d          [256, 2, 2]          512        True      \n",
              "______________________________________________________________________\n",
              "ReLU                 [256, 2, 2]          0          False     \n",
              "______________________________________________________________________\n",
              "Conv2d               [256, 2, 2]          589,824    False     \n",
              "______________________________________________________________________\n",
              "BatchNorm2d          [256, 2, 2]          512        True      \n",
              "______________________________________________________________________\n",
              "Conv2d               [256, 2, 2]          589,824    False     \n",
              "______________________________________________________________________\n",
              "BatchNorm2d          [256, 2, 2]          512        True      \n",
              "______________________________________________________________________\n",
              "ReLU                 [256, 2, 2]          0          False     \n",
              "______________________________________________________________________\n",
              "Conv2d               [256, 2, 2]          589,824    False     \n",
              "______________________________________________________________________\n",
              "BatchNorm2d          [256, 2, 2]          512        True      \n",
              "______________________________________________________________________\n",
              "Conv2d               [256, 2, 2]          589,824    False     \n",
              "______________________________________________________________________\n",
              "BatchNorm2d          [256, 2, 2]          512        True      \n",
              "______________________________________________________________________\n",
              "ReLU                 [256, 2, 2]          0          False     \n",
              "______________________________________________________________________\n",
              "Conv2d               [256, 2, 2]          589,824    False     \n",
              "______________________________________________________________________\n",
              "BatchNorm2d          [256, 2, 2]          512        True      \n",
              "______________________________________________________________________\n",
              "Conv2d               [256, 2, 2]          589,824    False     \n",
              "______________________________________________________________________\n",
              "BatchNorm2d          [256, 2, 2]          512        True      \n",
              "______________________________________________________________________\n",
              "ReLU                 [256, 2, 2]          0          False     \n",
              "______________________________________________________________________\n",
              "Conv2d               [256, 2, 2]          589,824    False     \n",
              "______________________________________________________________________\n",
              "BatchNorm2d          [256, 2, 2]          512        True      \n",
              "______________________________________________________________________\n",
              "Conv2d               [256, 2, 2]          589,824    False     \n",
              "______________________________________________________________________\n",
              "BatchNorm2d          [256, 2, 2]          512        True      \n",
              "______________________________________________________________________\n",
              "ReLU                 [256, 2, 2]          0          False     \n",
              "______________________________________________________________________\n",
              "Conv2d               [256, 2, 2]          589,824    False     \n",
              "______________________________________________________________________\n",
              "BatchNorm2d          [256, 2, 2]          512        True      \n",
              "______________________________________________________________________\n",
              "Conv2d               [512, 1, 1]          1,179,648  False     \n",
              "______________________________________________________________________\n",
              "BatchNorm2d          [512, 1, 1]          1,024      True      \n",
              "______________________________________________________________________\n",
              "ReLU                 [512, 1, 1]          0          False     \n",
              "______________________________________________________________________\n",
              "Conv2d               [512, 1, 1]          2,359,296  False     \n",
              "______________________________________________________________________\n",
              "BatchNorm2d          [512, 1, 1]          1,024      True      \n",
              "______________________________________________________________________\n",
              "Conv2d               [512, 1, 1]          131,072    False     \n",
              "______________________________________________________________________\n",
              "BatchNorm2d          [512, 1, 1]          1,024      True      \n",
              "______________________________________________________________________\n",
              "Conv2d               [512, 1, 1]          2,359,296  False     \n",
              "______________________________________________________________________\n",
              "BatchNorm2d          [512, 1, 1]          1,024      True      \n",
              "______________________________________________________________________\n",
              "ReLU                 [512, 1, 1]          0          False     \n",
              "______________________________________________________________________\n",
              "Conv2d               [512, 1, 1]          2,359,296  False     \n",
              "______________________________________________________________________\n",
              "BatchNorm2d          [512, 1, 1]          1,024      True      \n",
              "______________________________________________________________________\n",
              "Conv2d               [512, 1, 1]          2,359,296  False     \n",
              "______________________________________________________________________\n",
              "BatchNorm2d          [512, 1, 1]          1,024      True      \n",
              "______________________________________________________________________\n",
              "ReLU                 [512, 1, 1]          0          False     \n",
              "______________________________________________________________________\n",
              "Conv2d               [512, 1, 1]          2,359,296  False     \n",
              "______________________________________________________________________\n",
              "BatchNorm2d          [512, 1, 1]          1,024      True      \n",
              "______________________________________________________________________\n",
              "AdaptiveAvgPool2d    [512, 1, 1]          0          False     \n",
              "______________________________________________________________________\n",
              "AdaptiveMaxPool2d    [512, 1, 1]          0          False     \n",
              "______________________________________________________________________\n",
              "Flatten              [1024]               0          False     \n",
              "______________________________________________________________________\n",
              "BatchNorm1d          [1024]               2,048      True      \n",
              "______________________________________________________________________\n",
              "Dropout              [1024]               0          False     \n",
              "______________________________________________________________________\n",
              "Linear               [512]                524,800    True      \n",
              "______________________________________________________________________\n",
              "ReLU                 [512]                0          False     \n",
              "______________________________________________________________________\n",
              "BatchNorm1d          [512]                1,024      True      \n",
              "______________________________________________________________________\n",
              "Dropout              [512]                0          False     \n",
              "______________________________________________________________________\n",
              "Linear               [10]                 5,130      True      \n",
              "______________________________________________________________________\n",
              "\n",
              "Total params: 21,817,674\n",
              "Total trainable params: 550,026\n",
              "Total non-trainable params: 21,267,648\n",
              "Optimized with 'torch.optim.adam.Adam', betas=(0.9, 0.99)\n",
              "Using true weight decay as discussed in https://www.fast.ai/2018/07/02/adam-weight-decay/ \n",
              "Loss function : FlattenedLoss\n",
              "======================================================================\n",
              "Callbacks functions applied "
            ]
          },
          "metadata": {
            "tags": []
          },
          "execution_count": 8
        }
      ]
    },
    {
      "cell_type": "code",
      "metadata": {
        "id": "5fYMnWapip3A",
        "colab_type": "code",
        "outputId": "5ed9d412-5b13-46af-bbe6-ba4617c44f35",
        "colab": {
          "base_uri": "https://localhost:8080/",
          "height": 80
        }
      },
      "source": [
        "learn.fit_one_cycle(1)"
      ],
      "execution_count": 9,
      "outputs": [
        {
          "output_type": "display_data",
          "data": {
            "text/html": [
              "<table border=\"1\" class=\"dataframe\">\n",
              "  <thead>\n",
              "    <tr style=\"text-align: left;\">\n",
              "      <th>epoch</th>\n",
              "      <th>train_loss</th>\n",
              "      <th>valid_loss</th>\n",
              "      <th>error_rate</th>\n",
              "      <th>time</th>\n",
              "    </tr>\n",
              "  </thead>\n",
              "  <tbody>\n",
              "    <tr>\n",
              "      <td>0</td>\n",
              "      <td>1.548381</td>\n",
              "      <td>1.373147</td>\n",
              "      <td>0.474100</td>\n",
              "      <td>00:59</td>\n",
              "    </tr>\n",
              "  </tbody>\n",
              "</table>"
            ],
            "text/plain": [
              "<IPython.core.display.HTML object>"
            ]
          },
          "metadata": {
            "tags": []
          }
        }
      ]
    },
    {
      "cell_type": "code",
      "metadata": {
        "id": "dmA_kNvJip3F",
        "colab_type": "code",
        "outputId": "3bb40760-d773-45a4-c74f-c1fac550a6a3",
        "colab": {
          "base_uri": "https://localhost:8080/",
          "height": 112
        }
      },
      "source": [
        "learn.lr_find()"
      ],
      "execution_count": 10,
      "outputs": [
        {
          "output_type": "display_data",
          "data": {
            "text/html": [
              "\n",
              "    <div>\n",
              "        <style>\n",
              "            /* Turns off some styling */\n",
              "            progress {\n",
              "                /* gets rid of default border in Firefox and Opera. */\n",
              "                border: none;\n",
              "                /* Needs to be in here for Safari polyfill so background images work as expected. */\n",
              "                background-size: auto;\n",
              "            }\n",
              "            .progress-bar-interrupted, .progress-bar-interrupted::-webkit-progress-bar {\n",
              "                background: #F44336;\n",
              "            }\n",
              "        </style>\n",
              "      <progress value='0' class='' max='1' style='width:300px; height:20px; vertical-align: middle;'></progress>\n",
              "      0.00% [0/1 00:00<00:00]\n",
              "    </div>\n",
              "    \n",
              "<table border=\"1\" class=\"dataframe\">\n",
              "  <thead>\n",
              "    <tr style=\"text-align: left;\">\n",
              "      <th>epoch</th>\n",
              "      <th>train_loss</th>\n",
              "      <th>valid_loss</th>\n",
              "      <th>error_rate</th>\n",
              "      <th>time</th>\n",
              "    </tr>\n",
              "  </thead>\n",
              "  <tbody>\n",
              "  </tbody>\n",
              "</table><p>\n",
              "\n",
              "    <div>\n",
              "        <style>\n",
              "            /* Turns off some styling */\n",
              "            progress {\n",
              "                /* gets rid of default border in Firefox and Opera. */\n",
              "                border: none;\n",
              "                /* Needs to be in here for Safari polyfill so background images work as expected. */\n",
              "                background-size: auto;\n",
              "            }\n",
              "            .progress-bar-interrupted, .progress-bar-interrupted::-webkit-progress-bar {\n",
              "                background: #F44336;\n",
              "            }\n",
              "        </style>\n",
              "      <progress value='90' class='' max='390' style='width:300px; height:20px; vertical-align: middle;'></progress>\n",
              "      23.08% [90/390 00:12<00:40 5.4585]\n",
              "    </div>\n",
              "    "
            ],
            "text/plain": [
              "<IPython.core.display.HTML object>"
            ]
          },
          "metadata": {
            "tags": []
          }
        },
        {
          "output_type": "stream",
          "text": [
            "LR Finder is complete, type {learner_name}.recorder.plot() to see the graph.\n"
          ],
          "name": "stdout"
        }
      ]
    },
    {
      "cell_type": "code",
      "metadata": {
        "id": "Nhb1BgEzip3J",
        "colab_type": "code",
        "outputId": "09cc2c4f-1fae-4542-d662-140350ffc157",
        "colab": {
          "base_uri": "https://localhost:8080/",
          "height": 315
        }
      },
      "source": [
        "learn.recorder.plot(suggestion = True)"
      ],
      "execution_count": 11,
      "outputs": [
        {
          "output_type": "stream",
          "text": [
            "Min numerical gradient: 5.75E-06\n",
            "Min loss divided by 10: 3.31E-03\n"
          ],
          "name": "stdout"
        },
        {
          "output_type": "display_data",
          "data": {
            "image/png": "[encoded data removed]",
            "text/plain": [
              "<Figure size 432x288 with 1 Axes>"
            ]
          },
          "metadata": {
            "tags": [],
            "needs_background": "light"
          }
        }
      ]
    },
    {
      "cell_type": "code",
      "metadata": {
        "id": "_UtQdsfmip3M",
        "colab_type": "code",
        "outputId": "9895b386-e687-4621-a44b-d22df5900a09",
        "colab": {
          "base_uri": "https://localhost:8080/",
          "height": 359
        }
      },
      "source": [
        "learn.fit_one_cycle(10, max_lr = 1.74E-03)"
      ],
      "execution_count": 12,
      "outputs": [
        {
          "output_type": "display_data",
          "data": {
            "text/html": [
              "<table border=\"1\" class=\"dataframe\">\n",
              "  <thead>\n",
              "    <tr style=\"text-align: left;\">\n",
              "      <th>epoch</th>\n",
              "      <th>train_loss</th>\n",
              "      <th>valid_loss</th>\n",
              "      <th>error_rate</th>\n",
              "      <th>time</th>\n",
              "    </tr>\n",
              "  </thead>\n",
              "  <tbody>\n",
              "    <tr>\n",
              "      <td>0</td>\n",
              "      <td>1.328910</td>\n",
              "      <td>1.184034</td>\n",
              "      <td>0.414100</td>\n",
              "      <td>00:58</td>\n",
              "    </tr>\n",
              "    <tr>\n",
              "      <td>1</td>\n",
              "      <td>1.035616</td>\n",
              "      <td>0.916500</td>\n",
              "      <td>0.321600</td>\n",
              "      <td>00:58</td>\n",
              "    </tr>\n",
              "    <tr>\n",
              "      <td>2</td>\n",
              "      <td>0.879706</td>\n",
              "      <td>0.795590</td>\n",
              "      <td>0.277400</td>\n",
              "      <td>00:58</td>\n",
              "    </tr>\n",
              "    <tr>\n",
              "      <td>3</td>\n",
              "      <td>0.794513</td>\n",
              "      <td>0.732633</td>\n",
              "      <td>0.257800</td>\n",
              "      <td>00:58</td>\n",
              "    </tr>\n",
              "    <tr>\n",
              "      <td>4</td>\n",
              "      <td>0.727042</td>\n",
              "      <td>0.698843</td>\n",
              "      <td>0.246200</td>\n",
              "      <td>00:57</td>\n",
              "    </tr>\n",
              "    <tr>\n",
              "      <td>5</td>\n",
              "      <td>0.679900</td>\n",
              "      <td>0.658929</td>\n",
              "      <td>0.231900</td>\n",
              "      <td>00:57</td>\n",
              "    </tr>\n",
              "    <tr>\n",
              "      <td>6</td>\n",
              "      <td>0.650344</td>\n",
              "      <td>0.640198</td>\n",
              "      <td>0.228300</td>\n",
              "      <td>00:57</td>\n",
              "    </tr>\n",
              "    <tr>\n",
              "      <td>7</td>\n",
              "      <td>0.628336</td>\n",
              "      <td>0.624759</td>\n",
              "      <td>0.220700</td>\n",
              "      <td>00:58</td>\n",
              "    </tr>\n",
              "    <tr>\n",
              "      <td>8</td>\n",
              "      <td>0.598673</td>\n",
              "      <td>0.623662</td>\n",
              "      <td>0.220800</td>\n",
              "      <td>00:58</td>\n",
              "    </tr>\n",
              "    <tr>\n",
              "      <td>9</td>\n",
              "      <td>0.590174</td>\n",
              "      <td>0.620828</td>\n",
              "      <td>0.218500</td>\n",
              "      <td>00:58</td>\n",
              "    </tr>\n",
              "  </tbody>\n",
              "</table>"
            ],
            "text/plain": [
              "<IPython.core.display.HTML object>"
            ]
          },
          "metadata": {
            "tags": []
          }
        }
      ]
    },
    {
      "cell_type": "code",
      "metadata": {
        "id": "GQGxyDdR0m99",
        "colab_type": "code",
        "outputId": "7e28fa08-86f0-4cd5-97a8-c2cb0e6c3360",
        "colab": {
          "base_uri": "https://localhost:8080/",
          "height": 359
        }
      },
      "source": [
        "learn.unfreeze()\n",
        "learn.fit_one_cycle(10, max_lr = slice(1e-06, 1e-03))"
      ],
      "execution_count": 13,
      "outputs": [
        {
          "output_type": "display_data",
          "data": {
            "text/html": [
              "<table border=\"1\" class=\"dataframe\">\n",
              "  <thead>\n",
              "    <tr style=\"text-align: left;\">\n",
              "      <th>epoch</th>\n",
              "      <th>train_loss</th>\n",
              "      <th>valid_loss</th>\n",
              "      <th>error_rate</th>\n",
              "      <th>time</th>\n",
              "    </tr>\n",
              "  </thead>\n",
              "  <tbody>\n",
              "    <tr>\n",
              "      <td>0</td>\n",
              "      <td>0.582996</td>\n",
              "      <td>0.612214</td>\n",
              "      <td>0.214600</td>\n",
              "      <td>01:03</td>\n",
              "    </tr>\n",
              "    <tr>\n",
              "      <td>1</td>\n",
              "      <td>0.582742</td>\n",
              "      <td>0.601753</td>\n",
              "      <td>0.213000</td>\n",
              "      <td>01:02</td>\n",
              "    </tr>\n",
              "    <tr>\n",
              "      <td>2</td>\n",
              "      <td>0.563818</td>\n",
              "      <td>0.587627</td>\n",
              "      <td>0.204900</td>\n",
              "      <td>01:02</td>\n",
              "    </tr>\n",
              "    <tr>\n",
              "      <td>3</td>\n",
              "      <td>0.512999</td>\n",
              "      <td>0.564730</td>\n",
              "      <td>0.199300</td>\n",
              "      <td>01:02</td>\n",
              "    </tr>\n",
              "    <tr>\n",
              "      <td>4</td>\n",
              "      <td>0.455378</td>\n",
              "      <td>0.554185</td>\n",
              "      <td>0.190700</td>\n",
              "      <td>01:02</td>\n",
              "    </tr>\n",
              "    <tr>\n",
              "      <td>5</td>\n",
              "      <td>0.399759</td>\n",
              "      <td>0.552012</td>\n",
              "      <td>0.185700</td>\n",
              "      <td>01:03</td>\n",
              "    </tr>\n",
              "    <tr>\n",
              "      <td>6</td>\n",
              "      <td>0.345247</td>\n",
              "      <td>0.552204</td>\n",
              "      <td>0.179400</td>\n",
              "      <td>01:03</td>\n",
              "    </tr>\n",
              "    <tr>\n",
              "      <td>7</td>\n",
              "      <td>0.304994</td>\n",
              "      <td>0.558736</td>\n",
              "      <td>0.180800</td>\n",
              "      <td>01:03</td>\n",
              "    </tr>\n",
              "    <tr>\n",
              "      <td>8</td>\n",
              "      <td>0.286655</td>\n",
              "      <td>0.564755</td>\n",
              "      <td>0.182300</td>\n",
              "      <td>01:02</td>\n",
              "    </tr>\n",
              "    <tr>\n",
              "      <td>9</td>\n",
              "      <td>0.274175</td>\n",
              "      <td>0.565658</td>\n",
              "      <td>0.182100</td>\n",
              "      <td>01:02</td>\n",
              "    </tr>\n",
              "  </tbody>\n",
              "</table>"
            ],
            "text/plain": [
              "<IPython.core.display.HTML object>"
            ]
          },
          "metadata": {
            "tags": []
          }
        }
      ]
    },
    {
      "cell_type": "code",
      "metadata": {
        "id": "kKvjw87QeoC8",
        "colab_type": "code",
        "colab": {}
      },
      "source": [
        "torch.save(learn.model, \"baselineClassification.pt\")\n",
        "torch.save(learn.model, \"/content/drive/My Drive/autoencoder-training/baselineClassification.pt\")"
      ],
      "execution_count": 0,
      "outputs": []
    },
    {
      "cell_type": "markdown",
      "metadata": {
        "id": "C9Imx-gPev-r",
        "colab_type": "text"
      },
      "source": [
        "## Classification Accuracy"
      ]
    },
    {
      "cell_type": "markdown",
      "metadata": {
        "id": "bLzoSappezW8",
        "colab_type": "text"
      },
      "source": [
        "### Baseline Autoencoder"
      ]
    },
    {
      "cell_type": "code",
      "metadata": {
        "id": "t9KKmzlQeysO",
        "colab_type": "code",
        "colab": {}
      },
      "source": [
        "class baseline(nn.Module):\n",
        "    def __init__(self):\n",
        "        super(baseline, self).__init__()\n",
        "\n",
        "        self.autoencoder = torch.load(\"baseline-Cifar10.pt\")\n",
        "        self.classifier = torch.load(\"baselineClassification.pt\")\n",
        "        self.mean = torch.tensor(imagenet_stats[0]).cuda()\n",
        "        self.std = torch.tensor(imagenet_stats[1]).cuda()\n",
        "\n",
        "    def forward(self, x):\n",
        "        x = torch.clamp(self.autoencoder(x), min=0, max=1)\n",
        "        x = (x - self.mean[...,None,None])/self.std[...,None,None]\n",
        "        x = self.classifier(x)\n",
        "        return x"
      ],
      "execution_count": 0,
      "outputs": []
    },
    {
      "cell_type": "code",
      "metadata": {
        "id": "XOmGz3pAgWVu",
        "colab_type": "code",
        "colab": {}
      },
      "source": [
        "baseline_evaluation = baseline()\n",
        "learn = Learner(data, baseline_evaluation, metrics = [error_rate, accuracy])"
      ],
      "execution_count": 0,
      "outputs": []
    },
    {
      "cell_type": "code",
      "metadata": {
        "id": "BrBm08DYhYCY",
        "colab_type": "code",
        "colab": {
          "base_uri": "https://localhost:8080/",
          "height": 34
        },
        "outputId": "0e3afa2c-839a-481e-fa19-55a51e5777f3"
      },
      "source": [
        "learn.validate(learn.data.valid_dl)"
      ],
      "execution_count": 49,
      "outputs": [
        {
          "output_type": "display_data",
          "data": {
            "text/html": [
              ""
            ],
            "text/plain": [
              "<IPython.core.display.HTML object>"
            ]
          },
          "metadata": {
            "tags": []
          }
        },
        {
          "output_type": "execute_result",
          "data": {
            "text/plain": [
              "[2.2826636, tensor(0.5442), tensor(0.4558)]"
            ]
          },
          "metadata": {
            "tags": []
          },
          "execution_count": 49
        }
      ]
    },
    {
      "cell_type": "code",
      "metadata": {
        "id": "T44F4Rmfmn2v",
        "colab_type": "code",
        "colab": {
          "base_uri": "https://localhost:8080/",
          "height": 1000
        },
        "outputId": "2a0ada0c-7405-40e7-c6a4-7ab16a2f121f"
      },
      "source": [
        "learn.show_results()"
      ],
      "execution_count": 50,
      "outputs": [
        {
          "output_type": "display_data",
          "data": {
            "image/png": "[encoded data removed]",
            "text/plain": [
              "<Figure size 1440x1440 with 25 Axes>"
            ]
          },
          "metadata": {
            "tags": [],
            "needs_background": "light"
          }
        }
      ]
    },
    {
      "cell_type": "markdown",
      "metadata": {
        "id": "-GEx6QdJfPYv",
        "colab_type": "text"
      },
      "source": [
        "### FeatureLoss"
      ]
    },
    {
      "cell_type": "code",
      "metadata": {
        "id": "Kl1KXbhQfQoh",
        "colab_type": "code",
        "colab": {}
      },
      "source": [
        "class featureloss_mod(nn.Module):\n",
        "    def __init__(self):\n",
        "        super(featureloss_mod, self).__init__()\n",
        "\n",
        "        self.autoencoder = torch.load(\"featureLoss-Cifar10.pt\")\n",
        "        self.classifier = torch.load(\"baselineClassification.pt\")\n",
        "        self.mean = torch.tensor(imagenet_stats[0]).cuda()\n",
        "        self.std = torch.tensor(imagenet_stats[1]).cuda()\n",
        "\n",
        "    def forward(self, x):\n",
        "        x = torch.clamp(self.autoencoder(x), min=0, max=1)\n",
        "        x = (x - self.mean[...,None,None])/self.std[...,None,None]\n",
        "        x = self.classifier(x)\n",
        "        return x"
      ],
      "execution_count": 0,
      "outputs": []
    },
    {
      "cell_type": "code",
      "metadata": {
        "id": "GipmBjMyodHO",
        "colab_type": "code",
        "colab": {}
      },
      "source": [
        "featureloss_evaluation = featureloss_mod()\n",
        "learn = Learner(data, featureloss_evaluation, metrics = [error_rate, accuracy])"
      ],
      "execution_count": 0,
      "outputs": []
    },
    {
      "cell_type": "code",
      "metadata": {
        "id": "KvXomuMkojCa",
        "colab_type": "code",
        "colab": {
          "base_uri": "https://localhost:8080/",
          "height": 34
        },
        "outputId": "020cdb0f-2aca-43d5-fbbc-6c66b86ad2cb"
      },
      "source": [
        "learn.validate(learn.data.valid_dl)"
      ],
      "execution_count": 53,
      "outputs": [
        {
          "output_type": "display_data",
          "data": {
            "text/html": [
              ""
            ],
            "text/plain": [
              "<IPython.core.display.HTML object>"
            ]
          },
          "metadata": {
            "tags": []
          }
        },
        {
          "output_type": "execute_result",
          "data": {
            "text/plain": [
              "[1.3560061, tensor(0.3791), tensor(0.6209)]"
            ]
          },
          "metadata": {
            "tags": []
          },
          "execution_count": 53
        }
      ]
    },
    {
      "cell_type": "markdown",
      "metadata": {
        "id": "HRWY9yVCfRFB",
        "colab_type": "text"
      },
      "source": [
        "### Pretrained"
      ]
    },
    {
      "cell_type": "markdown",
      "metadata": {
        "id": "kYN9pTDifSzi",
        "colab_type": "text"
      },
      "source": [
        "#### With pretrained weights"
      ]
    },
    {
      "cell_type": "code",
      "metadata": {
        "id": "vtOv6asdfUDb",
        "colab_type": "code",
        "colab": {}
      },
      "source": [
        "class pretrained_weights(nn.Module):\n",
        "    def __init__(self):\n",
        "        super(pretrained_weights, self).__init__()\n",
        "\n",
        "        self.autoencoder = torch.load(\"preTrained-Cifar10.pt\")\n",
        "        self.classifier = torch.load(\"baselineClassification.pt\")\n",
        "        self.mean = torch.tensor(imagenet_stats[0]).cuda()\n",
        "        self.std = torch.tensor(imagenet_stats[1]).cuda()\n",
        "\n",
        "    def forward(self, x):\n",
        "        x = torch.clamp(self.autoencoder(x), min=0, max=1)\n",
        "        x = (x - self.mean[...,None,None])/self.std[...,None,None]\n",
        "        x = self.classifier(x)\n",
        "        return x"
      ],
      "execution_count": 0,
      "outputs": []
    },
    {
      "cell_type": "code",
      "metadata": {
        "id": "eR2vtdbNoz4F",
        "colab_type": "code",
        "colab": {}
      },
      "source": [
        "pretrained_weights_eval = pretrained_weights()\n",
        "learn = Learner(data, pretrained_weights_eval, metrics = [error_rate, accuracy])"
      ],
      "execution_count": 0,
      "outputs": []
    },
    {
      "cell_type": "code",
      "metadata": {
        "id": "u0V3LViYo5mU",
        "colab_type": "code",
        "colab": {
          "base_uri": "https://localhost:8080/",
          "height": 34
        },
        "outputId": "c5cbc709-1306-488b-d59d-9272d7b7387b"
      },
      "source": [
        "learn.validate(learn.data.valid_dl)"
      ],
      "execution_count": 56,
      "outputs": [
        {
          "output_type": "display_data",
          "data": {
            "text/html": [
              ""
            ],
            "text/plain": [
              "<IPython.core.display.HTML object>"
            ]
          },
          "metadata": {
            "tags": []
          }
        },
        {
          "output_type": "execute_result",
          "data": {
            "text/plain": [
              "[3.9641206, tensor(0.7667), tensor(0.2333)]"
            ]
          },
          "metadata": {
            "tags": []
          },
          "execution_count": 56
        }
      ]
    },
    {
      "cell_type": "markdown",
      "metadata": {
        "id": "Ggh_IE1GfUZ_",
        "colab_type": "text"
      },
      "source": [
        "#### With weights trained from scratch"
      ]
    },
    {
      "cell_type": "code",
      "metadata": {
        "id": "yZcUgjUYfcJ3",
        "colab_type": "code",
        "colab": {}
      },
      "source": [
        "class resnet_model(nn.Module):\n",
        "    def __init__(self):\n",
        "        super(resnet_model, self).__init__()\n",
        "\n",
        "        self.autoencoder = torch.load(\"preTrainednonwWeights-Cifar10.pt\")\n",
        "        self.classifier = torch.load(\"baselineClassification.pt\")\n",
        "        self.mean = torch.tensor(imagenet_stats[0]).cuda()\n",
        "        self.std = torch.tensor(imagenet_stats[1]).cuda()\n",
        "\n",
        "    def forward(self, x):\n",
        "        x = torch.clamp(self.autoencoder(x), min=0, max=1)\n",
        "        x = (x - self.mean[...,None,None])/self.std[...,None,None]\n",
        "        x = self.classifier(x)\n",
        "        return x"
      ],
      "execution_count": 0,
      "outputs": []
    },
    {
      "cell_type": "code",
      "metadata": {
        "id": "PxeAmm5apIeG",
        "colab_type": "code",
        "colab": {}
      },
      "source": [
        "resnet_eval = resnet_model()\n",
        "learn = Learner(data, resnet_eval, metrics = [error_rate, accuracy])"
      ],
      "execution_count": 0,
      "outputs": []
    },
    {
      "cell_type": "code",
      "metadata": {
        "id": "5bs27UoRpOrS",
        "colab_type": "code",
        "colab": {
          "base_uri": "https://localhost:8080/",
          "height": 34
        },
        "outputId": "2f9629c5-0c4f-44a8-b983-9f82bed5297b"
      },
      "source": [
        "learn.validate(learn.data.valid_dl)"
      ],
      "execution_count": 59,
      "outputs": [
        {
          "output_type": "display_data",
          "data": {
            "text/html": [
              ""
            ],
            "text/plain": [
              "<IPython.core.display.HTML object>"
            ]
          },
          "metadata": {
            "tags": []
          }
        },
        {
          "output_type": "execute_result",
          "data": {
            "text/plain": [
              "[4.2761784, tensor(0.7764), tensor(0.2236)]"
            ]
          },
          "metadata": {
            "tags": []
          },
          "execution_count": 59
        }
      ]
    },
    {
      "cell_type": "markdown",
      "metadata": {
        "id": "opapWGHLfeGQ",
        "colab_type": "text"
      },
      "source": [
        "### Pixel Shuffle"
      ]
    },
    {
      "cell_type": "code",
      "metadata": {
        "id": "1y1LJJpZfg4r",
        "colab_type": "code",
        "colab": {}
      },
      "source": [
        "class pixelShuffle_model(nn.Module):\n",
        "    def __init__(self):\n",
        "        super(pixelShuffle_model, self).__init__()\n",
        "\n",
        "        self.autoencoder = torch.load(\"pixelShuffle-Cifar10.pt\")\n",
        "        self.classifier = torch.load(\"baselineClassification.pt\")\n",
        "        self.mean = torch.tensor(imagenet_stats[0]).cuda()\n",
        "        self.std = torch.tensor(imagenet_stats[1]).cuda()\n",
        "\n",
        "    def forward(self, x):\n",
        "        x = torch.clamp(self.autoencoder(x), min=0, max=1)\n",
        "        x = (x - self.mean[...,None,None])/self.std[...,None,None]\n",
        "        x = self.classifier(x)\n",
        "        return x"
      ],
      "execution_count": 0,
      "outputs": []
    },
    {
      "cell_type": "code",
      "metadata": {
        "id": "VpIw_mgkpZf9",
        "colab_type": "code",
        "colab": {}
      },
      "source": [
        "pixelShuffle_eval = pixelShuffle_model()\n",
        "learn = Learner(data, pixelShuffle_eval, metrics = [error_rate, accuracy])"
      ],
      "execution_count": 0,
      "outputs": []
    },
    {
      "cell_type": "code",
      "metadata": {
        "id": "Micod5x-pfyx",
        "colab_type": "code",
        "colab": {
          "base_uri": "https://localhost:8080/",
          "height": 34
        },
        "outputId": "dbb87d2f-90b4-4f1f-a854-f272ac184a66"
      },
      "source": [
        "learn.validate(learn.data.valid_dl)"
      ],
      "execution_count": 62,
      "outputs": [
        {
          "output_type": "display_data",
          "data": {
            "text/html": [
              ""
            ],
            "text/plain": [
              "<IPython.core.display.HTML object>"
            ]
          },
          "metadata": {
            "tags": []
          }
        },
        {
          "output_type": "execute_result",
          "data": {
            "text/plain": [
              "[2.1444964, tensor(0.5241), tensor(0.4759)]"
            ]
          },
          "metadata": {
            "tags": []
          },
          "execution_count": 62
        }
      ]
    },
    {
      "cell_type": "markdown",
      "metadata": {
        "id": "vfbhpqbSpiEl",
        "colab_type": "text"
      },
      "source": [
        "### Progressive Resizing"
      ]
    },
    {
      "cell_type": "code",
      "metadata": {
        "id": "4Dp8GDtVphSv",
        "colab_type": "code",
        "colab": {}
      },
      "source": [
        "class progResize_model(nn.Module):\n",
        "    def __init__(self):\n",
        "        super(progResize_model, self).__init__()\n",
        "\n",
        "        self.autoencoder = torch.load(\"progResizing-Cifar10.pt\")\n",
        "        self.classifier = torch.load(\"baselineClassification.pt\")\n",
        "        self.mean = torch.tensor(imagenet_stats[0]).cuda()\n",
        "        self.std = torch.tensor(imagenet_stats[1]).cuda()\n",
        "\n",
        "    def forward(self, x):\n",
        "        x = torch.clamp(self.autoencoder(x), min=0, max=1)\n",
        "        x = (x - self.mean[...,None,None])/self.std[...,None,None]\n",
        "        x = self.classifier(x)\n",
        "        return x"
      ],
      "execution_count": 0,
      "outputs": []
    },
    {
      "cell_type": "code",
      "metadata": {
        "id": "jLM_RjSPpros",
        "colab_type": "code",
        "colab": {}
      },
      "source": [
        "progResize_eval = progResize_model()\n",
        "learn = Learner(data, progResize_eval, metrics = [error_rate, accuracy])"
      ],
      "execution_count": 0,
      "outputs": []
    },
    {
      "cell_type": "code",
      "metadata": {
        "id": "WbH00cUrpxZN",
        "colab_type": "code",
        "colab": {
          "base_uri": "https://localhost:8080/",
          "height": 34
        },
        "outputId": "82009b5b-254e-41ab-c22d-6f4dc2e9cf8b"
      },
      "source": [
        "learn.validate(learn.data.valid_dl)"
      ],
      "execution_count": 66,
      "outputs": [
        {
          "output_type": "display_data",
          "data": {
            "text/html": [
              ""
            ],
            "text/plain": [
              "<IPython.core.display.HTML object>"
            ]
          },
          "metadata": {
            "tags": []
          }
        },
        {
          "output_type": "execute_result",
          "data": {
            "text/plain": [
              "[2.2437873, tensor(0.5392), tensor(0.4608)]"
            ]
          },
          "metadata": {
            "tags": []
          },
          "execution_count": 66
        }
      ]
    }
  ]
}