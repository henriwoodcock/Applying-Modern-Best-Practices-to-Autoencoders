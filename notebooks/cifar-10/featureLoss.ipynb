{
  "nbformat": 4,
  "nbformat_minor": 0,
  "metadata": {
    "colab": {
      "name": "featureLoss.ipynb",
      "provenance": [],
      "collapsed_sections": []
    },
    "kernelspec": {
      "name": "python3",
      "display_name": "Python 3"
    },
    "accelerator": "GPU",
    "widgets": {
      "application/vnd.jupyter.widget-state+json": {
        "a6ae2284a40543ccb6980fcb62f57c6c": {
          "model_module": "@jupyter-widgets/controls",
          "model_name": "HBoxModel",
          "state": {
            "_view_name": "HBoxView",
            "_dom_classes": [],
            "_model_name": "HBoxModel",
            "_view_module": "@jupyter-widgets/controls",
            "_model_module_version": "1.5.0",
            "_view_count": null,
            "_view_module_version": "1.5.0",
            "box_style": "",
            "layout": "IPY_MODEL_531b7d0dcbef4356a7fe169bfac489af",
            "_model_module": "@jupyter-widgets/controls",
            "children": [
              "IPY_MODEL_dfe96b8b15a5436c84fd88b4e92f3d71",
              "IPY_MODEL_4210af28463f431981c46edb1564928d"
            ]
          }
        },
        "531b7d0dcbef4356a7fe169bfac489af": {
          "model_module": "@jupyter-widgets/base",
          "model_name": "LayoutModel",
          "state": {
            "_view_name": "LayoutView",
            "grid_template_rows": null,
            "right": null,
            "justify_content": null,
            "_view_module": "@jupyter-widgets/base",
            "overflow": null,
            "_model_module_version": "1.2.0",
            "_view_count": null,
            "flex_flow": null,
            "width": null,
            "min_width": null,
            "border": null,
            "align_items": null,
            "bottom": null,
            "_model_module": "@jupyter-widgets/base",
            "top": null,
            "grid_column": null,
            "overflow_y": null,
            "overflow_x": null,
            "grid_auto_flow": null,
            "grid_area": null,
            "grid_template_columns": null,
            "flex": null,
            "_model_name": "LayoutModel",
            "justify_items": null,
            "grid_row": null,
            "max_height": null,
            "align_content": null,
            "visibility": null,
            "align_self": null,
            "height": null,
            "min_height": null,
            "padding": null,
            "grid_auto_rows": null,
            "grid_gap": null,
            "max_width": null,
            "order": null,
            "_view_module_version": "1.2.0",
            "grid_template_areas": null,
            "object_position": null,
            "object_fit": null,
            "grid_auto_columns": null,
            "margin": null,
            "display": null,
            "left": null
          }
        },
        "dfe96b8b15a5436c84fd88b4e92f3d71": {
          "model_module": "@jupyter-widgets/controls",
          "model_name": "IntProgressModel",
          "state": {
            "_view_name": "ProgressView",
            "style": "IPY_MODEL_cc96de09beed431890cd6645fc6f704e",
            "_dom_classes": [],
            "description": "100%",
            "_model_name": "IntProgressModel",
            "bar_style": "success",
            "max": 553507836,
            "_view_module": "@jupyter-widgets/controls",
            "_model_module_version": "1.5.0",
            "value": 553507836,
            "_view_count": null,
            "_view_module_version": "1.5.0",
            "orientation": "horizontal",
            "min": 0,
            "description_tooltip": null,
            "_model_module": "@jupyter-widgets/controls",
            "layout": "IPY_MODEL_c717da20d72e4152b90d6b611d2ff1ef"
          }
        },
        "4210af28463f431981c46edb1564928d": {
          "model_module": "@jupyter-widgets/controls",
          "model_name": "HTMLModel",
          "state": {
            "_view_name": "HTMLView",
            "style": "IPY_MODEL_d6f9881bd28c4412afecd6dad70fa165",
            "_dom_classes": [],
            "description": "",
            "_model_name": "HTMLModel",
            "placeholder": "​",
            "_view_module": "@jupyter-widgets/controls",
            "_model_module_version": "1.5.0",
            "value": " 528M/528M [00:39&lt;00:00, 14.0MB/s]",
            "_view_count": null,
            "_view_module_version": "1.5.0",
            "description_tooltip": null,
            "_model_module": "@jupyter-widgets/controls",
            "layout": "IPY_MODEL_cb920dd1325141c7ab346feb43604951"
          }
        },
        "cc96de09beed431890cd6645fc6f704e": {
          "model_module": "@jupyter-widgets/controls",
          "model_name": "ProgressStyleModel",
          "state": {
            "_view_name": "StyleView",
            "_model_name": "ProgressStyleModel",
            "description_width": "initial",
            "_view_module": "@jupyter-widgets/base",
            "_model_module_version": "1.5.0",
            "_view_count": null,
            "_view_module_version": "1.2.0",
            "bar_color": null,
            "_model_module": "@jupyter-widgets/controls"
          }
        },
        "c717da20d72e4152b90d6b611d2ff1ef": {
          "model_module": "@jupyter-widgets/base",
          "model_name": "LayoutModel",
          "state": {
            "_view_name": "LayoutView",
            "grid_template_rows": null,
            "right": null,
            "justify_content": null,
            "_view_module": "@jupyter-widgets/base",
            "overflow": null,
            "_model_module_version": "1.2.0",
            "_view_count": null,
            "flex_flow": null,
            "width": null,
            "min_width": null,
            "border": null,
            "align_items": null,
            "bottom": null,
            "_model_module": "@jupyter-widgets/base",
            "top": null,
            "grid_column": null,
            "overflow_y": null,
            "overflow_x": null,
            "grid_auto_flow": null,
            "grid_area": null,
            "grid_template_columns": null,
            "flex": null,
            "_model_name": "LayoutModel",
            "justify_items": null,
            "grid_row": null,
            "max_height": null,
            "align_content": null,
            "visibility": null,
            "align_self": null,
            "height": null,
            "min_height": null,
            "padding": null,
            "grid_auto_rows": null,
            "grid_gap": null,
            "max_width": null,
            "order": null,
            "_view_module_version": "1.2.0",
            "grid_template_areas": null,
            "object_position": null,
            "object_fit": null,
            "grid_auto_columns": null,
            "margin": null,
            "display": null,
            "left": null
          }
        },
        "d6f9881bd28c4412afecd6dad70fa165": {
          "model_module": "@jupyter-widgets/controls",
          "model_name": "DescriptionStyleModel",
          "state": {
            "_view_name": "StyleView",
            "_model_name": "DescriptionStyleModel",
            "description_width": "",
            "_view_module": "@jupyter-widgets/base",
            "_model_module_version": "1.5.0",
            "_view_count": null,
            "_view_module_version": "1.2.0",
            "_model_module": "@jupyter-widgets/controls"
          }
        },
        "cb920dd1325141c7ab346feb43604951": {
          "model_module": "@jupyter-widgets/base",
          "model_name": "LayoutModel",
          "state": {
            "_view_name": "LayoutView",
            "grid_template_rows": null,
            "right": null,
            "justify_content": null,
            "_view_module": "@jupyter-widgets/base",
            "overflow": null,
            "_model_module_version": "1.2.0",
            "_view_count": null,
            "flex_flow": null,
            "width": null,
            "min_width": null,
            "border": null,
            "align_items": null,
            "bottom": null,
            "_model_module": "@jupyter-widgets/base",
            "top": null,
            "grid_column": null,
            "overflow_y": null,
            "overflow_x": null,
            "grid_auto_flow": null,
            "grid_area": null,
            "grid_template_columns": null,
            "flex": null,
            "_model_name": "LayoutModel",
            "justify_items": null,
            "grid_row": null,
            "max_height": null,
            "align_content": null,
            "visibility": null,
            "align_self": null,
            "height": null,
            "min_height": null,
            "padding": null,
            "grid_auto_rows": null,
            "grid_gap": null,
            "max_width": null,
            "order": null,
            "_view_module_version": "1.2.0",
            "grid_template_areas": null,
            "object_position": null,
            "object_fit": null,
            "grid_auto_columns": null,
            "margin": null,
            "display": null,
            "left": null
          }
        }
      }
    }
  },
  "cells": [
    {
      "cell_type": "markdown",
      "metadata": {
        "id": "wETk4PfuQvAl",
        "colab_type": "text"
      },
      "source": [
        "# Feature Loss\n",
        "\n",
        "This is the notebook for the feature loss training technique."
      ]
    },
    {
      "cell_type": "markdown",
      "metadata": {
        "id": "GID6fnuMQ8JW",
        "colab_type": "text"
      },
      "source": [
        "## Imports"
      ]
    },
    {
      "cell_type": "code",
      "metadata": {
        "id": "WTTiSrZgQf8f",
        "colab_type": "code",
        "colab": {}
      },
      "source": [
        "from fastai import *\n",
        "from fastai.tabular import *\n",
        "import pandas as pd\n",
        "from torchsummary import summary\n",
        "import torch\n",
        "from torch import nn\n",
        "import imageio\n",
        "import torch\n",
        "import glob\n",
        "from fastai.vision import *\n",
        "import os\n",
        "from torch import nn\n",
        "import torch.nn.functional as F"
      ],
      "execution_count": 0,
      "outputs": []
    },
    {
      "cell_type": "markdown",
      "metadata": {
        "id": "HTC6bF3AQ9pu",
        "colab_type": "text"
      },
      "source": [
        "## Data"
      ]
    },
    {
      "cell_type": "code",
      "metadata": {
        "id": "0LK31ZwiQ7Cl",
        "colab_type": "code",
        "colab": {
          "base_uri": "https://localhost:8080/",
          "height": 122
        },
        "outputId": "67057e1b-9224-4dd6-d596-b82d736a26b6"
      },
      "source": [
        "colab = True\n",
        "if colab:\n",
        "  from google.colab import drive\n",
        "  drive.mount('/content/drive', force_remount = True)\n",
        "  %cp \"/content/drive/My Drive/autoencoder-training/data.zip\" .\n",
        "  !unzip -q data.zip\n",
        "  image_path = \"data\"\n",
        "  %cp \"/content/drive/My Drive/autoencoder-training/model_layers.py\" .\n",
        "  %cp \"/content/drive/My Drive/autoencoder-training/baseline_model.py\" .\n",
        "  import baseline_model\n",
        "else: \n",
        "  os.chdir(\"../\")\n",
        "  image_path = os.getcwd() + \"/data\"\n",
        "  from resnet_autoencoder_training import baseline_model"
      ],
      "execution_count": 2,
      "outputs": [
        {
          "output_type": "stream",
          "text": [
            "Go to this URL in a browser: https://accounts.google.com/o/oauth2/auth?client_id=947318989803-6bn6qk8qdgf4n4g3pfee6491hc0brc4i.apps.googleusercontent.com&redirect_uri=urn%3aietf%3awg%3aoauth%3a2.0%3aoob&response_type=code&scope=email%20https%3a%2f%2fwww.googleapis.com%2fauth%2fdocs.test%20https%3a%2f%2fwww.googleapis.com%2fauth%2fdrive%20https%3a%2f%2fwww.googleapis.com%2fauth%2fdrive.photos.readonly%20https%3a%2f%2fwww.googleapis.com%2fauth%2fpeopleapi.readonly\n",
            "\n",
            "Enter your authorization code:\n",
            "··········\n",
            "Mounted at /content/drive\n"
          ],
          "name": "stdout"
        }
      ]
    },
    {
      "cell_type": "code",
      "metadata": {
        "id": "prfmZ1P3RA52",
        "colab_type": "code",
        "colab": {}
      },
      "source": [
        "np.random.seed(3333)\n",
        "torch.manual_seed(3333)\n",
        "\n",
        "size = 32\n",
        "batchsize = 128\n",
        "\n",
        "#tfms = get_transforms(do_flip = True)\n",
        "tfms = get_transforms(do_flip=True, flip_vert=True, max_rotate=10, max_zoom=1.1, max_lighting=0.2, max_warp=0.2, p_affine=0, \n",
        "                      p_lighting=0.75)\n",
        "src = (ImageImageList.from_folder(image_path).use_partial_data(0.1).split_by_folder().label_from_func(lambda x: x))\n",
        "data = (src.transform(tfms, size=size, tfm_y=True)\n",
        "        .databunch(bs=batchsize)\n",
        "        .normalize(imagenet_stats, do_y = False))"
      ],
      "execution_count": 0,
      "outputs": []
    },
    {
      "cell_type": "markdown",
      "metadata": {
        "id": "LtcuwYuaROe4",
        "colab_type": "text"
      },
      "source": [
        "## Model"
      ]
    },
    {
      "cell_type": "code",
      "metadata": {
        "id": "OGo_56h3RLRO",
        "colab_type": "code",
        "colab": {}
      },
      "source": [
        "autoencoder = baseline_model.autoencoder()"
      ],
      "execution_count": 0,
      "outputs": []
    },
    {
      "cell_type": "code",
      "metadata": {
        "id": "jUe_WTa7RVTP",
        "colab_type": "code",
        "colab": {
          "base_uri": "https://localhost:8080/",
          "height": 83,
          "referenced_widgets": [
            "a6ae2284a40543ccb6980fcb62f57c6c",
            "531b7d0dcbef4356a7fe169bfac489af",
            "dfe96b8b15a5436c84fd88b4e92f3d71",
            "4210af28463f431981c46edb1564928d",
            "cc96de09beed431890cd6645fc6f704e",
            "c717da20d72e4152b90d6b611d2ff1ef",
            "d6f9881bd28c4412afecd6dad70fa165",
            "cb920dd1325141c7ab346feb43604951"
          ]
        },
        "outputId": "c54fae15-0bde-41f4-d1ee-c989255a785f"
      },
      "source": [
        "def gram_matrix(x):\n",
        "    n,c,h,w = x.size()\n",
        "    x = x.view(n, c, -1)\n",
        "    return (x @ x.transpose(1,2))/(c*h*w)\n",
        "\n",
        "from torchvision.models import vgg16_bn\n",
        "vgg_m = vgg16_bn(True).features.cuda().eval()\n",
        "\n",
        "requires_grad(vgg_m, False)\n",
        "blocks = [i-1 for i,o in enumerate(children(vgg_m)) if isinstance(o,nn.MaxPool2d)]\n",
        "\n",
        "from fastai.callbacks import *\n",
        "from fastai.utils.mem import *\n",
        "\n",
        "base_loss = F.mse_loss\n",
        "\n",
        "class FeatureLoss(nn.Module):\n",
        "    def __init__(self, m_feat, layer_ids, layer_wgts):\n",
        "        super().__init__()\n",
        "        self.m_feat = m_feat\n",
        "        self.loss_features = [self.m_feat[i] for i in layer_ids]\n",
        "        self.hooks = hook_outputs(self.loss_features, detach=False)\n",
        "        self.wgts = layer_wgts\n",
        "        self.metric_names = ['pixel',] + [f'feat_{i}' for i in range(len(layer_ids))\n",
        "              ] + [f'gram_{i}' for i in range(len(layer_ids))]\n",
        "\n",
        "    def make_features(self, x, clone=False):\n",
        "        self.m_feat(x)\n",
        "        return [(o.clone() if clone else o) for o in self.hooks.stored]\n",
        "    \n",
        "    def forward(self, input, target):\n",
        "        out_feat = self.make_features(target, clone=True)\n",
        "        in_feat = self.make_features(input)\n",
        "        self.feat_losses = [base_loss(input,target)]\n",
        "        self.feat_losses += [base_loss(f_in, f_out)*w\n",
        "                             for f_in, f_out, w in zip(in_feat, out_feat, self.wgts)]\n",
        "        self.feat_losses += [base_loss(gram_matrix(f_in), gram_matrix(f_out))*w**2 * 5e3\n",
        "                             for f_in, f_out, w in zip(in_feat, out_feat, self.wgts)]\n",
        "        self.metrics = dict(zip(self.metric_names, self.feat_losses))\n",
        "        return sum(self.feat_losses)\n",
        "    \n",
        "    def __del__(self): self.hooks.remove()"
      ],
      "execution_count": 7,
      "outputs": [
        {
          "output_type": "stream",
          "text": [
            "Downloading: \"https://download.pytorch.org/models/vgg16_bn-6c64b313.pth\" to /root/.cache/torch/checkpoints/vgg16_bn-6c64b313.pth\n"
          ],
          "name": "stderr"
        },
        {
          "output_type": "display_data",
          "data": {
            "application/vnd.jupyter.widget-view+json": {
              "model_id": "a6ae2284a40543ccb6980fcb62f57c6c",
              "version_minor": 0,
              "version_major": 2
            },
            "text/plain": [
              "HBox(children=(IntProgress(value=0, max=553507836), HTML(value='')))"
            ]
          },
          "metadata": {
            "tags": []
          }
        },
        {
          "output_type": "stream",
          "text": [
            "\n"
          ],
          "name": "stdout"
        }
      ]
    },
    {
      "cell_type": "code",
      "metadata": {
        "id": "ZhU6XZVVRspD",
        "colab_type": "code",
        "colab": {}
      },
      "source": [
        "feat_loss = FeatureLoss(vgg_m, blocks[2:5], [5,15,2])"
      ],
      "execution_count": 0,
      "outputs": []
    },
    {
      "cell_type": "code",
      "metadata": {
        "id": "XCZ-dHjPRyqB",
        "colab_type": "code",
        "colab": {}
      },
      "source": [
        "learn = Learner(data, autoencoder, loss_func = feat_loss, metrics = [mean_squared_error, mean_absolute_error])"
      ],
      "execution_count": 0,
      "outputs": []
    },
    {
      "cell_type": "code",
      "metadata": {
        "id": "22ubW2h8R_Hj",
        "colab_type": "code",
        "colab": {
          "base_uri": "https://localhost:8080/",
          "height": 669
        },
        "outputId": "7c6642ff-209e-4e9c-cd25-8accea9784c5"
      },
      "source": [
        "learn.fit_one_cycle(20)"
      ],
      "execution_count": 10,
      "outputs": [
        {
          "output_type": "display_data",
          "data": {
            "text/html": [
              "<table border=\"1\" class=\"dataframe\">\n",
              "  <thead>\n",
              "    <tr style=\"text-align: left;\">\n",
              "      <th>epoch</th>\n",
              "      <th>train_loss</th>\n",
              "      <th>valid_loss</th>\n",
              "      <th>mean_squared_error</th>\n",
              "      <th>mean_absolute_error</th>\n",
              "      <th>time</th>\n",
              "    </tr>\n",
              "  </thead>\n",
              "  <tbody>\n",
              "    <tr>\n",
              "      <td>0</td>\n",
              "      <td>0.549746</td>\n",
              "      <td>0.529848</td>\n",
              "      <td>0.142619</td>\n",
              "      <td>0.301688</td>\n",
              "      <td>00:15</td>\n",
              "    </tr>\n",
              "    <tr>\n",
              "      <td>1</td>\n",
              "      <td>0.476219</td>\n",
              "      <td>0.460359</td>\n",
              "      <td>0.098031</td>\n",
              "      <td>0.246867</td>\n",
              "      <td>00:15</td>\n",
              "    </tr>\n",
              "    <tr>\n",
              "      <td>2</td>\n",
              "      <td>0.432242</td>\n",
              "      <td>0.417909</td>\n",
              "      <td>0.067444</td>\n",
              "      <td>0.204082</td>\n",
              "      <td>00:15</td>\n",
              "    </tr>\n",
              "    <tr>\n",
              "      <td>3</td>\n",
              "      <td>0.400028</td>\n",
              "      <td>0.395583</td>\n",
              "      <td>0.051213</td>\n",
              "      <td>0.176331</td>\n",
              "      <td>00:15</td>\n",
              "    </tr>\n",
              "    <tr>\n",
              "      <td>4</td>\n",
              "      <td>0.374044</td>\n",
              "      <td>0.374967</td>\n",
              "      <td>0.040584</td>\n",
              "      <td>0.153790</td>\n",
              "      <td>00:15</td>\n",
              "    </tr>\n",
              "    <tr>\n",
              "      <td>5</td>\n",
              "      <td>0.352332</td>\n",
              "      <td>0.361496</td>\n",
              "      <td>0.035563</td>\n",
              "      <td>0.143626</td>\n",
              "      <td>00:15</td>\n",
              "    </tr>\n",
              "    <tr>\n",
              "      <td>6</td>\n",
              "      <td>0.334378</td>\n",
              "      <td>0.348797</td>\n",
              "      <td>0.031491</td>\n",
              "      <td>0.136088</td>\n",
              "      <td>00:15</td>\n",
              "    </tr>\n",
              "    <tr>\n",
              "      <td>7</td>\n",
              "      <td>0.319095</td>\n",
              "      <td>0.332366</td>\n",
              "      <td>0.026612</td>\n",
              "      <td>0.127188</td>\n",
              "      <td>00:15</td>\n",
              "    </tr>\n",
              "    <tr>\n",
              "      <td>8</td>\n",
              "      <td>0.306653</td>\n",
              "      <td>0.323508</td>\n",
              "      <td>0.024664</td>\n",
              "      <td>0.119753</td>\n",
              "      <td>00:15</td>\n",
              "    </tr>\n",
              "    <tr>\n",
              "      <td>9</td>\n",
              "      <td>0.296254</td>\n",
              "      <td>0.319921</td>\n",
              "      <td>0.024458</td>\n",
              "      <td>0.119274</td>\n",
              "      <td>00:15</td>\n",
              "    </tr>\n",
              "    <tr>\n",
              "      <td>10</td>\n",
              "      <td>0.288232</td>\n",
              "      <td>0.315988</td>\n",
              "      <td>0.023768</td>\n",
              "      <td>0.117410</td>\n",
              "      <td>00:15</td>\n",
              "    </tr>\n",
              "    <tr>\n",
              "      <td>11</td>\n",
              "      <td>0.280402</td>\n",
              "      <td>0.307834</td>\n",
              "      <td>0.022217</td>\n",
              "      <td>0.113102</td>\n",
              "      <td>00:15</td>\n",
              "    </tr>\n",
              "    <tr>\n",
              "      <td>12</td>\n",
              "      <td>0.273508</td>\n",
              "      <td>0.303036</td>\n",
              "      <td>0.022092</td>\n",
              "      <td>0.112567</td>\n",
              "      <td>00:15</td>\n",
              "    </tr>\n",
              "    <tr>\n",
              "      <td>13</td>\n",
              "      <td>0.268822</td>\n",
              "      <td>0.303447</td>\n",
              "      <td>0.023707</td>\n",
              "      <td>0.116960</td>\n",
              "      <td>00:15</td>\n",
              "    </tr>\n",
              "    <tr>\n",
              "      <td>14</td>\n",
              "      <td>0.262886</td>\n",
              "      <td>0.293209</td>\n",
              "      <td>0.021327</td>\n",
              "      <td>0.110040</td>\n",
              "      <td>00:15</td>\n",
              "    </tr>\n",
              "    <tr>\n",
              "      <td>15</td>\n",
              "      <td>0.255848</td>\n",
              "      <td>0.291608</td>\n",
              "      <td>0.020742</td>\n",
              "      <td>0.108339</td>\n",
              "      <td>00:15</td>\n",
              "    </tr>\n",
              "    <tr>\n",
              "      <td>16</td>\n",
              "      <td>0.250850</td>\n",
              "      <td>0.287137</td>\n",
              "      <td>0.020421</td>\n",
              "      <td>0.107558</td>\n",
              "      <td>00:15</td>\n",
              "    </tr>\n",
              "    <tr>\n",
              "      <td>17</td>\n",
              "      <td>0.246543</td>\n",
              "      <td>0.285350</td>\n",
              "      <td>0.020195</td>\n",
              "      <td>0.106939</td>\n",
              "      <td>00:14</td>\n",
              "    </tr>\n",
              "    <tr>\n",
              "      <td>18</td>\n",
              "      <td>0.243959</td>\n",
              "      <td>0.284223</td>\n",
              "      <td>0.020037</td>\n",
              "      <td>0.106357</td>\n",
              "      <td>00:15</td>\n",
              "    </tr>\n",
              "    <tr>\n",
              "      <td>19</td>\n",
              "      <td>0.241612</td>\n",
              "      <td>0.284016</td>\n",
              "      <td>0.019987</td>\n",
              "      <td>0.106162</td>\n",
              "      <td>00:15</td>\n",
              "    </tr>\n",
              "  </tbody>\n",
              "</table>"
            ],
            "text/plain": [
              "<IPython.core.display.HTML object>"
            ]
          },
          "metadata": {
            "tags": []
          }
        }
      ]
    },
    {
      "cell_type": "code",
      "metadata": {
        "id": "KaWOyEUsSBnT",
        "colab_type": "code",
        "colab": {
          "base_uri": "https://localhost:8080/",
          "height": 267
        },
        "outputId": "149d167f-f714-4b1a-eb43-d6d3bf982f7b"
      },
      "source": [
        "learn.show_results(rows=1)"
      ],
      "execution_count": 11,
      "outputs": [
        {
          "output_type": "display_data",
          "data": {
            "image/png": "[encoded data removed]",
            "text/plain": [
              "<Figure size 864x288 with 3 Axes>"
            ]
          },
          "metadata": {
            "tags": [],
            "needs_background": "light"
          }
        }
      ]
    },
    {
      "cell_type": "code",
      "metadata": {
        "id": "eov2sFH3SFPr",
        "colab_type": "code",
        "colab": {}
      },
      "source": [
        "feat_loss = FeatureLoss(vgg_m, blocks[2:5], [5,10,2])\n",
        "learn = Learner(data, autoencoder, loss_func = feat_loss, metrics = [mean_squared_error, mean_absolute_error])"
      ],
      "execution_count": 0,
      "outputs": []
    },
    {
      "cell_type": "code",
      "metadata": {
        "id": "jqJCOP2HTTj7",
        "colab_type": "code",
        "colab": {
          "base_uri": "https://localhost:8080/",
          "height": 359
        },
        "outputId": "7b6be0d5-6ba9-4ef4-a516-5ce1b608bafa"
      },
      "source": [
        "learn.fit_one_cycle(10)"
      ],
      "execution_count": 14,
      "outputs": [
        {
          "output_type": "display_data",
          "data": {
            "text/html": [
              "<table border=\"1\" class=\"dataframe\">\n",
              "  <thead>\n",
              "    <tr style=\"text-align: left;\">\n",
              "      <th>epoch</th>\n",
              "      <th>train_loss</th>\n",
              "      <th>valid_loss</th>\n",
              "      <th>mean_squared_error</th>\n",
              "      <th>mean_absolute_error</th>\n",
              "      <th>time</th>\n",
              "    </tr>\n",
              "  </thead>\n",
              "  <tbody>\n",
              "    <tr>\n",
              "      <td>0</td>\n",
              "      <td>0.217403</td>\n",
              "      <td>0.256979</td>\n",
              "      <td>0.019996</td>\n",
              "      <td>0.106526</td>\n",
              "      <td>00:15</td>\n",
              "    </tr>\n",
              "    <tr>\n",
              "      <td>1</td>\n",
              "      <td>0.221708</td>\n",
              "      <td>0.267085</td>\n",
              "      <td>0.020981</td>\n",
              "      <td>0.109110</td>\n",
              "      <td>00:15</td>\n",
              "    </tr>\n",
              "    <tr>\n",
              "      <td>2</td>\n",
              "      <td>0.230110</td>\n",
              "      <td>0.276829</td>\n",
              "      <td>0.023034</td>\n",
              "      <td>0.114753</td>\n",
              "      <td>00:15</td>\n",
              "    </tr>\n",
              "    <tr>\n",
              "      <td>3</td>\n",
              "      <td>0.232693</td>\n",
              "      <td>0.269990</td>\n",
              "      <td>0.021804</td>\n",
              "      <td>0.111497</td>\n",
              "      <td>00:15</td>\n",
              "    </tr>\n",
              "    <tr>\n",
              "      <td>4</td>\n",
              "      <td>0.230384</td>\n",
              "      <td>0.264965</td>\n",
              "      <td>0.021461</td>\n",
              "      <td>0.111076</td>\n",
              "      <td>00:15</td>\n",
              "    </tr>\n",
              "    <tr>\n",
              "      <td>5</td>\n",
              "      <td>0.225713</td>\n",
              "      <td>0.259197</td>\n",
              "      <td>0.020764</td>\n",
              "      <td>0.107779</td>\n",
              "      <td>00:15</td>\n",
              "    </tr>\n",
              "    <tr>\n",
              "      <td>6</td>\n",
              "      <td>0.219695</td>\n",
              "      <td>0.252131</td>\n",
              "      <td>0.019181</td>\n",
              "      <td>0.103685</td>\n",
              "      <td>00:15</td>\n",
              "    </tr>\n",
              "    <tr>\n",
              "      <td>7</td>\n",
              "      <td>0.213133</td>\n",
              "      <td>0.246722</td>\n",
              "      <td>0.018583</td>\n",
              "      <td>0.101936</td>\n",
              "      <td>00:15</td>\n",
              "    </tr>\n",
              "    <tr>\n",
              "      <td>8</td>\n",
              "      <td>0.207130</td>\n",
              "      <td>0.244155</td>\n",
              "      <td>0.018273</td>\n",
              "      <td>0.101210</td>\n",
              "      <td>00:15</td>\n",
              "    </tr>\n",
              "    <tr>\n",
              "      <td>9</td>\n",
              "      <td>0.203681</td>\n",
              "      <td>0.242753</td>\n",
              "      <td>0.018294</td>\n",
              "      <td>0.101076</td>\n",
              "      <td>00:15</td>\n",
              "    </tr>\n",
              "  </tbody>\n",
              "</table>"
            ],
            "text/plain": [
              "<IPython.core.display.HTML object>"
            ]
          },
          "metadata": {
            "tags": []
          }
        }
      ]
    },
    {
      "cell_type": "code",
      "metadata": {
        "id": "106wM_MfTYrl",
        "colab_type": "code",
        "colab": {
          "base_uri": "https://localhost:8080/",
          "height": 267
        },
        "outputId": "e4d9d35f-aa82-4551-d0f5-b4feb6ff5b4a"
      },
      "source": [
        "learn.show_results(rows = 1)"
      ],
      "execution_count": 15,
      "outputs": [
        {
          "output_type": "display_data",
          "data": {
            "image/png": "[encoded data removed]",
            "text/plain": [
              "<Figure size 864x288 with 3 Axes>"
            ]
          },
          "metadata": {
            "tags": [],
            "needs_background": "light"
          }
        }
      ]
    },
    {
      "cell_type": "code",
      "metadata": {
        "id": "It-RZx_tTdZV",
        "colab_type": "code",
        "colab": {}
      },
      "source": [
        "feat_loss = FeatureLoss(vgg_m, blocks[2:5], [5,5,2])\n",
        "learn = Learner(data, autoencoder, loss_func = feat_loss, metrics = [mean_squared_error, mean_absolute_error])"
      ],
      "execution_count": 0,
      "outputs": []
    },
    {
      "cell_type": "code",
      "metadata": {
        "id": "TuMlVsPWUEqB",
        "colab_type": "code",
        "colab": {
          "base_uri": "https://localhost:8080/",
          "height": 359
        },
        "outputId": "a01cb54e-8fc0-4123-ae96-c05c09ee6382"
      },
      "source": [
        "learn.fit_one_cycle(10)"
      ],
      "execution_count": 17,
      "outputs": [
        {
          "output_type": "display_data",
          "data": {
            "text/html": [
              "<table border=\"1\" class=\"dataframe\">\n",
              "  <thead>\n",
              "    <tr style=\"text-align: left;\">\n",
              "      <th>epoch</th>\n",
              "      <th>train_loss</th>\n",
              "      <th>valid_loss</th>\n",
              "      <th>mean_squared_error</th>\n",
              "      <th>mean_absolute_error</th>\n",
              "      <th>time</th>\n",
              "    </tr>\n",
              "  </thead>\n",
              "  <tbody>\n",
              "    <tr>\n",
              "      <td>0</td>\n",
              "      <td>0.178022</td>\n",
              "      <td>0.216873</td>\n",
              "      <td>0.017872</td>\n",
              "      <td>0.099823</td>\n",
              "      <td>00:15</td>\n",
              "    </tr>\n",
              "    <tr>\n",
              "      <td>1</td>\n",
              "      <td>0.181092</td>\n",
              "      <td>0.223426</td>\n",
              "      <td>0.018678</td>\n",
              "      <td>0.102356</td>\n",
              "      <td>00:15</td>\n",
              "    </tr>\n",
              "    <tr>\n",
              "      <td>2</td>\n",
              "      <td>0.186870</td>\n",
              "      <td>0.230576</td>\n",
              "      <td>0.019674</td>\n",
              "      <td>0.104960</td>\n",
              "      <td>00:15</td>\n",
              "    </tr>\n",
              "    <tr>\n",
              "      <td>3</td>\n",
              "      <td>0.190334</td>\n",
              "      <td>0.233910</td>\n",
              "      <td>0.020767</td>\n",
              "      <td>0.108631</td>\n",
              "      <td>00:15</td>\n",
              "    </tr>\n",
              "    <tr>\n",
              "      <td>4</td>\n",
              "      <td>0.188969</td>\n",
              "      <td>0.221739</td>\n",
              "      <td>0.018087</td>\n",
              "      <td>0.100356</td>\n",
              "      <td>00:15</td>\n",
              "    </tr>\n",
              "    <tr>\n",
              "      <td>5</td>\n",
              "      <td>0.185561</td>\n",
              "      <td>0.216214</td>\n",
              "      <td>0.017458</td>\n",
              "      <td>0.098413</td>\n",
              "      <td>00:15</td>\n",
              "    </tr>\n",
              "    <tr>\n",
              "      <td>6</td>\n",
              "      <td>0.180943</td>\n",
              "      <td>0.211853</td>\n",
              "      <td>0.016816</td>\n",
              "      <td>0.096131</td>\n",
              "      <td>00:15</td>\n",
              "    </tr>\n",
              "    <tr>\n",
              "      <td>7</td>\n",
              "      <td>0.175609</td>\n",
              "      <td>0.207766</td>\n",
              "      <td>0.016540</td>\n",
              "      <td>0.094980</td>\n",
              "      <td>00:15</td>\n",
              "    </tr>\n",
              "    <tr>\n",
              "      <td>8</td>\n",
              "      <td>0.171494</td>\n",
              "      <td>0.205801</td>\n",
              "      <td>0.016391</td>\n",
              "      <td>0.094611</td>\n",
              "      <td>00:15</td>\n",
              "    </tr>\n",
              "    <tr>\n",
              "      <td>9</td>\n",
              "      <td>0.167914</td>\n",
              "      <td>0.205148</td>\n",
              "      <td>0.016213</td>\n",
              "      <td>0.093825</td>\n",
              "      <td>00:15</td>\n",
              "    </tr>\n",
              "  </tbody>\n",
              "</table>"
            ],
            "text/plain": [
              "<IPython.core.display.HTML object>"
            ]
          },
          "metadata": {
            "tags": []
          }
        }
      ]
    },
    {
      "cell_type": "code",
      "metadata": {
        "id": "v5OuUInQUHlJ",
        "colab_type": "code",
        "colab": {
          "base_uri": "https://localhost:8080/",
          "height": 267
        },
        "outputId": "b57154da-2bc2-448a-aff3-f02de5b61021"
      },
      "source": [
        "learn.show_results(rows = 1)"
      ],
      "execution_count": 18,
      "outputs": [
        {
          "output_type": "display_data",
          "data": {
            "image/png": "[encoded data removed]",
            "text/plain": [
              "<Figure size 864x288 with 3 Axes>"
            ]
          },
          "metadata": {
            "tags": [],
            "needs_background": "light"
          }
        }
      ]
    },
    {
      "cell_type": "code",
      "metadata": {
        "id": "ZaFoR7plUKKr",
        "colab_type": "code",
        "colab": {}
      },
      "source": [
        "feat_loss = FeatureLoss(vgg_m, blocks[2:5], [2,5,2])\n",
        "learn = Learner(data, autoencoder, loss_func = feat_loss, metrics = [mean_squared_error, mean_absolute_error])"
      ],
      "execution_count": 0,
      "outputs": []
    },
    {
      "cell_type": "code",
      "metadata": {
        "id": "aLJYruO4UvE1",
        "colab_type": "code",
        "colab": {
          "base_uri": "https://localhost:8080/",
          "height": 359
        },
        "outputId": "97df7131-594c-477c-aa24-96d049008282"
      },
      "source": [
        "learn.fit_one_cycle(10)"
      ],
      "execution_count": 20,
      "outputs": [
        {
          "output_type": "display_data",
          "data": {
            "text/html": [
              "<table border=\"1\" class=\"dataframe\">\n",
              "  <thead>\n",
              "    <tr style=\"text-align: left;\">\n",
              "      <th>epoch</th>\n",
              "      <th>train_loss</th>\n",
              "      <th>valid_loss</th>\n",
              "      <th>mean_squared_error</th>\n",
              "      <th>mean_absolute_error</th>\n",
              "      <th>time</th>\n",
              "    </tr>\n",
              "  </thead>\n",
              "  <tbody>\n",
              "    <tr>\n",
              "      <td>0</td>\n",
              "      <td>0.128392</td>\n",
              "      <td>0.163086</td>\n",
              "      <td>0.016336</td>\n",
              "      <td>0.094136</td>\n",
              "      <td>00:15</td>\n",
              "    </tr>\n",
              "    <tr>\n",
              "      <td>1</td>\n",
              "      <td>0.130624</td>\n",
              "      <td>0.169875</td>\n",
              "      <td>0.016763</td>\n",
              "      <td>0.095702</td>\n",
              "      <td>00:15</td>\n",
              "    </tr>\n",
              "    <tr>\n",
              "      <td>2</td>\n",
              "      <td>0.137034</td>\n",
              "      <td>0.177281</td>\n",
              "      <td>0.018892</td>\n",
              "      <td>0.102195</td>\n",
              "      <td>00:15</td>\n",
              "    </tr>\n",
              "    <tr>\n",
              "      <td>3</td>\n",
              "      <td>0.140693</td>\n",
              "      <td>0.172242</td>\n",
              "      <td>0.017758</td>\n",
              "      <td>0.098660</td>\n",
              "      <td>00:15</td>\n",
              "    </tr>\n",
              "    <tr>\n",
              "      <td>4</td>\n",
              "      <td>0.140693</td>\n",
              "      <td>0.170728</td>\n",
              "      <td>0.017327</td>\n",
              "      <td>0.097361</td>\n",
              "      <td>00:15</td>\n",
              "    </tr>\n",
              "    <tr>\n",
              "      <td>5</td>\n",
              "      <td>0.138841</td>\n",
              "      <td>0.167754</td>\n",
              "      <td>0.017308</td>\n",
              "      <td>0.097057</td>\n",
              "      <td>00:14</td>\n",
              "    </tr>\n",
              "    <tr>\n",
              "      <td>6</td>\n",
              "      <td>0.135115</td>\n",
              "      <td>0.165504</td>\n",
              "      <td>0.015926</td>\n",
              "      <td>0.092571</td>\n",
              "      <td>00:14</td>\n",
              "    </tr>\n",
              "    <tr>\n",
              "      <td>7</td>\n",
              "      <td>0.130796</td>\n",
              "      <td>0.161091</td>\n",
              "      <td>0.015808</td>\n",
              "      <td>0.092193</td>\n",
              "      <td>00:15</td>\n",
              "    </tr>\n",
              "    <tr>\n",
              "      <td>8</td>\n",
              "      <td>0.127687</td>\n",
              "      <td>0.160011</td>\n",
              "      <td>0.015617</td>\n",
              "      <td>0.091267</td>\n",
              "      <td>00:15</td>\n",
              "    </tr>\n",
              "    <tr>\n",
              "      <td>9</td>\n",
              "      <td>0.125204</td>\n",
              "      <td>0.159452</td>\n",
              "      <td>0.015559</td>\n",
              "      <td>0.091086</td>\n",
              "      <td>00:15</td>\n",
              "    </tr>\n",
              "  </tbody>\n",
              "</table>"
            ],
            "text/plain": [
              "<IPython.core.display.HTML object>"
            ]
          },
          "metadata": {
            "tags": []
          }
        }
      ]
    },
    {
      "cell_type": "code",
      "metadata": {
        "id": "WF8a3OMDUwt1",
        "colab_type": "code",
        "colab": {
          "base_uri": "https://localhost:8080/",
          "height": 267
        },
        "outputId": "41e4e7e2-0bc8-4ba9-a4ea-43064ec062f6"
      },
      "source": [
        "learn.show_results(rows = 1)"
      ],
      "execution_count": 21,
      "outputs": [
        {
          "output_type": "display_data",
          "data": {
            "image/png": "[encoded data removed]",
            "text/plain": [
              "<Figure size 864x288 with 3 Axes>"
            ]
          },
          "metadata": {
            "tags": [],
            "needs_background": "light"
          }
        }
      ]
    },
    {
      "cell_type": "code",
      "metadata": {
        "id": "BzWcXi2ZVRnp",
        "colab_type": "code",
        "colab": {}
      },
      "source": [
        "feat_loss = FeatureLoss(vgg_m, blocks[2:5], [2,5,10])\n",
        "learn = Learner(data, autoencoder, loss_func = feat_loss, metrics = [mean_squared_error, mean_absolute_error])"
      ],
      "execution_count": 0,
      "outputs": []
    },
    {
      "cell_type": "code",
      "metadata": {
        "id": "WOpli9RsVZwB",
        "colab_type": "code",
        "colab": {
          "base_uri": "https://localhost:8080/",
          "height": 359
        },
        "outputId": "96784c94-4650-4024-c051-d038c3218c46"
      },
      "source": [
        "learn.fit_one_cycle(10)"
      ],
      "execution_count": 23,
      "outputs": [
        {
          "output_type": "display_data",
          "data": {
            "text/html": [
              "<table border=\"1\" class=\"dataframe\">\n",
              "  <thead>\n",
              "    <tr style=\"text-align: left;\">\n",
              "      <th>epoch</th>\n",
              "      <th>train_loss</th>\n",
              "      <th>valid_loss</th>\n",
              "      <th>mean_squared_error</th>\n",
              "      <th>mean_absolute_error</th>\n",
              "      <th>time</th>\n",
              "    </tr>\n",
              "  </thead>\n",
              "  <tbody>\n",
              "    <tr>\n",
              "      <td>0</td>\n",
              "      <td>0.384908</td>\n",
              "      <td>0.531346</td>\n",
              "      <td>0.016293</td>\n",
              "      <td>0.093301</td>\n",
              "      <td>00:15</td>\n",
              "    </tr>\n",
              "    <tr>\n",
              "      <td>1</td>\n",
              "      <td>0.397660</td>\n",
              "      <td>0.548937</td>\n",
              "      <td>0.019188</td>\n",
              "      <td>0.102263</td>\n",
              "      <td>00:15</td>\n",
              "    </tr>\n",
              "    <tr>\n",
              "      <td>2</td>\n",
              "      <td>0.449899</td>\n",
              "      <td>0.605879</td>\n",
              "      <td>0.025134</td>\n",
              "      <td>0.118879</td>\n",
              "      <td>00:15</td>\n",
              "    </tr>\n",
              "    <tr>\n",
              "      <td>3</td>\n",
              "      <td>0.461932</td>\n",
              "      <td>0.568465</td>\n",
              "      <td>0.021914</td>\n",
              "      <td>0.111369</td>\n",
              "      <td>00:15</td>\n",
              "    </tr>\n",
              "    <tr>\n",
              "      <td>4</td>\n",
              "      <td>0.456541</td>\n",
              "      <td>0.564967</td>\n",
              "      <td>0.021171</td>\n",
              "      <td>0.108479</td>\n",
              "      <td>00:15</td>\n",
              "    </tr>\n",
              "    <tr>\n",
              "      <td>5</td>\n",
              "      <td>0.447578</td>\n",
              "      <td>0.538689</td>\n",
              "      <td>0.019714</td>\n",
              "      <td>0.104201</td>\n",
              "      <td>00:15</td>\n",
              "    </tr>\n",
              "    <tr>\n",
              "      <td>6</td>\n",
              "      <td>0.435424</td>\n",
              "      <td>0.541186</td>\n",
              "      <td>0.020108</td>\n",
              "      <td>0.105673</td>\n",
              "      <td>00:15</td>\n",
              "    </tr>\n",
              "    <tr>\n",
              "      <td>7</td>\n",
              "      <td>0.421488</td>\n",
              "      <td>0.530931</td>\n",
              "      <td>0.019262</td>\n",
              "      <td>0.102906</td>\n",
              "      <td>00:15</td>\n",
              "    </tr>\n",
              "    <tr>\n",
              "      <td>8</td>\n",
              "      <td>0.408358</td>\n",
              "      <td>0.525217</td>\n",
              "      <td>0.018819</td>\n",
              "      <td>0.101245</td>\n",
              "      <td>00:15</td>\n",
              "    </tr>\n",
              "    <tr>\n",
              "      <td>9</td>\n",
              "      <td>0.399266</td>\n",
              "      <td>0.524687</td>\n",
              "      <td>0.018796</td>\n",
              "      <td>0.101183</td>\n",
              "      <td>00:15</td>\n",
              "    </tr>\n",
              "  </tbody>\n",
              "</table>"
            ],
            "text/plain": [
              "<IPython.core.display.HTML object>"
            ]
          },
          "metadata": {
            "tags": []
          }
        }
      ]
    },
    {
      "cell_type": "code",
      "metadata": {
        "id": "q1tEkL5iVbLp",
        "colab_type": "code",
        "colab": {
          "base_uri": "https://localhost:8080/",
          "height": 267
        },
        "outputId": "4478dbf3-3f54-4a60-a853-546563ee89e3"
      },
      "source": [
        "learn.show_results(rows = 1)"
      ],
      "execution_count": 24,
      "outputs": [
        {
          "output_type": "display_data",
          "data": {
            "image/png": "[encoded data removed]",
            "text/plain": [
              "<Figure size 864x288 with 3 Axes>"
            ]
          },
          "metadata": {
            "tags": [],
            "needs_background": "light"
          }
        }
      ]
    },
    {
      "cell_type": "code",
      "metadata": {
        "id": "vD12zL14Vc94",
        "colab_type": "code",
        "colab": {}
      },
      "source": [
        "feat_loss = FeatureLoss(vgg_m, blocks[2:5], [10,5,2])\n",
        "learn = Learner(data, autoencoder, loss_func = feat_loss, metrics = [mean_squared_error, mean_absolute_error])"
      ],
      "execution_count": 0,
      "outputs": []
    },
    {
      "cell_type": "code",
      "metadata": {
        "id": "DOlSxlDjWFcs",
        "colab_type": "code",
        "colab": {
          "base_uri": "https://localhost:8080/",
          "height": 359
        },
        "outputId": "9250fbae-eac7-473c-de52-bffbffaca6c6"
      },
      "source": [
        "learn.fit_one_cycle(10)"
      ],
      "execution_count": 27,
      "outputs": [
        {
          "output_type": "display_data",
          "data": {
            "text/html": [
              "<table border=\"1\" class=\"dataframe\">\n",
              "  <thead>\n",
              "    <tr style=\"text-align: left;\">\n",
              "      <th>epoch</th>\n",
              "      <th>train_loss</th>\n",
              "      <th>valid_loss</th>\n",
              "      <th>mean_squared_error</th>\n",
              "      <th>mean_absolute_error</th>\n",
              "      <th>time</th>\n",
              "    </tr>\n",
              "  </thead>\n",
              "  <tbody>\n",
              "    <tr>\n",
              "      <td>0</td>\n",
              "      <td>0.230590</td>\n",
              "      <td>0.276589</td>\n",
              "      <td>0.017112</td>\n",
              "      <td>0.096351</td>\n",
              "      <td>00:14</td>\n",
              "    </tr>\n",
              "    <tr>\n",
              "      <td>1</td>\n",
              "      <td>0.226671</td>\n",
              "      <td>0.274496</td>\n",
              "      <td>0.016699</td>\n",
              "      <td>0.095155</td>\n",
              "      <td>00:15</td>\n",
              "    </tr>\n",
              "    <tr>\n",
              "      <td>2</td>\n",
              "      <td>0.225651</td>\n",
              "      <td>0.275295</td>\n",
              "      <td>0.016430</td>\n",
              "      <td>0.094497</td>\n",
              "      <td>00:15</td>\n",
              "    </tr>\n",
              "    <tr>\n",
              "      <td>3</td>\n",
              "      <td>0.223297</td>\n",
              "      <td>0.271480</td>\n",
              "      <td>0.016458</td>\n",
              "      <td>0.094189</td>\n",
              "      <td>00:15</td>\n",
              "    </tr>\n",
              "    <tr>\n",
              "      <td>4</td>\n",
              "      <td>0.221024</td>\n",
              "      <td>0.266362</td>\n",
              "      <td>0.016086</td>\n",
              "      <td>0.093124</td>\n",
              "      <td>00:15</td>\n",
              "    </tr>\n",
              "    <tr>\n",
              "      <td>5</td>\n",
              "      <td>0.216332</td>\n",
              "      <td>0.260356</td>\n",
              "      <td>0.015442</td>\n",
              "      <td>0.091202</td>\n",
              "      <td>00:15</td>\n",
              "    </tr>\n",
              "    <tr>\n",
              "      <td>6</td>\n",
              "      <td>0.210161</td>\n",
              "      <td>0.253095</td>\n",
              "      <td>0.014795</td>\n",
              "      <td>0.088468</td>\n",
              "      <td>00:15</td>\n",
              "    </tr>\n",
              "    <tr>\n",
              "      <td>7</td>\n",
              "      <td>0.204824</td>\n",
              "      <td>0.249833</td>\n",
              "      <td>0.014677</td>\n",
              "      <td>0.087960</td>\n",
              "      <td>00:15</td>\n",
              "    </tr>\n",
              "    <tr>\n",
              "      <td>8</td>\n",
              "      <td>0.200092</td>\n",
              "      <td>0.247744</td>\n",
              "      <td>0.014488</td>\n",
              "      <td>0.087296</td>\n",
              "      <td>00:15</td>\n",
              "    </tr>\n",
              "    <tr>\n",
              "      <td>9</td>\n",
              "      <td>0.196888</td>\n",
              "      <td>0.247839</td>\n",
              "      <td>0.014447</td>\n",
              "      <td>0.087158</td>\n",
              "      <td>00:15</td>\n",
              "    </tr>\n",
              "  </tbody>\n",
              "</table>"
            ],
            "text/plain": [
              "<IPython.core.display.HTML object>"
            ]
          },
          "metadata": {
            "tags": []
          }
        }
      ]
    },
    {
      "cell_type": "code",
      "metadata": {
        "id": "eQd3XJfXWInd",
        "colab_type": "code",
        "colab": {
          "base_uri": "https://localhost:8080/",
          "height": 267
        },
        "outputId": "ce0888aa-62a4-41d9-887d-b36ae4260777"
      },
      "source": [
        "learn.show_results(rows = 1)"
      ],
      "execution_count": 28,
      "outputs": [
        {
          "output_type": "display_data",
          "data": {
            "image/png": "[encoded data removed]",
            "text/plain": [
              "<Figure size 864x288 with 3 Axes>"
            ]
          },
          "metadata": {
            "tags": [],
            "needs_background": "light"
          }
        }
      ]
    },
    {
      "cell_type": "code",
      "metadata": {
        "id": "6bTXnS1cWKRG",
        "colab_type": "code",
        "colab": {}
      },
      "source": [
        "feat_loss = FeatureLoss(vgg_m, blocks[2:5], [5,3,1])\n",
        "learn = Learner(data, autoencoder, loss_func = feat_loss, metrics = [mean_squared_error, mean_absolute_error])"
      ],
      "execution_count": 0,
      "outputs": []
    },
    {
      "cell_type": "code",
      "metadata": {
        "id": "12xM8VXpW0bi",
        "colab_type": "code",
        "colab": {
          "base_uri": "https://localhost:8080/",
          "height": 359
        },
        "outputId": "471bc073-cd01-4479-9788-81933e961702"
      },
      "source": [
        "learn.fit_one_cycle(10)"
      ],
      "execution_count": 30,
      "outputs": [
        {
          "output_type": "display_data",
          "data": {
            "text/html": [
              "<table border=\"1\" class=\"dataframe\">\n",
              "  <thead>\n",
              "    <tr style=\"text-align: left;\">\n",
              "      <th>epoch</th>\n",
              "      <th>train_loss</th>\n",
              "      <th>valid_loss</th>\n",
              "      <th>mean_squared_error</th>\n",
              "      <th>mean_absolute_error</th>\n",
              "      <th>time</th>\n",
              "    </tr>\n",
              "  </thead>\n",
              "  <tbody>\n",
              "    <tr>\n",
              "      <td>0</td>\n",
              "      <td>0.104740</td>\n",
              "      <td>0.133187</td>\n",
              "      <td>0.014073</td>\n",
              "      <td>0.085858</td>\n",
              "      <td>00:15</td>\n",
              "    </tr>\n",
              "    <tr>\n",
              "      <td>1</td>\n",
              "      <td>0.105497</td>\n",
              "      <td>0.135200</td>\n",
              "      <td>0.013995</td>\n",
              "      <td>0.085819</td>\n",
              "      <td>00:15</td>\n",
              "    </tr>\n",
              "    <tr>\n",
              "      <td>2</td>\n",
              "      <td>0.107786</td>\n",
              "      <td>0.138510</td>\n",
              "      <td>0.014682</td>\n",
              "      <td>0.088670</td>\n",
              "      <td>00:15</td>\n",
              "    </tr>\n",
              "    <tr>\n",
              "      <td>3</td>\n",
              "      <td>0.109043</td>\n",
              "      <td>0.136986</td>\n",
              "      <td>0.015065</td>\n",
              "      <td>0.090479</td>\n",
              "      <td>00:15</td>\n",
              "    </tr>\n",
              "    <tr>\n",
              "      <td>4</td>\n",
              "      <td>0.108672</td>\n",
              "      <td>0.134185</td>\n",
              "      <td>0.013761</td>\n",
              "      <td>0.085257</td>\n",
              "      <td>00:15</td>\n",
              "    </tr>\n",
              "    <tr>\n",
              "      <td>5</td>\n",
              "      <td>0.106908</td>\n",
              "      <td>0.130947</td>\n",
              "      <td>0.013364</td>\n",
              "      <td>0.084015</td>\n",
              "      <td>00:15</td>\n",
              "    </tr>\n",
              "    <tr>\n",
              "      <td>6</td>\n",
              "      <td>0.104452</td>\n",
              "      <td>0.128435</td>\n",
              "      <td>0.012915</td>\n",
              "      <td>0.082344</td>\n",
              "      <td>00:15</td>\n",
              "    </tr>\n",
              "    <tr>\n",
              "      <td>7</td>\n",
              "      <td>0.101883</td>\n",
              "      <td>0.126156</td>\n",
              "      <td>0.012925</td>\n",
              "      <td>0.082038</td>\n",
              "      <td>00:15</td>\n",
              "    </tr>\n",
              "    <tr>\n",
              "      <td>8</td>\n",
              "      <td>0.099512</td>\n",
              "      <td>0.124996</td>\n",
              "      <td>0.012670</td>\n",
              "      <td>0.080988</td>\n",
              "      <td>00:15</td>\n",
              "    </tr>\n",
              "    <tr>\n",
              "      <td>9</td>\n",
              "      <td>0.097848</td>\n",
              "      <td>0.124793</td>\n",
              "      <td>0.012703</td>\n",
              "      <td>0.081094</td>\n",
              "      <td>00:15</td>\n",
              "    </tr>\n",
              "  </tbody>\n",
              "</table>"
            ],
            "text/plain": [
              "<IPython.core.display.HTML object>"
            ]
          },
          "metadata": {
            "tags": []
          }
        }
      ]
    },
    {
      "cell_type": "code",
      "metadata": {
        "id": "MV6SXtaMW11K",
        "colab_type": "code",
        "colab": {
          "base_uri": "https://localhost:8080/",
          "height": 267
        },
        "outputId": "e60d22a5-9e64-4d0a-d10a-786cd687d50f"
      },
      "source": [
        "learn.show_results(rows = 1)"
      ],
      "execution_count": 31,
      "outputs": [
        {
          "output_type": "display_data",
          "data": {
            "image/png": "[encoded data removed]",
            "text/plain": [
              "<Figure size 864x288 with 3 Axes>"
            ]
          },
          "metadata": {
            "tags": [],
            "needs_background": "light"
          }
        }
      ]
    },
    {
      "cell_type": "code",
      "metadata": {
        "id": "XZiRkqelW4GK",
        "colab_type": "code",
        "colab": {}
      },
      "source": [
        "feat_loss = FeatureLoss(vgg_m, blocks[2:5], [10,1,1])\n",
        "learn = Learner(data, autoencoder, loss_func = feat_loss, metrics = [mean_squared_error, mean_absolute_error])"
      ],
      "execution_count": 0,
      "outputs": []
    },
    {
      "cell_type": "code",
      "metadata": {
        "id": "z6it2Qg0XeU-",
        "colab_type": "code",
        "colab": {
          "base_uri": "https://localhost:8080/",
          "height": 359
        },
        "outputId": "f8315703-5a6d-46c8-b269-68f1a2d30909"
      },
      "source": [
        "learn.fit_one_cycle(10)"
      ],
      "execution_count": 33,
      "outputs": [
        {
          "output_type": "display_data",
          "data": {
            "text/html": [
              "<table border=\"1\" class=\"dataframe\">\n",
              "  <thead>\n",
              "    <tr style=\"text-align: left;\">\n",
              "      <th>epoch</th>\n",
              "      <th>train_loss</th>\n",
              "      <th>valid_loss</th>\n",
              "      <th>mean_squared_error</th>\n",
              "      <th>mean_absolute_error</th>\n",
              "      <th>time</th>\n",
              "    </tr>\n",
              "  </thead>\n",
              "  <tbody>\n",
              "    <tr>\n",
              "      <td>0</td>\n",
              "      <td>0.137059</td>\n",
              "      <td>0.172595</td>\n",
              "      <td>0.012593</td>\n",
              "      <td>0.080740</td>\n",
              "      <td>00:15</td>\n",
              "    </tr>\n",
              "    <tr>\n",
              "      <td>1</td>\n",
              "      <td>0.138181</td>\n",
              "      <td>0.174555</td>\n",
              "      <td>0.012618</td>\n",
              "      <td>0.081284</td>\n",
              "      <td>00:15</td>\n",
              "    </tr>\n",
              "    <tr>\n",
              "      <td>2</td>\n",
              "      <td>0.140481</td>\n",
              "      <td>0.177001</td>\n",
              "      <td>0.013309</td>\n",
              "      <td>0.083815</td>\n",
              "      <td>00:15</td>\n",
              "    </tr>\n",
              "    <tr>\n",
              "      <td>3</td>\n",
              "      <td>0.141031</td>\n",
              "      <td>0.175375</td>\n",
              "      <td>0.013019</td>\n",
              "      <td>0.082447</td>\n",
              "      <td>00:15</td>\n",
              "    </tr>\n",
              "    <tr>\n",
              "      <td>4</td>\n",
              "      <td>0.139822</td>\n",
              "      <td>0.171767</td>\n",
              "      <td>0.013308</td>\n",
              "      <td>0.083938</td>\n",
              "      <td>00:15</td>\n",
              "    </tr>\n",
              "    <tr>\n",
              "      <td>5</td>\n",
              "      <td>0.137535</td>\n",
              "      <td>0.168164</td>\n",
              "      <td>0.012341</td>\n",
              "      <td>0.080522</td>\n",
              "      <td>00:14</td>\n",
              "    </tr>\n",
              "    <tr>\n",
              "      <td>6</td>\n",
              "      <td>0.134029</td>\n",
              "      <td>0.164092</td>\n",
              "      <td>0.012116</td>\n",
              "      <td>0.079158</td>\n",
              "      <td>00:15</td>\n",
              "    </tr>\n",
              "    <tr>\n",
              "      <td>7</td>\n",
              "      <td>0.130608</td>\n",
              "      <td>0.161793</td>\n",
              "      <td>0.011850</td>\n",
              "      <td>0.078227</td>\n",
              "      <td>00:14</td>\n",
              "    </tr>\n",
              "    <tr>\n",
              "      <td>8</td>\n",
              "      <td>0.127619</td>\n",
              "      <td>0.160519</td>\n",
              "      <td>0.011823</td>\n",
              "      <td>0.077896</td>\n",
              "      <td>00:14</td>\n",
              "    </tr>\n",
              "    <tr>\n",
              "      <td>9</td>\n",
              "      <td>0.125934</td>\n",
              "      <td>0.160044</td>\n",
              "      <td>0.011821</td>\n",
              "      <td>0.077876</td>\n",
              "      <td>00:15</td>\n",
              "    </tr>\n",
              "  </tbody>\n",
              "</table>"
            ],
            "text/plain": [
              "<IPython.core.display.HTML object>"
            ]
          },
          "metadata": {
            "tags": []
          }
        }
      ]
    },
    {
      "cell_type": "code",
      "metadata": {
        "id": "RafpnZHyXf6e",
        "colab_type": "code",
        "colab": {
          "base_uri": "https://localhost:8080/",
          "height": 267
        },
        "outputId": "8ed36061-150a-4f10-8559-6d5f5e5b9ec2"
      },
      "source": [
        "learn.show_results(rows = 1)"
      ],
      "execution_count": 34,
      "outputs": [
        {
          "output_type": "display_data",
          "data": {
            "image/png": "[encoded data removed]",
            "text/plain": [
              "<Figure size 864x288 with 3 Axes>"
            ]
          },
          "metadata": {
            "tags": [],
            "needs_background": "light"
          }
        }
      ]
    },
    {
      "cell_type": "code",
      "metadata": {
        "id": "G8h3gALCXilm",
        "colab_type": "code",
        "colab": {}
      },
      "source": [
        "feat_loss = FeatureLoss(vgg_m, blocks[2:5], [10,1,10])\n",
        "learn = Learner(data, autoencoder, loss_func = feat_loss, metrics = [mean_squared_error, mean_absolute_error])"
      ],
      "execution_count": 0,
      "outputs": []
    },
    {
      "cell_type": "code",
      "metadata": {
        "id": "9Wx3V7cXYMAi",
        "colab_type": "code",
        "colab": {
          "base_uri": "https://localhost:8080/",
          "height": 359
        },
        "outputId": "5d2e5d10-dcf3-4ea1-fb4e-011a9ab1f5a9"
      },
      "source": [
        "learn.fit_one_cycle(10)"
      ],
      "execution_count": 36,
      "outputs": [
        {
          "output_type": "display_data",
          "data": {
            "text/html": [
              "<table border=\"1\" class=\"dataframe\">\n",
              "  <thead>\n",
              "    <tr style=\"text-align: left;\">\n",
              "      <th>epoch</th>\n",
              "      <th>train_loss</th>\n",
              "      <th>valid_loss</th>\n",
              "      <th>mean_squared_error</th>\n",
              "      <th>mean_absolute_error</th>\n",
              "      <th>time</th>\n",
              "    </tr>\n",
              "  </thead>\n",
              "  <tbody>\n",
              "    <tr>\n",
              "      <td>0</td>\n",
              "      <td>0.378351</td>\n",
              "      <td>0.532049</td>\n",
              "      <td>0.012701</td>\n",
              "      <td>0.081023</td>\n",
              "      <td>00:14</td>\n",
              "    </tr>\n",
              "    <tr>\n",
              "      <td>1</td>\n",
              "      <td>0.393224</td>\n",
              "      <td>0.559089</td>\n",
              "      <td>0.014332</td>\n",
              "      <td>0.087539</td>\n",
              "      <td>00:14</td>\n",
              "    </tr>\n",
              "    <tr>\n",
              "      <td>2</td>\n",
              "      <td>0.418830</td>\n",
              "      <td>0.594681</td>\n",
              "      <td>0.015457</td>\n",
              "      <td>0.090989</td>\n",
              "      <td>00:14</td>\n",
              "    </tr>\n",
              "    <tr>\n",
              "      <td>3</td>\n",
              "      <td>0.437139</td>\n",
              "      <td>0.581362</td>\n",
              "      <td>0.015614</td>\n",
              "      <td>0.091683</td>\n",
              "      <td>00:15</td>\n",
              "    </tr>\n",
              "    <tr>\n",
              "      <td>4</td>\n",
              "      <td>0.440929</td>\n",
              "      <td>0.586659</td>\n",
              "      <td>0.015973</td>\n",
              "      <td>0.093045</td>\n",
              "      <td>00:15</td>\n",
              "    </tr>\n",
              "    <tr>\n",
              "      <td>5</td>\n",
              "      <td>0.435370</td>\n",
              "      <td>0.574127</td>\n",
              "      <td>0.015497</td>\n",
              "      <td>0.091164</td>\n",
              "      <td>00:14</td>\n",
              "    </tr>\n",
              "    <tr>\n",
              "      <td>6</td>\n",
              "      <td>0.424624</td>\n",
              "      <td>0.553455</td>\n",
              "      <td>0.015556</td>\n",
              "      <td>0.090993</td>\n",
              "      <td>00:14</td>\n",
              "    </tr>\n",
              "    <tr>\n",
              "      <td>7</td>\n",
              "      <td>0.409236</td>\n",
              "      <td>0.543979</td>\n",
              "      <td>0.014625</td>\n",
              "      <td>0.087900</td>\n",
              "      <td>00:15</td>\n",
              "    </tr>\n",
              "    <tr>\n",
              "      <td>8</td>\n",
              "      <td>0.397036</td>\n",
              "      <td>0.536680</td>\n",
              "      <td>0.014578</td>\n",
              "      <td>0.087606</td>\n",
              "      <td>00:15</td>\n",
              "    </tr>\n",
              "    <tr>\n",
              "      <td>9</td>\n",
              "      <td>0.385510</td>\n",
              "      <td>0.535364</td>\n",
              "      <td>0.014423</td>\n",
              "      <td>0.087078</td>\n",
              "      <td>00:15</td>\n",
              "    </tr>\n",
              "  </tbody>\n",
              "</table>"
            ],
            "text/plain": [
              "<IPython.core.display.HTML object>"
            ]
          },
          "metadata": {
            "tags": []
          }
        }
      ]
    },
    {
      "cell_type": "code",
      "metadata": {
        "id": "ZEq6lK-lYRWM",
        "colab_type": "code",
        "colab": {
          "base_uri": "https://localhost:8080/",
          "height": 267
        },
        "outputId": "13d8d264-0396-40e8-bb05-80306c86370d"
      },
      "source": [
        "learn.show_results(rows = 1)"
      ],
      "execution_count": 37,
      "outputs": [
        {
          "output_type": "display_data",
          "data": {
            "image/png": "[encoded data removed]",
            "text/plain": [
              "<Figure size 864x288 with 3 Axes>"
            ]
          },
          "metadata": {
            "tags": [],
            "needs_background": "light"
          }
        }
      ]
    },
    {
      "cell_type": "code",
      "metadata": {
        "id": "ms7CPMvvYVjr",
        "colab_type": "code",
        "colab": {}
      },
      "source": [
        "feat_loss = FeatureLoss(vgg_m, blocks[2:5], [20,5,1])\n",
        "learn = Learner(data, autoencoder, loss_func = feat_loss, metrics = [mean_squared_error, mean_absolute_error])"
      ],
      "execution_count": 0,
      "outputs": []
    },
    {
      "cell_type": "code",
      "metadata": {
        "id": "8Fyg5ExRY6XH",
        "colab_type": "code",
        "colab": {
          "base_uri": "https://localhost:8080/",
          "height": 359
        },
        "outputId": "14dc7c7d-3a10-436b-d6f0-bcdb3b500903"
      },
      "source": [
        "learn.fit_one_cycle(10)"
      ],
      "execution_count": 39,
      "outputs": [
        {
          "output_type": "display_data",
          "data": {
            "text/html": [
              "<table border=\"1\" class=\"dataframe\">\n",
              "  <thead>\n",
              "    <tr style=\"text-align: left;\">\n",
              "      <th>epoch</th>\n",
              "      <th>train_loss</th>\n",
              "      <th>valid_loss</th>\n",
              "      <th>mean_squared_error</th>\n",
              "      <th>mean_absolute_error</th>\n",
              "      <th>time</th>\n",
              "    </tr>\n",
              "  </thead>\n",
              "  <tbody>\n",
              "    <tr>\n",
              "      <td>0</td>\n",
              "      <td>0.236752</td>\n",
              "      <td>0.293232</td>\n",
              "      <td>0.013213</td>\n",
              "      <td>0.083256</td>\n",
              "      <td>00:14</td>\n",
              "    </tr>\n",
              "    <tr>\n",
              "      <td>1</td>\n",
              "      <td>0.231880</td>\n",
              "      <td>0.288650</td>\n",
              "      <td>0.012886</td>\n",
              "      <td>0.082411</td>\n",
              "      <td>00:15</td>\n",
              "    </tr>\n",
              "    <tr>\n",
              "      <td>2</td>\n",
              "      <td>0.230242</td>\n",
              "      <td>0.290017</td>\n",
              "      <td>0.012931</td>\n",
              "      <td>0.082424</td>\n",
              "      <td>00:14</td>\n",
              "    </tr>\n",
              "    <tr>\n",
              "      <td>3</td>\n",
              "      <td>0.229721</td>\n",
              "      <td>0.283457</td>\n",
              "      <td>0.012516</td>\n",
              "      <td>0.080962</td>\n",
              "      <td>00:14</td>\n",
              "    </tr>\n",
              "    <tr>\n",
              "      <td>4</td>\n",
              "      <td>0.225649</td>\n",
              "      <td>0.275518</td>\n",
              "      <td>0.012127</td>\n",
              "      <td>0.079378</td>\n",
              "      <td>00:15</td>\n",
              "    </tr>\n",
              "    <tr>\n",
              "      <td>5</td>\n",
              "      <td>0.220347</td>\n",
              "      <td>0.270753</td>\n",
              "      <td>0.012017</td>\n",
              "      <td>0.078881</td>\n",
              "      <td>00:14</td>\n",
              "    </tr>\n",
              "    <tr>\n",
              "      <td>6</td>\n",
              "      <td>0.214567</td>\n",
              "      <td>0.265693</td>\n",
              "      <td>0.011718</td>\n",
              "      <td>0.077677</td>\n",
              "      <td>00:15</td>\n",
              "    </tr>\n",
              "    <tr>\n",
              "      <td>7</td>\n",
              "      <td>0.209014</td>\n",
              "      <td>0.261356</td>\n",
              "      <td>0.011861</td>\n",
              "      <td>0.078058</td>\n",
              "      <td>00:14</td>\n",
              "    </tr>\n",
              "    <tr>\n",
              "      <td>8</td>\n",
              "      <td>0.204981</td>\n",
              "      <td>0.258802</td>\n",
              "      <td>0.011629</td>\n",
              "      <td>0.077140</td>\n",
              "      <td>00:14</td>\n",
              "    </tr>\n",
              "    <tr>\n",
              "      <td>9</td>\n",
              "      <td>0.201975</td>\n",
              "      <td>0.258133</td>\n",
              "      <td>0.011571</td>\n",
              "      <td>0.076802</td>\n",
              "      <td>00:14</td>\n",
              "    </tr>\n",
              "  </tbody>\n",
              "</table>"
            ],
            "text/plain": [
              "<IPython.core.display.HTML object>"
            ]
          },
          "metadata": {
            "tags": []
          }
        }
      ]
    },
    {
      "cell_type": "code",
      "metadata": {
        "id": "0NYQxndvY8rH",
        "colab_type": "code",
        "colab": {
          "base_uri": "https://localhost:8080/",
          "height": 267
        },
        "outputId": "ff242ded-8fdc-44c5-db4f-c91d1520e8ef"
      },
      "source": [
        "learn.show_results(rows=1)"
      ],
      "execution_count": 40,
      "outputs": [
        {
          "output_type": "display_data",
          "data": {
            "image/png": "[encoded data removed]",
            "text/plain": [
              "<Figure size 864x288 with 3 Axes>"
            ]
          },
          "metadata": {
            "tags": [],
            "needs_background": "light"
          }
        }
      ]
    },
    {
      "cell_type": "code",
      "metadata": {
        "id": "CrlFe_0JY_lH",
        "colab_type": "code",
        "colab": {}
      },
      "source": [
        "feat_loss = FeatureLoss(vgg_m, blocks[2:5], [50,5,1])\n",
        "learn = Learner(data, autoencoder, loss_func = feat_loss, metrics = [mean_squared_error, mean_absolute_error])"
      ],
      "execution_count": 0,
      "outputs": []
    },
    {
      "cell_type": "code",
      "metadata": {
        "id": "tYSWpjUNZp-k",
        "colab_type": "code",
        "colab": {
          "base_uri": "https://localhost:8080/",
          "height": 359
        },
        "outputId": "d0465a4e-7b59-4651-d0f0-4a14b4b131e8"
      },
      "source": [
        "learn.fit_one_cycle(10)"
      ],
      "execution_count": 42,
      "outputs": [
        {
          "output_type": "display_data",
          "data": {
            "text/html": [
              "<table border=\"1\" class=\"dataframe\">\n",
              "  <thead>\n",
              "    <tr style=\"text-align: left;\">\n",
              "      <th>epoch</th>\n",
              "      <th>train_loss</th>\n",
              "      <th>valid_loss</th>\n",
              "      <th>mean_squared_error</th>\n",
              "      <th>mean_absolute_error</th>\n",
              "      <th>time</th>\n",
              "    </tr>\n",
              "  </thead>\n",
              "  <tbody>\n",
              "    <tr>\n",
              "      <td>0</td>\n",
              "      <td>0.425832</td>\n",
              "      <td>0.543412</td>\n",
              "      <td>0.011569</td>\n",
              "      <td>0.076997</td>\n",
              "      <td>00:14</td>\n",
              "    </tr>\n",
              "    <tr>\n",
              "      <td>1</td>\n",
              "      <td>0.433233</td>\n",
              "      <td>0.621982</td>\n",
              "      <td>0.021310</td>\n",
              "      <td>0.111736</td>\n",
              "      <td>00:14</td>\n",
              "    </tr>\n",
              "    <tr>\n",
              "      <td>2</td>\n",
              "      <td>0.444930</td>\n",
              "      <td>0.560274</td>\n",
              "      <td>0.012834</td>\n",
              "      <td>0.082457</td>\n",
              "      <td>00:14</td>\n",
              "    </tr>\n",
              "    <tr>\n",
              "      <td>3</td>\n",
              "      <td>0.440597</td>\n",
              "      <td>0.550726</td>\n",
              "      <td>0.012259</td>\n",
              "      <td>0.080113</td>\n",
              "      <td>00:14</td>\n",
              "    </tr>\n",
              "    <tr>\n",
              "      <td>4</td>\n",
              "      <td>0.435199</td>\n",
              "      <td>0.543176</td>\n",
              "      <td>0.012059</td>\n",
              "      <td>0.079242</td>\n",
              "      <td>00:14</td>\n",
              "    </tr>\n",
              "    <tr>\n",
              "      <td>5</td>\n",
              "      <td>0.431201</td>\n",
              "      <td>0.541229</td>\n",
              "      <td>0.013058</td>\n",
              "      <td>0.083889</td>\n",
              "      <td>00:15</td>\n",
              "    </tr>\n",
              "    <tr>\n",
              "      <td>6</td>\n",
              "      <td>0.419750</td>\n",
              "      <td>0.519964</td>\n",
              "      <td>0.011508</td>\n",
              "      <td>0.077105</td>\n",
              "      <td>00:14</td>\n",
              "    </tr>\n",
              "    <tr>\n",
              "      <td>7</td>\n",
              "      <td>0.409812</td>\n",
              "      <td>0.511316</td>\n",
              "      <td>0.011407</td>\n",
              "      <td>0.076647</td>\n",
              "      <td>00:15</td>\n",
              "    </tr>\n",
              "    <tr>\n",
              "      <td>8</td>\n",
              "      <td>0.402687</td>\n",
              "      <td>0.506934</td>\n",
              "      <td>0.011491</td>\n",
              "      <td>0.076880</td>\n",
              "      <td>00:14</td>\n",
              "    </tr>\n",
              "    <tr>\n",
              "      <td>9</td>\n",
              "      <td>0.397130</td>\n",
              "      <td>0.506059</td>\n",
              "      <td>0.011422</td>\n",
              "      <td>0.076545</td>\n",
              "      <td>00:14</td>\n",
              "    </tr>\n",
              "  </tbody>\n",
              "</table>"
            ],
            "text/plain": [
              "<IPython.core.display.HTML object>"
            ]
          },
          "metadata": {
            "tags": []
          }
        }
      ]
    },
    {
      "cell_type": "code",
      "metadata": {
        "id": "dIoxBr4ZZrwU",
        "colab_type": "code",
        "colab": {
          "base_uri": "https://localhost:8080/",
          "height": 267
        },
        "outputId": "8c118ac8-5dae-4a2e-816d-2c18c53f9c3a"
      },
      "source": [
        "learn.show_results(rows=1)"
      ],
      "execution_count": 43,
      "outputs": [
        {
          "output_type": "display_data",
          "data": {
            "image/png": "[encoded data removed]",
            "text/plain": [
              "<Figure size 864x288 with 3 Axes>"
            ]
          },
          "metadata": {
            "tags": [],
            "needs_background": "light"
          }
        }
      ]
    },
    {
      "cell_type": "code",
      "metadata": {
        "id": "ntS1XXpBZtXj",
        "colab_type": "code",
        "colab": {}
      },
      "source": [
        "feat_loss = FeatureLoss(vgg_m, blocks[2:5], [100,5,1])\n",
        "learn = Learner(data, autoencoder, loss_func = feat_loss, metrics = [mean_squared_error, mean_absolute_error])"
      ],
      "execution_count": 0,
      "outputs": []
    },
    {
      "cell_type": "code",
      "metadata": {
        "id": "CWMm5jVfaWl5",
        "colab_type": "code",
        "colab": {
          "base_uri": "https://localhost:8080/",
          "height": 359
        },
        "outputId": "2e95b081-8212-494a-9309-1bb44a254cb9"
      },
      "source": [
        "learn.fit_one_cycle(10)"
      ],
      "execution_count": 45,
      "outputs": [
        {
          "output_type": "display_data",
          "data": {
            "text/html": [
              "<table border=\"1\" class=\"dataframe\">\n",
              "  <thead>\n",
              "    <tr style=\"text-align: left;\">\n",
              "      <th>epoch</th>\n",
              "      <th>train_loss</th>\n",
              "      <th>valid_loss</th>\n",
              "      <th>mean_squared_error</th>\n",
              "      <th>mean_absolute_error</th>\n",
              "      <th>time</th>\n",
              "    </tr>\n",
              "  </thead>\n",
              "  <tbody>\n",
              "    <tr>\n",
              "      <td>0</td>\n",
              "      <td>0.741893</td>\n",
              "      <td>0.954195</td>\n",
              "      <td>0.011612</td>\n",
              "      <td>0.077407</td>\n",
              "      <td>00:14</td>\n",
              "    </tr>\n",
              "    <tr>\n",
              "      <td>1</td>\n",
              "      <td>0.751315</td>\n",
              "      <td>0.975359</td>\n",
              "      <td>0.012237</td>\n",
              "      <td>0.079819</td>\n",
              "      <td>00:15</td>\n",
              "    </tr>\n",
              "    <tr>\n",
              "      <td>2</td>\n",
              "      <td>0.765245</td>\n",
              "      <td>0.990872</td>\n",
              "      <td>0.012314</td>\n",
              "      <td>0.080386</td>\n",
              "      <td>00:15</td>\n",
              "    </tr>\n",
              "    <tr>\n",
              "      <td>3</td>\n",
              "      <td>0.773692</td>\n",
              "      <td>0.982020</td>\n",
              "      <td>0.012248</td>\n",
              "      <td>0.080244</td>\n",
              "      <td>00:15</td>\n",
              "    </tr>\n",
              "    <tr>\n",
              "      <td>4</td>\n",
              "      <td>0.765717</td>\n",
              "      <td>0.956762</td>\n",
              "      <td>0.011649</td>\n",
              "      <td>0.078282</td>\n",
              "      <td>00:15</td>\n",
              "    </tr>\n",
              "    <tr>\n",
              "      <td>5</td>\n",
              "      <td>0.751800</td>\n",
              "      <td>0.937109</td>\n",
              "      <td>0.012589</td>\n",
              "      <td>0.081926</td>\n",
              "      <td>00:15</td>\n",
              "    </tr>\n",
              "    <tr>\n",
              "      <td>6</td>\n",
              "      <td>0.736116</td>\n",
              "      <td>0.918604</td>\n",
              "      <td>0.011469</td>\n",
              "      <td>0.077116</td>\n",
              "      <td>00:15</td>\n",
              "    </tr>\n",
              "    <tr>\n",
              "      <td>7</td>\n",
              "      <td>0.720024</td>\n",
              "      <td>0.906763</td>\n",
              "      <td>0.011243</td>\n",
              "      <td>0.075912</td>\n",
              "      <td>00:15</td>\n",
              "    </tr>\n",
              "    <tr>\n",
              "      <td>8</td>\n",
              "      <td>0.705057</td>\n",
              "      <td>0.894896</td>\n",
              "      <td>0.011325</td>\n",
              "      <td>0.076475</td>\n",
              "      <td>00:15</td>\n",
              "    </tr>\n",
              "    <tr>\n",
              "      <td>9</td>\n",
              "      <td>0.696702</td>\n",
              "      <td>0.893565</td>\n",
              "      <td>0.011302</td>\n",
              "      <td>0.076321</td>\n",
              "      <td>00:15</td>\n",
              "    </tr>\n",
              "  </tbody>\n",
              "</table>"
            ],
            "text/plain": [
              "<IPython.core.display.HTML object>"
            ]
          },
          "metadata": {
            "tags": []
          }
        }
      ]
    },
    {
      "cell_type": "code",
      "metadata": {
        "id": "gX9e4z6NaYCY",
        "colab_type": "code",
        "colab": {
          "base_uri": "https://localhost:8080/",
          "height": 267
        },
        "outputId": "c1108a5e-45d3-487c-f7c4-e940149ca382"
      },
      "source": [
        "learn.show_results(rows = 1)"
      ],
      "execution_count": 46,
      "outputs": [
        {
          "output_type": "display_data",
          "data": {
            "image/png": "[encoded data removed]",
            "text/plain": [
              "<Figure size 864x288 with 3 Axes>"
            ]
          },
          "metadata": {
            "tags": [],
            "needs_background": "light"
          }
        }
      ]
    },
    {
      "cell_type": "code",
      "metadata": {
        "id": "_U6kbQWEaZ9Y",
        "colab_type": "code",
        "colab": {}
      },
      "source": [
        "feat_loss = FeatureLoss(vgg_m, blocks[2:5], [100,20,1])\n",
        "learn = Learner(data, autoencoder, loss_func = feat_loss, metrics = [mean_squared_error, mean_absolute_error])"
      ],
      "execution_count": 0,
      "outputs": []
    },
    {
      "cell_type": "code",
      "metadata": {
        "id": "pmPLfnYvbBHF",
        "colab_type": "code",
        "colab": {
          "base_uri": "https://localhost:8080/",
          "height": 359
        },
        "outputId": "c887d8d3-9251-47cb-bef1-95c3dd30cfda"
      },
      "source": [
        "learn.fit_one_cycle(10)"
      ],
      "execution_count": 48,
      "outputs": [
        {
          "output_type": "display_data",
          "data": {
            "text/html": [
              "<table border=\"1\" class=\"dataframe\">\n",
              "  <thead>\n",
              "    <tr style=\"text-align: left;\">\n",
              "      <th>epoch</th>\n",
              "      <th>train_loss</th>\n",
              "      <th>valid_loss</th>\n",
              "      <th>mean_squared_error</th>\n",
              "      <th>mean_absolute_error</th>\n",
              "      <th>time</th>\n",
              "    </tr>\n",
              "  </thead>\n",
              "  <tbody>\n",
              "    <tr>\n",
              "      <td>0</td>\n",
              "      <td>0.728416</td>\n",
              "      <td>0.951452</td>\n",
              "      <td>0.011501</td>\n",
              "      <td>0.077171</td>\n",
              "      <td>00:15</td>\n",
              "    </tr>\n",
              "    <tr>\n",
              "      <td>1</td>\n",
              "      <td>0.737523</td>\n",
              "      <td>0.978592</td>\n",
              "      <td>0.011811</td>\n",
              "      <td>0.078739</td>\n",
              "      <td>00:15</td>\n",
              "    </tr>\n",
              "    <tr>\n",
              "      <td>2</td>\n",
              "      <td>0.756973</td>\n",
              "      <td>0.992249</td>\n",
              "      <td>0.011443</td>\n",
              "      <td>0.077059</td>\n",
              "      <td>00:15</td>\n",
              "    </tr>\n",
              "    <tr>\n",
              "      <td>3</td>\n",
              "      <td>0.772201</td>\n",
              "      <td>1.063069</td>\n",
              "      <td>0.013456</td>\n",
              "      <td>0.085137</td>\n",
              "      <td>00:15</td>\n",
              "    </tr>\n",
              "    <tr>\n",
              "      <td>4</td>\n",
              "      <td>0.779157</td>\n",
              "      <td>0.976406</td>\n",
              "      <td>0.013115</td>\n",
              "      <td>0.084395</td>\n",
              "      <td>00:15</td>\n",
              "    </tr>\n",
              "    <tr>\n",
              "      <td>5</td>\n",
              "      <td>0.761212</td>\n",
              "      <td>0.948649</td>\n",
              "      <td>0.011599</td>\n",
              "      <td>0.077804</td>\n",
              "      <td>00:15</td>\n",
              "    </tr>\n",
              "    <tr>\n",
              "      <td>6</td>\n",
              "      <td>0.740475</td>\n",
              "      <td>0.935272</td>\n",
              "      <td>0.011622</td>\n",
              "      <td>0.077509</td>\n",
              "      <td>00:15</td>\n",
              "    </tr>\n",
              "    <tr>\n",
              "      <td>7</td>\n",
              "      <td>0.723538</td>\n",
              "      <td>0.918281</td>\n",
              "      <td>0.010948</td>\n",
              "      <td>0.074843</td>\n",
              "      <td>00:15</td>\n",
              "    </tr>\n",
              "    <tr>\n",
              "      <td>8</td>\n",
              "      <td>0.708751</td>\n",
              "      <td>0.908987</td>\n",
              "      <td>0.011285</td>\n",
              "      <td>0.076439</td>\n",
              "      <td>00:15</td>\n",
              "    </tr>\n",
              "    <tr>\n",
              "      <td>9</td>\n",
              "      <td>0.698580</td>\n",
              "      <td>0.905721</td>\n",
              "      <td>0.011350</td>\n",
              "      <td>0.076704</td>\n",
              "      <td>00:15</td>\n",
              "    </tr>\n",
              "  </tbody>\n",
              "</table>"
            ],
            "text/plain": [
              "<IPython.core.display.HTML object>"
            ]
          },
          "metadata": {
            "tags": []
          }
        }
      ]
    },
    {
      "cell_type": "code",
      "metadata": {
        "id": "O_TX78sObDW0",
        "colab_type": "code",
        "colab": {
          "base_uri": "https://localhost:8080/",
          "height": 267
        },
        "outputId": "77e5229c-ed84-4346-921d-9cd5fccd0fc3"
      },
      "source": [
        "learn.show_results(rows = 1)"
      ],
      "execution_count": 49,
      "outputs": [
        {
          "output_type": "display_data",
          "data": {
            "image/png": "[encoded data removed]",
            "text/plain": [
              "<Figure size 864x288 with 3 Axes>"
            ]
          },
          "metadata": {
            "tags": [],
            "needs_background": "light"
          }
        }
      ]
    },
    {
      "cell_type": "code",
      "metadata": {
        "id": "G2QJN9F4bFZf",
        "colab_type": "code",
        "colab": {}
      },
      "source": [
        "feat_loss = FeatureLoss(vgg_m, blocks[2:5], [100,100,1])\n",
        "learn = Learner(data, autoencoder, loss_func = feat_loss, metrics = [mean_squared_error, mean_absolute_error])"
      ],
      "execution_count": 0,
      "outputs": []
    },
    {
      "cell_type": "code",
      "metadata": {
        "id": "gKaUuPP2bsfC",
        "colab_type": "code",
        "colab": {
          "base_uri": "https://localhost:8080/",
          "height": 359
        },
        "outputId": "7a320c0e-b276-4e85-dad3-06c56a95d7dc"
      },
      "source": [
        "learn.fit_one_cycle(10)"
      ],
      "execution_count": 51,
      "outputs": [
        {
          "output_type": "display_data",
          "data": {
            "text/html": [
              "<table border=\"1\" class=\"dataframe\">\n",
              "  <thead>\n",
              "    <tr style=\"text-align: left;\">\n",
              "      <th>epoch</th>\n",
              "      <th>train_loss</th>\n",
              "      <th>valid_loss</th>\n",
              "      <th>mean_squared_error</th>\n",
              "      <th>mean_absolute_error</th>\n",
              "      <th>time</th>\n",
              "    </tr>\n",
              "  </thead>\n",
              "  <tbody>\n",
              "    <tr>\n",
              "      <td>0</td>\n",
              "      <td>0.886389</td>\n",
              "      <td>1.185578</td>\n",
              "      <td>0.011683</td>\n",
              "      <td>0.077933</td>\n",
              "      <td>00:15</td>\n",
              "    </tr>\n",
              "    <tr>\n",
              "      <td>1</td>\n",
              "      <td>0.902811</td>\n",
              "      <td>1.221814</td>\n",
              "      <td>0.013388</td>\n",
              "      <td>0.086033</td>\n",
              "      <td>00:15</td>\n",
              "    </tr>\n",
              "    <tr>\n",
              "      <td>2</td>\n",
              "      <td>0.940755</td>\n",
              "      <td>1.255646</td>\n",
              "      <td>0.012096</td>\n",
              "      <td>0.079308</td>\n",
              "      <td>00:15</td>\n",
              "    </tr>\n",
              "    <tr>\n",
              "      <td>3</td>\n",
              "      <td>0.953140</td>\n",
              "      <td>1.244487</td>\n",
              "      <td>0.012162</td>\n",
              "      <td>0.079843</td>\n",
              "      <td>00:15</td>\n",
              "    </tr>\n",
              "    <tr>\n",
              "      <td>4</td>\n",
              "      <td>0.948211</td>\n",
              "      <td>1.225348</td>\n",
              "      <td>0.012472</td>\n",
              "      <td>0.081104</td>\n",
              "      <td>00:15</td>\n",
              "    </tr>\n",
              "    <tr>\n",
              "      <td>5</td>\n",
              "      <td>0.933258</td>\n",
              "      <td>1.195480</td>\n",
              "      <td>0.012099</td>\n",
              "      <td>0.079593</td>\n",
              "      <td>00:15</td>\n",
              "    </tr>\n",
              "    <tr>\n",
              "      <td>6</td>\n",
              "      <td>0.913670</td>\n",
              "      <td>1.170987</td>\n",
              "      <td>0.011856</td>\n",
              "      <td>0.078763</td>\n",
              "      <td>00:15</td>\n",
              "    </tr>\n",
              "    <tr>\n",
              "      <td>7</td>\n",
              "      <td>0.893293</td>\n",
              "      <td>1.156458</td>\n",
              "      <td>0.011799</td>\n",
              "      <td>0.078629</td>\n",
              "      <td>00:15</td>\n",
              "    </tr>\n",
              "    <tr>\n",
              "      <td>8</td>\n",
              "      <td>0.873781</td>\n",
              "      <td>1.144719</td>\n",
              "      <td>0.011528</td>\n",
              "      <td>0.077280</td>\n",
              "      <td>00:15</td>\n",
              "    </tr>\n",
              "    <tr>\n",
              "      <td>9</td>\n",
              "      <td>0.858924</td>\n",
              "      <td>1.141017</td>\n",
              "      <td>0.011476</td>\n",
              "      <td>0.076963</td>\n",
              "      <td>00:15</td>\n",
              "    </tr>\n",
              "  </tbody>\n",
              "</table>"
            ],
            "text/plain": [
              "<IPython.core.display.HTML object>"
            ]
          },
          "metadata": {
            "tags": []
          }
        }
      ]
    },
    {
      "cell_type": "code",
      "metadata": {
        "id": "ZYrd5AtjbuVM",
        "colab_type": "code",
        "colab": {
          "base_uri": "https://localhost:8080/",
          "height": 267
        },
        "outputId": "484ba540-0066-4704-b39d-e6a95983c96b"
      },
      "source": [
        "learn.show_results(rows=1)"
      ],
      "execution_count": 52,
      "outputs": [
        {
          "output_type": "display_data",
          "data": {
            "image/png": "[encoded data removed]",
            "text/plain": [
              "<Figure size 864x288 with 3 Axes>"
            ]
          },
          "metadata": {
            "tags": [],
            "needs_background": "light"
          }
        }
      ]
    },
    {
      "cell_type": "code",
      "metadata": {
        "id": "Dr-ryPKObwl5",
        "colab_type": "code",
        "colab": {}
      },
      "source": [
        "feat_loss = FeatureLoss(vgg_m, blocks[2:5], [100,100,100])\n",
        "learn = Learner(data, autoencoder, loss_func = feat_loss, metrics = [mean_squared_error, mean_absolute_error])"
      ],
      "execution_count": 0,
      "outputs": []
    },
    {
      "cell_type": "code",
      "metadata": {
        "id": "kwSKnC90cZ-l",
        "colab_type": "code",
        "colab": {
          "base_uri": "https://localhost:8080/",
          "height": 359
        },
        "outputId": "d407888f-9336-426c-fc27-632a461cd5b0"
      },
      "source": [
        "learn.fit_one_cycle(10)"
      ],
      "execution_count": 54,
      "outputs": [
        {
          "output_type": "display_data",
          "data": {
            "text/html": [
              "<table border=\"1\" class=\"dataframe\">\n",
              "  <thead>\n",
              "    <tr style=\"text-align: left;\">\n",
              "      <th>epoch</th>\n",
              "      <th>train_loss</th>\n",
              "      <th>valid_loss</th>\n",
              "      <th>mean_squared_error</th>\n",
              "      <th>mean_absolute_error</th>\n",
              "      <th>time</th>\n",
              "    </tr>\n",
              "  </thead>\n",
              "  <tbody>\n",
              "    <tr>\n",
              "      <td>0</td>\n",
              "      <td>3.542583</td>\n",
              "      <td>5.075800</td>\n",
              "      <td>0.012394</td>\n",
              "      <td>0.080691</td>\n",
              "      <td>00:16</td>\n",
              "    </tr>\n",
              "    <tr>\n",
              "      <td>1</td>\n",
              "      <td>3.692981</td>\n",
              "      <td>5.524908</td>\n",
              "      <td>0.015510</td>\n",
              "      <td>0.092092</td>\n",
              "      <td>00:15</td>\n",
              "    </tr>\n",
              "    <tr>\n",
              "      <td>2</td>\n",
              "      <td>4.071268</td>\n",
              "      <td>5.963588</td>\n",
              "      <td>0.014703</td>\n",
              "      <td>0.089196</td>\n",
              "      <td>00:15</td>\n",
              "    </tr>\n",
              "    <tr>\n",
              "      <td>3</td>\n",
              "      <td>4.296169</td>\n",
              "      <td>5.977787</td>\n",
              "      <td>0.015446</td>\n",
              "      <td>0.091760</td>\n",
              "      <td>00:15</td>\n",
              "    </tr>\n",
              "    <tr>\n",
              "      <td>4</td>\n",
              "      <td>4.335386</td>\n",
              "      <td>5.940011</td>\n",
              "      <td>0.016077</td>\n",
              "      <td>0.094719</td>\n",
              "      <td>00:15</td>\n",
              "    </tr>\n",
              "    <tr>\n",
              "      <td>5</td>\n",
              "      <td>4.286382</td>\n",
              "      <td>5.696546</td>\n",
              "      <td>0.015297</td>\n",
              "      <td>0.090980</td>\n",
              "      <td>00:15</td>\n",
              "    </tr>\n",
              "    <tr>\n",
              "      <td>6</td>\n",
              "      <td>4.144349</td>\n",
              "      <td>5.586316</td>\n",
              "      <td>0.014045</td>\n",
              "      <td>0.086649</td>\n",
              "      <td>00:15</td>\n",
              "    </tr>\n",
              "    <tr>\n",
              "      <td>7</td>\n",
              "      <td>3.960616</td>\n",
              "      <td>5.386565</td>\n",
              "      <td>0.014710</td>\n",
              "      <td>0.088968</td>\n",
              "      <td>00:15</td>\n",
              "    </tr>\n",
              "    <tr>\n",
              "      <td>8</td>\n",
              "      <td>3.790259</td>\n",
              "      <td>5.327537</td>\n",
              "      <td>0.014480</td>\n",
              "      <td>0.088555</td>\n",
              "      <td>00:15</td>\n",
              "    </tr>\n",
              "    <tr>\n",
              "      <td>9</td>\n",
              "      <td>3.682356</td>\n",
              "      <td>5.297013</td>\n",
              "      <td>0.014464</td>\n",
              "      <td>0.088215</td>\n",
              "      <td>00:15</td>\n",
              "    </tr>\n",
              "  </tbody>\n",
              "</table>"
            ],
            "text/plain": [
              "<IPython.core.display.HTML object>"
            ]
          },
          "metadata": {
            "tags": []
          }
        }
      ]
    },
    {
      "cell_type": "code",
      "metadata": {
        "id": "YSswTzYbccGt",
        "colab_type": "code",
        "colab": {
          "base_uri": "https://localhost:8080/",
          "height": 267
        },
        "outputId": "984bcb6b-b66a-4c0c-a3c2-66f991197381"
      },
      "source": [
        "learn.show_results(rows = 1)"
      ],
      "execution_count": 55,
      "outputs": [
        {
          "output_type": "display_data",
          "data": {
            "image/png": "[encoded data removed]",
            "text/plain": [
              "<Figure size 864x288 with 3 Axes>"
            ]
          },
          "metadata": {
            "tags": [],
            "needs_background": "light"
          }
        }
      ]
    },
    {
      "cell_type": "code",
      "metadata": {
        "id": "ugyQkZ-hceX1",
        "colab_type": "code",
        "colab": {}
      },
      "source": [
        "feat_loss = FeatureLoss(vgg_m, blocks[2:5], [200,150,100])\n",
        "learn = Learner(data, autoencoder, loss_func = feat_loss, metrics = [mean_squared_error, mean_absolute_error])"
      ],
      "execution_count": 0,
      "outputs": []
    },
    {
      "cell_type": "code",
      "metadata": {
        "id": "r2ZeyLyldDzB",
        "colab_type": "code",
        "colab": {
          "base_uri": "https://localhost:8080/",
          "height": 359
        },
        "outputId": "5503f9e9-40de-4c0d-ffca-5adb5a93644d"
      },
      "source": [
        "learn.fit_one_cycle(10)"
      ],
      "execution_count": 57,
      "outputs": [
        {
          "output_type": "display_data",
          "data": {
            "text/html": [
              "<table border=\"1\" class=\"dataframe\">\n",
              "  <thead>\n",
              "    <tr style=\"text-align: left;\">\n",
              "      <th>epoch</th>\n",
              "      <th>train_loss</th>\n",
              "      <th>valid_loss</th>\n",
              "      <th>mean_squared_error</th>\n",
              "      <th>mean_absolute_error</th>\n",
              "      <th>time</th>\n",
              "    </tr>\n",
              "  </thead>\n",
              "  <tbody>\n",
              "    <tr>\n",
              "      <td>0</td>\n",
              "      <td>4.420781</td>\n",
              "      <td>6.446603</td>\n",
              "      <td>0.014140</td>\n",
              "      <td>0.087169</td>\n",
              "      <td>00:15</td>\n",
              "    </tr>\n",
              "    <tr>\n",
              "      <td>1</td>\n",
              "      <td>4.539538</td>\n",
              "      <td>6.689621</td>\n",
              "      <td>0.015162</td>\n",
              "      <td>0.091169</td>\n",
              "      <td>00:15</td>\n",
              "    </tr>\n",
              "    <tr>\n",
              "      <td>2</td>\n",
              "      <td>4.852618</td>\n",
              "      <td>7.125234</td>\n",
              "      <td>0.017661</td>\n",
              "      <td>0.099549</td>\n",
              "      <td>00:15</td>\n",
              "    </tr>\n",
              "    <tr>\n",
              "      <td>3</td>\n",
              "      <td>5.053510</td>\n",
              "      <td>7.016796</td>\n",
              "      <td>0.015072</td>\n",
              "      <td>0.090168</td>\n",
              "      <td>00:14</td>\n",
              "    </tr>\n",
              "    <tr>\n",
              "      <td>4</td>\n",
              "      <td>5.095123</td>\n",
              "      <td>7.048422</td>\n",
              "      <td>0.017140</td>\n",
              "      <td>0.098825</td>\n",
              "      <td>00:15</td>\n",
              "    </tr>\n",
              "    <tr>\n",
              "      <td>5</td>\n",
              "      <td>5.011776</td>\n",
              "      <td>6.804855</td>\n",
              "      <td>0.015079</td>\n",
              "      <td>0.090612</td>\n",
              "      <td>00:15</td>\n",
              "    </tr>\n",
              "    <tr>\n",
              "      <td>6</td>\n",
              "      <td>4.844601</td>\n",
              "      <td>6.633294</td>\n",
              "      <td>0.014521</td>\n",
              "      <td>0.088248</td>\n",
              "      <td>00:15</td>\n",
              "    </tr>\n",
              "    <tr>\n",
              "      <td>7</td>\n",
              "      <td>4.668060</td>\n",
              "      <td>6.405796</td>\n",
              "      <td>0.014281</td>\n",
              "      <td>0.087973</td>\n",
              "      <td>00:15</td>\n",
              "    </tr>\n",
              "    <tr>\n",
              "      <td>8</td>\n",
              "      <td>4.482701</td>\n",
              "      <td>6.309931</td>\n",
              "      <td>0.014179</td>\n",
              "      <td>0.087192</td>\n",
              "      <td>00:15</td>\n",
              "    </tr>\n",
              "    <tr>\n",
              "      <td>9</td>\n",
              "      <td>4.351063</td>\n",
              "      <td>6.291477</td>\n",
              "      <td>0.014320</td>\n",
              "      <td>0.087857</td>\n",
              "      <td>00:15</td>\n",
              "    </tr>\n",
              "  </tbody>\n",
              "</table>"
            ],
            "text/plain": [
              "<IPython.core.display.HTML object>"
            ]
          },
          "metadata": {
            "tags": []
          }
        }
      ]
    },
    {
      "cell_type": "code",
      "metadata": {
        "id": "vOuEWwm5dF9Z",
        "colab_type": "code",
        "colab": {
          "base_uri": "https://localhost:8080/",
          "height": 267
        },
        "outputId": "55f52335-c168-45ff-b0d0-f6afa52970e1"
      },
      "source": [
        "learn.show_results(rows = 1)"
      ],
      "execution_count": 58,
      "outputs": [
        {
          "output_type": "display_data",
          "data": {
            "image/png": "[encoded data removed]",
            "text/plain": [
              "<Figure size 864x288 with 3 Axes>"
            ]
          },
          "metadata": {
            "tags": [],
            "needs_background": "light"
          }
        }
      ]
    },
    {
      "cell_type": "code",
      "metadata": {
        "id": "s0lZUkrbdIDi",
        "colab_type": "code",
        "colab": {}
      },
      "source": [
        "feat_loss = FeatureLoss(vgg_m, blocks[2:5], [200,0,0])\n",
        "learn = Learner(data, autoencoder, loss_func = feat_loss, metrics = [mean_squared_error, mean_absolute_error])"
      ],
      "execution_count": 0,
      "outputs": []
    },
    {
      "cell_type": "code",
      "metadata": {
        "id": "WEQFUV74dhDc",
        "colab_type": "code",
        "colab": {
          "base_uri": "https://localhost:8080/",
          "height": 359
        },
        "outputId": "add05f34-44c6-4fe6-d603-adb404620a62"
      },
      "source": [
        "learn.fit_one_cycle(10)"
      ],
      "execution_count": 60,
      "outputs": [
        {
          "output_type": "display_data",
          "data": {
            "text/html": [
              "<table border=\"1\" class=\"dataframe\">\n",
              "  <thead>\n",
              "    <tr style=\"text-align: left;\">\n",
              "      <th>epoch</th>\n",
              "      <th>train_loss</th>\n",
              "      <th>valid_loss</th>\n",
              "      <th>mean_squared_error</th>\n",
              "      <th>mean_absolute_error</th>\n",
              "      <th>time</th>\n",
              "    </tr>\n",
              "  </thead>\n",
              "  <tbody>\n",
              "    <tr>\n",
              "      <td>0</td>\n",
              "      <td>1.377700</td>\n",
              "      <td>1.723017</td>\n",
              "      <td>0.013189</td>\n",
              "      <td>0.083948</td>\n",
              "      <td>00:15</td>\n",
              "    </tr>\n",
              "    <tr>\n",
              "      <td>1</td>\n",
              "      <td>1.335421</td>\n",
              "      <td>1.725932</td>\n",
              "      <td>0.012685</td>\n",
              "      <td>0.082334</td>\n",
              "      <td>00:15</td>\n",
              "    </tr>\n",
              "    <tr>\n",
              "      <td>2</td>\n",
              "      <td>1.326669</td>\n",
              "      <td>1.700024</td>\n",
              "      <td>0.012138</td>\n",
              "      <td>0.080468</td>\n",
              "      <td>00:15</td>\n",
              "    </tr>\n",
              "    <tr>\n",
              "      <td>3</td>\n",
              "      <td>1.310726</td>\n",
              "      <td>1.648993</td>\n",
              "      <td>0.012045</td>\n",
              "      <td>0.079795</td>\n",
              "      <td>00:15</td>\n",
              "    </tr>\n",
              "    <tr>\n",
              "      <td>4</td>\n",
              "      <td>1.280503</td>\n",
              "      <td>1.615991</td>\n",
              "      <td>0.011790</td>\n",
              "      <td>0.078979</td>\n",
              "      <td>00:15</td>\n",
              "    </tr>\n",
              "    <tr>\n",
              "      <td>5</td>\n",
              "      <td>1.252135</td>\n",
              "      <td>1.575419</td>\n",
              "      <td>0.012254</td>\n",
              "      <td>0.080996</td>\n",
              "      <td>00:15</td>\n",
              "    </tr>\n",
              "    <tr>\n",
              "      <td>6</td>\n",
              "      <td>1.225052</td>\n",
              "      <td>1.571386</td>\n",
              "      <td>0.013121</td>\n",
              "      <td>0.085372</td>\n",
              "      <td>00:15</td>\n",
              "    </tr>\n",
              "    <tr>\n",
              "      <td>7</td>\n",
              "      <td>1.197031</td>\n",
              "      <td>1.528332</td>\n",
              "      <td>0.011084</td>\n",
              "      <td>0.075748</td>\n",
              "      <td>00:15</td>\n",
              "    </tr>\n",
              "    <tr>\n",
              "      <td>8</td>\n",
              "      <td>1.171269</td>\n",
              "      <td>1.513008</td>\n",
              "      <td>0.011232</td>\n",
              "      <td>0.076586</td>\n",
              "      <td>00:15</td>\n",
              "    </tr>\n",
              "    <tr>\n",
              "      <td>9</td>\n",
              "      <td>1.151976</td>\n",
              "      <td>1.508689</td>\n",
              "      <td>0.011206</td>\n",
              "      <td>0.076397</td>\n",
              "      <td>00:15</td>\n",
              "    </tr>\n",
              "  </tbody>\n",
              "</table>"
            ],
            "text/plain": [
              "<IPython.core.display.HTML object>"
            ]
          },
          "metadata": {
            "tags": []
          }
        }
      ]
    },
    {
      "cell_type": "code",
      "metadata": {
        "id": "YlI71g4sdize",
        "colab_type": "code",
        "colab": {
          "base_uri": "https://localhost:8080/",
          "height": 267
        },
        "outputId": "efc222b0-24ee-4f79-99fb-1b0ef9b088fc"
      },
      "source": [
        "learn.show_results(rows = 1)"
      ],
      "execution_count": 61,
      "outputs": [
        {
          "output_type": "display_data",
          "data": {
            "image/png": "[encoded data removed]",
            "text/plain": [
              "<Figure size 864x288 with 3 Axes>"
            ]
          },
          "metadata": {
            "tags": [],
            "needs_background": "light"
          }
        }
      ]
    },
    {
      "cell_type": "code",
      "metadata": {
        "id": "tg-8wQiedkOM",
        "colab_type": "code",
        "colab": {}
      },
      "source": [
        "feat_loss = FeatureLoss(vgg_m, blocks[2:5], [200,100,0])\n",
        "learn = Learner(data, autoencoder, loss_func = feat_loss, metrics = [mean_squared_error, mean_absolute_error])"
      ],
      "execution_count": 0,
      "outputs": []
    },
    {
      "cell_type": "code",
      "metadata": {
        "id": "1tpxwe52eBtf",
        "colab_type": "code",
        "colab": {
          "base_uri": "https://localhost:8080/",
          "height": 359
        },
        "outputId": "45d850d7-f27f-40b5-c1d4-5ff188a6ca9b"
      },
      "source": [
        "learn.fit_one_cycle(10)"
      ],
      "execution_count": 63,
      "outputs": [
        {
          "output_type": "display_data",
          "data": {
            "text/html": [
              "<table border=\"1\" class=\"dataframe\">\n",
              "  <thead>\n",
              "    <tr style=\"text-align: left;\">\n",
              "      <th>epoch</th>\n",
              "      <th>train_loss</th>\n",
              "      <th>valid_loss</th>\n",
              "      <th>mean_squared_error</th>\n",
              "      <th>mean_absolute_error</th>\n",
              "      <th>time</th>\n",
              "    </tr>\n",
              "  </thead>\n",
              "  <tbody>\n",
              "    <tr>\n",
              "      <td>0</td>\n",
              "      <td>1.369919</td>\n",
              "      <td>1.834557</td>\n",
              "      <td>0.011486</td>\n",
              "      <td>0.077566</td>\n",
              "      <td>00:14</td>\n",
              "    </tr>\n",
              "    <tr>\n",
              "      <td>1</td>\n",
              "      <td>1.408942</td>\n",
              "      <td>2.201133</td>\n",
              "      <td>0.020048</td>\n",
              "      <td>0.110472</td>\n",
              "      <td>00:14</td>\n",
              "    </tr>\n",
              "    <tr>\n",
              "      <td>2</td>\n",
              "      <td>1.467567</td>\n",
              "      <td>1.935621</td>\n",
              "      <td>0.013245</td>\n",
              "      <td>0.085616</td>\n",
              "      <td>00:15</td>\n",
              "    </tr>\n",
              "    <tr>\n",
              "      <td>3</td>\n",
              "      <td>1.464368</td>\n",
              "      <td>1.910304</td>\n",
              "      <td>0.012834</td>\n",
              "      <td>0.083857</td>\n",
              "      <td>00:15</td>\n",
              "    </tr>\n",
              "    <tr>\n",
              "      <td>4</td>\n",
              "      <td>1.448609</td>\n",
              "      <td>1.892098</td>\n",
              "      <td>0.012171</td>\n",
              "      <td>0.080382</td>\n",
              "      <td>00:15</td>\n",
              "    </tr>\n",
              "    <tr>\n",
              "      <td>5</td>\n",
              "      <td>1.424173</td>\n",
              "      <td>1.846948</td>\n",
              "      <td>0.012352</td>\n",
              "      <td>0.081833</td>\n",
              "      <td>00:15</td>\n",
              "    </tr>\n",
              "    <tr>\n",
              "      <td>6</td>\n",
              "      <td>1.394783</td>\n",
              "      <td>1.819489</td>\n",
              "      <td>0.011315</td>\n",
              "      <td>0.076851</td>\n",
              "      <td>00:15</td>\n",
              "    </tr>\n",
              "    <tr>\n",
              "      <td>7</td>\n",
              "      <td>1.365478</td>\n",
              "      <td>1.795678</td>\n",
              "      <td>0.011948</td>\n",
              "      <td>0.080060</td>\n",
              "      <td>00:15</td>\n",
              "    </tr>\n",
              "    <tr>\n",
              "      <td>8</td>\n",
              "      <td>1.338233</td>\n",
              "      <td>1.774261</td>\n",
              "      <td>0.011425</td>\n",
              "      <td>0.077314</td>\n",
              "      <td>00:15</td>\n",
              "    </tr>\n",
              "    <tr>\n",
              "      <td>9</td>\n",
              "      <td>1.321314</td>\n",
              "      <td>1.771270</td>\n",
              "      <td>0.011346</td>\n",
              "      <td>0.077130</td>\n",
              "      <td>00:15</td>\n",
              "    </tr>\n",
              "  </tbody>\n",
              "</table>"
            ],
            "text/plain": [
              "<IPython.core.display.HTML object>"
            ]
          },
          "metadata": {
            "tags": []
          }
        }
      ]
    },
    {
      "cell_type": "code",
      "metadata": {
        "id": "thEmpBafeDQp",
        "colab_type": "code",
        "colab": {
          "base_uri": "https://localhost:8080/",
          "height": 267
        },
        "outputId": "767e071a-73bd-4cac-ffe8-0cbc1e80f898"
      },
      "source": [
        "learn.show_results(rows=1)"
      ],
      "execution_count": 64,
      "outputs": [
        {
          "output_type": "display_data",
          "data": {
            "image/png": "[encoded data removed]",
            "text/plain": [
              "<Figure size 864x288 with 3 Axes>"
            ]
          },
          "metadata": {
            "tags": [],
            "needs_background": "light"
          }
        }
      ]
    },
    {
      "cell_type": "code",
      "metadata": {
        "id": "KCqwFr8peE7n",
        "colab_type": "code",
        "colab": {}
      },
      "source": [
        "feat_loss = FeatureLoss(vgg_m, blocks[2:5], [0,0,200])\n",
        "learn = Learner(data, autoencoder, loss_func = feat_loss, metrics = [mean_squared_error, mean_absolute_error])"
      ],
      "execution_count": 0,
      "outputs": []
    },
    {
      "cell_type": "code",
      "metadata": {
        "id": "azlTwm9-fEEu",
        "colab_type": "code",
        "colab": {
          "base_uri": "https://localhost:8080/",
          "height": 359
        },
        "outputId": "ceb6e744-8174-40ac-ebf8-7f9edd5c8d38"
      },
      "source": [
        "learn.fit_one_cycle(10)"
      ],
      "execution_count": 66,
      "outputs": [
        {
          "output_type": "display_data",
          "data": {
            "text/html": [
              "<table border=\"1\" class=\"dataframe\">\n",
              "  <thead>\n",
              "    <tr style=\"text-align: left;\">\n",
              "      <th>epoch</th>\n",
              "      <th>train_loss</th>\n",
              "      <th>valid_loss</th>\n",
              "      <th>mean_squared_error</th>\n",
              "      <th>mean_absolute_error</th>\n",
              "      <th>time</th>\n",
              "    </tr>\n",
              "  </thead>\n",
              "  <tbody>\n",
              "    <tr>\n",
              "      <td>0</td>\n",
              "      <td>5.819615</td>\n",
              "      <td>8.980763</td>\n",
              "      <td>0.013220</td>\n",
              "      <td>0.084512</td>\n",
              "      <td>00:15</td>\n",
              "    </tr>\n",
              "    <tr>\n",
              "      <td>1</td>\n",
              "      <td>6.123449</td>\n",
              "      <td>9.678098</td>\n",
              "      <td>0.013605</td>\n",
              "      <td>0.085356</td>\n",
              "      <td>00:15</td>\n",
              "    </tr>\n",
              "    <tr>\n",
              "      <td>2</td>\n",
              "      <td>6.828564</td>\n",
              "      <td>10.413152</td>\n",
              "      <td>0.016391</td>\n",
              "      <td>0.094808</td>\n",
              "      <td>00:15</td>\n",
              "    </tr>\n",
              "    <tr>\n",
              "      <td>3</td>\n",
              "      <td>7.306499</td>\n",
              "      <td>10.630172</td>\n",
              "      <td>0.018696</td>\n",
              "      <td>0.104153</td>\n",
              "      <td>00:15</td>\n",
              "    </tr>\n",
              "    <tr>\n",
              "      <td>4</td>\n",
              "      <td>7.495400</td>\n",
              "      <td>10.397902</td>\n",
              "      <td>0.015134</td>\n",
              "      <td>0.090665</td>\n",
              "      <td>00:14</td>\n",
              "    </tr>\n",
              "    <tr>\n",
              "      <td>5</td>\n",
              "      <td>7.384983</td>\n",
              "      <td>10.006957</td>\n",
              "      <td>0.016918</td>\n",
              "      <td>0.097460</td>\n",
              "      <td>00:15</td>\n",
              "    </tr>\n",
              "    <tr>\n",
              "      <td>6</td>\n",
              "      <td>7.082423</td>\n",
              "      <td>9.726743</td>\n",
              "      <td>0.015563</td>\n",
              "      <td>0.092258</td>\n",
              "      <td>00:15</td>\n",
              "    </tr>\n",
              "    <tr>\n",
              "      <td>7</td>\n",
              "      <td>6.723356</td>\n",
              "      <td>9.566314</td>\n",
              "      <td>0.015350</td>\n",
              "      <td>0.091823</td>\n",
              "      <td>00:15</td>\n",
              "    </tr>\n",
              "    <tr>\n",
              "      <td>8</td>\n",
              "      <td>6.399879</td>\n",
              "      <td>9.362243</td>\n",
              "      <td>0.014566</td>\n",
              "      <td>0.089350</td>\n",
              "      <td>00:15</td>\n",
              "    </tr>\n",
              "    <tr>\n",
              "      <td>9</td>\n",
              "      <td>6.150178</td>\n",
              "      <td>9.305782</td>\n",
              "      <td>0.014560</td>\n",
              "      <td>0.089220</td>\n",
              "      <td>00:15</td>\n",
              "    </tr>\n",
              "  </tbody>\n",
              "</table>"
            ],
            "text/plain": [
              "<IPython.core.display.HTML object>"
            ]
          },
          "metadata": {
            "tags": []
          }
        }
      ]
    },
    {
      "cell_type": "code",
      "metadata": {
        "id": "Awg6vjDqfFs-",
        "colab_type": "code",
        "colab": {
          "base_uri": "https://localhost:8080/",
          "height": 267
        },
        "outputId": "4b4b7740-a846-42bc-db1e-2af630a9da29"
      },
      "source": [
        "learn.show_results(rows = 1)"
      ],
      "execution_count": 67,
      "outputs": [
        {
          "output_type": "display_data",
          "data": {
            "image/png": "[encoded data removed]",
            "text/plain": [
              "<Figure size 864x288 with 3 Axes>"
            ]
          },
          "metadata": {
            "tags": [],
            "needs_background": "light"
          }
        }
      ]
    },
    {
      "cell_type": "code",
      "metadata": {
        "id": "g6DvpB5BfHpq",
        "colab_type": "code",
        "colab": {}
      },
      "source": [
        "feat_loss = FeatureLoss(vgg_m, blocks[2:5], [500,500,500])\n",
        "learn = Learner(data, autoencoder, loss_func = feat_loss, metrics = [mean_squared_error, mean_absolute_error])"
      ],
      "execution_count": 0,
      "outputs": []
    },
    {
      "cell_type": "code",
      "metadata": {
        "id": "m4ql7uJAfxiS",
        "colab_type": "code",
        "colab": {
          "base_uri": "https://localhost:8080/",
          "height": 359
        },
        "outputId": "673cec45-137b-41e6-d3b2-3cf49724e4eb"
      },
      "source": [
        "learn.fit_one_cycle(10)"
      ],
      "execution_count": 69,
      "outputs": [
        {
          "output_type": "display_data",
          "data": {
            "text/html": [
              "<table border=\"1\" class=\"dataframe\">\n",
              "  <thead>\n",
              "    <tr style=\"text-align: left;\">\n",
              "      <th>epoch</th>\n",
              "      <th>train_loss</th>\n",
              "      <th>valid_loss</th>\n",
              "      <th>mean_squared_error</th>\n",
              "      <th>mean_absolute_error</th>\n",
              "      <th>time</th>\n",
              "    </tr>\n",
              "  </thead>\n",
              "  <tbody>\n",
              "    <tr>\n",
              "      <td>0</td>\n",
              "      <td>26.265480</td>\n",
              "      <td>40.077648</td>\n",
              "      <td>0.014115</td>\n",
              "      <td>0.087088</td>\n",
              "      <td>00:15</td>\n",
              "    </tr>\n",
              "    <tr>\n",
              "      <td>1</td>\n",
              "      <td>26.878855</td>\n",
              "      <td>41.847054</td>\n",
              "      <td>0.016864</td>\n",
              "      <td>0.096994</td>\n",
              "      <td>00:14</td>\n",
              "    </tr>\n",
              "    <tr>\n",
              "      <td>2</td>\n",
              "      <td>28.670298</td>\n",
              "      <td>43.786232</td>\n",
              "      <td>0.017313</td>\n",
              "      <td>0.098776</td>\n",
              "      <td>00:15</td>\n",
              "    </tr>\n",
              "    <tr>\n",
              "      <td>3</td>\n",
              "      <td>30.080954</td>\n",
              "      <td>44.431770</td>\n",
              "      <td>0.018762</td>\n",
              "      <td>0.103354</td>\n",
              "      <td>00:14</td>\n",
              "    </tr>\n",
              "    <tr>\n",
              "      <td>4</td>\n",
              "      <td>30.582525</td>\n",
              "      <td>44.121681</td>\n",
              "      <td>0.017221</td>\n",
              "      <td>0.098788</td>\n",
              "      <td>00:14</td>\n",
              "    </tr>\n",
              "    <tr>\n",
              "      <td>5</td>\n",
              "      <td>30.125635</td>\n",
              "      <td>42.460144</td>\n",
              "      <td>0.017750</td>\n",
              "      <td>0.100136</td>\n",
              "      <td>00:15</td>\n",
              "    </tr>\n",
              "    <tr>\n",
              "      <td>6</td>\n",
              "      <td>29.089636</td>\n",
              "      <td>41.594311</td>\n",
              "      <td>0.017013</td>\n",
              "      <td>0.098363</td>\n",
              "      <td>00:15</td>\n",
              "    </tr>\n",
              "    <tr>\n",
              "      <td>7</td>\n",
              "      <td>27.745398</td>\n",
              "      <td>40.543907</td>\n",
              "      <td>0.016387</td>\n",
              "      <td>0.095763</td>\n",
              "      <td>00:15</td>\n",
              "    </tr>\n",
              "    <tr>\n",
              "      <td>8</td>\n",
              "      <td>26.813822</td>\n",
              "      <td>40.024448</td>\n",
              "      <td>0.016739</td>\n",
              "      <td>0.097429</td>\n",
              "      <td>00:15</td>\n",
              "    </tr>\n",
              "    <tr>\n",
              "      <td>9</td>\n",
              "      <td>25.991482</td>\n",
              "      <td>39.796581</td>\n",
              "      <td>0.016160</td>\n",
              "      <td>0.095177</td>\n",
              "      <td>00:15</td>\n",
              "    </tr>\n",
              "  </tbody>\n",
              "</table>"
            ],
            "text/plain": [
              "<IPython.core.display.HTML object>"
            ]
          },
          "metadata": {
            "tags": []
          }
        }
      ]
    },
    {
      "cell_type": "code",
      "metadata": {
        "id": "2QX9IFCkfzCi",
        "colab_type": "code",
        "colab": {
          "base_uri": "https://localhost:8080/",
          "height": 267
        },
        "outputId": "faaed1e7-3c6b-4254-902a-aafcc2f3e7d2"
      },
      "source": [
        "learn.show_results(rows=1)"
      ],
      "execution_count": 70,
      "outputs": [
        {
          "output_type": "display_data",
          "data": {
            "image/png": "[encoded data removed]",
            "text/plain": [
              "<Figure size 864x288 with 3 Axes>"
            ]
          },
          "metadata": {
            "tags": [],
            "needs_background": "light"
          }
        }
      ]
    },
    {
      "cell_type": "code",
      "metadata": {
        "id": "3k0OzEsxf14V",
        "colab_type": "code",
        "colab": {}
      },
      "source": [
        "feat_loss = FeatureLoss(vgg_m, blocks[1:4], [200,0,0])\n",
        "learn = Learner(data, autoencoder, loss_func = feat_loss, metrics = [mean_squared_error, mean_absolute_error])"
      ],
      "execution_count": 0,
      "outputs": []
    },
    {
      "cell_type": "code",
      "metadata": {
        "id": "AECJfnu4gRc9",
        "colab_type": "code",
        "colab": {
          "base_uri": "https://localhost:8080/",
          "height": 359
        },
        "outputId": "c4415ba5-e42b-4905-ccb1-5233ad1bf0fe"
      },
      "source": [
        "learn.fit_one_cycle(10)"
      ],
      "execution_count": 72,
      "outputs": [
        {
          "output_type": "display_data",
          "data": {
            "text/html": [
              "<table border=\"1\" class=\"dataframe\">\n",
              "  <thead>\n",
              "    <tr style=\"text-align: left;\">\n",
              "      <th>epoch</th>\n",
              "      <th>train_loss</th>\n",
              "      <th>valid_loss</th>\n",
              "      <th>mean_squared_error</th>\n",
              "      <th>mean_absolute_error</th>\n",
              "      <th>time</th>\n",
              "    </tr>\n",
              "  </thead>\n",
              "  <tbody>\n",
              "    <tr>\n",
              "      <td>0</td>\n",
              "      <td>1.835044</td>\n",
              "      <td>2.142144</td>\n",
              "      <td>0.016231</td>\n",
              "      <td>0.096554</td>\n",
              "      <td>00:15</td>\n",
              "    </tr>\n",
              "    <tr>\n",
              "      <td>1</td>\n",
              "      <td>1.690834</td>\n",
              "      <td>2.040163</td>\n",
              "      <td>0.012537</td>\n",
              "      <td>0.083658</td>\n",
              "      <td>00:14</td>\n",
              "    </tr>\n",
              "    <tr>\n",
              "      <td>2</td>\n",
              "      <td>1.590691</td>\n",
              "      <td>1.974043</td>\n",
              "      <td>0.011466</td>\n",
              "      <td>0.080193</td>\n",
              "      <td>00:14</td>\n",
              "    </tr>\n",
              "    <tr>\n",
              "      <td>3</td>\n",
              "      <td>1.534389</td>\n",
              "      <td>1.935142</td>\n",
              "      <td>0.011991</td>\n",
              "      <td>0.082969</td>\n",
              "      <td>00:14</td>\n",
              "    </tr>\n",
              "    <tr>\n",
              "      <td>4</td>\n",
              "      <td>1.472512</td>\n",
              "      <td>1.826506</td>\n",
              "      <td>0.010217</td>\n",
              "      <td>0.074871</td>\n",
              "      <td>00:14</td>\n",
              "    </tr>\n",
              "    <tr>\n",
              "      <td>5</td>\n",
              "      <td>1.423996</td>\n",
              "      <td>1.807487</td>\n",
              "      <td>0.010773</td>\n",
              "      <td>0.077181</td>\n",
              "      <td>00:14</td>\n",
              "    </tr>\n",
              "    <tr>\n",
              "      <td>6</td>\n",
              "      <td>1.383188</td>\n",
              "      <td>1.758133</td>\n",
              "      <td>0.009844</td>\n",
              "      <td>0.073343</td>\n",
              "      <td>00:14</td>\n",
              "    </tr>\n",
              "    <tr>\n",
              "      <td>7</td>\n",
              "      <td>1.352797</td>\n",
              "      <td>1.742622</td>\n",
              "      <td>0.009472</td>\n",
              "      <td>0.071450</td>\n",
              "      <td>00:14</td>\n",
              "    </tr>\n",
              "    <tr>\n",
              "      <td>8</td>\n",
              "      <td>1.331016</td>\n",
              "      <td>1.722267</td>\n",
              "      <td>0.009948</td>\n",
              "      <td>0.073918</td>\n",
              "      <td>00:14</td>\n",
              "    </tr>\n",
              "    <tr>\n",
              "      <td>9</td>\n",
              "      <td>1.318231</td>\n",
              "      <td>1.715791</td>\n",
              "      <td>0.009619</td>\n",
              "      <td>0.072303</td>\n",
              "      <td>00:15</td>\n",
              "    </tr>\n",
              "  </tbody>\n",
              "</table>"
            ],
            "text/plain": [
              "<IPython.core.display.HTML object>"
            ]
          },
          "metadata": {
            "tags": []
          }
        }
      ]
    },
    {
      "cell_type": "code",
      "metadata": {
        "id": "a6Svr1opgUD-",
        "colab_type": "code",
        "colab": {
          "base_uri": "https://localhost:8080/",
          "height": 267
        },
        "outputId": "2b0db2a2-0d40-4568-c9d9-0f6cd9be1a94"
      },
      "source": [
        "learn.show_results(rows = 1)"
      ],
      "execution_count": 73,
      "outputs": [
        {
          "output_type": "display_data",
          "data": {
            "image/png": "[encoded data removed]",
            "text/plain": [
              "<Figure size 864x288 with 3 Axes>"
            ]
          },
          "metadata": {
            "tags": [],
            "needs_background": "light"
          }
        }
      ]
    },
    {
      "cell_type": "code",
      "metadata": {
        "id": "vaPsGIkrgWfm",
        "colab_type": "code",
        "colab": {}
      },
      "source": [
        "feat_loss = FeatureLoss(vgg_m, blocks[0:3], [200,0,0])\n",
        "learn = Learner(data, autoencoder, loss_func = feat_loss, metrics = [mean_squared_error, mean_absolute_error])"
      ],
      "execution_count": 0,
      "outputs": []
    },
    {
      "cell_type": "code",
      "metadata": {
        "id": "viJXdH4JhAwb",
        "colab_type": "code",
        "colab": {
          "base_uri": "https://localhost:8080/",
          "height": 359
        },
        "outputId": "50704437-6670-4183-fe0d-93f586f2e112"
      },
      "source": [
        "learn.fit_one_cycle(10)"
      ],
      "execution_count": 75,
      "outputs": [
        {
          "output_type": "display_data",
          "data": {
            "text/html": [
              "<table border=\"1\" class=\"dataframe\">\n",
              "  <thead>\n",
              "    <tr style=\"text-align: left;\">\n",
              "      <th>epoch</th>\n",
              "      <th>train_loss</th>\n",
              "      <th>valid_loss</th>\n",
              "      <th>mean_squared_error</th>\n",
              "      <th>mean_absolute_error</th>\n",
              "      <th>time</th>\n",
              "    </tr>\n",
              "  </thead>\n",
              "  <tbody>\n",
              "    <tr>\n",
              "      <td>0</td>\n",
              "      <td>0.698431</td>\n",
              "      <td>1.059135</td>\n",
              "      <td>0.009841</td>\n",
              "      <td>0.075174</td>\n",
              "      <td>00:14</td>\n",
              "    </tr>\n",
              "    <tr>\n",
              "      <td>1</td>\n",
              "      <td>0.682651</td>\n",
              "      <td>1.345935</td>\n",
              "      <td>0.011624</td>\n",
              "      <td>0.081563</td>\n",
              "      <td>00:14</td>\n",
              "    </tr>\n",
              "    <tr>\n",
              "      <td>2</td>\n",
              "      <td>0.672495</td>\n",
              "      <td>1.046752</td>\n",
              "      <td>0.008906</td>\n",
              "      <td>0.069499</td>\n",
              "      <td>00:14</td>\n",
              "    </tr>\n",
              "    <tr>\n",
              "      <td>3</td>\n",
              "      <td>0.658052</td>\n",
              "      <td>1.012674</td>\n",
              "      <td>0.007791</td>\n",
              "      <td>0.064619</td>\n",
              "      <td>00:14</td>\n",
              "    </tr>\n",
              "    <tr>\n",
              "      <td>4</td>\n",
              "      <td>0.643902</td>\n",
              "      <td>1.007177</td>\n",
              "      <td>0.009666</td>\n",
              "      <td>0.073951</td>\n",
              "      <td>00:14</td>\n",
              "    </tr>\n",
              "    <tr>\n",
              "      <td>5</td>\n",
              "      <td>0.629545</td>\n",
              "      <td>0.971518</td>\n",
              "      <td>0.007021</td>\n",
              "      <td>0.060742</td>\n",
              "      <td>00:14</td>\n",
              "    </tr>\n",
              "    <tr>\n",
              "      <td>6</td>\n",
              "      <td>0.613107</td>\n",
              "      <td>0.950246</td>\n",
              "      <td>0.006808</td>\n",
              "      <td>0.059782</td>\n",
              "      <td>00:14</td>\n",
              "    </tr>\n",
              "    <tr>\n",
              "      <td>7</td>\n",
              "      <td>0.601725</td>\n",
              "      <td>0.924938</td>\n",
              "      <td>0.006859</td>\n",
              "      <td>0.059857</td>\n",
              "      <td>00:14</td>\n",
              "    </tr>\n",
              "    <tr>\n",
              "      <td>8</td>\n",
              "      <td>0.589412</td>\n",
              "      <td>0.915537</td>\n",
              "      <td>0.006811</td>\n",
              "      <td>0.059510</td>\n",
              "      <td>00:14</td>\n",
              "    </tr>\n",
              "    <tr>\n",
              "      <td>9</td>\n",
              "      <td>0.581298</td>\n",
              "      <td>0.912128</td>\n",
              "      <td>0.006790</td>\n",
              "      <td>0.059456</td>\n",
              "      <td>00:15</td>\n",
              "    </tr>\n",
              "  </tbody>\n",
              "</table>"
            ],
            "text/plain": [
              "<IPython.core.display.HTML object>"
            ]
          },
          "metadata": {
            "tags": []
          }
        }
      ]
    },
    {
      "cell_type": "code",
      "metadata": {
        "id": "eIxBlRb3hCIb",
        "colab_type": "code",
        "colab": {
          "base_uri": "https://localhost:8080/",
          "height": 267
        },
        "outputId": "624cf699-4cf4-4186-d7e5-91fc18d3d95b"
      },
      "source": [
        "learn.show_results(rows=1)"
      ],
      "execution_count": 76,
      "outputs": [
        {
          "output_type": "display_data",
          "data": {
            "image/png": "[encoded data removed]",
            "text/plain": [
              "<Figure size 864x288 with 3 Axes>"
            ]
          },
          "metadata": {
            "tags": [],
            "needs_background": "light"
          }
        }
      ]
    },
    {
      "cell_type": "code",
      "metadata": {
        "id": "K4MlApwmhERM",
        "colab_type": "code",
        "colab": {}
      },
      "source": [
        "feat_loss = FeatureLoss(vgg_m, blocks[0:3], [200,100,50])\n",
        "learn = Learner(data, autoencoder, loss_func = feat_loss, metrics = [mean_squared_error, mean_absolute_error])"
      ],
      "execution_count": 0,
      "outputs": []
    },
    {
      "cell_type": "code",
      "metadata": {
        "id": "RL1cu4Xshj82",
        "colab_type": "code",
        "colab": {
          "base_uri": "https://localhost:8080/",
          "height": 359
        },
        "outputId": "7197323e-5a0f-4f87-ef48-2c7d7929d9ca"
      },
      "source": [
        "learn.fit_one_cycle(10)"
      ],
      "execution_count": 78,
      "outputs": [
        {
          "output_type": "display_data",
          "data": {
            "text/html": [
              "<table border=\"1\" class=\"dataframe\">\n",
              "  <thead>\n",
              "    <tr style=\"text-align: left;\">\n",
              "      <th>epoch</th>\n",
              "      <th>train_loss</th>\n",
              "      <th>valid_loss</th>\n",
              "      <th>mean_squared_error</th>\n",
              "      <th>mean_absolute_error</th>\n",
              "      <th>time</th>\n",
              "    </tr>\n",
              "  </thead>\n",
              "  <tbody>\n",
              "    <tr>\n",
              "      <td>0</td>\n",
              "      <td>1.584433</td>\n",
              "      <td>2.232358</td>\n",
              "      <td>0.006737</td>\n",
              "      <td>0.059521</td>\n",
              "      <td>00:15</td>\n",
              "    </tr>\n",
              "    <tr>\n",
              "      <td>1</td>\n",
              "      <td>1.566542</td>\n",
              "      <td>2.455357</td>\n",
              "      <td>0.007989</td>\n",
              "      <td>0.066025</td>\n",
              "      <td>00:15</td>\n",
              "    </tr>\n",
              "    <tr>\n",
              "      <td>2</td>\n",
              "      <td>1.576036</td>\n",
              "      <td>2.296237</td>\n",
              "      <td>0.007521</td>\n",
              "      <td>0.063413</td>\n",
              "      <td>00:14</td>\n",
              "    </tr>\n",
              "    <tr>\n",
              "      <td>3</td>\n",
              "      <td>1.578933</td>\n",
              "      <td>2.244081</td>\n",
              "      <td>0.007568</td>\n",
              "      <td>0.063963</td>\n",
              "      <td>00:14</td>\n",
              "    </tr>\n",
              "    <tr>\n",
              "      <td>4</td>\n",
              "      <td>1.555699</td>\n",
              "      <td>2.246600</td>\n",
              "      <td>0.007228</td>\n",
              "      <td>0.061962</td>\n",
              "      <td>00:14</td>\n",
              "    </tr>\n",
              "    <tr>\n",
              "      <td>5</td>\n",
              "      <td>1.526289</td>\n",
              "      <td>2.240789</td>\n",
              "      <td>0.007168</td>\n",
              "      <td>0.062709</td>\n",
              "      <td>00:15</td>\n",
              "    </tr>\n",
              "    <tr>\n",
              "      <td>6</td>\n",
              "      <td>1.501127</td>\n",
              "      <td>2.122710</td>\n",
              "      <td>0.006976</td>\n",
              "      <td>0.060594</td>\n",
              "      <td>00:14</td>\n",
              "    </tr>\n",
              "    <tr>\n",
              "      <td>7</td>\n",
              "      <td>1.477893</td>\n",
              "      <td>2.158891</td>\n",
              "      <td>0.006444</td>\n",
              "      <td>0.057989</td>\n",
              "      <td>00:14</td>\n",
              "    </tr>\n",
              "    <tr>\n",
              "      <td>8</td>\n",
              "      <td>1.458517</td>\n",
              "      <td>2.069437</td>\n",
              "      <td>0.006303</td>\n",
              "      <td>0.056922</td>\n",
              "      <td>00:14</td>\n",
              "    </tr>\n",
              "    <tr>\n",
              "      <td>9</td>\n",
              "      <td>1.446978</td>\n",
              "      <td>2.059216</td>\n",
              "      <td>0.006364</td>\n",
              "      <td>0.057300</td>\n",
              "      <td>00:14</td>\n",
              "    </tr>\n",
              "  </tbody>\n",
              "</table>"
            ],
            "text/plain": [
              "<IPython.core.display.HTML object>"
            ]
          },
          "metadata": {
            "tags": []
          }
        }
      ]
    },
    {
      "cell_type": "code",
      "metadata": {
        "id": "Y6TGsHmqhlqu",
        "colab_type": "code",
        "colab": {
          "base_uri": "https://localhost:8080/",
          "height": 267
        },
        "outputId": "46ab05fd-d899-4f26-e409-9f72001689e9"
      },
      "source": [
        "learn.show_results(rows = 1)"
      ],
      "execution_count": 79,
      "outputs": [
        {
          "output_type": "display_data",
          "data": {
            "image/png": "[encoded data removed]",
            "text/plain": [
              "<Figure size 864x288 with 3 Axes>"
            ]
          },
          "metadata": {
            "tags": [],
            "needs_background": "light"
          }
        }
      ]
    },
    {
      "cell_type": "code",
      "metadata": {
        "id": "9xzyrizehpAN",
        "colab_type": "code",
        "colab": {}
      },
      "source": [
        "feat_loss = FeatureLoss(vgg_m, blocks[0:3], [200,200,200])\n",
        "learn = Learner(data, autoencoder, loss_func = feat_loss, metrics = [mean_squared_error, mean_absolute_error])"
      ],
      "execution_count": 0,
      "outputs": []
    },
    {
      "cell_type": "code",
      "metadata": {
        "id": "M_RNmePah6rw",
        "colab_type": "code",
        "colab": {
          "base_uri": "https://localhost:8080/",
          "height": 359
        },
        "outputId": "b275655e-ba53-40ac-b1b9-5bf600afc0b7"
      },
      "source": [
        "learn.fit_one_cycle(10)"
      ],
      "execution_count": 81,
      "outputs": [
        {
          "output_type": "display_data",
          "data": {
            "text/html": [
              "<table border=\"1\" class=\"dataframe\">\n",
              "  <thead>\n",
              "    <tr style=\"text-align: left;\">\n",
              "      <th>epoch</th>\n",
              "      <th>train_loss</th>\n",
              "      <th>valid_loss</th>\n",
              "      <th>mean_squared_error</th>\n",
              "      <th>mean_absolute_error</th>\n",
              "      <th>time</th>\n",
              "    </tr>\n",
              "  </thead>\n",
              "  <tbody>\n",
              "    <tr>\n",
              "      <td>0</td>\n",
              "      <td>2.899157</td>\n",
              "      <td>4.068447</td>\n",
              "      <td>0.006997</td>\n",
              "      <td>0.060757</td>\n",
              "      <td>00:14</td>\n",
              "    </tr>\n",
              "    <tr>\n",
              "      <td>1</td>\n",
              "      <td>2.917769</td>\n",
              "      <td>4.182836</td>\n",
              "      <td>0.008005</td>\n",
              "      <td>0.066466</td>\n",
              "      <td>00:14</td>\n",
              "    </tr>\n",
              "    <tr>\n",
              "      <td>2</td>\n",
              "      <td>2.963388</td>\n",
              "      <td>4.165106</td>\n",
              "      <td>0.007783</td>\n",
              "      <td>0.065470</td>\n",
              "      <td>00:14</td>\n",
              "    </tr>\n",
              "    <tr>\n",
              "      <td>3</td>\n",
              "      <td>2.978312</td>\n",
              "      <td>4.284745</td>\n",
              "      <td>0.007430</td>\n",
              "      <td>0.063900</td>\n",
              "      <td>00:14</td>\n",
              "    </tr>\n",
              "    <tr>\n",
              "      <td>4</td>\n",
              "      <td>2.966998</td>\n",
              "      <td>4.369703</td>\n",
              "      <td>0.008091</td>\n",
              "      <td>0.066658</td>\n",
              "      <td>00:14</td>\n",
              "    </tr>\n",
              "    <tr>\n",
              "      <td>5</td>\n",
              "      <td>2.930756</td>\n",
              "      <td>4.154047</td>\n",
              "      <td>0.007867</td>\n",
              "      <td>0.065614</td>\n",
              "      <td>00:14</td>\n",
              "    </tr>\n",
              "    <tr>\n",
              "      <td>6</td>\n",
              "      <td>3.073684</td>\n",
              "      <td>4.233808</td>\n",
              "      <td>0.008805</td>\n",
              "      <td>0.070138</td>\n",
              "      <td>00:14</td>\n",
              "    </tr>\n",
              "    <tr>\n",
              "      <td>7</td>\n",
              "      <td>2.978052</td>\n",
              "      <td>4.000568</td>\n",
              "      <td>0.006967</td>\n",
              "      <td>0.060793</td>\n",
              "      <td>00:14</td>\n",
              "    </tr>\n",
              "    <tr>\n",
              "      <td>8</td>\n",
              "      <td>2.892608</td>\n",
              "      <td>3.933888</td>\n",
              "      <td>0.006711</td>\n",
              "      <td>0.059470</td>\n",
              "      <td>00:14</td>\n",
              "    </tr>\n",
              "    <tr>\n",
              "      <td>9</td>\n",
              "      <td>2.841249</td>\n",
              "      <td>3.930353</td>\n",
              "      <td>0.006769</td>\n",
              "      <td>0.059931</td>\n",
              "      <td>00:14</td>\n",
              "    </tr>\n",
              "  </tbody>\n",
              "</table>"
            ],
            "text/plain": [
              "<IPython.core.display.HTML object>"
            ]
          },
          "metadata": {
            "tags": []
          }
        }
      ]
    },
    {
      "cell_type": "code",
      "metadata": {
        "id": "_b5BoqJuh8Ug",
        "colab_type": "code",
        "colab": {
          "base_uri": "https://localhost:8080/",
          "height": 267
        },
        "outputId": "6bc23f49-726b-422c-b377-bd72a1170c13"
      },
      "source": [
        "learn.show_results(rows=1)"
      ],
      "execution_count": 82,
      "outputs": [
        {
          "output_type": "display_data",
          "data": {
            "image/png": "[encoded data removed]",
            "text/plain": [
              "<Figure size 864x288 with 3 Axes>"
            ]
          },
          "metadata": {
            "tags": [],
            "needs_background": "light"
          }
        }
      ]
    },
    {
      "cell_type": "code",
      "metadata": {
        "id": "hDkGAoh0iARZ",
        "colab_type": "code",
        "colab": {}
      },
      "source": [
        "feat_loss = FeatureLoss(vgg_m, blocks[0:3], [10,10,10])\n",
        "learn = Learner(data, autoencoder, loss_func = feat_loss, metrics = [mean_squared_error, mean_absolute_error])"
      ],
      "execution_count": 0,
      "outputs": []
    },
    {
      "cell_type": "code",
      "metadata": {
        "id": "dEPUrKOPiDyx",
        "colab_type": "code",
        "colab": {
          "base_uri": "https://localhost:8080/",
          "height": 359
        },
        "outputId": "b901fbe1-03a3-452d-956d-5d70f491e610"
      },
      "source": [
        "learn.fit_one_cycle(10)"
      ],
      "execution_count": 84,
      "outputs": [
        {
          "output_type": "display_data",
          "data": {
            "text/html": [
              "<table border=\"1\" class=\"dataframe\">\n",
              "  <thead>\n",
              "    <tr style=\"text-align: left;\">\n",
              "      <th>epoch</th>\n",
              "      <th>train_loss</th>\n",
              "      <th>valid_loss</th>\n",
              "      <th>mean_squared_error</th>\n",
              "      <th>mean_absolute_error</th>\n",
              "      <th>time</th>\n",
              "    </tr>\n",
              "  </thead>\n",
              "  <tbody>\n",
              "    <tr>\n",
              "      <td>0</td>\n",
              "      <td>0.135122</td>\n",
              "      <td>0.186707</td>\n",
              "      <td>0.006184</td>\n",
              "      <td>0.056671</td>\n",
              "      <td>00:14</td>\n",
              "    </tr>\n",
              "    <tr>\n",
              "      <td>1</td>\n",
              "      <td>0.135010</td>\n",
              "      <td>0.193113</td>\n",
              "      <td>0.007004</td>\n",
              "      <td>0.061348</td>\n",
              "      <td>00:14</td>\n",
              "    </tr>\n",
              "    <tr>\n",
              "      <td>2</td>\n",
              "      <td>0.137135</td>\n",
              "      <td>0.195438</td>\n",
              "      <td>0.009027</td>\n",
              "      <td>0.072350</td>\n",
              "      <td>00:14</td>\n",
              "    </tr>\n",
              "    <tr>\n",
              "      <td>3</td>\n",
              "      <td>0.137595</td>\n",
              "      <td>0.196657</td>\n",
              "      <td>0.007381</td>\n",
              "      <td>0.063883</td>\n",
              "      <td>00:14</td>\n",
              "    </tr>\n",
              "    <tr>\n",
              "      <td>4</td>\n",
              "      <td>0.136908</td>\n",
              "      <td>0.190903</td>\n",
              "      <td>0.009017</td>\n",
              "      <td>0.074463</td>\n",
              "      <td>00:14</td>\n",
              "    </tr>\n",
              "    <tr>\n",
              "      <td>5</td>\n",
              "      <td>0.135208</td>\n",
              "      <td>0.184311</td>\n",
              "      <td>0.005976</td>\n",
              "      <td>0.055469</td>\n",
              "      <td>00:14</td>\n",
              "    </tr>\n",
              "    <tr>\n",
              "      <td>6</td>\n",
              "      <td>0.133439</td>\n",
              "      <td>0.183138</td>\n",
              "      <td>0.006253</td>\n",
              "      <td>0.057643</td>\n",
              "      <td>00:14</td>\n",
              "    </tr>\n",
              "    <tr>\n",
              "      <td>7</td>\n",
              "      <td>0.131701</td>\n",
              "      <td>0.182305</td>\n",
              "      <td>0.006066</td>\n",
              "      <td>0.056266</td>\n",
              "      <td>00:14</td>\n",
              "    </tr>\n",
              "    <tr>\n",
              "      <td>8</td>\n",
              "      <td>0.129886</td>\n",
              "      <td>0.178797</td>\n",
              "      <td>0.005738</td>\n",
              "      <td>0.054162</td>\n",
              "      <td>00:14</td>\n",
              "    </tr>\n",
              "    <tr>\n",
              "      <td>9</td>\n",
              "      <td>0.128371</td>\n",
              "      <td>0.178163</td>\n",
              "      <td>0.005718</td>\n",
              "      <td>0.053986</td>\n",
              "      <td>00:14</td>\n",
              "    </tr>\n",
              "  </tbody>\n",
              "</table>"
            ],
            "text/plain": [
              "<IPython.core.display.HTML object>"
            ]
          },
          "metadata": {
            "tags": []
          }
        }
      ]
    },
    {
      "cell_type": "code",
      "metadata": {
        "id": "HtGCWb3BiFOR",
        "colab_type": "code",
        "colab": {
          "base_uri": "https://localhost:8080/",
          "height": 267
        },
        "outputId": "b57b6019-6d2f-42c5-e172-f1c039ca1456"
      },
      "source": [
        "learn.show_results(rows=1)"
      ],
      "execution_count": 85,
      "outputs": [
        {
          "output_type": "display_data",
          "data": {
            "image/png": "[encoded data removed]",
            "text/plain": [
              "<Figure size 864x288 with 3 Axes>"
            ]
          },
          "metadata": {
            "tags": [],
            "needs_background": "light"
          }
        }
      ]
    },
    {
      "cell_type": "code",
      "metadata": {
        "id": "Epu1YVSLiGOk",
        "colab_type": "code",
        "colab": {}
      },
      "source": [
        "feat_loss = FeatureLoss(vgg_m, blocks[0:3], [10,5,2])\n",
        "learn = Learner(data, autoencoder, loss_func = feat_loss, metrics = [mean_squared_error, mean_absolute_error])"
      ],
      "execution_count": 0,
      "outputs": []
    },
    {
      "cell_type": "code",
      "metadata": {
        "id": "ykoF8rVkjmAL",
        "colab_type": "code",
        "colab": {
          "base_uri": "https://localhost:8080/",
          "height": 359
        },
        "outputId": "9bfab8a8-54b5-4a94-aa26-fd0653e43587"
      },
      "source": [
        "learn.fit_one_cycle(10)"
      ],
      "execution_count": 87,
      "outputs": [
        {
          "output_type": "display_data",
          "data": {
            "text/html": [
              "<table border=\"1\" class=\"dataframe\">\n",
              "  <thead>\n",
              "    <tr style=\"text-align: left;\">\n",
              "      <th>epoch</th>\n",
              "      <th>train_loss</th>\n",
              "      <th>valid_loss</th>\n",
              "      <th>mean_squared_error</th>\n",
              "      <th>mean_absolute_error</th>\n",
              "      <th>time</th>\n",
              "    </tr>\n",
              "  </thead>\n",
              "  <tbody>\n",
              "    <tr>\n",
              "      <td>0</td>\n",
              "      <td>0.062810</td>\n",
              "      <td>0.089451</td>\n",
              "      <td>0.005591</td>\n",
              "      <td>0.053483</td>\n",
              "      <td>00:14</td>\n",
              "    </tr>\n",
              "    <tr>\n",
              "      <td>1</td>\n",
              "      <td>0.062811</td>\n",
              "      <td>0.094482</td>\n",
              "      <td>0.006697</td>\n",
              "      <td>0.061100</td>\n",
              "      <td>00:14</td>\n",
              "    </tr>\n",
              "    <tr>\n",
              "      <td>2</td>\n",
              "      <td>0.063561</td>\n",
              "      <td>0.094999</td>\n",
              "      <td>0.008078</td>\n",
              "      <td>0.068199</td>\n",
              "      <td>00:14</td>\n",
              "    </tr>\n",
              "    <tr>\n",
              "      <td>3</td>\n",
              "      <td>0.063886</td>\n",
              "      <td>0.095239</td>\n",
              "      <td>0.008776</td>\n",
              "      <td>0.072263</td>\n",
              "      <td>00:14</td>\n",
              "    </tr>\n",
              "    <tr>\n",
              "      <td>4</td>\n",
              "      <td>0.063425</td>\n",
              "      <td>0.090149</td>\n",
              "      <td>0.005768</td>\n",
              "      <td>0.055463</td>\n",
              "      <td>00:14</td>\n",
              "    </tr>\n",
              "    <tr>\n",
              "      <td>5</td>\n",
              "      <td>0.062608</td>\n",
              "      <td>0.089512</td>\n",
              "      <td>0.005812</td>\n",
              "      <td>0.055452</td>\n",
              "      <td>00:14</td>\n",
              "    </tr>\n",
              "    <tr>\n",
              "      <td>6</td>\n",
              "      <td>0.062135</td>\n",
              "      <td>0.096765</td>\n",
              "      <td>0.009038</td>\n",
              "      <td>0.072839</td>\n",
              "      <td>00:15</td>\n",
              "    </tr>\n",
              "    <tr>\n",
              "      <td>7</td>\n",
              "      <td>0.062056</td>\n",
              "      <td>0.087455</td>\n",
              "      <td>0.005267</td>\n",
              "      <td>0.051957</td>\n",
              "      <td>00:14</td>\n",
              "    </tr>\n",
              "    <tr>\n",
              "      <td>8</td>\n",
              "      <td>0.061004</td>\n",
              "      <td>0.086282</td>\n",
              "      <td>0.005055</td>\n",
              "      <td>0.050487</td>\n",
              "      <td>00:15</td>\n",
              "    </tr>\n",
              "    <tr>\n",
              "      <td>9</td>\n",
              "      <td>0.060348</td>\n",
              "      <td>0.086115</td>\n",
              "      <td>0.005031</td>\n",
              "      <td>0.050201</td>\n",
              "      <td>00:14</td>\n",
              "    </tr>\n",
              "  </tbody>\n",
              "</table>"
            ],
            "text/plain": [
              "<IPython.core.display.HTML object>"
            ]
          },
          "metadata": {
            "tags": []
          }
        }
      ]
    },
    {
      "cell_type": "code",
      "metadata": {
        "id": "NcVa80rWjn1q",
        "colab_type": "code",
        "colab": {
          "base_uri": "https://localhost:8080/",
          "height": 267
        },
        "outputId": "65b243f1-1966-4795-fe0b-fbd5accd06d4"
      },
      "source": [
        "learn.show_results(rows = 1)"
      ],
      "execution_count": 88,
      "outputs": [
        {
          "output_type": "display_data",
          "data": {
            "image/png": "[encoded data removed]",
            "text/plain": [
              "<Figure size 864x288 with 3 Axes>"
            ]
          },
          "metadata": {
            "tags": [],
            "needs_background": "light"
          }
        }
      ]
    },
    {
      "cell_type": "code",
      "metadata": {
        "id": "09HV0yP8jqNb",
        "colab_type": "code",
        "colab": {}
      },
      "source": [
        "feat_loss = FeatureLoss(vgg_m, blocks[0:3], [10,20,30])\n",
        "learn = Learner(data, autoencoder, loss_func = feat_loss, metrics = [mean_squared_error, mean_absolute_error])"
      ],
      "execution_count": 0,
      "outputs": []
    },
    {
      "cell_type": "code",
      "metadata": {
        "id": "cnEkLPLTj2G0",
        "colab_type": "code",
        "colab": {
          "base_uri": "https://localhost:8080/",
          "height": 359
        },
        "outputId": "f099c165-0ad6-4ee7-c0c5-2bb53d55bc8e"
      },
      "source": [
        "learn.fit_one_cycle(10)"
      ],
      "execution_count": 90,
      "outputs": [
        {
          "output_type": "display_data",
          "data": {
            "text/html": [
              "<table border=\"1\" class=\"dataframe\">\n",
              "  <thead>\n",
              "    <tr style=\"text-align: left;\">\n",
              "      <th>epoch</th>\n",
              "      <th>train_loss</th>\n",
              "      <th>valid_loss</th>\n",
              "      <th>mean_squared_error</th>\n",
              "      <th>mean_absolute_error</th>\n",
              "      <th>time</th>\n",
              "    </tr>\n",
              "  </thead>\n",
              "  <tbody>\n",
              "    <tr>\n",
              "      <td>0</td>\n",
              "      <td>0.272218</td>\n",
              "      <td>0.383482</td>\n",
              "      <td>0.005609</td>\n",
              "      <td>0.053797</td>\n",
              "      <td>00:15</td>\n",
              "    </tr>\n",
              "    <tr>\n",
              "      <td>1</td>\n",
              "      <td>0.273346</td>\n",
              "      <td>0.392268</td>\n",
              "      <td>0.006653</td>\n",
              "      <td>0.060502</td>\n",
              "      <td>00:15</td>\n",
              "    </tr>\n",
              "    <tr>\n",
              "      <td>2</td>\n",
              "      <td>0.282019</td>\n",
              "      <td>0.426618</td>\n",
              "      <td>0.009669</td>\n",
              "      <td>0.074946</td>\n",
              "      <td>00:15</td>\n",
              "    </tr>\n",
              "    <tr>\n",
              "      <td>3</td>\n",
              "      <td>0.283558</td>\n",
              "      <td>0.394805</td>\n",
              "      <td>0.008619</td>\n",
              "      <td>0.072096</td>\n",
              "      <td>00:14</td>\n",
              "    </tr>\n",
              "    <tr>\n",
              "      <td>4</td>\n",
              "      <td>0.281158</td>\n",
              "      <td>0.385893</td>\n",
              "      <td>0.006088</td>\n",
              "      <td>0.056294</td>\n",
              "      <td>00:14</td>\n",
              "    </tr>\n",
              "    <tr>\n",
              "      <td>5</td>\n",
              "      <td>0.278403</td>\n",
              "      <td>0.381737</td>\n",
              "      <td>0.006095</td>\n",
              "      <td>0.057073</td>\n",
              "      <td>00:14</td>\n",
              "    </tr>\n",
              "    <tr>\n",
              "      <td>6</td>\n",
              "      <td>0.273597</td>\n",
              "      <td>0.374603</td>\n",
              "      <td>0.005837</td>\n",
              "      <td>0.054924</td>\n",
              "      <td>00:14</td>\n",
              "    </tr>\n",
              "    <tr>\n",
              "      <td>7</td>\n",
              "      <td>0.268454</td>\n",
              "      <td>0.369391</td>\n",
              "      <td>0.005657</td>\n",
              "      <td>0.053822</td>\n",
              "      <td>00:14</td>\n",
              "    </tr>\n",
              "    <tr>\n",
              "      <td>8</td>\n",
              "      <td>0.264109</td>\n",
              "      <td>0.366077</td>\n",
              "      <td>0.005588</td>\n",
              "      <td>0.053276</td>\n",
              "      <td>00:14</td>\n",
              "    </tr>\n",
              "    <tr>\n",
              "      <td>9</td>\n",
              "      <td>0.260748</td>\n",
              "      <td>0.365122</td>\n",
              "      <td>0.005674</td>\n",
              "      <td>0.053929</td>\n",
              "      <td>00:14</td>\n",
              "    </tr>\n",
              "  </tbody>\n",
              "</table>"
            ],
            "text/plain": [
              "<IPython.core.display.HTML object>"
            ]
          },
          "metadata": {
            "tags": []
          }
        }
      ]
    },
    {
      "cell_type": "code",
      "metadata": {
        "id": "2uVtVJNmj4Ik",
        "colab_type": "code",
        "colab": {
          "base_uri": "https://localhost:8080/",
          "height": 267
        },
        "outputId": "6932ea70-5e2d-42cc-bc65-29684d1ee60b"
      },
      "source": [
        "learn.show_results(rows=1)"
      ],
      "execution_count": 91,
      "outputs": [
        {
          "output_type": "display_data",
          "data": {
            "image/png": "[encoded data removed]",
            "text/plain": [
              "<Figure size 864x288 with 3 Axes>"
            ]
          },
          "metadata": {
            "tags": [],
            "needs_background": "light"
          }
        }
      ]
    },
    {
      "cell_type": "code",
      "metadata": {
        "id": "aw0RDhTvj6lJ",
        "colab_type": "code",
        "colab": {}
      },
      "source": [
        "feat_loss = FeatureLoss(vgg_m, blocks[0:3], [30,20,10])\n",
        "learn = Learner(data, autoencoder, loss_func = feat_loss, metrics = [mean_squared_error, mean_absolute_error])"
      ],
      "execution_count": 0,
      "outputs": []
    },
    {
      "cell_type": "code",
      "metadata": {
        "id": "hXNJpVR9lkbf",
        "colab_type": "code",
        "colab": {
          "base_uri": "https://localhost:8080/",
          "height": 359
        },
        "outputId": "f4d533b7-e2bf-4e84-c71f-d2d1e2340792"
      },
      "source": [
        "learn.fit_one_cycle(10)"
      ],
      "execution_count": 93,
      "outputs": [
        {
          "output_type": "display_data",
          "data": {
            "text/html": [
              "<table border=\"1\" class=\"dataframe\">\n",
              "  <thead>\n",
              "    <tr style=\"text-align: left;\">\n",
              "      <th>epoch</th>\n",
              "      <th>train_loss</th>\n",
              "      <th>valid_loss</th>\n",
              "      <th>mean_squared_error</th>\n",
              "      <th>mean_absolute_error</th>\n",
              "      <th>time</th>\n",
              "    </tr>\n",
              "  </thead>\n",
              "  <tbody>\n",
              "    <tr>\n",
              "      <td>0</td>\n",
              "      <td>0.217383</td>\n",
              "      <td>0.313429</td>\n",
              "      <td>0.005507</td>\n",
              "      <td>0.053141</td>\n",
              "      <td>00:15</td>\n",
              "    </tr>\n",
              "    <tr>\n",
              "      <td>1</td>\n",
              "      <td>0.218145</td>\n",
              "      <td>0.322598</td>\n",
              "      <td>0.007000</td>\n",
              "      <td>0.063070</td>\n",
              "      <td>00:14</td>\n",
              "    </tr>\n",
              "    <tr>\n",
              "      <td>2</td>\n",
              "      <td>0.221497</td>\n",
              "      <td>0.335668</td>\n",
              "      <td>0.011161</td>\n",
              "      <td>0.082585</td>\n",
              "      <td>00:14</td>\n",
              "    </tr>\n",
              "    <tr>\n",
              "      <td>3</td>\n",
              "      <td>0.232739</td>\n",
              "      <td>0.322153</td>\n",
              "      <td>0.006020</td>\n",
              "      <td>0.056040</td>\n",
              "      <td>00:14</td>\n",
              "    </tr>\n",
              "    <tr>\n",
              "      <td>4</td>\n",
              "      <td>0.226925</td>\n",
              "      <td>0.316430</td>\n",
              "      <td>0.006082</td>\n",
              "      <td>0.057354</td>\n",
              "      <td>00:15</td>\n",
              "    </tr>\n",
              "    <tr>\n",
              "      <td>5</td>\n",
              "      <td>0.222153</td>\n",
              "      <td>0.310807</td>\n",
              "      <td>0.005428</td>\n",
              "      <td>0.052814</td>\n",
              "      <td>00:14</td>\n",
              "    </tr>\n",
              "    <tr>\n",
              "      <td>6</td>\n",
              "      <td>0.218269</td>\n",
              "      <td>0.308393</td>\n",
              "      <td>0.005471</td>\n",
              "      <td>0.053292</td>\n",
              "      <td>00:14</td>\n",
              "    </tr>\n",
              "    <tr>\n",
              "      <td>7</td>\n",
              "      <td>0.214959</td>\n",
              "      <td>0.306311</td>\n",
              "      <td>0.005226</td>\n",
              "      <td>0.051450</td>\n",
              "      <td>00:14</td>\n",
              "    </tr>\n",
              "    <tr>\n",
              "      <td>8</td>\n",
              "      <td>0.212245</td>\n",
              "      <td>0.303932</td>\n",
              "      <td>0.005227</td>\n",
              "      <td>0.051612</td>\n",
              "      <td>00:14</td>\n",
              "    </tr>\n",
              "    <tr>\n",
              "      <td>9</td>\n",
              "      <td>0.210510</td>\n",
              "      <td>0.303396</td>\n",
              "      <td>0.005244</td>\n",
              "      <td>0.051793</td>\n",
              "      <td>00:14</td>\n",
              "    </tr>\n",
              "  </tbody>\n",
              "</table>"
            ],
            "text/plain": [
              "<IPython.core.display.HTML object>"
            ]
          },
          "metadata": {
            "tags": []
          }
        }
      ]
    },
    {
      "cell_type": "code",
      "metadata": {
        "id": "aUG0Gp4Rll2W",
        "colab_type": "code",
        "colab": {
          "base_uri": "https://localhost:8080/",
          "height": 267
        },
        "outputId": "55a5d1b0-3d86-4b28-9729-1262aea45265"
      },
      "source": [
        "learn.show_results(rows=1)"
      ],
      "execution_count": 94,
      "outputs": [
        {
          "output_type": "display_data",
          "data": {
            "image/png": "[encoded data removed]",
            "text/plain": [
              "<Figure size 864x288 with 3 Axes>"
            ]
          },
          "metadata": {
            "tags": [],
            "needs_background": "light"
          }
        }
      ]
    },
    {
      "cell_type": "code",
      "metadata": {
        "id": "kIr_CFzHlnhH",
        "colab_type": "code",
        "colab": {}
      },
      "source": [
        "feat_loss = FeatureLoss(vgg_m, blocks[0:3], [20,5,10])\n",
        "learn = Learner(data, autoencoder, loss_func = feat_loss, metrics = [mean_squared_error, mean_absolute_error])"
      ],
      "execution_count": 0,
      "outputs": []
    },
    {
      "cell_type": "code",
      "metadata": {
        "id": "Lh3lzZ9fl3Yh",
        "colab_type": "code",
        "colab": {
          "base_uri": "https://localhost:8080/",
          "height": 359
        },
        "outputId": "726d8d72-0e7f-4abb-8fec-4bbb0b283f74"
      },
      "source": [
        "learn.fit_one_cycle(10)"
      ],
      "execution_count": 96,
      "outputs": [
        {
          "output_type": "display_data",
          "data": {
            "text/html": [
              "<table border=\"1\" class=\"dataframe\">\n",
              "  <thead>\n",
              "    <tr style=\"text-align: left;\">\n",
              "      <th>epoch</th>\n",
              "      <th>train_loss</th>\n",
              "      <th>valid_loss</th>\n",
              "      <th>mean_squared_error</th>\n",
              "      <th>mean_absolute_error</th>\n",
              "      <th>time</th>\n",
              "    </tr>\n",
              "  </thead>\n",
              "  <tbody>\n",
              "    <tr>\n",
              "      <td>0</td>\n",
              "      <td>0.114983</td>\n",
              "      <td>0.169037</td>\n",
              "      <td>0.005239</td>\n",
              "      <td>0.051945</td>\n",
              "      <td>00:15</td>\n",
              "    </tr>\n",
              "    <tr>\n",
              "      <td>1</td>\n",
              "      <td>0.118140</td>\n",
              "      <td>0.242104</td>\n",
              "      <td>0.034801</td>\n",
              "      <td>0.164667</td>\n",
              "      <td>00:15</td>\n",
              "    </tr>\n",
              "    <tr>\n",
              "      <td>2</td>\n",
              "      <td>0.121317</td>\n",
              "      <td>0.174739</td>\n",
              "      <td>0.005484</td>\n",
              "      <td>0.053234</td>\n",
              "      <td>00:15</td>\n",
              "    </tr>\n",
              "    <tr>\n",
              "      <td>3</td>\n",
              "      <td>0.120840</td>\n",
              "      <td>0.174534</td>\n",
              "      <td>0.005414</td>\n",
              "      <td>0.053029</td>\n",
              "      <td>00:15</td>\n",
              "    </tr>\n",
              "    <tr>\n",
              "      <td>4</td>\n",
              "      <td>0.120208</td>\n",
              "      <td>0.173405</td>\n",
              "      <td>0.005530</td>\n",
              "      <td>0.053828</td>\n",
              "      <td>00:14</td>\n",
              "    </tr>\n",
              "    <tr>\n",
              "      <td>5</td>\n",
              "      <td>0.118683</td>\n",
              "      <td>0.170657</td>\n",
              "      <td>0.005384</td>\n",
              "      <td>0.053250</td>\n",
              "      <td>00:15</td>\n",
              "    </tr>\n",
              "    <tr>\n",
              "      <td>6</td>\n",
              "      <td>0.117418</td>\n",
              "      <td>0.168867</td>\n",
              "      <td>0.005081</td>\n",
              "      <td>0.050959</td>\n",
              "      <td>00:14</td>\n",
              "    </tr>\n",
              "    <tr>\n",
              "      <td>7</td>\n",
              "      <td>0.116115</td>\n",
              "      <td>0.167780</td>\n",
              "      <td>0.005207</td>\n",
              "      <td>0.051825</td>\n",
              "      <td>00:14</td>\n",
              "    </tr>\n",
              "    <tr>\n",
              "      <td>8</td>\n",
              "      <td>0.114398</td>\n",
              "      <td>0.166128</td>\n",
              "      <td>0.004978</td>\n",
              "      <td>0.050086</td>\n",
              "      <td>00:14</td>\n",
              "    </tr>\n",
              "    <tr>\n",
              "      <td>9</td>\n",
              "      <td>0.113219</td>\n",
              "      <td>0.165704</td>\n",
              "      <td>0.004944</td>\n",
              "      <td>0.049909</td>\n",
              "      <td>00:14</td>\n",
              "    </tr>\n",
              "  </tbody>\n",
              "</table>"
            ],
            "text/plain": [
              "<IPython.core.display.HTML object>"
            ]
          },
          "metadata": {
            "tags": []
          }
        }
      ]
    },
    {
      "cell_type": "code",
      "metadata": {
        "id": "AOdAsB_Vl5E5",
        "colab_type": "code",
        "colab": {
          "base_uri": "https://localhost:8080/",
          "height": 267
        },
        "outputId": "b89ea9df-32ff-4c16-9503-64f08e021702"
      },
      "source": [
        "learn.show_results(rows=1)"
      ],
      "execution_count": 97,
      "outputs": [
        {
          "output_type": "display_data",
          "data": {
            "image/png": "[encoded data removed]",
            "text/plain": [
              "<Figure size 864x288 with 3 Axes>"
            ]
          },
          "metadata": {
            "tags": [],
            "needs_background": "light"
          }
        }
      ]
    },
    {
      "cell_type": "code",
      "metadata": {
        "id": "LzK8OdzIl6Xx",
        "colab_type": "code",
        "colab": {}
      },
      "source": [
        "feat_loss = FeatureLoss(vgg_m, blocks[0:3], [20,5,1])\n",
        "learn = Learner(data, autoencoder, loss_func = feat_loss, metrics = [mean_squared_error, mean_absolute_error])"
      ],
      "execution_count": 0,
      "outputs": []
    },
    {
      "cell_type": "code",
      "metadata": {
        "id": "TKWJIjEHmWtc",
        "colab_type": "code",
        "colab": {
          "base_uri": "https://localhost:8080/",
          "height": 359
        },
        "outputId": "6e9d1584-3cb6-4031-b0f8-668ed9b83d41"
      },
      "source": [
        "learn.fit_one_cycle(10)"
      ],
      "execution_count": 99,
      "outputs": [
        {
          "output_type": "display_data",
          "data": {
            "text/html": [
              "<table border=\"1\" class=\"dataframe\">\n",
              "  <thead>\n",
              "    <tr style=\"text-align: left;\">\n",
              "      <th>epoch</th>\n",
              "      <th>train_loss</th>\n",
              "      <th>valid_loss</th>\n",
              "      <th>mean_squared_error</th>\n",
              "      <th>mean_absolute_error</th>\n",
              "      <th>time</th>\n",
              "    </tr>\n",
              "  </thead>\n",
              "  <tbody>\n",
              "    <tr>\n",
              "      <td>0</td>\n",
              "      <td>0.072434</td>\n",
              "      <td>0.109274</td>\n",
              "      <td>0.004869</td>\n",
              "      <td>0.049564</td>\n",
              "      <td>00:15</td>\n",
              "    </tr>\n",
              "    <tr>\n",
              "      <td>1</td>\n",
              "      <td>0.072648</td>\n",
              "      <td>0.111186</td>\n",
              "      <td>0.005182</td>\n",
              "      <td>0.051932</td>\n",
              "      <td>00:14</td>\n",
              "    </tr>\n",
              "    <tr>\n",
              "      <td>2</td>\n",
              "      <td>0.073466</td>\n",
              "      <td>0.116996</td>\n",
              "      <td>0.005977</td>\n",
              "      <td>0.057264</td>\n",
              "      <td>00:15</td>\n",
              "    </tr>\n",
              "    <tr>\n",
              "      <td>3</td>\n",
              "      <td>0.073735</td>\n",
              "      <td>0.111451</td>\n",
              "      <td>0.005180</td>\n",
              "      <td>0.052271</td>\n",
              "      <td>00:15</td>\n",
              "    </tr>\n",
              "    <tr>\n",
              "      <td>4</td>\n",
              "      <td>0.073615</td>\n",
              "      <td>0.113049</td>\n",
              "      <td>0.005544</td>\n",
              "      <td>0.054256</td>\n",
              "      <td>00:15</td>\n",
              "    </tr>\n",
              "    <tr>\n",
              "      <td>5</td>\n",
              "      <td>0.072894</td>\n",
              "      <td>0.109082</td>\n",
              "      <td>0.005048</td>\n",
              "      <td>0.051893</td>\n",
              "      <td>00:15</td>\n",
              "    </tr>\n",
              "    <tr>\n",
              "      <td>6</td>\n",
              "      <td>0.071976</td>\n",
              "      <td>0.108997</td>\n",
              "      <td>0.005756</td>\n",
              "      <td>0.056135</td>\n",
              "      <td>00:15</td>\n",
              "    </tr>\n",
              "    <tr>\n",
              "      <td>7</td>\n",
              "      <td>0.070925</td>\n",
              "      <td>0.105909</td>\n",
              "      <td>0.004525</td>\n",
              "      <td>0.047690</td>\n",
              "      <td>00:15</td>\n",
              "    </tr>\n",
              "    <tr>\n",
              "      <td>8</td>\n",
              "      <td>0.070322</td>\n",
              "      <td>0.105084</td>\n",
              "      <td>0.004432</td>\n",
              "      <td>0.046971</td>\n",
              "      <td>00:15</td>\n",
              "    </tr>\n",
              "    <tr>\n",
              "      <td>9</td>\n",
              "      <td>0.069781</td>\n",
              "      <td>0.104871</td>\n",
              "      <td>0.004424</td>\n",
              "      <td>0.046934</td>\n",
              "      <td>00:15</td>\n",
              "    </tr>\n",
              "  </tbody>\n",
              "</table>"
            ],
            "text/plain": [
              "<IPython.core.display.HTML object>"
            ]
          },
          "metadata": {
            "tags": []
          }
        }
      ]
    },
    {
      "cell_type": "code",
      "metadata": {
        "id": "249_OYNDmY4F",
        "colab_type": "code",
        "colab": {
          "base_uri": "https://localhost:8080/",
          "height": 267
        },
        "outputId": "5f51f3c2-277c-42a6-aad2-89d1853fbcc2"
      },
      "source": [
        "learn.show_results(rows=1)"
      ],
      "execution_count": 100,
      "outputs": [
        {
          "output_type": "display_data",
          "data": {
            "image/png": "[encoded data removed]",
            "text/plain": [
              "<Figure size 864x288 with 3 Axes>"
            ]
          },
          "metadata": {
            "tags": [],
            "needs_background": "light"
          }
        }
      ]
    },
    {
      "cell_type": "code",
      "metadata": {
        "id": "bgyuHzGdmahN",
        "colab_type": "code",
        "colab": {}
      },
      "source": [
        "feat_loss = FeatureLoss(vgg_m, blocks[0:3], [20,20,1])\n",
        "learn = Learner(data, autoencoder, loss_func = feat_loss, metrics = [mean_squared_error, mean_absolute_error])"
      ],
      "execution_count": 0,
      "outputs": []
    },
    {
      "cell_type": "code",
      "metadata": {
        "id": "5xe4_8BJmclt",
        "colab_type": "code",
        "colab": {
          "base_uri": "https://localhost:8080/",
          "height": 359
        },
        "outputId": "ebc03611-f4b2-48dc-9686-d619d704bd35"
      },
      "source": [
        "learn.fit_one_cycle(10)"
      ],
      "execution_count": 102,
      "outputs": [
        {
          "output_type": "display_data",
          "data": {
            "text/html": [
              "<table border=\"1\" class=\"dataframe\">\n",
              "  <thead>\n",
              "    <tr style=\"text-align: left;\">\n",
              "      <th>epoch</th>\n",
              "      <th>train_loss</th>\n",
              "      <th>valid_loss</th>\n",
              "      <th>mean_squared_error</th>\n",
              "      <th>mean_absolute_error</th>\n",
              "      <th>time</th>\n",
              "    </tr>\n",
              "  </thead>\n",
              "  <tbody>\n",
              "    <tr>\n",
              "      <td>0</td>\n",
              "      <td>0.140740</td>\n",
              "      <td>0.208181</td>\n",
              "      <td>0.004876</td>\n",
              "      <td>0.050102</td>\n",
              "      <td>00:14</td>\n",
              "    </tr>\n",
              "    <tr>\n",
              "      <td>1</td>\n",
              "      <td>0.142054</td>\n",
              "      <td>0.211812</td>\n",
              "      <td>0.005472</td>\n",
              "      <td>0.054390</td>\n",
              "      <td>00:14</td>\n",
              "    </tr>\n",
              "    <tr>\n",
              "      <td>2</td>\n",
              "      <td>0.144231</td>\n",
              "      <td>0.212869</td>\n",
              "      <td>0.005556</td>\n",
              "      <td>0.054536</td>\n",
              "      <td>00:14</td>\n",
              "    </tr>\n",
              "    <tr>\n",
              "      <td>3</td>\n",
              "      <td>0.145108</td>\n",
              "      <td>0.214236</td>\n",
              "      <td>0.005333</td>\n",
              "      <td>0.053069</td>\n",
              "      <td>00:14</td>\n",
              "    </tr>\n",
              "    <tr>\n",
              "      <td>4</td>\n",
              "      <td>0.144472</td>\n",
              "      <td>0.208531</td>\n",
              "      <td>0.005144</td>\n",
              "      <td>0.051733</td>\n",
              "      <td>00:14</td>\n",
              "    </tr>\n",
              "    <tr>\n",
              "      <td>5</td>\n",
              "      <td>0.148226</td>\n",
              "      <td>0.253918</td>\n",
              "      <td>0.014734</td>\n",
              "      <td>0.094949</td>\n",
              "      <td>00:14</td>\n",
              "    </tr>\n",
              "    <tr>\n",
              "      <td>6</td>\n",
              "      <td>0.146907</td>\n",
              "      <td>0.206752</td>\n",
              "      <td>0.005589</td>\n",
              "      <td>0.054826</td>\n",
              "      <td>00:14</td>\n",
              "    </tr>\n",
              "    <tr>\n",
              "      <td>7</td>\n",
              "      <td>0.142969</td>\n",
              "      <td>0.202775</td>\n",
              "      <td>0.004827</td>\n",
              "      <td>0.049492</td>\n",
              "      <td>00:14</td>\n",
              "    </tr>\n",
              "    <tr>\n",
              "      <td>8</td>\n",
              "      <td>0.140059</td>\n",
              "      <td>0.201484</td>\n",
              "      <td>0.004784</td>\n",
              "      <td>0.049147</td>\n",
              "      <td>00:14</td>\n",
              "    </tr>\n",
              "    <tr>\n",
              "      <td>9</td>\n",
              "      <td>0.138464</td>\n",
              "      <td>0.201119</td>\n",
              "      <td>0.004781</td>\n",
              "      <td>0.049154</td>\n",
              "      <td>00:14</td>\n",
              "    </tr>\n",
              "  </tbody>\n",
              "</table>"
            ],
            "text/plain": [
              "<IPython.core.display.HTML object>"
            ]
          },
          "metadata": {
            "tags": []
          }
        }
      ]
    },
    {
      "cell_type": "code",
      "metadata": {
        "id": "gv7zkKtOmeV0",
        "colab_type": "code",
        "colab": {
          "base_uri": "https://localhost:8080/",
          "height": 267
        },
        "outputId": "2d465b89-a9cf-429b-da81-c98de9d0c9f8"
      },
      "source": [
        "learn.show_results(rows=1)"
      ],
      "execution_count": 103,
      "outputs": [
        {
          "output_type": "display_data",
          "data": {
            "image/png": "[encoded data removed]",
            "text/plain": [
              "<Figure size 864x288 with 3 Axes>"
            ]
          },
          "metadata": {
            "tags": [],
            "needs_background": "light"
          }
        }
      ]
    },
    {
      "cell_type": "code",
      "metadata": {
        "id": "9Xaa8PoQmfDH",
        "colab_type": "code",
        "colab": {}
      },
      "source": [
        "feat_loss = FeatureLoss(vgg_m, blocks[0:3], [5,20,1])\n",
        "learn = Learner(data, autoencoder, loss_func = feat_loss, metrics = [mean_squared_error, mean_absolute_error])"
      ],
      "execution_count": 0,
      "outputs": []
    },
    {
      "cell_type": "code",
      "metadata": {
        "id": "LBaaakN0nMuZ",
        "colab_type": "code",
        "colab": {
          "base_uri": "https://localhost:8080/",
          "height": 359
        },
        "outputId": "081a6b6f-d1ed-46ed-f491-5fd653904bf0"
      },
      "source": [
        "learn.fit_one_cycle(10)"
      ],
      "execution_count": 105,
      "outputs": [
        {
          "output_type": "display_data",
          "data": {
            "text/html": [
              "<table border=\"1\" class=\"dataframe\">\n",
              "  <thead>\n",
              "    <tr style=\"text-align: left;\">\n",
              "      <th>epoch</th>\n",
              "      <th>train_loss</th>\n",
              "      <th>valid_loss</th>\n",
              "      <th>mean_squared_error</th>\n",
              "      <th>mean_absolute_error</th>\n",
              "      <th>time</th>\n",
              "    </tr>\n",
              "  </thead>\n",
              "  <tbody>\n",
              "    <tr>\n",
              "      <td>0</td>\n",
              "      <td>0.107542</td>\n",
              "      <td>0.154993</td>\n",
              "      <td>0.004961</td>\n",
              "      <td>0.050354</td>\n",
              "      <td>00:14</td>\n",
              "    </tr>\n",
              "    <tr>\n",
              "      <td>1</td>\n",
              "      <td>0.108651</td>\n",
              "      <td>0.159756</td>\n",
              "      <td>0.005899</td>\n",
              "      <td>0.056124</td>\n",
              "      <td>00:14</td>\n",
              "    </tr>\n",
              "    <tr>\n",
              "      <td>2</td>\n",
              "      <td>0.111066</td>\n",
              "      <td>0.163249</td>\n",
              "      <td>0.006863</td>\n",
              "      <td>0.061954</td>\n",
              "      <td>00:14</td>\n",
              "    </tr>\n",
              "    <tr>\n",
              "      <td>3</td>\n",
              "      <td>0.111629</td>\n",
              "      <td>0.159288</td>\n",
              "      <td>0.005425</td>\n",
              "      <td>0.053574</td>\n",
              "      <td>00:14</td>\n",
              "    </tr>\n",
              "    <tr>\n",
              "      <td>4</td>\n",
              "      <td>0.111896</td>\n",
              "      <td>0.157244</td>\n",
              "      <td>0.005189</td>\n",
              "      <td>0.052069</td>\n",
              "      <td>00:14</td>\n",
              "    </tr>\n",
              "    <tr>\n",
              "      <td>5</td>\n",
              "      <td>0.110506</td>\n",
              "      <td>0.155359</td>\n",
              "      <td>0.005303</td>\n",
              "      <td>0.052657</td>\n",
              "      <td>00:14</td>\n",
              "    </tr>\n",
              "    <tr>\n",
              "      <td>6</td>\n",
              "      <td>0.109102</td>\n",
              "      <td>0.154666</td>\n",
              "      <td>0.005745</td>\n",
              "      <td>0.055692</td>\n",
              "      <td>00:14</td>\n",
              "    </tr>\n",
              "    <tr>\n",
              "      <td>7</td>\n",
              "      <td>0.107536</td>\n",
              "      <td>0.152374</td>\n",
              "      <td>0.004967</td>\n",
              "      <td>0.050469</td>\n",
              "      <td>00:14</td>\n",
              "    </tr>\n",
              "    <tr>\n",
              "      <td>8</td>\n",
              "      <td>0.105976</td>\n",
              "      <td>0.150105</td>\n",
              "      <td>0.004780</td>\n",
              "      <td>0.048914</td>\n",
              "      <td>00:14</td>\n",
              "    </tr>\n",
              "    <tr>\n",
              "      <td>9</td>\n",
              "      <td>0.105185</td>\n",
              "      <td>0.149729</td>\n",
              "      <td>0.004733</td>\n",
              "      <td>0.048659</td>\n",
              "      <td>00:14</td>\n",
              "    </tr>\n",
              "  </tbody>\n",
              "</table>"
            ],
            "text/plain": [
              "<IPython.core.display.HTML object>"
            ]
          },
          "metadata": {
            "tags": []
          }
        }
      ]
    },
    {
      "cell_type": "code",
      "metadata": {
        "id": "LCus7S-hnOBk",
        "colab_type": "code",
        "colab": {
          "base_uri": "https://localhost:8080/",
          "height": 267
        },
        "outputId": "a58ae8df-06b8-419a-8a35-af186f1ea88d"
      },
      "source": [
        "learn.show_results(rows=1)"
      ],
      "execution_count": 106,
      "outputs": [
        {
          "output_type": "display_data",
          "data": {
            "image/png": "[encoded data removed]",
            "text/plain": [
              "<Figure size 864x288 with 3 Axes>"
            ]
          },
          "metadata": {
            "tags": [],
            "needs_background": "light"
          }
        }
      ]
    },
    {
      "cell_type": "code",
      "metadata": {
        "id": "QOn_OXFHnPT6",
        "colab_type": "code",
        "colab": {}
      },
      "source": [
        "learn.loss_func = F.mse_loss"
      ],
      "execution_count": 0,
      "outputs": []
    },
    {
      "cell_type": "code",
      "metadata": {
        "id": "dcSGQNhPnb8E",
        "colab_type": "code",
        "colab": {
          "base_uri": "https://localhost:8080/",
          "height": 359
        },
        "outputId": "ec6959e6-a864-404e-974a-97da04427340"
      },
      "source": [
        "learn.fit_one_cycle(10)"
      ],
      "execution_count": 109,
      "outputs": [
        {
          "output_type": "display_data",
          "data": {
            "text/html": [
              "<table border=\"1\" class=\"dataframe\">\n",
              "  <thead>\n",
              "    <tr style=\"text-align: left;\">\n",
              "      <th>epoch</th>\n",
              "      <th>train_loss</th>\n",
              "      <th>valid_loss</th>\n",
              "      <th>mean_squared_error</th>\n",
              "      <th>mean_absolute_error</th>\n",
              "      <th>time</th>\n",
              "    </tr>\n",
              "  </thead>\n",
              "  <tbody>\n",
              "    <tr>\n",
              "      <td>0</td>\n",
              "      <td>0.003172</td>\n",
              "      <td>0.004579</td>\n",
              "      <td>0.004579</td>\n",
              "      <td>0.048139</td>\n",
              "      <td>00:11</td>\n",
              "    </tr>\n",
              "    <tr>\n",
              "      <td>1</td>\n",
              "      <td>0.003084</td>\n",
              "      <td>0.004746</td>\n",
              "      <td>0.004746</td>\n",
              "      <td>0.050040</td>\n",
              "      <td>00:11</td>\n",
              "    </tr>\n",
              "    <tr>\n",
              "      <td>2</td>\n",
              "      <td>0.002954</td>\n",
              "      <td>0.004407</td>\n",
              "      <td>0.004407</td>\n",
              "      <td>0.047665</td>\n",
              "      <td>00:11</td>\n",
              "    </tr>\n",
              "    <tr>\n",
              "      <td>3</td>\n",
              "      <td>0.002897</td>\n",
              "      <td>0.005190</td>\n",
              "      <td>0.005190</td>\n",
              "      <td>0.053267</td>\n",
              "      <td>00:11</td>\n",
              "    </tr>\n",
              "    <tr>\n",
              "      <td>4</td>\n",
              "      <td>0.002843</td>\n",
              "      <td>0.004443</td>\n",
              "      <td>0.004443</td>\n",
              "      <td>0.048184</td>\n",
              "      <td>00:12</td>\n",
              "    </tr>\n",
              "    <tr>\n",
              "      <td>5</td>\n",
              "      <td>0.002795</td>\n",
              "      <td>0.004139</td>\n",
              "      <td>0.004139</td>\n",
              "      <td>0.045803</td>\n",
              "      <td>00:11</td>\n",
              "    </tr>\n",
              "    <tr>\n",
              "      <td>6</td>\n",
              "      <td>0.002738</td>\n",
              "      <td>0.004020</td>\n",
              "      <td>0.004020</td>\n",
              "      <td>0.044694</td>\n",
              "      <td>00:11</td>\n",
              "    </tr>\n",
              "    <tr>\n",
              "      <td>7</td>\n",
              "      <td>0.002742</td>\n",
              "      <td>0.004191</td>\n",
              "      <td>0.004191</td>\n",
              "      <td>0.046268</td>\n",
              "      <td>00:11</td>\n",
              "    </tr>\n",
              "    <tr>\n",
              "      <td>8</td>\n",
              "      <td>0.002678</td>\n",
              "      <td>0.003898</td>\n",
              "      <td>0.003898</td>\n",
              "      <td>0.043789</td>\n",
              "      <td>00:11</td>\n",
              "    </tr>\n",
              "    <tr>\n",
              "      <td>9</td>\n",
              "      <td>0.002616</td>\n",
              "      <td>0.003875</td>\n",
              "      <td>0.003875</td>\n",
              "      <td>0.043568</td>\n",
              "      <td>00:11</td>\n",
              "    </tr>\n",
              "  </tbody>\n",
              "</table>"
            ],
            "text/plain": [
              "<IPython.core.display.HTML object>"
            ]
          },
          "metadata": {
            "tags": []
          }
        }
      ]
    },
    {
      "cell_type": "code",
      "metadata": {
        "id": "cbY3LVp1nfEj",
        "colab_type": "code",
        "colab": {
          "base_uri": "https://localhost:8080/",
          "height": 267
        },
        "outputId": "2df31011-7f89-4b90-e8eb-cecdf62add30"
      },
      "source": [
        "learn.show_results(rows=1)"
      ],
      "execution_count": 110,
      "outputs": [
        {
          "output_type": "display_data",
          "data": {
            "image/png": "[encoded data removed]",
            "text/plain": [
              "<Figure size 864x288 with 3 Axes>"
            ]
          },
          "metadata": {
            "tags": [],
            "needs_background": "light"
          }
        }
      ]
    },
    {
      "cell_type": "code",
      "metadata": {
        "id": "XQ79ReDmngxc",
        "colab_type": "code",
        "colab": {}
      },
      "source": [
        ""
      ],
      "execution_count": 0,
      "outputs": []
    }
  ]
}