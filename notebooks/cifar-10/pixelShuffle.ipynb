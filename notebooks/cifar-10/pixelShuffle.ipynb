{
  "nbformat": 4,
  "nbformat_minor": 0,
  "metadata": {
    "colab": {
      "name": "pixelShuffle.ipynb",
      "provenance": [],
      "collapsed_sections": []
    },
    "kernelspec": {
      "name": "python3",
      "display_name": "Python 3"
    },
    "accelerator": "GPU"
  },
  "cells": [
    {
      "cell_type": "markdown",
      "metadata": {
        "id": "winOvrGHNswC",
        "colab_type": "text"
      },
      "source": [
        "# Pixel Shuffle\n",
        "\n",
        "This notebook is a comparison between two best practices. Pixel shuffle and upsampling followed by a convolution."
      ]
    },
    {
      "cell_type": "markdown",
      "metadata": {
        "id": "5sHL-kiPN6ya",
        "colab_type": "text"
      },
      "source": [
        "## Imports"
      ]
    },
    {
      "cell_type": "code",
      "metadata": {
        "id": "mdWFhYGlN7y_",
        "colab_type": "code",
        "colab": {}
      },
      "source": [
        "from fastai import *\n",
        "from fastai.tabular import *\n",
        "import pandas as pd\n",
        "from torchsummary import summary\n",
        "import torch\n",
        "from torch import nn\n",
        "import imageio\n",
        "import torch\n",
        "import glob\n",
        "from fastai.vision import *\n",
        "import os\n",
        "from torch import nn\n",
        "import torch.nn.functional as F"
      ],
      "execution_count": 0,
      "outputs": []
    },
    {
      "cell_type": "markdown",
      "metadata": {
        "id": "tKt7uuOVN3K6",
        "colab_type": "text"
      },
      "source": [
        "## Data"
      ]
    },
    {
      "cell_type": "code",
      "metadata": {
        "id": "ESI2W8MpNUum",
        "colab_type": "code",
        "colab": {
          "base_uri": "https://localhost:8080/",
          "height": 122
        },
        "outputId": "1909848d-a6cd-4bef-aa36-9f0cdd3ae4d5"
      },
      "source": [
        "colab = True\n",
        "if colab:\n",
        "  from google.colab import drive\n",
        "  drive.mount('/content/drive', force_remount = True)\n",
        "  %cp \"/content/drive/My Drive/autoencoder-training/data.zip\" .\n",
        "  !unzip -q data.zip\n",
        "  image_path = \"data\"\n",
        "else: \n",
        "  os.chdir(\"../\")\n",
        "  image_path = os.getcwd() + \"/data\""
      ],
      "execution_count": 2,
      "outputs": [
        {
          "output_type": "stream",
          "text": [
            "Go to this URL in a browser: https://accounts.google.com/o/oauth2/auth?client_id=947318989803-6bn6qk8qdgf4n4g3pfee6491hc0brc4i.apps.googleusercontent.com&redirect_uri=urn%3aietf%3awg%3aoauth%3a2.0%3aoob&response_type=code&scope=email%20https%3a%2f%2fwww.googleapis.com%2fauth%2fdocs.test%20https%3a%2f%2fwww.googleapis.com%2fauth%2fdrive%20https%3a%2f%2fwww.googleapis.com%2fauth%2fdrive.photos.readonly%20https%3a%2f%2fwww.googleapis.com%2fauth%2fpeopleapi.readonly\n",
            "\n",
            "Enter your authorization code:\n",
            "··········\n",
            "Mounted at /content/drive\n"
          ],
          "name": "stdout"
        }
      ]
    },
    {
      "cell_type": "code",
      "metadata": {
        "id": "Ush7LmhZOTBW",
        "colab_type": "code",
        "colab": {}
      },
      "source": [
        "np.random.seed(3333)\n",
        "torch.manual_seed(3333)\n",
        "\n",
        "size = 32\n",
        "batchsize = 128\n",
        "\n",
        "tfms = get_transforms(do_flip = True)\n",
        "src = (ImageImageList.from_folder(image_path).split_by_folder().label_from_func(lambda x: x))\n",
        "data = (src.transform(tfms, size=size, tfm_y=True)\n",
        "        .databunch(bs=batchsize)\n",
        "        .normalize(imagenet_stats, do_y = False))"
      ],
      "execution_count": 0,
      "outputs": []
    },
    {
      "cell_type": "markdown",
      "metadata": {
        "id": "nDEcCP-DOsit",
        "colab_type": "text"
      },
      "source": [
        "## Model"
      ]
    },
    {
      "cell_type": "code",
      "metadata": {
        "id": "C_1snTAmQEE6",
        "colab_type": "code",
        "colab": {}
      },
      "source": [
        "class reshape(nn.Module):\n",
        "  def __init__(self, shape):\n",
        "      super(reshape, self).__init__()\n",
        "      self.shape = shape\n",
        "  def forward(self, x): return x.reshape(self.shape)"
      ],
      "execution_count": 0,
      "outputs": []
    },
    {
      "cell_type": "code",
      "metadata": {
        "id": "gVjjG8CLRbqW",
        "colab_type": "code",
        "colab": {}
      },
      "source": [
        "class AdaptiveConcatPool2d(Module):\n",
        "    \"Layer that concats `AdaptiveAvgPool2d` and `AdaptiveMaxPool2d`.\"\n",
        "    def __init__(self, sz:Optional[int]=None):\n",
        "        \"Output will be 2*sz or 2 if sz is None\"\n",
        "        self.output_size = sz or 1\n",
        "        self.ap = nn.AdaptiveAvgPool2d(self.output_size)\n",
        "        self.mp = nn.AdaptiveMaxPool2d(self.output_size)\n",
        "\n",
        "    def forward(self, x): return torch.cat([self.mp(x), self.ap(x)], 1)"
      ],
      "execution_count": 0,
      "outputs": []
    },
    {
      "cell_type": "code",
      "metadata": {
        "id": "r7LtSzkFOtwr",
        "colab_type": "code",
        "colab": {}
      },
      "source": [
        "class Autoencoder(nn.Module):\n",
        "\n",
        "    def __init__(self):\n",
        "        super(Autoencoder, self).__init__()\n",
        "\n",
        "        self.encoder = nn.Sequential(\n",
        "            nn.Conv2d(3, 12, kernel_size=(3, 3), stride=(1, 1), padding=(1, 1), bias=False),\n",
        "            nn.BatchNorm2d(12, eps=1e-05, momentum=0.1, affine=True, track_running_stats=True),\n",
        "            nn.ReLU(inplace=True),\n",
        "            nn.Conv2d(12, 12, kernel_size=(3, 3), stride=(1, 1), padding=(1, 1), bias=False),\n",
        "            nn.BatchNorm2d(12, eps=1e-05, momentum=0.1, affine=True, track_running_stats=True),\n",
        "            nn.ReLU(inplace=True),\n",
        "            nn.AdaptiveMaxPool2d(16),\n",
        "            #nn.MaxPool2d(kernel_size = (2,2), stride = (2,2)),\n",
        "            nn.BatchNorm2d(12, eps=1e-05, momentum=0.1, affine=True, track_running_stats=True),\n",
        "            nn.ReLU(inplace=True),\n",
        "            nn.Conv2d(12, 24, kernel_size=(3, 3), stride=(1, 1), padding=(1, 1), bias=False),\n",
        "            nn.BatchNorm2d(24, eps=1e-05, momentum=0.1, affine=True, track_running_stats=True),\n",
        "            nn.ReLU(inplace=True),\n",
        "            nn.AdaptiveMaxPool2d(8),\n",
        "            nn.BatchNorm2d(24, eps=1e-05, momentum=0.1, affine=True, track_running_stats=True),\n",
        "            nn.ReLU(inplace=True),\n",
        "            nn.Flatten(),\n",
        "            nn.Linear(24 * 8 * 8, 1000)\n",
        "        )\n",
        "\n",
        "        self.decoder = nn.Sequential(\n",
        "            nn.Linear(1000, 24 * 8 * 8),\n",
        "            reshape([-1,24,8,8]),\n",
        "            nn.Conv2d(24, 12, kernel_size=(3, 3), stride=(1, 1), padding=(1, 1), bias=False),\n",
        "            nn.BatchNorm2d(12, eps=1e-05, momentum=0.1, affine=True, track_running_stats=True),\n",
        "            nn.ReLU(inplace=True),\n",
        "            PixelShuffle_ICNR(12, 12),\n",
        "            nn.BatchNorm2d(12, eps=1e-05, momentum=0.1, affine=True, track_running_stats=True),\n",
        "            nn.ReLU(inplace=True),\n",
        "            PixelShuffle_ICNR(12, 3),\n",
        "            nn.BatchNorm2d(3, eps=1e-05, momentum=0.1, affine=True, track_running_stats=True),\n",
        "            nn.ReLU(inplace=True),\n",
        "        )\n",
        "        \n",
        "    def encode(self,x): return self.encoder(x)\n",
        "    \n",
        "    def decode(self,x): return torch.clamp(self.decoder(x), min = 0, max=1)\n",
        "        \n",
        "\n",
        "    def forward(self, x):\n",
        "        encoded = self.encoder(x)\n",
        "        decoded = self.decoder(encoded)\n",
        "        return decoded"
      ],
      "execution_count": 0,
      "outputs": []
    },
    {
      "cell_type": "code",
      "metadata": {
        "id": "7Iw5xKpoP0Ye",
        "colab_type": "code",
        "colab": {}
      },
      "source": [
        "ae = Autoencoder()\n",
        "learn = Learner(data, ae, loss_func = F.mse_loss)"
      ],
      "execution_count": 0,
      "outputs": []
    },
    {
      "cell_type": "code",
      "metadata": {
        "id": "_dITilbKP5Lu",
        "colab_type": "code",
        "colab": {
          "base_uri": "https://localhost:8080/",
          "height": 1000
        },
        "outputId": "ebfd4498-bc32-4223-f5bf-f52f55d2bf77"
      },
      "source": [
        "learn.summary()"
      ],
      "execution_count": 27,
      "outputs": [
        {
          "output_type": "execute_result",
          "data": {
            "text/plain": [
              "Autoencoder\n",
              "======================================================================\n",
              "Layer (type)         Output Shape         Param #    Trainable \n",
              "======================================================================\n",
              "Conv2d               [12, 32, 32]         324        True      \n",
              "______________________________________________________________________\n",
              "BatchNorm2d          [12, 32, 32]         24         True      \n",
              "______________________________________________________________________\n",
              "ReLU                 [12, 32, 32]         0          False     \n",
              "______________________________________________________________________\n",
              "Conv2d               [12, 32, 32]         1,296      True      \n",
              "______________________________________________________________________\n",
              "BatchNorm2d          [12, 32, 32]         24         True      \n",
              "______________________________________________________________________\n",
              "ReLU                 [12, 32, 32]         0          False     \n",
              "______________________________________________________________________\n",
              "AdaptiveMaxPool2d    [12, 16, 16]         0          False     \n",
              "______________________________________________________________________\n",
              "BatchNorm2d          [12, 16, 16]         24         True      \n",
              "______________________________________________________________________\n",
              "ReLU                 [12, 16, 16]         0          False     \n",
              "______________________________________________________________________\n",
              "Conv2d               [24, 16, 16]         2,592      True      \n",
              "______________________________________________________________________\n",
              "BatchNorm2d          [24, 16, 16]         48         True      \n",
              "______________________________________________________________________\n",
              "ReLU                 [24, 16, 16]         0          False     \n",
              "______________________________________________________________________\n",
              "AdaptiveMaxPool2d    [24, 8, 8]           0          False     \n",
              "______________________________________________________________________\n",
              "BatchNorm2d          [24, 8, 8]           48         True      \n",
              "______________________________________________________________________\n",
              "ReLU                 [24, 8, 8]           0          False     \n",
              "______________________________________________________________________\n",
              "Flatten              [1536]               0          False     \n",
              "______________________________________________________________________\n",
              "Linear               [1000]               1,537,000  True      \n",
              "______________________________________________________________________\n",
              "Linear               [1536]               1,537,536  True      \n",
              "______________________________________________________________________\n",
              "reshape              [24, 8, 8]           0          False     \n",
              "______________________________________________________________________\n",
              "Conv2d               [12, 8, 8]           2,592      True      \n",
              "______________________________________________________________________\n",
              "BatchNorm2d          [12, 8, 8]           24         True      \n",
              "______________________________________________________________________\n",
              "ReLU                 [12, 8, 8]           0          False     \n",
              "______________________________________________________________________\n",
              "Conv2d               [48, 8, 8]           624        True      \n",
              "______________________________________________________________________\n",
              "PixelShuffle         [12, 16, 16]         0          False     \n",
              "______________________________________________________________________\n",
              "ReLU                 [48, 8, 8]           0          False     \n",
              "______________________________________________________________________\n",
              "BatchNorm2d          [12, 16, 16]         24         True      \n",
              "______________________________________________________________________\n",
              "ReLU                 [12, 16, 16]         0          False     \n",
              "______________________________________________________________________\n",
              "Conv2d               [12, 16, 16]         156        True      \n",
              "______________________________________________________________________\n",
              "PixelShuffle         [3, 32, 32]          0          False     \n",
              "______________________________________________________________________\n",
              "ReLU                 [12, 16, 16]         0          False     \n",
              "______________________________________________________________________\n",
              "BatchNorm2d          [3, 32, 32]          6          True      \n",
              "______________________________________________________________________\n",
              "ReLU                 [3, 32, 32]          0          False     \n",
              "______________________________________________________________________\n",
              "\n",
              "Total params: 3,082,342\n",
              "Total trainable params: 3,082,342\n",
              "Total non-trainable params: 0\n",
              "Optimized with 'torch.optim.adam.Adam', betas=(0.9, 0.99)\n",
              "Using true weight decay as discussed in https://www.fast.ai/2018/07/02/adam-weight-decay/ \n",
              "Loss function : function\n",
              "======================================================================\n",
              "Callbacks functions applied "
            ]
          },
          "metadata": {
            "tags": []
          },
          "execution_count": 27
        }
      ]
    },
    {
      "cell_type": "code",
      "metadata": {
        "id": "WDMbyzZWQLZP",
        "colab_type": "code",
        "colab": {
          "base_uri": "https://localhost:8080/",
          "height": 359
        },
        "outputId": "d4fdf925-740f-4962-f8cf-5b0334f28488"
      },
      "source": [
        "learn.fit_one_cycle(10)"
      ],
      "execution_count": 28,
      "outputs": [
        {
          "output_type": "display_data",
          "data": {
            "text/html": [
              "<table border=\"1\" class=\"dataframe\">\n",
              "  <thead>\n",
              "    <tr style=\"text-align: left;\">\n",
              "      <th>epoch</th>\n",
              "      <th>train_loss</th>\n",
              "      <th>valid_loss</th>\n",
              "      <th>time</th>\n",
              "    </tr>\n",
              "  </thead>\n",
              "  <tbody>\n",
              "    <tr>\n",
              "      <td>0</td>\n",
              "      <td>0.239805</td>\n",
              "      <td>0.221992</td>\n",
              "      <td>02:29</td>\n",
              "    </tr>\n",
              "    <tr>\n",
              "      <td>1</td>\n",
              "      <td>0.096991</td>\n",
              "      <td>0.096352</td>\n",
              "      <td>02:29</td>\n",
              "    </tr>\n",
              "    <tr>\n",
              "      <td>2</td>\n",
              "      <td>0.075897</td>\n",
              "      <td>0.076614</td>\n",
              "      <td>02:28</td>\n",
              "    </tr>\n",
              "    <tr>\n",
              "      <td>3</td>\n",
              "      <td>0.056253</td>\n",
              "      <td>0.058338</td>\n",
              "      <td>02:28</td>\n",
              "    </tr>\n",
              "    <tr>\n",
              "      <td>4</td>\n",
              "      <td>0.047171</td>\n",
              "      <td>0.047355</td>\n",
              "      <td>02:27</td>\n",
              "    </tr>\n",
              "    <tr>\n",
              "      <td>5</td>\n",
              "      <td>0.037660</td>\n",
              "      <td>0.038217</td>\n",
              "      <td>02:26</td>\n",
              "    </tr>\n",
              "    <tr>\n",
              "      <td>6</td>\n",
              "      <td>0.033209</td>\n",
              "      <td>0.034970</td>\n",
              "      <td>02:27</td>\n",
              "    </tr>\n",
              "    <tr>\n",
              "      <td>7</td>\n",
              "      <td>0.029180</td>\n",
              "      <td>0.030464</td>\n",
              "      <td>02:26</td>\n",
              "    </tr>\n",
              "    <tr>\n",
              "      <td>8</td>\n",
              "      <td>0.028139</td>\n",
              "      <td>0.029936</td>\n",
              "      <td>02:25</td>\n",
              "    </tr>\n",
              "    <tr>\n",
              "      <td>9</td>\n",
              "      <td>0.027969</td>\n",
              "      <td>0.029800</td>\n",
              "      <td>02:25</td>\n",
              "    </tr>\n",
              "  </tbody>\n",
              "</table>"
            ],
            "text/plain": [
              "<IPython.core.display.HTML object>"
            ]
          },
          "metadata": {
            "tags": []
          }
        }
      ]
    },
    {
      "cell_type": "code",
      "metadata": {
        "id": "wBcIzSMMTpYV",
        "colab_type": "code",
        "colab": {}
      },
      "source": [
        "class convblock(nn.Module):\n",
        "  def __init__(self, in_:int, out:int):\n",
        "    super().__init__()\n",
        "    self.conv1 = nn.Conv2d(in_, out, kernel_size=(3, 3), stride=(1, 1), padding=(1, 1), bias=False)\n",
        "    self.bn = nn.BatchNorm2d(out, eps=1e-05, momentum=0.1, affine=True, track_running_stats=True)\n",
        "    self.relu = nn.ReLU(inplace=True)\n",
        "\n",
        "  def forward(self, x):\n",
        "    x = self.conv1(x)\n",
        "    x = self.bn(x)\n",
        "    x = self.relu(x)\n",
        "    return x\n",
        "\n",
        "class downsamp(nn.Module):\n",
        "  def __init__(self, size:int, scale:int=2):\n",
        "    super().__init__()\n",
        "    self.pool = nn.AdaptiveMaxPool2d(scale)\n",
        "    self.bn = nn.BatchNorm2d(size, eps=1e-05, momentum=0.1, affine=True, track_running_stats=True)\n",
        "    self.relu = nn.ReLU(inplace = True)\n",
        "\n",
        "  def forward(self,x):\n",
        "    x = self.pool(x)\n",
        "    x = self.bn(x)\n",
        "    x = self.relu(x)\n",
        "    return x"
      ],
      "execution_count": 0,
      "outputs": []
    },
    {
      "cell_type": "code",
      "metadata": {
        "id": "D3ggo4iuX7dl",
        "colab_type": "code",
        "colab": {}
      },
      "source": [
        "class encoder1(nn.Module):\n",
        "  def __init__(self):\n",
        "    super(encoder1, self).__init__()\n",
        "    self.convblock1 = convblock(3, 12)\n",
        "    self.convblock2 = convblock(12,12)\n",
        "    self.downsamp1 = downsamp(12, 16)\n",
        "\n",
        "    self.convblock3 = convblock(12, 12)\n",
        "    self.convblock4 = convblock(12,24)\n",
        "    self.downsamp2 = downsamp(24, 8)\n",
        "\n",
        "    self.bottleneck = nn.Sequential(nn.Flatten(),\n",
        "                                    nn.Linear(24 * 8 * 8, 1000)\n",
        "                                    )\n",
        "  \n",
        "  def forward(self, x):\n",
        "    x = self.convblock1(x)\n",
        "    x = self.convblock2(x)\n",
        "    x = self.downsamp1(x)\n",
        "\n",
        "    x = self.convblock3(x)\n",
        "    x = self.convblock4(x)\n",
        "    x = self.downsamp2(x)\n",
        "\n",
        "    x = self.bottleneck(x)\n",
        "\n",
        "    return x\n",
        "\n",
        "\n",
        "class encoder2(nn.Module):\n",
        "  def __init__(self):\n",
        "    super(encoder2, self).__init__()\n",
        "    self.convblock1 = convblock(3, 12)\n",
        "    self.downsamp1 = downsamp(12, 16)\n",
        "\n",
        "    self.convblock2 = convblock(12,24)\n",
        "    self.downsamp2 = downsamp(24, 8)\n",
        "\n",
        "    self.bottleneck = nn.Sequential(nn.Flatten(),\n",
        "                                    nn.Linear(24 * 8 * 8, 1000)\n",
        "                                    )\n",
        "  \n",
        "  def forward(self, x):\n",
        "    x = self.convblock1(x)\n",
        "    x = self.downsamp1(x)\n",
        "\n",
        "    x = self.convblock2(x)\n",
        "    x = self.downsamp2(x)\n",
        "\n",
        "    x = self.bottleneck(x)\n",
        "\n",
        "    return x"
      ],
      "execution_count": 0,
      "outputs": []
    },
    {
      "cell_type": "code",
      "metadata": {
        "id": "xQLgZ1Cgel_q",
        "colab_type": "code",
        "colab": {}
      },
      "source": [
        "def icnr(x, scale=2, init=nn.init.kaiming_normal_):\n",
        "    \"ICNR init of `x`, with `scale` and `init` function.\"\n",
        "    ni,nf,h,w = x.shape\n",
        "    ni2 = int(ni/(scale**2))\n",
        "    k = init(torch.zeros([ni2,nf,h,w])).transpose(0, 1)\n",
        "    k = k.contiguous().view(ni2, nf, -1)\n",
        "    k = k.repeat(1, 1, scale**2)\n",
        "    k = k.contiguous().view([nf,ni,h,w]).transpose(0, 1)\n",
        "    x.data.copy_(k)\n",
        "\n",
        "class PixelShuffle_ICNR(nn.Module):\n",
        "    \"Upsample by `scale` from `ni` filters to `nf` (default `ni`), using `nn.PixelShuffle`, `icnr` init, and `weight_norm`.\"\n",
        "    def __init__(self, ni:int, nf:int=None, scale:int=2, blur:bool=False, norm_type=NormType.Weight):\n",
        "        super().__init__()\n",
        "        nf = ifnone(nf, ni)\n",
        "        self.conv = conv_layer(ni, nf*(scale**2), ks=1, norm_type=norm_type, use_activ=False)\n",
        "        icnr(self.conv[0].weight)\n",
        "        self.shuf = nn.PixelShuffle(scale)\n",
        "        # Blurring over (h*w) kernel\n",
        "        # \"Super-Resolution using Convolutional Neural Networks without Any Checkerboard Artifacts\"\n",
        "        # - https://arxiv.org/abs/1806.02658\n",
        "        self.pad = nn.ReplicationPad2d((1,0,1,0))\n",
        "        self.blur = nn.AvgPool2d(2, stride=1)\n",
        "        self.relu = nn.ReLU(inplace = True)\n",
        "\n",
        "    def forward(self,x):\n",
        "        x = self.shuf(self.relu(self.conv(x)))\n",
        "        return self.blur(self.pad(x)) if self.blur else x"
      ],
      "execution_count": 0,
      "outputs": []
    },
    {
      "cell_type": "code",
      "metadata": {
        "id": "kknsN6b_TWrv",
        "colab_type": "code",
        "colab": {}
      },
      "source": [
        "class Upsample1(nn.Module):\n",
        "  def __init__(self, in_:int, out:int, scale:int=2, blur:bool=True):\n",
        "    super().__init__()\n",
        "    self.pixel_shuffle = PixelShuffle_ICNR(in_, out, scale, blur)\n",
        "    self.bn = nn.BatchNorm2d(out, eps=1e-05, momentum=0.1, affine=True, track_running_stats=True)\n",
        "    self.conv1 = nn.Sequential(\n",
        "            nn.Conv2d(out, out, kernel_size=(3, 3), stride=(1, 1), padding=(1, 1)),\n",
        "            nn.BatchNorm2d(out, eps=1e-05, momentum=0.1, affine=True, track_running_stats=True),\n",
        "            nn.ReLU(inplace=True)\n",
        "    )\n",
        "    self.conv2 = nn.Sequential(\n",
        "            nn.Conv2d(out, out, kernel_size=(3, 3), stride=(1, 1), padding=(1, 1)),\n",
        "            nn.BatchNorm2d(out, eps=1e-05, momentum=0.1, affine=True, track_running_stats=True),\n",
        "            nn.ReLU(inplace=True)\n",
        "    )\n",
        "\n",
        "  def forward(self, x):\n",
        "    x = self.pixel_shuffle(x)\n",
        "    x = self.bn(x)\n",
        "    x = self.conv1(x)\n",
        "    x = self.conv2(x)\n",
        "    return x\n",
        "\n",
        "\n",
        "class Upsample2(nn.Module):\n",
        "  def __init__(self, in_:int, out:int, scale:int=2, blur:bool=True):\n",
        "    super().__init__()\n",
        "    self.pixel_shuffle = PixelShuffle_ICNR(in_, out, scale, blur)\n",
        "    self.bn = nn.BatchNorm2d(out, eps=1e-05, momentum=0.1, affine=True, track_running_stats=True)\n",
        "    self.conv1 = nn.Sequential(\n",
        "            nn.Conv2d(out, out, kernel_size=(3, 3), stride=(1, 1), padding=(1, 1)),\n",
        "            nn.BatchNorm2d(out, eps=1e-05, momentum=0.1, affine=True, track_running_stats=True),\n",
        "            nn.ReLU(inplace=True)\n",
        "    )\n",
        "\n",
        "  def forward(self, x):\n",
        "    x = self.pixel_shuffle(x)\n",
        "    x = self.bn(x)\n",
        "    x = self.conv1(x)\n",
        "    return x\n",
        "\n",
        "class Upsample3(nn.Module):\n",
        "  def __init__(self, in_:int, out:int, scale:int=2, blur:bool=True):\n",
        "    super().__init__()\n",
        "    \n",
        "    self.pixel_shuffle = PixelShuffle_ICNR(in_, out, scale, blur)\n",
        "    self.bn = nn.BatchNorm2d(out, eps=1e-05, momentum=0.1, affine=True, track_running_stats=True)\n",
        "\n",
        "  def forward(self, x):\n",
        "    x = self.pixel_shuffle(x)\n",
        "    x = self.bn(x)\n",
        "    return x"
      ],
      "execution_count": 0,
      "outputs": []
    },
    {
      "cell_type": "code",
      "metadata": {
        "id": "0tVTNGDJZufz",
        "colab_type": "code",
        "colab": {}
      },
      "source": [
        "class decoder1(nn.Module):\n",
        "  def __init__(self):\n",
        "    super(decoder1, self).__init__()\n",
        "\n",
        "    self.bottleneck = nn.Sequential(nn.Linear(1000, 24 * 8 * 8),\n",
        "                                    reshape([-1,24,8,8]))\n",
        "    self.up1 = Upsample1(24, 12)\n",
        "    self.up2 = Upsample1(12,3)\n",
        "\n",
        "  def forward(self, x):\n",
        "    x = self.bottleneck(x)\n",
        "    x = self.up1(x)\n",
        "    x = self.up2(x)\n",
        "    return x\n",
        "\n",
        "\n",
        "class decoder2(nn.Module):\n",
        "  def __init__(self):\n",
        "    super(decoder2, self).__init__()\n",
        "\n",
        "    self.bottleneck = nn.Sequential(nn.Linear(1000, 24 * 8 * 8),\n",
        "                                    reshape([-1,24,8,8])\n",
        "    )\n",
        "    self.up1 = Upsample2(24, 12)\n",
        "    self.up2 = Upsample2(12,3)\n",
        "\n",
        "  def forward(self, x):\n",
        "    x = self.bottleneck(x)\n",
        "    x = self.up1(x)\n",
        "    x = self.up2(x)\n",
        "    return x\n",
        "\n",
        "class decoder3(nn.Module):\n",
        "  def __init__(self):\n",
        "    super(decoder3, self).__init__()\n",
        "\n",
        "    self.bottleneck = nn.Sequential(nn.Linear(1000, 24 * 8 * 8),\n",
        "                                    reshape([-1,24,8,8])\n",
        "    )\n",
        "    self.up1 = Upsample3(24, 12)\n",
        "    self.up2 = Upsample3(12,3)\n",
        "\n",
        "  def forward(self, x):\n",
        "     x = self.bottleneck(x)\n",
        "     x = self.up1(x)\n",
        "     x = self.up2(x)\n",
        "     return x\n"
      ],
      "execution_count": 0,
      "outputs": []
    },
    {
      "cell_type": "code",
      "metadata": {
        "id": "gPepNuwvbNsD",
        "colab_type": "code",
        "colab": {}
      },
      "source": [
        "class autoencoder1(nn.Module):\n",
        "  def __init__(self):\n",
        "    super(autoencoder1, self).__init__()\n",
        "\n",
        "    self.encoder = encoder1()\n",
        "    self.decoder = decoder1()\n",
        "\n",
        "  def encode(self, x): return self.encoder(x)\n",
        "  def decode(self, x): return torch.clamp(self.decoder(x), min = 0, max = 1)\n",
        "\n",
        "  def forward(self, x):\n",
        "    x = self.encoder(x)\n",
        "    x = self.decoder(x)\n",
        "    return torch.clamp(x, min = 0, max = 1)\n",
        "\n",
        "class autoencoder2(nn.Module):\n",
        "  def __init__(self):\n",
        "    super(autoencoder2, self).__init__()\n",
        "\n",
        "    self.encoder = encoder2()\n",
        "    self.decoder = decoder2()\n",
        "\n",
        "  def encode(self, x): return self.encoder(x)\n",
        "  def decode(self, x): return torch.clamp(self.decoder(x), min = 0, max = 1)\n",
        "  \n",
        "  def forward(self, x):\n",
        "    x = self.encoder(x)\n",
        "    x = self.decoder(x)\n",
        "    return torch.clamp(x, min = 0, max = 1)\n",
        "\n",
        "class autoencoder3(nn.Module):\n",
        "  def __init__(self):\n",
        "    super(autoencoder3, self).__init__()\n",
        "\n",
        "    self.encoder = encoder2()\n",
        "    self.decoder = decoder3()\n",
        "\n",
        "  def encode(self, x): return self.encoder(x)\n",
        "  def decode(self, x): return torch.clamp(self.decoder(x), min = 0, max = 1)\n",
        "  \n",
        "  def forward(self, x):\n",
        "    x = self.encoder(x)\n",
        "    x = self.decoder(x)\n",
        "    return torch.clamp(x, min = 0, max = 1)"
      ],
      "execution_count": 0,
      "outputs": []
    },
    {
      "cell_type": "code",
      "metadata": {
        "id": "RREnr8SPcD6O",
        "colab_type": "code",
        "colab": {}
      },
      "source": [
        "ae1 = autoencoder1()\n",
        "ae2 = autoencoder2()\n",
        "ae3 = autoencoder3()"
      ],
      "execution_count": 0,
      "outputs": []
    },
    {
      "cell_type": "code",
      "metadata": {
        "id": "V05jH_dZcIYm",
        "colab_type": "code",
        "colab": {}
      },
      "source": [
        "learn1 = Learner(data, ae1, loss_func = F.mse_loss)"
      ],
      "execution_count": 0,
      "outputs": []
    },
    {
      "cell_type": "code",
      "metadata": {
        "id": "XbHV4TzrcLpW",
        "colab_type": "code",
        "colab": {
          "base_uri": "https://localhost:8080/",
          "height": 204
        },
        "outputId": "6fb09d80-2365-422d-e427-9b82f29d7b2e"
      },
      "source": [
        "learn1.fit_one_cycle(5)"
      ],
      "execution_count": 94,
      "outputs": [
        {
          "output_type": "display_data",
          "data": {
            "text/html": [
              "<table border=\"1\" class=\"dataframe\">\n",
              "  <thead>\n",
              "    <tr style=\"text-align: left;\">\n",
              "      <th>epoch</th>\n",
              "      <th>train_loss</th>\n",
              "      <th>valid_loss</th>\n",
              "      <th>time</th>\n",
              "    </tr>\n",
              "  </thead>\n",
              "  <tbody>\n",
              "    <tr>\n",
              "      <td>0</td>\n",
              "      <td>0.021753</td>\n",
              "      <td>0.026993</td>\n",
              "      <td>02:33</td>\n",
              "    </tr>\n",
              "    <tr>\n",
              "      <td>1</td>\n",
              "      <td>0.012498</td>\n",
              "      <td>0.014329</td>\n",
              "      <td>02:33</td>\n",
              "    </tr>\n",
              "    <tr>\n",
              "      <td>2</td>\n",
              "      <td>0.010294</td>\n",
              "      <td>0.012828</td>\n",
              "      <td>02:33</td>\n",
              "    </tr>\n",
              "    <tr>\n",
              "      <td>3</td>\n",
              "      <td>0.009305</td>\n",
              "      <td>0.010807</td>\n",
              "      <td>02:32</td>\n",
              "    </tr>\n",
              "    <tr>\n",
              "      <td>4</td>\n",
              "      <td>0.008804</td>\n",
              "      <td>0.010425</td>\n",
              "      <td>02:29</td>\n",
              "    </tr>\n",
              "  </tbody>\n",
              "</table>"
            ],
            "text/plain": [
              "<IPython.core.display.HTML object>"
            ]
          },
          "metadata": {
            "tags": []
          }
        }
      ]
    },
    {
      "cell_type": "code",
      "metadata": {
        "id": "BYYAvMxDgEq8",
        "colab_type": "code",
        "colab": {}
      },
      "source": [
        "learn2 = Learner(data, ae2, loss_func = F.mse_loss)"
      ],
      "execution_count": 0,
      "outputs": []
    },
    {
      "cell_type": "code",
      "metadata": {
        "id": "l51L2T2igJTz",
        "colab_type": "code",
        "colab": {
          "base_uri": "https://localhost:8080/",
          "height": 204
        },
        "outputId": "c1df0cbf-cb44-4337-caf0-367168084d80"
      },
      "source": [
        "learn2.fit_one_cycle(5)"
      ],
      "execution_count": 96,
      "outputs": [
        {
          "output_type": "display_data",
          "data": {
            "text/html": [
              "<table border=\"1\" class=\"dataframe\">\n",
              "  <thead>\n",
              "    <tr style=\"text-align: left;\">\n",
              "      <th>epoch</th>\n",
              "      <th>train_loss</th>\n",
              "      <th>valid_loss</th>\n",
              "      <th>time</th>\n",
              "    </tr>\n",
              "  </thead>\n",
              "  <tbody>\n",
              "    <tr>\n",
              "      <td>0</td>\n",
              "      <td>0.016810</td>\n",
              "      <td>0.015733</td>\n",
              "      <td>02:29</td>\n",
              "    </tr>\n",
              "    <tr>\n",
              "      <td>1</td>\n",
              "      <td>0.007504</td>\n",
              "      <td>0.008763</td>\n",
              "      <td>02:30</td>\n",
              "    </tr>\n",
              "    <tr>\n",
              "      <td>2</td>\n",
              "      <td>0.005823</td>\n",
              "      <td>0.007173</td>\n",
              "      <td>02:30</td>\n",
              "    </tr>\n",
              "    <tr>\n",
              "      <td>3</td>\n",
              "      <td>0.005152</td>\n",
              "      <td>0.006515</td>\n",
              "      <td>02:30</td>\n",
              "    </tr>\n",
              "    <tr>\n",
              "      <td>4</td>\n",
              "      <td>0.004784</td>\n",
              "      <td>0.006251</td>\n",
              "      <td>02:30</td>\n",
              "    </tr>\n",
              "  </tbody>\n",
              "</table>"
            ],
            "text/plain": [
              "<IPython.core.display.HTML object>"
            ]
          },
          "metadata": {
            "tags": []
          }
        }
      ]
    },
    {
      "cell_type": "code",
      "metadata": {
        "id": "jIgSIAzKgHA_",
        "colab_type": "code",
        "colab": {}
      },
      "source": [
        "learn3 = Learner(data, ae3, loss_func = F.mse_loss)"
      ],
      "execution_count": 0,
      "outputs": []
    },
    {
      "cell_type": "code",
      "metadata": {
        "id": "8QTavv10gL6V",
        "colab_type": "code",
        "colab": {
          "base_uri": "https://localhost:8080/",
          "height": 204
        },
        "outputId": "e9b38a4e-c8f6-4e19-f5c4-58d328bef606"
      },
      "source": [
        "learn3.fit_one_cycle(5)"
      ],
      "execution_count": 117,
      "outputs": [
        {
          "output_type": "display_data",
          "data": {
            "text/html": [
              "<table border=\"1\" class=\"dataframe\">\n",
              "  <thead>\n",
              "    <tr style=\"text-align: left;\">\n",
              "      <th>epoch</th>\n",
              "      <th>train_loss</th>\n",
              "      <th>valid_loss</th>\n",
              "      <th>time</th>\n",
              "    </tr>\n",
              "  </thead>\n",
              "  <tbody>\n",
              "    <tr>\n",
              "      <td>0</td>\n",
              "      <td>0.036024</td>\n",
              "      <td>0.029593</td>\n",
              "      <td>02:29</td>\n",
              "    </tr>\n",
              "    <tr>\n",
              "      <td>1</td>\n",
              "      <td>0.007139</td>\n",
              "      <td>0.008784</td>\n",
              "      <td>02:29</td>\n",
              "    </tr>\n",
              "    <tr>\n",
              "      <td>2</td>\n",
              "      <td>0.005153</td>\n",
              "      <td>0.006952</td>\n",
              "      <td>02:30</td>\n",
              "    </tr>\n",
              "    <tr>\n",
              "      <td>3</td>\n",
              "      <td>0.004308</td>\n",
              "      <td>0.005748</td>\n",
              "      <td>02:29</td>\n",
              "    </tr>\n",
              "    <tr>\n",
              "      <td>4</td>\n",
              "      <td>0.003999</td>\n",
              "      <td>0.005497</td>\n",
              "      <td>02:30</td>\n",
              "    </tr>\n",
              "  </tbody>\n",
              "</table>"
            ],
            "text/plain": [
              "<IPython.core.display.HTML object>"
            ]
          },
          "metadata": {
            "tags": []
          }
        }
      ]
    },
    {
      "cell_type": "code",
      "metadata": {
        "id": "ZkkdrxvnlkeB",
        "colab_type": "code",
        "colab": {
          "base_uri": "https://localhost:8080/",
          "height": 267
        },
        "outputId": "1c40e563-6d4c-4c79-a6d1-0efbcc7108ba"
      },
      "source": [
        "learn1.show_results(rows = 1)"
      ],
      "execution_count": 99,
      "outputs": [
        {
          "output_type": "display_data",
          "data": {
            "image/png": "[encoded data removed]",
            "text/plain": [
              "<Figure size 864x288 with 3 Axes>"
            ]
          },
          "metadata": {
            "tags": [],
            "needs_background": "light"
          }
        }
      ]
    },
    {
      "cell_type": "code",
      "metadata": {
        "id": "Kr1BUkoKloZF",
        "colab_type": "code",
        "colab": {
          "base_uri": "https://localhost:8080/",
          "height": 267
        },
        "outputId": "c15753f7-a29a-4f80-cd1f-f3f93a45e210"
      },
      "source": [
        "learn2.show_results(rows = 1)"
      ],
      "execution_count": 100,
      "outputs": [
        {
          "output_type": "display_data",
          "data": {
            "image/png": "[encoded data removed]",
            "text/plain": [
              "<Figure size 864x288 with 3 Axes>"
            ]
          },
          "metadata": {
            "tags": [],
            "needs_background": "light"
          }
        }
      ]
    },
    {
      "cell_type": "code",
      "metadata": {
        "id": "ky4Jd5Z0lpq2",
        "colab_type": "code",
        "colab": {
          "base_uri": "https://localhost:8080/",
          "height": 267
        },
        "outputId": "0626e85d-0d60-41ef-ed5e-e911c3b559c5"
      },
      "source": [
        "learn3.show_results(rows = 1)"
      ],
      "execution_count": 118,
      "outputs": [
        {
          "output_type": "display_data",
          "data": {
            "image/png": "[encoded data removed]",
            "text/plain": [
              "<Figure size 864x288 with 3 Axes>"
            ]
          },
          "metadata": {
            "tags": [],
            "needs_background": "light"
          }
        }
      ]
    },
    {
      "cell_type": "code",
      "metadata": {
        "id": "ST-vvxTlcb8d",
        "colab_type": "code",
        "colab": {}
      },
      "source": [
        "test_tens = torch.rand([32,3,32,32])"
      ],
      "execution_count": 0,
      "outputs": []
    },
    {
      "cell_type": "code",
      "metadata": {
        "id": "vejHaw1Hcgsf",
        "colab_type": "code",
        "colab": {}
      },
      "source": [
        "encoded = ae1.encode(test_tens.cuda())"
      ],
      "execution_count": 0,
      "outputs": []
    },
    {
      "cell_type": "code",
      "metadata": {
        "id": "83tuHUQ8d9Md",
        "colab_type": "code",
        "colab": {}
      },
      "source": [
        "enc1 = encoder1()"
      ],
      "execution_count": 0,
      "outputs": []
    },
    {
      "cell_type": "code",
      "metadata": {
        "id": "XSisriaBeCN8",
        "colab_type": "code",
        "colab": {}
      },
      "source": [
        "encoded = enc1(test_tens)"
      ],
      "execution_count": 0,
      "outputs": []
    },
    {
      "cell_type": "code",
      "metadata": {
        "id": "WyaGKsOGeFFl",
        "colab_type": "code",
        "colab": {
          "base_uri": "https://localhost:8080/",
          "height": 34
        },
        "outputId": "5d17c69f-810c-4945-9ab3-28ee1009ec3d"
      },
      "source": [
        "encoded.shape"
      ],
      "execution_count": 88,
      "outputs": [
        {
          "output_type": "execute_result",
          "data": {
            "text/plain": [
              "torch.Size([32, 1000])"
            ]
          },
          "metadata": {
            "tags": []
          },
          "execution_count": 88
        }
      ]
    },
    {
      "cell_type": "code",
      "metadata": {
        "id": "cL2FBx5BeJuN",
        "colab_type": "code",
        "colab": {}
      },
      "source": [
        "dec1 = decoder1()"
      ],
      "execution_count": 0,
      "outputs": []
    },
    {
      "cell_type": "code",
      "metadata": {
        "id": "Gx1bx5U6eLml",
        "colab_type": "code",
        "colab": {}
      },
      "source": [
        "decoded = dec1(encoded)"
      ],
      "execution_count": 0,
      "outputs": []
    },
    {
      "cell_type": "code",
      "metadata": {
        "id": "RKozZ963eNyt",
        "colab_type": "code",
        "colab": {
          "base_uri": "https://localhost:8080/",
          "height": 34
        },
        "outputId": "ce88bc81-59ee-4a54-e204-c64a15519b6e"
      },
      "source": [
        "decoded.shape"
      ],
      "execution_count": 91,
      "outputs": [
        {
          "output_type": "execute_result",
          "data": {
            "text/plain": [
              "torch.Size([32, 3, 32, 32])"
            ]
          },
          "metadata": {
            "tags": []
          },
          "execution_count": 91
        }
      ]
    },
    {
      "cell_type": "code",
      "metadata": {
        "id": "jhbhHfqAcq1Q",
        "colab_type": "code",
        "colab": {
          "base_uri": "https://localhost:8080/",
          "height": 164
        },
        "outputId": "ad1cf6cb-fdbf-4fab-945f-e9c2422b0fb9"
      },
      "source": [
        "encoded.shape"
      ],
      "execution_count": 47,
      "outputs": [
        {
          "output_type": "error",
          "ename": "AttributeError",
          "evalue": "ignored",
          "traceback": [
            "\u001b[0;31m---------------------------------------------------------------------------\u001b[0m",
            "\u001b[0;31mAttributeError\u001b[0m                            Traceback (most recent call last)",
            "\u001b[0;32m<ipython-input-47-dee19a60a18d>\u001b[0m in \u001b[0;36m<module>\u001b[0;34m()\u001b[0m\n\u001b[0;32m----> 1\u001b[0;31m \u001b[0mencoded\u001b[0m\u001b[0;34m.\u001b[0m\u001b[0mshape\u001b[0m\u001b[0;34m\u001b[0m\u001b[0;34m\u001b[0m\u001b[0m\n\u001b[0m",
            "\u001b[0;31mAttributeError\u001b[0m: 'NoneType' object has no attribute 'shape'"
          ]
        }
      ]
    },
    {
      "cell_type": "code",
      "metadata": {
        "id": "UOZF57iHcrlA",
        "colab_type": "code",
        "colab": {
          "base_uri": "https://localhost:8080/",
          "height": 664
        },
        "outputId": "0427dc74-1c66-440a-daa2-ff1436e6e6dd"
      },
      "source": [
        "ae1(test_tens.cuda())"
      ],
      "execution_count": 54,
      "outputs": [
        {
          "output_type": "error",
          "ename": "NotImplementedError",
          "evalue": "ignored",
          "traceback": [
            "\u001b[0;31m---------------------------------------------------------------------------\u001b[0m",
            "\u001b[0;31mNotImplementedError\u001b[0m                       Traceback (most recent call last)",
            "\u001b[0;32m<ipython-input-54-1fffcd75dcb3>\u001b[0m in \u001b[0;36m<module>\u001b[0;34m()\u001b[0m\n\u001b[0;32m----> 1\u001b[0;31m \u001b[0mae1\u001b[0m\u001b[0;34m(\u001b[0m\u001b[0mtest_tens\u001b[0m\u001b[0;34m.\u001b[0m\u001b[0mcuda\u001b[0m\u001b[0;34m(\u001b[0m\u001b[0;34m)\u001b[0m\u001b[0;34m)\u001b[0m\u001b[0;34m\u001b[0m\u001b[0;34m\u001b[0m\u001b[0m\n\u001b[0m",
            "\u001b[0;32m/usr/local/lib/python3.6/dist-packages/torch/nn/modules/module.py\u001b[0m in \u001b[0;36m__call__\u001b[0;34m(self, *input, **kwargs)\u001b[0m\n\u001b[1;32m    530\u001b[0m             \u001b[0mresult\u001b[0m \u001b[0;34m=\u001b[0m \u001b[0mself\u001b[0m\u001b[0;34m.\u001b[0m\u001b[0m_slow_forward\u001b[0m\u001b[0;34m(\u001b[0m\u001b[0;34m*\u001b[0m\u001b[0minput\u001b[0m\u001b[0;34m,\u001b[0m \u001b[0;34m**\u001b[0m\u001b[0mkwargs\u001b[0m\u001b[0;34m)\u001b[0m\u001b[0;34m\u001b[0m\u001b[0;34m\u001b[0m\u001b[0m\n\u001b[1;32m    531\u001b[0m         \u001b[0;32melse\u001b[0m\u001b[0;34m:\u001b[0m\u001b[0;34m\u001b[0m\u001b[0;34m\u001b[0m\u001b[0m\n\u001b[0;32m--> 532\u001b[0;31m             \u001b[0mresult\u001b[0m \u001b[0;34m=\u001b[0m \u001b[0mself\u001b[0m\u001b[0;34m.\u001b[0m\u001b[0mforward\u001b[0m\u001b[0;34m(\u001b[0m\u001b[0;34m*\u001b[0m\u001b[0minput\u001b[0m\u001b[0;34m,\u001b[0m \u001b[0;34m**\u001b[0m\u001b[0mkwargs\u001b[0m\u001b[0;34m)\u001b[0m\u001b[0;34m\u001b[0m\u001b[0;34m\u001b[0m\u001b[0m\n\u001b[0m\u001b[1;32m    533\u001b[0m         \u001b[0;32mfor\u001b[0m \u001b[0mhook\u001b[0m \u001b[0;32min\u001b[0m \u001b[0mself\u001b[0m\u001b[0;34m.\u001b[0m\u001b[0m_forward_hooks\u001b[0m\u001b[0;34m.\u001b[0m\u001b[0mvalues\u001b[0m\u001b[0;34m(\u001b[0m\u001b[0;34m)\u001b[0m\u001b[0;34m:\u001b[0m\u001b[0;34m\u001b[0m\u001b[0;34m\u001b[0m\u001b[0m\n\u001b[1;32m    534\u001b[0m             \u001b[0mhook_result\u001b[0m \u001b[0;34m=\u001b[0m \u001b[0mhook\u001b[0m\u001b[0;34m(\u001b[0m\u001b[0mself\u001b[0m\u001b[0;34m,\u001b[0m \u001b[0minput\u001b[0m\u001b[0;34m,\u001b[0m \u001b[0mresult\u001b[0m\u001b[0;34m)\u001b[0m\u001b[0;34m\u001b[0m\u001b[0;34m\u001b[0m\u001b[0m\n",
            "\u001b[0;32m<ipython-input-50-1748b26eb878>\u001b[0m in \u001b[0;36mforward\u001b[0;34m(self, x)\u001b[0m\n\u001b[1;32m     11\u001b[0m   \u001b[0;32mdef\u001b[0m \u001b[0mforward\u001b[0m\u001b[0;34m(\u001b[0m\u001b[0mself\u001b[0m\u001b[0;34m,\u001b[0m \u001b[0mx\u001b[0m\u001b[0;34m)\u001b[0m\u001b[0;34m:\u001b[0m\u001b[0;34m\u001b[0m\u001b[0;34m\u001b[0m\u001b[0m\n\u001b[1;32m     12\u001b[0m     \u001b[0mx\u001b[0m \u001b[0;34m=\u001b[0m \u001b[0mself\u001b[0m\u001b[0;34m.\u001b[0m\u001b[0mencoder\u001b[0m\u001b[0;34m(\u001b[0m\u001b[0mx\u001b[0m\u001b[0;34m)\u001b[0m\u001b[0;34m\u001b[0m\u001b[0;34m\u001b[0m\u001b[0m\n\u001b[0;32m---> 13\u001b[0;31m     \u001b[0mx\u001b[0m \u001b[0;34m=\u001b[0m \u001b[0mself\u001b[0m\u001b[0;34m.\u001b[0m\u001b[0mdecoder\u001b[0m\u001b[0;34m(\u001b[0m\u001b[0mx\u001b[0m\u001b[0;34m)\u001b[0m\u001b[0;34m\u001b[0m\u001b[0;34m\u001b[0m\u001b[0m\n\u001b[0m\u001b[1;32m     14\u001b[0m     \u001b[0;32mreturn\u001b[0m \u001b[0mtorch\u001b[0m\u001b[0;34m.\u001b[0m\u001b[0mclamp\u001b[0m\u001b[0;34m(\u001b[0m\u001b[0mx\u001b[0m\u001b[0;34m,\u001b[0m \u001b[0mmin\u001b[0m \u001b[0;34m=\u001b[0m \u001b[0;36m0\u001b[0m\u001b[0;34m,\u001b[0m \u001b[0mmax\u001b[0m \u001b[0;34m=\u001b[0m \u001b[0;36m1\u001b[0m\u001b[0;34m)\u001b[0m\u001b[0;34m\u001b[0m\u001b[0;34m\u001b[0m\u001b[0m\n\u001b[1;32m     15\u001b[0m \u001b[0;34m\u001b[0m\u001b[0m\n",
            "\u001b[0;32m/usr/local/lib/python3.6/dist-packages/torch/nn/modules/module.py\u001b[0m in \u001b[0;36m__call__\u001b[0;34m(self, *input, **kwargs)\u001b[0m\n\u001b[1;32m    530\u001b[0m             \u001b[0mresult\u001b[0m \u001b[0;34m=\u001b[0m \u001b[0mself\u001b[0m\u001b[0;34m.\u001b[0m\u001b[0m_slow_forward\u001b[0m\u001b[0;34m(\u001b[0m\u001b[0;34m*\u001b[0m\u001b[0minput\u001b[0m\u001b[0;34m,\u001b[0m \u001b[0;34m**\u001b[0m\u001b[0mkwargs\u001b[0m\u001b[0;34m)\u001b[0m\u001b[0;34m\u001b[0m\u001b[0;34m\u001b[0m\u001b[0m\n\u001b[1;32m    531\u001b[0m         \u001b[0;32melse\u001b[0m\u001b[0;34m:\u001b[0m\u001b[0;34m\u001b[0m\u001b[0;34m\u001b[0m\u001b[0m\n\u001b[0;32m--> 532\u001b[0;31m             \u001b[0mresult\u001b[0m \u001b[0;34m=\u001b[0m \u001b[0mself\u001b[0m\u001b[0;34m.\u001b[0m\u001b[0mforward\u001b[0m\u001b[0;34m(\u001b[0m\u001b[0;34m*\u001b[0m\u001b[0minput\u001b[0m\u001b[0;34m,\u001b[0m \u001b[0;34m**\u001b[0m\u001b[0mkwargs\u001b[0m\u001b[0;34m)\u001b[0m\u001b[0;34m\u001b[0m\u001b[0;34m\u001b[0m\u001b[0m\n\u001b[0m\u001b[1;32m    533\u001b[0m         \u001b[0;32mfor\u001b[0m \u001b[0mhook\u001b[0m \u001b[0;32min\u001b[0m \u001b[0mself\u001b[0m\u001b[0;34m.\u001b[0m\u001b[0m_forward_hooks\u001b[0m\u001b[0;34m.\u001b[0m\u001b[0mvalues\u001b[0m\u001b[0;34m(\u001b[0m\u001b[0;34m)\u001b[0m\u001b[0;34m:\u001b[0m\u001b[0;34m\u001b[0m\u001b[0;34m\u001b[0m\u001b[0m\n\u001b[1;32m    534\u001b[0m             \u001b[0mhook_result\u001b[0m \u001b[0;34m=\u001b[0m \u001b[0mhook\u001b[0m\u001b[0;34m(\u001b[0m\u001b[0mself\u001b[0m\u001b[0;34m,\u001b[0m \u001b[0minput\u001b[0m\u001b[0;34m,\u001b[0m \u001b[0mresult\u001b[0m\u001b[0;34m)\u001b[0m\u001b[0;34m\u001b[0m\u001b[0;34m\u001b[0m\u001b[0m\n",
            "\u001b[0;32m/usr/local/lib/python3.6/dist-packages/torch/nn/modules/module.py\u001b[0m in \u001b[0;36mforward\u001b[0;34m(self, *input)\u001b[0m\n\u001b[1;32m     94\u001b[0m             \u001b[0mregistered\u001b[0m \u001b[0mhooks\u001b[0m \u001b[0;32mwhile\u001b[0m \u001b[0mthe\u001b[0m \u001b[0mlatter\u001b[0m \u001b[0msilently\u001b[0m \u001b[0mignores\u001b[0m \u001b[0mthem\u001b[0m\u001b[0;34m.\u001b[0m\u001b[0;34m\u001b[0m\u001b[0;34m\u001b[0m\u001b[0m\n\u001b[1;32m     95\u001b[0m         \"\"\"\n\u001b[0;32m---> 96\u001b[0;31m         \u001b[0;32mraise\u001b[0m \u001b[0mNotImplementedError\u001b[0m\u001b[0;34m\u001b[0m\u001b[0;34m\u001b[0m\u001b[0m\n\u001b[0m\u001b[1;32m     97\u001b[0m \u001b[0;34m\u001b[0m\u001b[0m\n\u001b[1;32m     98\u001b[0m     \u001b[0;32mdef\u001b[0m \u001b[0mregister_buffer\u001b[0m\u001b[0;34m(\u001b[0m\u001b[0mself\u001b[0m\u001b[0;34m,\u001b[0m \u001b[0mname\u001b[0m\u001b[0;34m,\u001b[0m \u001b[0mtensor\u001b[0m\u001b[0;34m)\u001b[0m\u001b[0;34m:\u001b[0m\u001b[0;34m\u001b[0m\u001b[0;34m\u001b[0m\u001b[0m\n",
            "\u001b[0;31mNotImplementedError\u001b[0m: "
          ]
        }
      ]
    }
  ]
}