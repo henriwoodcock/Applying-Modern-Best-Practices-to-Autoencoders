{
  "nbformat": 4,
  "nbformat_minor": 0,
  "metadata": {
    "colab": {
      "name": "PretrainingModel.ipynb",
      "provenance": []
    },
    "kernelspec": {
      "name": "python3",
      "display_name": "Python 3"
    }
  },
  "cells": [
    {
      "cell_type": "code",
      "metadata": {
        "id": "XG4mIcQo2V2s",
        "colab_type": "code",
        "colab": {}
      },
      "source": [
        "class encoder(nn.Module):\n",
        "    def __init__(self):\n",
        "        super(encoder, self).__init__()\n",
        "        self.convblock1 = model_layers.convblock(3,12)\n",
        "        self.downsamp1 = model_layers.downsamp(12, 16)\n",
        "\n",
        "        self.convblock2 = model_layers.convblock(12,24)\n",
        "        self.downsamp2 = model_layers.downsamp(24, 8)\n",
        "\n",
        "        self.bottleneck = nn.Sequential(nn.Flatten(),\n",
        "                                        nn.Linear(24 * 8 * 8, 1000)\n",
        "                                        )\n",
        "    def forward(self, x):\n",
        "        x = self.convblock1(x)\n",
        "        x = self.downsamp1(x)\n",
        "\n",
        "        x = self.convblock2(x)\n",
        "        x = self.downsamp2(x)\n",
        "\n",
        "        x = self.bottleneck(x)\n",
        "\n",
        "        return x\n",
        "\n",
        "class decoder(nn.Module):\n",
        "    def __init__(self):\n",
        "        super(decoder, self).__init__()\n",
        "\n",
        "        self.bottleneck = nn.Sequential(nn.Linear(1000, 24 * 8 * 8),\n",
        "                                        model_layers.reshape([-1,24,8,8])\n",
        "                                        )\n",
        "\n",
        "        self.up1 = model_layers.Upsample(24,12)\n",
        "        self.up2 = model_layers.Upsample(12,3)\n",
        "\n",
        "    def forward(self,x):\n",
        "        x = self.bottleneck(x)\n",
        "        x = self.up1(x)\n",
        "        x = self.up2(x)\n",
        "        return x\n",
        "\n",
        "class autoencoder(nn.Module):\n",
        "    def __init__(self):\n",
        "        super(autoencoder, self).__init__()\n",
        "\n",
        "        self.encoder = encoder()\n",
        "        self.decoder = decoder()\n",
        "\n",
        "    def encode(self, x): return self.encoder(x)\n",
        "    def decode(self, x): return torch.clamp(self.decoder(x), min = 0, max = 1)\n",
        "\n",
        "    def forward(self, x):\n",
        "        x = self.encoder(x)\n",
        "        x = self.decoder(x)\n",
        "        return torch.clamp(x, min = 0, max = 1)\n"
      ],
      "execution_count": 0,
      "outputs": []
    }
  ]
}