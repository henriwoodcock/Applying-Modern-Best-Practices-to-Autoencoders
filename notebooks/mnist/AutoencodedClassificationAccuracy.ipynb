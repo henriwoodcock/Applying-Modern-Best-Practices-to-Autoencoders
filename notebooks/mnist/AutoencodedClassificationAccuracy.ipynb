{
  "nbformat": 4,
  "nbformat_minor": 0,
  "metadata": {
    "colab": {
      "name": "AutoencodedClassificationAccuracy.ipynb",
      "provenance": [],
      "collapsed_sections": []
    },
    "kernelspec": {
      "name": "python3",
      "display_name": "Python 3"
    }
  },
  "cells": [
    {
      "cell_type": "markdown",
      "metadata": {
        "id": "TSUMQQONsXKN",
        "colab_type": "text"
      },
      "source": [
        "# Accuracy Using a Classifier"
      ]
    },
    {
      "cell_type": "code",
      "metadata": {
        "id": "QmHMEXW1r0Q1",
        "colab_type": "code",
        "colab": {}
      },
      "source": [
        "%matplotlib inline\n",
        "from fastai.vision import *\n",
        "import numpy as np\n",
        "import pandas as pd\n",
        "import os\n",
        "import matplotlib.pyplot as plt\n",
        "import os"
      ],
      "execution_count": 0,
      "outputs": []
    },
    {
      "cell_type": "markdown",
      "metadata": {
        "id": "m04Yn6IBsa6d",
        "colab_type": "text"
      },
      "source": [
        "## Data and Imports"
      ]
    },
    {
      "cell_type": "code",
      "metadata": {
        "id": "i0hdYq2sr8Ea",
        "colab_type": "code",
        "colab": {}
      },
      "source": [
        "colab = True\n",
        "if colab:\n",
        "  from google.colab import drive\n",
        "  drive.mount('/content/drive', force_remount = True)\n",
        "  %cp \"/content/drive/My Drive/autoencoder-training/baseline-MNIST.pt\" .\n",
        "  %cp \"/content/drive/My Drive/autoencoder-training/featureLoss-MNIST.pt\" .\n",
        "  %cp \"/content/drive/My Drive/autoencoder-training/pixelShuffle-MNIST.pt\" .\n",
        "  %cp \"/content/drive/My Drive/autoencoder-training/preTrained-MNIST.pt\" .\n",
        "  %cp \"/content/drive/My Drive/autoencoder-training/preTrained_nonweights-MNIST.pt\" .\n",
        "  %cp \"/content/drive/My Drive/autoencoder-training/progResizing-MNIST.pt\" .\n",
        "\n",
        "  %cp \"/content/drive/My Drive/autoencoder-training/baseline_model.py\" .\n",
        "  %cp \"/content/drive/My Drive/autoencoder-training/model_layers.py\" .\n",
        "  %cp \"/content/drive/My Drive/autoencoder-training/featureLoss_function.py\" .\n",
        "  %cp \"/content/drive/My Drive/autoencoder-training/pixelShuffle_model.py\" .\n",
        "  %cp \"/content/drive/My Drive/autoencoder-training/pretrainedModel.py\" .\n",
        "  %cp \"/content/drive/My Drive/autoencoder-training/progressiveResizing_model.py\" .\n",
        "  image_path = \"data\"\n",
        "  import baseline_model\n",
        "  import model_layers\n",
        "  import featureLoss_function\n",
        "  import pixelShuffle_model\n",
        "  import pretrainedModel\n",
        "  import progressiveResizing_model\n",
        "else: \n",
        "  os.chdir(\"../\")\n",
        "  image_path = os.getcwd() + \"/data\""
      ],
      "execution_count": 0,
      "outputs": []
    },
    {
      "cell_type": "code",
      "metadata": {
        "id": "GjnrfSVksVof",
        "colab_type": "code",
        "colab": {}
      },
      "source": [
        "np.random.seed(3333)\n",
        "torch.manual_seed(3333)\n",
        "\n",
        "size = 32\n",
        "batchsize = 128\n",
        "\n",
        "path = untar_data(URLs.MNIST)\n",
        "data = ImageDataBunch.from_folder(path, size=32,ds_tfms=get_transforms(p_affine=0), bs = 128\n",
        "                                 ).normalize(imagenet_stats)"
      ],
      "execution_count": 0,
      "outputs": []
    },
    {
      "cell_type": "markdown",
      "metadata": {
        "id": "P7xdUB1usctR",
        "colab_type": "text"
      },
      "source": [
        "## Training Classifier"
      ]
    },
    {
      "cell_type": "code",
      "metadata": {
        "id": "B_XdeDQvseHr",
        "colab_type": "code",
        "colab": {}
      },
      "source": [
        "learn = cnn_learner(data, models.resnet34, metrics=error_rate)"
      ],
      "execution_count": 0,
      "outputs": []
    },
    {
      "cell_type": "code",
      "metadata": {
        "id": "Hsln0a6Dspnb",
        "colab_type": "code",
        "colab": {}
      },
      "source": [
        "learn.fit_one_cycle(1)"
      ],
      "execution_count": 0,
      "outputs": []
    },
    {
      "cell_type": "code",
      "metadata": {
        "id": "26fZsl2qssNu",
        "colab_type": "code",
        "colab": {}
      },
      "source": [
        "learn.lr_find()"
      ],
      "execution_count": 0,
      "outputs": []
    },
    {
      "cell_type": "code",
      "metadata": {
        "id": "PSSxl-yJst3H",
        "colab_type": "code",
        "colab": {}
      },
      "source": [
        "learn.recorder.plot(suggestion = True)"
      ],
      "execution_count": 0,
      "outputs": []
    },
    {
      "cell_type": "code",
      "metadata": {
        "id": "ou207BUosvu1",
        "colab_type": "code",
        "colab": {}
      },
      "source": [
        "learn.fit_one_cycle(10, max_lr = )"
      ],
      "execution_count": 0,
      "outputs": []
    },
    {
      "cell_type": "code",
      "metadata": {
        "id": "b0bJPHOssyKJ",
        "colab_type": "code",
        "colab": {}
      },
      "source": [
        "learn.unfreeze()\n",
        "learn.fit_one_cycle(10, max_lr = slice(, ))"
      ],
      "execution_count": 0,
      "outputs": []
    },
    {
      "cell_type": "code",
      "metadata": {
        "id": "d41rypX8s1Ly",
        "colab_type": "code",
        "colab": {}
      },
      "source": [
        "torch.save(learn.model, \"baselineClassification.pt\")\n",
        "torch.save(learn.model, \"/content/drive/My Drive/autoencoder-training/baselineClassificationMNIST.pt\")"
      ],
      "execution_count": 0,
      "outputs": []
    },
    {
      "cell_type": "markdown",
      "metadata": {
        "id": "dwD4360ds39d",
        "colab_type": "text"
      },
      "source": [
        "## Classifier Accuracy"
      ]
    },
    {
      "cell_type": "markdown",
      "metadata": {
        "id": "IHmkpXVps6Fi",
        "colab_type": "text"
      },
      "source": [
        "### Baseline"
      ]
    },
    {
      "cell_type": "code",
      "metadata": {
        "id": "rUAWCstOs7aT",
        "colab_type": "code",
        "colab": {}
      },
      "source": [
        "class baseline(nn.Module):\n",
        "    def __init__(self):\n",
        "        super(baseline, self).__init__()\n",
        "\n",
        "        self.autoencoder = torch.load(\"baseline-MNIST.pt\")\n",
        "        self.classifier = torch.load(\"baselineClassification.pt\")\n",
        "        self.mean = torch.tensor(imagenet_stats[0]).cuda()\n",
        "        self.std = torch.tensor(imagenet_stats[1]).cuda()\n",
        "\n",
        "    def forward(self, x):\n",
        "        x = torch.clamp(self.autoencoder(x), min=0, max=1)\n",
        "        x = (x - self.mean[...,None,None])/self.std[...,None,None]\n",
        "        x = self.classifier(x)\n",
        "        return x"
      ],
      "execution_count": 0,
      "outputs": []
    },
    {
      "cell_type": "code",
      "metadata": {
        "id": "eITlOagNtWu6",
        "colab_type": "code",
        "colab": {}
      },
      "source": [
        "baseline_evaluation = baseline()\n",
        "learn = Learner(data, baseline_evaluation, metrics = [error_rate, accuracy])"
      ],
      "execution_count": 0,
      "outputs": []
    },
    {
      "cell_type": "code",
      "metadata": {
        "id": "LLoBCrrEtYaQ",
        "colab_type": "code",
        "colab": {}
      },
      "source": [
        "learn.validate(learn.data.valid_dl)"
      ],
      "execution_count": 0,
      "outputs": []
    },
    {
      "cell_type": "markdown",
      "metadata": {
        "id": "pJfncK_Zs7kD",
        "colab_type": "text"
      },
      "source": [
        "### FeatureLoss"
      ]
    },
    {
      "cell_type": "code",
      "metadata": {
        "id": "1bYw7EB1s_fD",
        "colab_type": "code",
        "colab": {}
      },
      "source": [
        "class featureloss_mod(nn.Module):\n",
        "    def __init__(self):\n",
        "        super(featureloss_mod, self).__init__()\n",
        "\n",
        "        self.autoencoder = torch.load(\"featureLoss-MNIST.pt\")\n",
        "        self.classifier = torch.load(\"baselineClassification.pt\")\n",
        "        self.mean = torch.tensor(imagenet_stats[0]).cuda()\n",
        "        self.std = torch.tensor(imagenet_stats[1]).cuda()\n",
        "\n",
        "    def forward(self, x):\n",
        "        x = torch.clamp(self.autoencoder(x), min=0, max=1)\n",
        "        x = (x - self.mean[...,None,None])/self.std[...,None,None]\n",
        "        x = self.classifier(x)\n",
        "        return x"
      ],
      "execution_count": 0,
      "outputs": []
    },
    {
      "cell_type": "code",
      "metadata": {
        "id": "GkIG_P_XtiRY",
        "colab_type": "code",
        "colab": {}
      },
      "source": [
        "featureloss_evaluation = featureloss_mod()\n",
        "learn = Learner(data, featureloss_evaluation, metrics = [error_rate, accuracy])"
      ],
      "execution_count": 0,
      "outputs": []
    },
    {
      "cell_type": "code",
      "metadata": {
        "id": "NqzYx2Wxtlp_",
        "colab_type": "code",
        "colab": {}
      },
      "source": [
        "learn.validate(learn.data.valid_dl)"
      ],
      "execution_count": 0,
      "outputs": []
    },
    {
      "cell_type": "markdown",
      "metadata": {
        "id": "cfrv091ztJu0",
        "colab_type": "text"
      },
      "source": [
        "### Pretrained Models"
      ]
    },
    {
      "cell_type": "markdown",
      "metadata": {
        "id": "jxdgcquEs_n6",
        "colab_type": "text"
      },
      "source": [
        "#### Pretrained"
      ]
    },
    {
      "cell_type": "code",
      "metadata": {
        "id": "GbAyZd44tFJv",
        "colab_type": "code",
        "colab": {}
      },
      "source": [
        "class pretrained_weights(nn.Module):\n",
        "    def __init__(self):\n",
        "        super(pretrained_weights, self).__init__()\n",
        "\n",
        "        self.autoencoder = torch.load(\"preTrained-MNIST.pt\")\n",
        "        self.classifier = torch.load(\"baselineClassification.pt\")\n",
        "        self.mean = torch.tensor(imagenet_stats[0]).cuda()\n",
        "        self.std = torch.tensor(imagenet_stats[1]).cuda()\n",
        "\n",
        "    def forward(self, x):\n",
        "        x = torch.clamp(self.autoencoder(x), min=0, max=1)\n",
        "        x = (x - self.mean[...,None,None])/self.std[...,None,None]\n",
        "        x = self.classifier(x)\n",
        "        return x"
      ],
      "execution_count": 0,
      "outputs": []
    },
    {
      "cell_type": "code",
      "metadata": {
        "id": "dTWdYNwAtpW6",
        "colab_type": "code",
        "colab": {}
      },
      "source": [
        "pretrained_weights_eval = pretrained_weights()\n",
        "learn = Learner(data, pretrained_weights_eval, metrics = [error_rate, accuracy])"
      ],
      "execution_count": 0,
      "outputs": []
    },
    {
      "cell_type": "code",
      "metadata": {
        "id": "U51FpRYQtq7M",
        "colab_type": "code",
        "colab": {}
      },
      "source": [
        "learn.validate(learn.data.valid_dl)"
      ],
      "execution_count": 0,
      "outputs": []
    },
    {
      "cell_type": "markdown",
      "metadata": {
        "id": "pNTRkS0qtDyP",
        "colab_type": "text"
      },
      "source": [
        "#### Resnet"
      ]
    },
    {
      "cell_type": "code",
      "metadata": {
        "id": "J90Tyt9stGUO",
        "colab_type": "code",
        "colab": {}
      },
      "source": [
        "class resnet_model(nn.Module):\n",
        "    def __init__(self):\n",
        "        super(resnet_model, self).__init__()\n",
        "\n",
        "        self.autoencoder = torch.load(\"preTrained_nonweights-MNIST.pt\")\n",
        "        self.classifier = torch.load(\"baselineClassification.pt\")\n",
        "        self.mean = torch.tensor(imagenet_stats[0]).cuda()\n",
        "        self.std = torch.tensor(imagenet_stats[1]).cuda()\n",
        "\n",
        "    def forward(self, x):\n",
        "        x = torch.clamp(self.autoencoder(x), min=0, max=1)\n",
        "        x = (x - self.mean[...,None,None])/self.std[...,None,None]\n",
        "        x = self.classifier(x)\n",
        "        return x"
      ],
      "execution_count": 0,
      "outputs": []
    },
    {
      "cell_type": "code",
      "metadata": {
        "id": "6OsVcZVJtvPh",
        "colab_type": "code",
        "colab": {}
      },
      "source": [
        "resnet_eval = resnet_model()\n",
        "learn = Learner(data, resnet_eval, metrics = [error_rate, accuracy])"
      ],
      "execution_count": 0,
      "outputs": []
    },
    {
      "cell_type": "code",
      "metadata": {
        "id": "mtDWAQ9LtxBO",
        "colab_type": "code",
        "colab": {}
      },
      "source": [
        "learn.validate(learn.data.valid_dl)"
      ],
      "execution_count": 0,
      "outputs": []
    },
    {
      "cell_type": "markdown",
      "metadata": {
        "id": "Ea-yYebYtFud",
        "colab_type": "text"
      },
      "source": [
        "### Pixel Shuffled"
      ]
    },
    {
      "cell_type": "code",
      "metadata": {
        "id": "t3EYIbKqtPZ7",
        "colab_type": "code",
        "colab": {}
      },
      "source": [
        "class pixelShuffle_model(nn.Module):\n",
        "    def __init__(self):\n",
        "        super(pixelShuffle_model, self).__init__()\n",
        "\n",
        "        self.autoencoder = torch.load(\"pixelShuffle-MNIST.pt\")\n",
        "        self.classifier = torch.load(\"baselineClassification.pt\")\n",
        "        self.mean = torch.tensor(imagenet_stats[0]).cuda()\n",
        "        self.std = torch.tensor(imagenet_stats[1]).cuda()\n",
        "\n",
        "    def forward(self, x):\n",
        "        x = torch.clamp(self.autoencoder(x), min=0, max=1)\n",
        "        x = (x - self.mean[...,None,None])/self.std[...,None,None]\n",
        "        x = self.classifier(x)\n",
        "        return x"
      ],
      "execution_count": 0,
      "outputs": []
    },
    {
      "cell_type": "code",
      "metadata": {
        "id": "WZyIbR6Rt0-T",
        "colab_type": "code",
        "colab": {}
      },
      "source": [
        "pixelShuffle_eval = pixelShuffle_model()\n",
        "learn = Learner(data, pixelShuffle_eval, metrics = [error_rate, accuracy])"
      ],
      "execution_count": 0,
      "outputs": []
    },
    {
      "cell_type": "code",
      "metadata": {
        "id": "b02hYSXet2l-",
        "colab_type": "code",
        "colab": {}
      },
      "source": [
        "learn.validate(learn.data.valid_dl)"
      ],
      "execution_count": 0,
      "outputs": []
    },
    {
      "cell_type": "markdown",
      "metadata": {
        "id": "eyqP5ZkdtPjg",
        "colab_type": "text"
      },
      "source": [
        "### Progressive Resizing"
      ]
    },
    {
      "cell_type": "code",
      "metadata": {
        "id": "ohSmxPe1t4A6",
        "colab_type": "code",
        "colab": {}
      },
      "source": [
        "class progResize_model(nn.Module):\n",
        "    def __init__(self):\n",
        "        super(progResize_model, self).__init__()\n",
        "\n",
        "        self.autoencoder = torch.load(\"progResizing-MNIST.pt\")\n",
        "        self.classifier = torch.load(\"baselineClassification.pt\")\n",
        "        self.mean = torch.tensor(imagenet_stats[0]).cuda()\n",
        "        self.std = torch.tensor(imagenet_stats[1]).cuda()\n",
        "\n",
        "    def forward(self, x):\n",
        "        x = torch.clamp(self.autoencoder(x), min=0, max=1)\n",
        "        x = (x - self.mean[...,None,None])/self.std[...,None,None]\n",
        "        x = self.classifier(x)\n",
        "        return x"
      ],
      "execution_count": 0,
      "outputs": []
    },
    {
      "cell_type": "code",
      "metadata": {
        "id": "NdcSxegst7Ap",
        "colab_type": "code",
        "colab": {}
      },
      "source": [
        "progResize_eval = progResize_model()\n",
        "learn = Learner(data, progResize_eval, metrics = [error_rate, accuracy])"
      ],
      "execution_count": 0,
      "outputs": []
    },
    {
      "cell_type": "code",
      "metadata": {
        "id": "wbpQEUDtt8cb",
        "colab_type": "code",
        "colab": {}
      },
      "source": [
        "learn.validate(learn.data.valid_dl)"
      ],
      "execution_count": 0,
      "outputs": []
    }
  ]
}