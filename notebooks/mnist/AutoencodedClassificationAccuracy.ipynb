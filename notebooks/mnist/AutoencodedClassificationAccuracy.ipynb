{
  "nbformat": 4,
  "nbformat_minor": 0,
  "metadata": {
    "colab": {
      "name": "AutoencodedClassificationAccuracy.ipynb",
      "provenance": [],
      "collapsed_sections": []
    },
    "kernelspec": {
      "name": "python3",
      "display_name": "Python 3"
    },
    "accelerator": "GPU",
    "widgets": {
      "application/vnd.jupyter.widget-state+json": {
        "05ca523954d94a6f946a8a2c3c81405a": {
          "model_module": "@jupyter-widgets/controls",
          "model_name": "HBoxModel",
          "state": {
            "_view_name": "HBoxView",
            "_dom_classes": [],
            "_model_name": "HBoxModel",
            "_view_module": "@jupyter-widgets/controls",
            "_model_module_version": "1.5.0",
            "_view_count": null,
            "_view_module_version": "1.5.0",
            "box_style": "",
            "layout": "IPY_MODEL_ff617efb2e404b76b6050840262018bd",
            "_model_module": "@jupyter-widgets/controls",
            "children": [
              "IPY_MODEL_1461b02bb6a541b39f951a458e8d2c30",
              "IPY_MODEL_6b95ef4dfe5a4e0393abb228c51565b0"
            ]
          }
        },
        "ff617efb2e404b76b6050840262018bd": {
          "model_module": "@jupyter-widgets/base",
          "model_name": "LayoutModel",
          "state": {
            "_view_name": "LayoutView",
            "grid_template_rows": null,
            "right": null,
            "justify_content": null,
            "_view_module": "@jupyter-widgets/base",
            "overflow": null,
            "_model_module_version": "1.2.0",
            "_view_count": null,
            "flex_flow": null,
            "width": null,
            "min_width": null,
            "border": null,
            "align_items": null,
            "bottom": null,
            "_model_module": "@jupyter-widgets/base",
            "top": null,
            "grid_column": null,
            "overflow_y": null,
            "overflow_x": null,
            "grid_auto_flow": null,
            "grid_area": null,
            "grid_template_columns": null,
            "flex": null,
            "_model_name": "LayoutModel",
            "justify_items": null,
            "grid_row": null,
            "max_height": null,
            "align_content": null,
            "visibility": null,
            "align_self": null,
            "height": null,
            "min_height": null,
            "padding": null,
            "grid_auto_rows": null,
            "grid_gap": null,
            "max_width": null,
            "order": null,
            "_view_module_version": "1.2.0",
            "grid_template_areas": null,
            "object_position": null,
            "object_fit": null,
            "grid_auto_columns": null,
            "margin": null,
            "display": null,
            "left": null
          }
        },
        "1461b02bb6a541b39f951a458e8d2c30": {
          "model_module": "@jupyter-widgets/controls",
          "model_name": "IntProgressModel",
          "state": {
            "_view_name": "ProgressView",
            "style": "IPY_MODEL_b05853a22ab946958f6188a6658025d0",
            "_dom_classes": [],
            "description": "100%",
            "_model_name": "IntProgressModel",
            "bar_style": "success",
            "max": 87306240,
            "_view_module": "@jupyter-widgets/controls",
            "_model_module_version": "1.5.0",
            "value": 87306240,
            "_view_count": null,
            "_view_module_version": "1.5.0",
            "orientation": "horizontal",
            "min": 0,
            "description_tooltip": null,
            "_model_module": "@jupyter-widgets/controls",
            "layout": "IPY_MODEL_c6fa278d82df4b358682e4474714ef69"
          }
        },
        "6b95ef4dfe5a4e0393abb228c51565b0": {
          "model_module": "@jupyter-widgets/controls",
          "model_name": "HTMLModel",
          "state": {
            "_view_name": "HTMLView",
            "style": "IPY_MODEL_ec164f6e83304d13a2f77d012b7bf4e1",
            "_dom_classes": [],
            "description": "",
            "_model_name": "HTMLModel",
            "placeholder": "​",
            "_view_module": "@jupyter-widgets/controls",
            "_model_module_version": "1.5.0",
            "value": " 83.3M/83.3M [01:04&lt;00:00, 1.35MB/s]",
            "_view_count": null,
            "_view_module_version": "1.5.0",
            "description_tooltip": null,
            "_model_module": "@jupyter-widgets/controls",
            "layout": "IPY_MODEL_3d6457723fa24c77948fc8d82c1326cd"
          }
        },
        "b05853a22ab946958f6188a6658025d0": {
          "model_module": "@jupyter-widgets/controls",
          "model_name": "ProgressStyleModel",
          "state": {
            "_view_name": "StyleView",
            "_model_name": "ProgressStyleModel",
            "description_width": "initial",
            "_view_module": "@jupyter-widgets/base",
            "_model_module_version": "1.5.0",
            "_view_count": null,
            "_view_module_version": "1.2.0",
            "bar_color": null,
            "_model_module": "@jupyter-widgets/controls"
          }
        },
        "c6fa278d82df4b358682e4474714ef69": {
          "model_module": "@jupyter-widgets/base",
          "model_name": "LayoutModel",
          "state": {
            "_view_name": "LayoutView",
            "grid_template_rows": null,
            "right": null,
            "justify_content": null,
            "_view_module": "@jupyter-widgets/base",
            "overflow": null,
            "_model_module_version": "1.2.0",
            "_view_count": null,
            "flex_flow": null,
            "width": null,
            "min_width": null,
            "border": null,
            "align_items": null,
            "bottom": null,
            "_model_module": "@jupyter-widgets/base",
            "top": null,
            "grid_column": null,
            "overflow_y": null,
            "overflow_x": null,
            "grid_auto_flow": null,
            "grid_area": null,
            "grid_template_columns": null,
            "flex": null,
            "_model_name": "LayoutModel",
            "justify_items": null,
            "grid_row": null,
            "max_height": null,
            "align_content": null,
            "visibility": null,
            "align_self": null,
            "height": null,
            "min_height": null,
            "padding": null,
            "grid_auto_rows": null,
            "grid_gap": null,
            "max_width": null,
            "order": null,
            "_view_module_version": "1.2.0",
            "grid_template_areas": null,
            "object_position": null,
            "object_fit": null,
            "grid_auto_columns": null,
            "margin": null,
            "display": null,
            "left": null
          }
        },
        "ec164f6e83304d13a2f77d012b7bf4e1": {
          "model_module": "@jupyter-widgets/controls",
          "model_name": "DescriptionStyleModel",
          "state": {
            "_view_name": "StyleView",
            "_model_name": "DescriptionStyleModel",
            "description_width": "",
            "_view_module": "@jupyter-widgets/base",
            "_model_module_version": "1.5.0",
            "_view_count": null,
            "_view_module_version": "1.2.0",
            "_model_module": "@jupyter-widgets/controls"
          }
        },
        "3d6457723fa24c77948fc8d82c1326cd": {
          "model_module": "@jupyter-widgets/base",
          "model_name": "LayoutModel",
          "state": {
            "_view_name": "LayoutView",
            "grid_template_rows": null,
            "right": null,
            "justify_content": null,
            "_view_module": "@jupyter-widgets/base",
            "overflow": null,
            "_model_module_version": "1.2.0",
            "_view_count": null,
            "flex_flow": null,
            "width": null,
            "min_width": null,
            "border": null,
            "align_items": null,
            "bottom": null,
            "_model_module": "@jupyter-widgets/base",
            "top": null,
            "grid_column": null,
            "overflow_y": null,
            "overflow_x": null,
            "grid_auto_flow": null,
            "grid_area": null,
            "grid_template_columns": null,
            "flex": null,
            "_model_name": "LayoutModel",
            "justify_items": null,
            "grid_row": null,
            "max_height": null,
            "align_content": null,
            "visibility": null,
            "align_self": null,
            "height": null,
            "min_height": null,
            "padding": null,
            "grid_auto_rows": null,
            "grid_gap": null,
            "max_width": null,
            "order": null,
            "_view_module_version": "1.2.0",
            "grid_template_areas": null,
            "object_position": null,
            "object_fit": null,
            "grid_auto_columns": null,
            "margin": null,
            "display": null,
            "left": null
          }
        }
      }
    }
  },
  "cells": [
    {
      "cell_type": "markdown",
      "metadata": {
        "id": "TSUMQQONsXKN",
        "colab_type": "text"
      },
      "source": [
        "# Accuracy Using a Classifier"
      ]
    },
    {
      "cell_type": "code",
      "metadata": {
        "id": "QmHMEXW1r0Q1",
        "colab_type": "code",
        "colab": {}
      },
      "source": [
        "%matplotlib inline\n",
        "from fastai.vision import *\n",
        "import numpy as np\n",
        "import pandas as pd\n",
        "import os\n",
        "import matplotlib.pyplot as plt\n",
        "import os"
      ],
      "execution_count": 0,
      "outputs": []
    },
    {
      "cell_type": "markdown",
      "metadata": {
        "id": "m04Yn6IBsa6d",
        "colab_type": "text"
      },
      "source": [
        "## Data and Imports"
      ]
    },
    {
      "cell_type": "code",
      "metadata": {
        "id": "i0hdYq2sr8Ea",
        "colab_type": "code",
        "outputId": "6f5948ff-a41c-4248-8f4e-c94f934adb06",
        "colab": {
          "base_uri": "https://localhost:8080/",
          "height": 122
        }
      },
      "source": [
        "colab = True\n",
        "if colab:\n",
        "  from google.colab import drive\n",
        "  drive.mount('/content/drive', force_remount = True)\n",
        "  %cp \"/content/drive/My Drive/autoencoder-training/baseline-MNIST.pt\" .\n",
        "  %cp \"/content/drive/My Drive/autoencoder-training/featureLoss-MNIST.pt\" .\n",
        "  %cp \"/content/drive/My Drive/autoencoder-training/pixelShuffle-MNIST.pt\" .\n",
        "  %cp \"/content/drive/My Drive/autoencoder-training/preTrained-MNIST.pt\" .\n",
        "  %cp \"/content/drive/My Drive/autoencoder-training/preTrained_nonweights-MNIST.pt\" .\n",
        "  %cp \"/content/drive/My Drive/autoencoder-training/progResize-MNIST.pt\" .\n",
        "\n",
        "  %cp \"/content/drive/My Drive/autoencoder-training/baseline_model.py\" .\n",
        "  %cp \"/content/drive/My Drive/autoencoder-training/model_layers.py\" .\n",
        "  %cp \"/content/drive/My Drive/autoencoder-training/featureLoss_function.py\" .\n",
        "  %cp \"/content/drive/My Drive/autoencoder-training/pixelShuffle_model.py\" .\n",
        "  %cp \"/content/drive/My Drive/autoencoder-training/pretrainedModel.py\" .\n",
        "  %cp \"/content/drive/My Drive/autoencoder-training/progressiveResizing_model.py\" .\n",
        "  image_path = \"data\"\n",
        "  import baseline_model\n",
        "  import model_layers\n",
        "  import featureLoss_function\n",
        "  import pixelShuffle_model\n",
        "  import pretrainedModel\n",
        "  import progressiveResizing_model\n",
        "else: \n",
        "  os.chdir(\"../\")\n",
        "  image_path = os.getcwd() + \"/data\""
      ],
      "execution_count": 2,
      "outputs": [
        {
          "output_type": "stream",
          "text": [
            "Go to this URL in a browser: https://accounts.google.com/o/oauth2/auth?client_id=947318989803-6bn6qk8qdgf4n4g3pfee6491hc0brc4i.apps.googleusercontent.com&redirect_uri=urn%3aietf%3awg%3aoauth%3a2.0%3aoob&response_type=code&scope=email%20https%3a%2f%2fwww.googleapis.com%2fauth%2fdocs.test%20https%3a%2f%2fwww.googleapis.com%2fauth%2fdrive%20https%3a%2f%2fwww.googleapis.com%2fauth%2fdrive.photos.readonly%20https%3a%2f%2fwww.googleapis.com%2fauth%2fpeopleapi.readonly\n",
            "\n",
            "Enter your authorization code:\n",
            "··········\n",
            "Mounted at /content/drive\n"
          ],
          "name": "stdout"
        }
      ]
    },
    {
      "cell_type": "code",
      "metadata": {
        "id": "GjnrfSVksVof",
        "colab_type": "code",
        "outputId": "909e6cdb-e23a-455e-e5ad-b02f32d06295",
        "colab": {
          "base_uri": "https://localhost:8080/",
          "height": 34
        }
      },
      "source": [
        "np.random.seed(3333)\n",
        "torch.manual_seed(3333)\n",
        "\n",
        "size = 32\n",
        "batchsize = 128\n",
        "\n",
        "path = untar_data(URLs.MNIST)\n",
        "data = ImageDataBunch.from_folder(path, train='training', valid='testing',size=32,ds_tfms=get_transforms(p_affine=0), bs = 128\n",
        "                                 ).normalize(imagenet_stats)"
      ],
      "execution_count": 3,
      "outputs": [
        {
          "output_type": "stream",
          "text": [
            "Downloading https://s3.amazonaws.com/fast-ai-imageclas/mnist_png\n"
          ],
          "name": "stdout"
        },
        {
          "output_type": "display_data",
          "data": {
            "text/html": [
              ""
            ],
            "text/plain": [
              "<IPython.core.display.HTML object>"
            ]
          },
          "metadata": {
            "tags": []
          }
        }
      ]
    },
    {
      "cell_type": "markdown",
      "metadata": {
        "id": "P7xdUB1usctR",
        "colab_type": "text"
      },
      "source": [
        "## Training Classifier"
      ]
    },
    {
      "cell_type": "code",
      "metadata": {
        "id": "B_XdeDQvseHr",
        "colab_type": "code",
        "colab": {
          "base_uri": "https://localhost:8080/",
          "height": 83,
          "referenced_widgets": [
            "05ca523954d94a6f946a8a2c3c81405a",
            "ff617efb2e404b76b6050840262018bd",
            "1461b02bb6a541b39f951a458e8d2c30",
            "6b95ef4dfe5a4e0393abb228c51565b0",
            "b05853a22ab946958f6188a6658025d0",
            "c6fa278d82df4b358682e4474714ef69",
            "ec164f6e83304d13a2f77d012b7bf4e1",
            "3d6457723fa24c77948fc8d82c1326cd"
          ]
        },
        "outputId": "d93d2686-4dc0-4155-de57-fc8f71c0a6c6"
      },
      "source": [
        "learn = cnn_learner(data, models.resnet34, metrics=error_rate)"
      ],
      "execution_count": 4,
      "outputs": [
        {
          "output_type": "stream",
          "text": [
            "Downloading: \"https://download.pytorch.org/models/resnet34-333f7ec4.pth\" to /root/.cache/torch/checkpoints/resnet34-333f7ec4.pth\n"
          ],
          "name": "stderr"
        },
        {
          "output_type": "display_data",
          "data": {
            "application/vnd.jupyter.widget-view+json": {
              "model_id": "05ca523954d94a6f946a8a2c3c81405a",
              "version_minor": 0,
              "version_major": 2
            },
            "text/plain": [
              "HBox(children=(IntProgress(value=0, max=87306240), HTML(value='')))"
            ]
          },
          "metadata": {
            "tags": []
          }
        },
        {
          "output_type": "stream",
          "text": [
            "\n"
          ],
          "name": "stdout"
        }
      ]
    },
    {
      "cell_type": "code",
      "metadata": {
        "id": "Hsln0a6Dspnb",
        "colab_type": "code",
        "colab": {
          "base_uri": "https://localhost:8080/",
          "height": 80
        },
        "outputId": "68f6fee9-1f5f-4854-da4a-3e8760d84836"
      },
      "source": [
        "learn.fit_one_cycle(1)"
      ],
      "execution_count": 5,
      "outputs": [
        {
          "output_type": "display_data",
          "data": {
            "text/html": [
              "<table border=\"1\" class=\"dataframe\">\n",
              "  <thead>\n",
              "    <tr style=\"text-align: left;\">\n",
              "      <th>epoch</th>\n",
              "      <th>train_loss</th>\n",
              "      <th>valid_loss</th>\n",
              "      <th>error_rate</th>\n",
              "      <th>time</th>\n",
              "    </tr>\n",
              "  </thead>\n",
              "  <tbody>\n",
              "    <tr>\n",
              "      <td>0</td>\n",
              "      <td>0.582344</td>\n",
              "      <td>0.400117</td>\n",
              "      <td>0.130600</td>\n",
              "      <td>00:57</td>\n",
              "    </tr>\n",
              "  </tbody>\n",
              "</table>"
            ],
            "text/plain": [
              "<IPython.core.display.HTML object>"
            ]
          },
          "metadata": {
            "tags": []
          }
        }
      ]
    },
    {
      "cell_type": "code",
      "metadata": {
        "id": "26fZsl2qssNu",
        "colab_type": "code",
        "colab": {
          "base_uri": "https://localhost:8080/",
          "height": 112
        },
        "outputId": "af8d884f-fbd6-4892-f202-f50c7a605b36"
      },
      "source": [
        "learn.lr_find()"
      ],
      "execution_count": 6,
      "outputs": [
        {
          "output_type": "display_data",
          "data": {
            "text/html": [
              "\n",
              "    <div>\n",
              "        <style>\n",
              "            /* Turns off some styling */\n",
              "            progress {\n",
              "                /* gets rid of default border in Firefox and Opera. */\n",
              "                border: none;\n",
              "                /* Needs to be in here for Safari polyfill so background images work as expected. */\n",
              "                background-size: auto;\n",
              "            }\n",
              "            .progress-bar-interrupted, .progress-bar-interrupted::-webkit-progress-bar {\n",
              "                background: #F44336;\n",
              "            }\n",
              "        </style>\n",
              "      <progress value='0' class='' max='1' style='width:300px; height:20px; vertical-align: middle;'></progress>\n",
              "      0.00% [0/1 00:00<00:00]\n",
              "    </div>\n",
              "    \n",
              "<table border=\"1\" class=\"dataframe\">\n",
              "  <thead>\n",
              "    <tr style=\"text-align: left;\">\n",
              "      <th>epoch</th>\n",
              "      <th>train_loss</th>\n",
              "      <th>valid_loss</th>\n",
              "      <th>error_rate</th>\n",
              "      <th>time</th>\n",
              "    </tr>\n",
              "  </thead>\n",
              "  <tbody>\n",
              "  </tbody>\n",
              "</table><p>\n",
              "\n",
              "    <div>\n",
              "        <style>\n",
              "            /* Turns off some styling */\n",
              "            progress {\n",
              "                /* gets rid of default border in Firefox and Opera. */\n",
              "                border: none;\n",
              "                /* Needs to be in here for Safari polyfill so background images work as expected. */\n",
              "                background-size: auto;\n",
              "            }\n",
              "            .progress-bar-interrupted, .progress-bar-interrupted::-webkit-progress-bar {\n",
              "                background: #F44336;\n",
              "            }\n",
              "        </style>\n",
              "      <progress value='88' class='' max='468' style='width:300px; height:20px; vertical-align: middle;'></progress>\n",
              "      18.80% [88/468 00:09<00:42 1.4443]\n",
              "    </div>\n",
              "    "
            ],
            "text/plain": [
              "<IPython.core.display.HTML object>"
            ]
          },
          "metadata": {
            "tags": []
          }
        },
        {
          "output_type": "stream",
          "text": [
            "LR Finder is complete, type {learner_name}.recorder.plot() to see the graph.\n"
          ],
          "name": "stdout"
        }
      ]
    },
    {
      "cell_type": "code",
      "metadata": {
        "id": "PSSxl-yJst3H",
        "colab_type": "code",
        "colab": {
          "base_uri": "https://localhost:8080/",
          "height": 313
        },
        "outputId": "afa7e049-2b26-445d-8ebe-7b225b8cd502"
      },
      "source": [
        "learn.recorder.plot(suggestion = True)"
      ],
      "execution_count": 7,
      "outputs": [
        {
          "output_type": "stream",
          "text": [
            "Min numerical gradient: 3.02E-05\n",
            "Min loss divided by 10: 2.29E-03\n"
          ],
          "name": "stdout"
        },
        {
          "output_type": "display_data",
          "data": {
            "image/png": "[encoded data removed]",
            "text/plain": [
              "<Figure size 432x288 with 1 Axes>"
            ]
          },
          "metadata": {
            "tags": [],
            "needs_background": "light"
          }
        }
      ]
    },
    {
      "cell_type": "code",
      "metadata": {
        "id": "ou207BUosvu1",
        "colab_type": "code",
        "colab": {
          "base_uri": "https://localhost:8080/",
          "height": 359
        },
        "outputId": "e3aeb633-ae67-4432-aede-2471b0aabc99"
      },
      "source": [
        "learn.fit_one_cycle(10, max_lr = 1e-03)"
      ],
      "execution_count": 8,
      "outputs": [
        {
          "output_type": "display_data",
          "data": {
            "text/html": [
              "<table border=\"1\" class=\"dataframe\">\n",
              "  <thead>\n",
              "    <tr style=\"text-align: left;\">\n",
              "      <th>epoch</th>\n",
              "      <th>train_loss</th>\n",
              "      <th>valid_loss</th>\n",
              "      <th>error_rate</th>\n",
              "      <th>time</th>\n",
              "    </tr>\n",
              "  </thead>\n",
              "  <tbody>\n",
              "    <tr>\n",
              "      <td>0</td>\n",
              "      <td>0.420635</td>\n",
              "      <td>0.280551</td>\n",
              "      <td>0.089700</td>\n",
              "      <td>00:56</td>\n",
              "    </tr>\n",
              "    <tr>\n",
              "      <td>1</td>\n",
              "      <td>0.238128</td>\n",
              "      <td>0.155704</td>\n",
              "      <td>0.048900</td>\n",
              "      <td>00:56</td>\n",
              "    </tr>\n",
              "    <tr>\n",
              "      <td>2</td>\n",
              "      <td>0.151242</td>\n",
              "      <td>0.086455</td>\n",
              "      <td>0.029100</td>\n",
              "      <td>00:57</td>\n",
              "    </tr>\n",
              "    <tr>\n",
              "      <td>3</td>\n",
              "      <td>0.105593</td>\n",
              "      <td>0.068327</td>\n",
              "      <td>0.022300</td>\n",
              "      <td>00:58</td>\n",
              "    </tr>\n",
              "    <tr>\n",
              "      <td>4</td>\n",
              "      <td>0.091993</td>\n",
              "      <td>0.058217</td>\n",
              "      <td>0.019400</td>\n",
              "      <td>00:57</td>\n",
              "    </tr>\n",
              "    <tr>\n",
              "      <td>5</td>\n",
              "      <td>0.082500</td>\n",
              "      <td>0.054133</td>\n",
              "      <td>0.019900</td>\n",
              "      <td>00:58</td>\n",
              "    </tr>\n",
              "    <tr>\n",
              "      <td>6</td>\n",
              "      <td>0.063787</td>\n",
              "      <td>0.048322</td>\n",
              "      <td>0.016200</td>\n",
              "      <td>00:57</td>\n",
              "    </tr>\n",
              "    <tr>\n",
              "      <td>7</td>\n",
              "      <td>0.058982</td>\n",
              "      <td>0.043992</td>\n",
              "      <td>0.016000</td>\n",
              "      <td>00:57</td>\n",
              "    </tr>\n",
              "    <tr>\n",
              "      <td>8</td>\n",
              "      <td>0.050419</td>\n",
              "      <td>0.042294</td>\n",
              "      <td>0.014400</td>\n",
              "      <td>00:57</td>\n",
              "    </tr>\n",
              "    <tr>\n",
              "      <td>9</td>\n",
              "      <td>0.051128</td>\n",
              "      <td>0.040488</td>\n",
              "      <td>0.014800</td>\n",
              "      <td>00:57</td>\n",
              "    </tr>\n",
              "  </tbody>\n",
              "</table>"
            ],
            "text/plain": [
              "<IPython.core.display.HTML object>"
            ]
          },
          "metadata": {
            "tags": []
          }
        }
      ]
    },
    {
      "cell_type": "code",
      "metadata": {
        "id": "b0bJPHOssyKJ",
        "colab_type": "code",
        "colab": {
          "base_uri": "https://localhost:8080/",
          "height": 359
        },
        "outputId": "1d85a4c6-94d6-4e85-9d9e-bd25b5498959"
      },
      "source": [
        "learn.unfreeze()\n",
        "learn.fit_one_cycle(10, max_lr = slice(1e-06, 1e-03))"
      ],
      "execution_count": 9,
      "outputs": [
        {
          "output_type": "display_data",
          "data": {
            "text/html": [
              "<table border=\"1\" class=\"dataframe\">\n",
              "  <thead>\n",
              "    <tr style=\"text-align: left;\">\n",
              "      <th>epoch</th>\n",
              "      <th>train_loss</th>\n",
              "      <th>valid_loss</th>\n",
              "      <th>error_rate</th>\n",
              "      <th>time</th>\n",
              "    </tr>\n",
              "  </thead>\n",
              "  <tbody>\n",
              "    <tr>\n",
              "      <td>0</td>\n",
              "      <td>0.051136</td>\n",
              "      <td>0.041750</td>\n",
              "      <td>0.014700</td>\n",
              "      <td>01:00</td>\n",
              "    </tr>\n",
              "    <tr>\n",
              "      <td>1</td>\n",
              "      <td>0.054801</td>\n",
              "      <td>0.043176</td>\n",
              "      <td>0.014000</td>\n",
              "      <td>01:00</td>\n",
              "    </tr>\n",
              "    <tr>\n",
              "      <td>2</td>\n",
              "      <td>0.052525</td>\n",
              "      <td>0.039949</td>\n",
              "      <td>0.013300</td>\n",
              "      <td>01:03</td>\n",
              "    </tr>\n",
              "    <tr>\n",
              "      <td>3</td>\n",
              "      <td>0.043692</td>\n",
              "      <td>0.041654</td>\n",
              "      <td>0.015100</td>\n",
              "      <td>01:03</td>\n",
              "    </tr>\n",
              "    <tr>\n",
              "      <td>4</td>\n",
              "      <td>0.030942</td>\n",
              "      <td>0.036662</td>\n",
              "      <td>0.011200</td>\n",
              "      <td>01:02</td>\n",
              "    </tr>\n",
              "    <tr>\n",
              "      <td>5</td>\n",
              "      <td>0.031270</td>\n",
              "      <td>0.034035</td>\n",
              "      <td>0.011300</td>\n",
              "      <td>01:00</td>\n",
              "    </tr>\n",
              "    <tr>\n",
              "      <td>6</td>\n",
              "      <td>0.021032</td>\n",
              "      <td>0.033455</td>\n",
              "      <td>0.010700</td>\n",
              "      <td>01:00</td>\n",
              "    </tr>\n",
              "    <tr>\n",
              "      <td>7</td>\n",
              "      <td>0.014461</td>\n",
              "      <td>0.030001</td>\n",
              "      <td>0.009700</td>\n",
              "      <td>01:00</td>\n",
              "    </tr>\n",
              "    <tr>\n",
              "      <td>8</td>\n",
              "      <td>0.010388</td>\n",
              "      <td>0.029994</td>\n",
              "      <td>0.009300</td>\n",
              "      <td>01:00</td>\n",
              "    </tr>\n",
              "    <tr>\n",
              "      <td>9</td>\n",
              "      <td>0.009365</td>\n",
              "      <td>0.029438</td>\n",
              "      <td>0.008800</td>\n",
              "      <td>01:00</td>\n",
              "    </tr>\n",
              "  </tbody>\n",
              "</table>"
            ],
            "text/plain": [
              "<IPython.core.display.HTML object>"
            ]
          },
          "metadata": {
            "tags": []
          }
        }
      ]
    },
    {
      "cell_type": "code",
      "metadata": {
        "id": "d41rypX8s1Ly",
        "colab_type": "code",
        "colab": {}
      },
      "source": [
        "torch.save(learn.model, \"baselineClassification.pt\")\n",
        "torch.save(learn.model, \"/content/drive/My Drive/autoencoder-training/baselineClassificationMNIST.pt\")"
      ],
      "execution_count": 0,
      "outputs": []
    },
    {
      "cell_type": "code",
      "metadata": {
        "id": "QA5IhKSn-fTw",
        "colab_type": "code",
        "colab": {}
      },
      "source": [
        "classifier = torch.load(\"baselineClassification.pt\")\n",
        "\n",
        "learn = Learner(data, classifier, metrics = [error_rate, accuracy])"
      ],
      "execution_count": 0,
      "outputs": []
    },
    {
      "cell_type": "code",
      "metadata": {
        "id": "QFbBc7oC-sl0",
        "colab_type": "code",
        "colab": {
          "base_uri": "https://localhost:8080/",
          "height": 34
        },
        "outputId": "cd6bc3bc-38a1-4ee8-cfa2-70f6090f0ad1"
      },
      "source": [
        "learn.validate(learn.data.valid_dl)"
      ],
      "execution_count": 33,
      "outputs": [
        {
          "output_type": "display_data",
          "data": {
            "text/html": [
              ""
            ],
            "text/plain": [
              "<IPython.core.display.HTML object>"
            ]
          },
          "metadata": {
            "tags": []
          }
        },
        {
          "output_type": "execute_result",
          "data": {
            "text/plain": [
              "[0.029437838, tensor(0.0088), tensor(0.9912)]"
            ]
          },
          "metadata": {
            "tags": []
          },
          "execution_count": 33
        }
      ]
    },
    {
      "cell_type": "markdown",
      "metadata": {
        "id": "dwD4360ds39d",
        "colab_type": "text"
      },
      "source": [
        "## Classifier Accuracy"
      ]
    },
    {
      "cell_type": "markdown",
      "metadata": {
        "id": "IHmkpXVps6Fi",
        "colab_type": "text"
      },
      "source": [
        "### Baseline"
      ]
    },
    {
      "cell_type": "code",
      "metadata": {
        "id": "rUAWCstOs7aT",
        "colab_type": "code",
        "colab": {}
      },
      "source": [
        "class baseline(nn.Module):\n",
        "    def __init__(self):\n",
        "        super(baseline, self).__init__()\n",
        "\n",
        "        self.autoencoder = torch.load(\"baseline-MNIST.pt\")\n",
        "        self.classifier = torch.load(\"baselineClassification.pt\")\n",
        "        self.mean = torch.tensor(imagenet_stats[0]).cuda()\n",
        "        self.std = torch.tensor(imagenet_stats[1]).cuda()\n",
        "\n",
        "    def forward(self, x):\n",
        "        x = torch.clamp(self.autoencoder(x), min=0, max=1)\n",
        "        x = (x - self.mean[...,None,None])/self.std[...,None,None]\n",
        "        x = self.classifier(x)\n",
        "        return x"
      ],
      "execution_count": 0,
      "outputs": []
    },
    {
      "cell_type": "code",
      "metadata": {
        "id": "eITlOagNtWu6",
        "colab_type": "code",
        "colab": {}
      },
      "source": [
        "baseline_evaluation = baseline()\n",
        "learn = Learner(data, baseline_evaluation, metrics = [error_rate, accuracy])"
      ],
      "execution_count": 0,
      "outputs": []
    },
    {
      "cell_type": "code",
      "metadata": {
        "id": "LLoBCrrEtYaQ",
        "colab_type": "code",
        "colab": {
          "base_uri": "https://localhost:8080/",
          "height": 34
        },
        "outputId": "c0efa986-beb0-49cb-9819-f830d6e3f32b"
      },
      "source": [
        "learn.validate(learn.data.valid_dl)"
      ],
      "execution_count": 13,
      "outputs": [
        {
          "output_type": "display_data",
          "data": {
            "text/html": [
              ""
            ],
            "text/plain": [
              "<IPython.core.display.HTML object>"
            ]
          },
          "metadata": {
            "tags": []
          }
        },
        {
          "output_type": "execute_result",
          "data": {
            "text/plain": [
              "[0.0360932, tensor(0.0100), tensor(0.9900)]"
            ]
          },
          "metadata": {
            "tags": []
          },
          "execution_count": 13
        }
      ]
    },
    {
      "cell_type": "markdown",
      "metadata": {
        "id": "pJfncK_Zs7kD",
        "colab_type": "text"
      },
      "source": [
        "### FeatureLoss"
      ]
    },
    {
      "cell_type": "code",
      "metadata": {
        "id": "1bYw7EB1s_fD",
        "colab_type": "code",
        "colab": {}
      },
      "source": [
        "class featureloss_mod(nn.Module):\n",
        "    def __init__(self):\n",
        "        super(featureloss_mod, self).__init__()\n",
        "\n",
        "        self.autoencoder = torch.load(\"featureLoss-MNIST.pt\")\n",
        "        self.classifier = torch.load(\"baselineClassification.pt\")\n",
        "        self.mean = torch.tensor(imagenet_stats[0]).cuda()\n",
        "        self.std = torch.tensor(imagenet_stats[1]).cuda()\n",
        "\n",
        "    def forward(self, x):\n",
        "        x = torch.clamp(self.autoencoder(x), min=0, max=1)\n",
        "        x = (x - self.mean[...,None,None])/self.std[...,None,None]\n",
        "        x = self.classifier(x)\n",
        "        return x"
      ],
      "execution_count": 0,
      "outputs": []
    },
    {
      "cell_type": "code",
      "metadata": {
        "id": "GkIG_P_XtiRY",
        "colab_type": "code",
        "colab": {}
      },
      "source": [
        "featureloss_evaluation = featureloss_mod()\n",
        "learn = Learner(data, featureloss_evaluation, metrics = [error_rate, accuracy])"
      ],
      "execution_count": 0,
      "outputs": []
    },
    {
      "cell_type": "code",
      "metadata": {
        "id": "NqzYx2Wxtlp_",
        "colab_type": "code",
        "colab": {
          "base_uri": "https://localhost:8080/",
          "height": 34
        },
        "outputId": "cda0d330-a4c6-4955-9fc5-47e112c7adb9"
      },
      "source": [
        "learn.validate(learn.data.valid_dl)"
      ],
      "execution_count": 16,
      "outputs": [
        {
          "output_type": "display_data",
          "data": {
            "text/html": [
              ""
            ],
            "text/plain": [
              "<IPython.core.display.HTML object>"
            ]
          },
          "metadata": {
            "tags": []
          }
        },
        {
          "output_type": "execute_result",
          "data": {
            "text/plain": [
              "[0.0425844, tensor(0.0114), tensor(0.9886)]"
            ]
          },
          "metadata": {
            "tags": []
          },
          "execution_count": 16
        }
      ]
    },
    {
      "cell_type": "markdown",
      "metadata": {
        "id": "cfrv091ztJu0",
        "colab_type": "text"
      },
      "source": [
        "### Pretrained Models"
      ]
    },
    {
      "cell_type": "markdown",
      "metadata": {
        "id": "jxdgcquEs_n6",
        "colab_type": "text"
      },
      "source": [
        "#### Pretrained"
      ]
    },
    {
      "cell_type": "code",
      "metadata": {
        "id": "GbAyZd44tFJv",
        "colab_type": "code",
        "colab": {}
      },
      "source": [
        "class pretrained_weights(nn.Module):\n",
        "    def __init__(self):\n",
        "        super(pretrained_weights, self).__init__()\n",
        "\n",
        "        self.autoencoder = torch.load(\"preTrained-MNIST.pt\")\n",
        "        self.classifier = torch.load(\"baselineClassification.pt\")\n",
        "        self.mean = torch.tensor(imagenet_stats[0]).cuda()\n",
        "        self.std = torch.tensor(imagenet_stats[1]).cuda()\n",
        "\n",
        "    def forward(self, x):\n",
        "        x = torch.clamp(self.autoencoder(x), min=0, max=1)\n",
        "        x = (x - self.mean[...,None,None])/self.std[...,None,None]\n",
        "        x = self.classifier(x)\n",
        "        return x"
      ],
      "execution_count": 0,
      "outputs": []
    },
    {
      "cell_type": "code",
      "metadata": {
        "id": "dTWdYNwAtpW6",
        "colab_type": "code",
        "colab": {}
      },
      "source": [
        "pretrained_weights_eval = pretrained_weights()\n",
        "learn = Learner(data, pretrained_weights_eval, metrics = [error_rate, accuracy])"
      ],
      "execution_count": 0,
      "outputs": []
    },
    {
      "cell_type": "code",
      "metadata": {
        "id": "U51FpRYQtq7M",
        "colab_type": "code",
        "colab": {
          "base_uri": "https://localhost:8080/",
          "height": 34
        },
        "outputId": "17411e25-b9af-4479-917b-cb2641085036"
      },
      "source": [
        "learn.validate(learn.data.valid_dl)"
      ],
      "execution_count": 19,
      "outputs": [
        {
          "output_type": "display_data",
          "data": {
            "text/html": [
              ""
            ],
            "text/plain": [
              "<IPython.core.display.HTML object>"
            ]
          },
          "metadata": {
            "tags": []
          }
        },
        {
          "output_type": "execute_result",
          "data": {
            "text/plain": [
              "[0.074049965, tensor(0.0196), tensor(0.9804)]"
            ]
          },
          "metadata": {
            "tags": []
          },
          "execution_count": 19
        }
      ]
    },
    {
      "cell_type": "markdown",
      "metadata": {
        "id": "pNTRkS0qtDyP",
        "colab_type": "text"
      },
      "source": [
        "#### Resnet"
      ]
    },
    {
      "cell_type": "code",
      "metadata": {
        "id": "J90Tyt9stGUO",
        "colab_type": "code",
        "colab": {}
      },
      "source": [
        "class resnet_model(nn.Module):\n",
        "    def __init__(self):\n",
        "        super(resnet_model, self).__init__()\n",
        "\n",
        "        self.autoencoder = torch.load(\"preTrained_nonweights-MNIST.pt\")\n",
        "        self.classifier = torch.load(\"baselineClassification.pt\")\n",
        "        self.mean = torch.tensor(imagenet_stats[0]).cuda()\n",
        "        self.std = torch.tensor(imagenet_stats[1]).cuda()\n",
        "\n",
        "    def forward(self, x):\n",
        "        x = torch.clamp(self.autoencoder(x), min=0, max=1)\n",
        "        x = (x - self.mean[...,None,None])/self.std[...,None,None]\n",
        "        x = self.classifier(x)\n",
        "        return x"
      ],
      "execution_count": 0,
      "outputs": []
    },
    {
      "cell_type": "code",
      "metadata": {
        "id": "6OsVcZVJtvPh",
        "colab_type": "code",
        "colab": {}
      },
      "source": [
        "resnet_eval = resnet_model()\n",
        "learn = Learner(data, resnet_eval, metrics = [error_rate, accuracy])"
      ],
      "execution_count": 0,
      "outputs": []
    },
    {
      "cell_type": "code",
      "metadata": {
        "id": "mtDWAQ9LtxBO",
        "colab_type": "code",
        "colab": {
          "base_uri": "https://localhost:8080/",
          "height": 34
        },
        "outputId": "a67ec77e-68f8-4b3d-a94b-5856d30dcef9"
      },
      "source": [
        "learn.validate(learn.data.valid_dl)"
      ],
      "execution_count": 22,
      "outputs": [
        {
          "output_type": "display_data",
          "data": {
            "text/html": [
              ""
            ],
            "text/plain": [
              "<IPython.core.display.HTML object>"
            ]
          },
          "metadata": {
            "tags": []
          }
        },
        {
          "output_type": "execute_result",
          "data": {
            "text/plain": [
              "[0.1592535, tensor(0.0346), tensor(0.9654)]"
            ]
          },
          "metadata": {
            "tags": []
          },
          "execution_count": 22
        }
      ]
    },
    {
      "cell_type": "markdown",
      "metadata": {
        "id": "Ea-yYebYtFud",
        "colab_type": "text"
      },
      "source": [
        "### Pixel Shuffled"
      ]
    },
    {
      "cell_type": "code",
      "metadata": {
        "id": "t3EYIbKqtPZ7",
        "colab_type": "code",
        "colab": {}
      },
      "source": [
        "class pixelShuffle_model(nn.Module):\n",
        "    def __init__(self):\n",
        "        super(pixelShuffle_model, self).__init__()\n",
        "\n",
        "        self.autoencoder = torch.load(\"pixelShuffle-MNIST.pt\")\n",
        "        self.classifier = torch.load(\"baselineClassification.pt\")\n",
        "        self.mean = torch.tensor(imagenet_stats[0]).cuda()\n",
        "        self.std = torch.tensor(imagenet_stats[1]).cuda()\n",
        "\n",
        "    def forward(self, x):\n",
        "        x = torch.clamp(self.autoencoder(x), min=0, max=1)\n",
        "        x = (x - self.mean[...,None,None])/self.std[...,None,None]\n",
        "        x = self.classifier(x)\n",
        "        return x"
      ],
      "execution_count": 0,
      "outputs": []
    },
    {
      "cell_type": "code",
      "metadata": {
        "id": "WZyIbR6Rt0-T",
        "colab_type": "code",
        "colab": {}
      },
      "source": [
        "pixelShuffle_eval = pixelShuffle_model()\n",
        "learn = Learner(data, pixelShuffle_eval, metrics = [error_rate, accuracy])"
      ],
      "execution_count": 0,
      "outputs": []
    },
    {
      "cell_type": "code",
      "metadata": {
        "id": "b02hYSXet2l-",
        "colab_type": "code",
        "colab": {
          "base_uri": "https://localhost:8080/",
          "height": 34
        },
        "outputId": "885d2b18-76d0-433f-a5f0-01b1f974c2a9"
      },
      "source": [
        "learn.validate(learn.data.valid_dl)"
      ],
      "execution_count": 25,
      "outputs": [
        {
          "output_type": "display_data",
          "data": {
            "text/html": [
              ""
            ],
            "text/plain": [
              "<IPython.core.display.HTML object>"
            ]
          },
          "metadata": {
            "tags": []
          }
        },
        {
          "output_type": "execute_result",
          "data": {
            "text/plain": [
              "[0.04206144, tensor(0.0130), tensor(0.9870)]"
            ]
          },
          "metadata": {
            "tags": []
          },
          "execution_count": 25
        }
      ]
    },
    {
      "cell_type": "markdown",
      "metadata": {
        "id": "eyqP5ZkdtPjg",
        "colab_type": "text"
      },
      "source": [
        "### Progressive Resizing"
      ]
    },
    {
      "cell_type": "code",
      "metadata": {
        "id": "ohSmxPe1t4A6",
        "colab_type": "code",
        "colab": {}
      },
      "source": [
        "class progResize_model(nn.Module):\n",
        "    def __init__(self):\n",
        "        super(progResize_model, self).__init__()\n",
        "\n",
        "        self.autoencoder = torch.load(\"progResize-MNIST.pt\")\n",
        "        self.classifier = torch.load(\"baselineClassification.pt\")\n",
        "        self.mean = torch.tensor(imagenet_stats[0]).cuda()\n",
        "        self.std = torch.tensor(imagenet_stats[1]).cuda()\n",
        "\n",
        "    def forward(self, x):\n",
        "        x = torch.clamp(self.autoencoder(x), min=0, max=1)\n",
        "        x = (x - self.mean[...,None,None])/self.std[...,None,None]\n",
        "        x = self.classifier(x)\n",
        "        return x"
      ],
      "execution_count": 0,
      "outputs": []
    },
    {
      "cell_type": "code",
      "metadata": {
        "id": "NdcSxegst7Ap",
        "colab_type": "code",
        "colab": {}
      },
      "source": [
        "progResize_eval = progResize_model()\n",
        "learn = Learner(data, progResize_eval, metrics = [error_rate, accuracy])"
      ],
      "execution_count": 0,
      "outputs": []
    },
    {
      "cell_type": "code",
      "metadata": {
        "id": "wbpQEUDtt8cb",
        "colab_type": "code",
        "colab": {
          "base_uri": "https://localhost:8080/",
          "height": 34
        },
        "outputId": "81462804-5096-413d-ae1a-b2a287f0832d"
      },
      "source": [
        "learn.validate(learn.data.valid_dl)"
      ],
      "execution_count": 30,
      "outputs": [
        {
          "output_type": "display_data",
          "data": {
            "text/html": [
              ""
            ],
            "text/plain": [
              "<IPython.core.display.HTML object>"
            ]
          },
          "metadata": {
            "tags": []
          }
        },
        {
          "output_type": "execute_result",
          "data": {
            "text/plain": [
              "[0.04356093, tensor(0.0123), tensor(0.9877)]"
            ]
          },
          "metadata": {
            "tags": []
          },
          "execution_count": 30
        }
      ]
    }
  ]
}