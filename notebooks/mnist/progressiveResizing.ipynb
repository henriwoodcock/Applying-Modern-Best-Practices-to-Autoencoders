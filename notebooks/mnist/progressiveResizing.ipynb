{
  "nbformat": 4,
  "nbformat_minor": 0,
  "metadata": {
    "colab": {
      "name": "MNISTprogressiveResizing.ipynb",
      "provenance": [],
      "collapsed_sections": []
    },
    "kernelspec": {
      "name": "python3",
      "display_name": "Python 3"
    },
    "accelerator": "GPU"
  },
  "cells": [
    {
      "cell_type": "markdown",
      "metadata": {
        "id": "BAoPpxwxxPIC",
        "colab_type": "text"
      },
      "source": [
        "# Progressive Resizing\n",
        " \n",
        "This is the notebook associated with the progressive resizing method in training."
      ]
    },
    {
      "cell_type": "markdown",
      "metadata": {
        "id": "GxVVJeBTxP35",
        "colab_type": "text"
      },
      "source": [
        "## Imports"
      ]
    },
    {
      "cell_type": "code",
      "metadata": {
        "id": "lyuPTEbXxRZ3",
        "colab_type": "code",
        "colab": {}
      },
      "source": [
        "from fastai import *\n",
        "from fastai.tabular import *\n",
        "import pandas as pd\n",
        "from torchsummary import summary\n",
        "import torch\n",
        "from torch import nn\n",
        "import imageio\n",
        "import torch\n",
        "import glob\n",
        "from fastai.vision import *\n",
        "import os\n",
        "from torch import nn\n",
        "import torch.nn.functional as F"
      ],
      "execution_count": 0,
      "outputs": []
    },
    {
      "cell_type": "markdown",
      "metadata": {
        "id": "V1kpd5NWxXJa",
        "colab_type": "text"
      },
      "source": [
        "## Data"
      ]
    },
    {
      "cell_type": "code",
      "metadata": {
        "id": "dorPygw-xTj1",
        "colab_type": "code",
        "outputId": "2eac44d2-0b97-47e0-d315-2c5bc2d505a1",
        "colab": {
          "base_uri": "https://localhost:8080/",
          "height": 122
        }
      },
      "source": [
        "colab = True\n",
        "if colab:\n",
        "  from google.colab import drive\n",
        "  drive.mount('/content/drive', force_remount = True)\n",
        "  %cp \"/content/drive/My Drive/autoencoder-training/model_layers.py\" .\n",
        "  %cp \"/content/drive/My Drive/autoencoder-training/progressiveResizing_model.py\" .\n",
        "  import progressiveResizing_model\n",
        "else: \n",
        "  os.chdir(\"../\")\n",
        "  image_path = os.getcwd() + \"/data\"\n",
        "  from resnet_autoencoder_training import progressiveResizing_model"
      ],
      "execution_count": 3,
      "outputs": [
        {
          "output_type": "stream",
          "text": [
            "Go to this URL in a browser: https://accounts.google.com/o/oauth2/auth?client_id=947318989803-6bn6qk8qdgf4n4g3pfee6491hc0brc4i.apps.googleusercontent.com&redirect_uri=urn%3aietf%3awg%3aoauth%3a2.0%3aoob&response_type=code&scope=email%20https%3a%2f%2fwww.googleapis.com%2fauth%2fdocs.test%20https%3a%2f%2fwww.googleapis.com%2fauth%2fdrive%20https%3a%2f%2fwww.googleapis.com%2fauth%2fdrive.photos.readonly%20https%3a%2f%2fwww.googleapis.com%2fauth%2fpeopleapi.readonly\n",
            "\n",
            "Enter your authorization code:\n",
            "··········\n",
            "Mounted at /content/drive\n"
          ],
          "name": "stdout"
        }
      ]
    },
    {
      "cell_type": "code",
      "metadata": {
        "id": "CXgblW_RxilS",
        "colab_type": "code",
        "colab": {}
      },
      "source": [
        "np.random.seed(3333)\n",
        "torch.manual_seed(3333)\n",
        "\n",
        "def get_data(size):\n",
        "  batchsize = 128\n",
        "  #tfms = get_transforms(do_flip = True)\n",
        "  path = untar_data(URLs.MNIST)\n",
        "  tfms = get_transforms(do_flip=True, flip_vert=True, max_rotate=10, max_zoom=1.1, max_lighting=0.2, max_warp=0.2, p_affine=0, \n",
        "                        p_lighting=0.75)\n",
        "  src = (ImageImageList.from_folder(path).split_by_folder(\"training\", \"testing\").label_from_func(lambda x: x))\n",
        "  data = (src.transform(tfms, size=size, tfm_y=True).databunch(bs=batchsize).normalize(imagenet_stats, do_y = False))\n",
        "  return data"
      ],
      "execution_count": 0,
      "outputs": []
    },
    {
      "cell_type": "markdown",
      "metadata": {
        "id": "tb-JbSbmxn0E",
        "colab_type": "text"
      },
      "source": [
        "## Model"
      ]
    },
    {
      "cell_type": "code",
      "metadata": {
        "id": "6QjfF3mpxojl",
        "colab_type": "code",
        "colab": {}
      },
      "source": [
        "autoencoder = progressiveResizing_model.autoencoder([2,1])"
      ],
      "execution_count": 0,
      "outputs": []
    },
    {
      "cell_type": "code",
      "metadata": {
        "id": "qWctzMfBxsJr",
        "colab_type": "code",
        "colab": {
          "base_uri": "https://localhost:8080/",
          "height": 34
        },
        "outputId": "de176ebf-20a3-4840-a701-129155b04cdd"
      },
      "source": [
        "learn = Learner(get_data(16), autoencoder, loss_func = F.mse_loss)"
      ],
      "execution_count": 6,
      "outputs": [
        {
          "output_type": "stream",
          "text": [
            "Downloading https://s3.amazonaws.com/fast-ai-imageclas/mnist_png\n"
          ],
          "name": "stdout"
        },
        {
          "output_type": "display_data",
          "data": {
            "text/html": [
              ""
            ],
            "text/plain": [
              "<IPython.core.display.HTML object>"
            ]
          },
          "metadata": {
            "tags": []
          }
        }
      ]
    },
    {
      "cell_type": "code",
      "metadata": {
        "id": "6cxSsDIgx4XQ",
        "colab_type": "code",
        "outputId": "5fe51f60-3d81-4c46-86a0-0c5d4da1bfd9",
        "colab": {
          "base_uri": "https://localhost:8080/",
          "height": 204
        }
      },
      "source": [
        "learn.fit_one_cycle(5)"
      ],
      "execution_count": 7,
      "outputs": [
        {
          "output_type": "display_data",
          "data": {
            "text/html": [
              "<table border=\"1\" class=\"dataframe\">\n",
              "  <thead>\n",
              "    <tr style=\"text-align: left;\">\n",
              "      <th>epoch</th>\n",
              "      <th>train_loss</th>\n",
              "      <th>valid_loss</th>\n",
              "      <th>time</th>\n",
              "    </tr>\n",
              "  </thead>\n",
              "  <tbody>\n",
              "    <tr>\n",
              "      <td>0</td>\n",
              "      <td>0.003400</td>\n",
              "      <td>0.002959</td>\n",
              "      <td>01:32</td>\n",
              "    </tr>\n",
              "    <tr>\n",
              "      <td>1</td>\n",
              "      <td>0.001682</td>\n",
              "      <td>0.001457</td>\n",
              "      <td>01:31</td>\n",
              "    </tr>\n",
              "    <tr>\n",
              "      <td>2</td>\n",
              "      <td>0.001005</td>\n",
              "      <td>0.000976</td>\n",
              "      <td>01:32</td>\n",
              "    </tr>\n",
              "    <tr>\n",
              "      <td>3</td>\n",
              "      <td>0.000603</td>\n",
              "      <td>0.000583</td>\n",
              "      <td>01:32</td>\n",
              "    </tr>\n",
              "    <tr>\n",
              "      <td>4</td>\n",
              "      <td>0.000464</td>\n",
              "      <td>0.000436</td>\n",
              "      <td>01:32</td>\n",
              "    </tr>\n",
              "  </tbody>\n",
              "</table>"
            ],
            "text/plain": [
              "<IPython.core.display.HTML object>"
            ]
          },
          "metadata": {
            "tags": []
          }
        }
      ]
    },
    {
      "cell_type": "code",
      "metadata": {
        "id": "pNcHcG43x6ec",
        "colab_type": "code",
        "outputId": "7f06912e-2827-4520-8743-79803ce001d7",
        "colab": {
          "base_uri": "https://localhost:8080/",
          "height": 267
        }
      },
      "source": [
        "learn.show_results(rows = 1)"
      ],
      "execution_count": 8,
      "outputs": [
        {
          "output_type": "display_data",
          "data": {
            "image/png": "[encoded data removed]",
            "text/plain": [
              "<Figure size 864x288 with 3 Axes>"
            ]
          },
          "metadata": {
            "tags": [],
            "needs_background": "light"
          }
        }
      ]
    },
    {
      "cell_type": "code",
      "metadata": {
        "id": "v0By5rbzx8-9",
        "colab_type": "code",
        "colab": {}
      },
      "source": [
        "learn.data = get_data(32)"
      ],
      "execution_count": 0,
      "outputs": []
    },
    {
      "cell_type": "code",
      "metadata": {
        "id": "jX-kSDsxx-y3",
        "colab_type": "code",
        "colab": {}
      },
      "source": [
        "learn.model.decoder.up2.upsample = nn.Upsample(scale_factor=2.0, mode='nearest')"
      ],
      "execution_count": 0,
      "outputs": []
    },
    {
      "cell_type": "code",
      "metadata": {
        "id": "chHLTmKayAQU",
        "colab_type": "code",
        "outputId": "6e7fc817-71a4-4ce2-bbbe-b6a9b1c0e77b",
        "colab": {
          "base_uri": "https://localhost:8080/",
          "height": 34
        }
      },
      "source": [
        "learn.model.decoder.up2.upsample"
      ],
      "execution_count": 11,
      "outputs": [
        {
          "output_type": "execute_result",
          "data": {
            "text/plain": [
              "Upsample(scale_factor=2.0, mode=nearest)"
            ]
          },
          "metadata": {
            "tags": []
          },
          "execution_count": 11
        }
      ]
    },
    {
      "cell_type": "code",
      "metadata": {
        "id": "WSq51XXfyCIA",
        "colab_type": "code",
        "outputId": "0c37ab99-ace0-4b9e-ae25-77ae0702c437",
        "colab": {
          "base_uri": "https://localhost:8080/",
          "height": 112
        }
      },
      "source": [
        "learn.lr_find()"
      ],
      "execution_count": 12,
      "outputs": [
        {
          "output_type": "display_data",
          "data": {
            "text/html": [
              "\n",
              "    <div>\n",
              "        <style>\n",
              "            /* Turns off some styling */\n",
              "            progress {\n",
              "                /* gets rid of default border in Firefox and Opera. */\n",
              "                border: none;\n",
              "                /* Needs to be in here for Safari polyfill so background images work as expected. */\n",
              "                background-size: auto;\n",
              "            }\n",
              "            .progress-bar-interrupted, .progress-bar-interrupted::-webkit-progress-bar {\n",
              "                background: #F44336;\n",
              "            }\n",
              "        </style>\n",
              "      <progress value='0' class='' max='1' style='width:300px; height:20px; vertical-align: middle;'></progress>\n",
              "      0.00% [0/1 00:00<00:00]\n",
              "    </div>\n",
              "    \n",
              "<table border=\"1\" class=\"dataframe\">\n",
              "  <thead>\n",
              "    <tr style=\"text-align: left;\">\n",
              "      <th>epoch</th>\n",
              "      <th>train_loss</th>\n",
              "      <th>valid_loss</th>\n",
              "      <th>time</th>\n",
              "    </tr>\n",
              "  </thead>\n",
              "  <tbody>\n",
              "  </tbody>\n",
              "</table><p>\n",
              "\n",
              "    <div>\n",
              "        <style>\n",
              "            /* Turns off some styling */\n",
              "            progress {\n",
              "                /* gets rid of default border in Firefox and Opera. */\n",
              "                border: none;\n",
              "                /* Needs to be in here for Safari polyfill so background images work as expected. */\n",
              "                background-size: auto;\n",
              "            }\n",
              "            .progress-bar-interrupted, .progress-bar-interrupted::-webkit-progress-bar {\n",
              "                background: #F44336;\n",
              "            }\n",
              "        </style>\n",
              "      <progress value='99' class='' max='468' style='width:300px; height:20px; vertical-align: middle;'></progress>\n",
              "      21.15% [99/468 00:19<01:12 0.0182]\n",
              "    </div>\n",
              "    "
            ],
            "text/plain": [
              "<IPython.core.display.HTML object>"
            ]
          },
          "metadata": {
            "tags": []
          }
        },
        {
          "output_type": "stream",
          "text": [
            "LR Finder is complete, type {learner_name}.recorder.plot() to see the graph.\n"
          ],
          "name": "stdout"
        }
      ]
    },
    {
      "cell_type": "code",
      "metadata": {
        "id": "XQB6SZbRyEd7",
        "colab_type": "code",
        "outputId": "eb1e1517-8b9c-4cbd-fa8a-709dfacf54b8",
        "colab": {
          "base_uri": "https://localhost:8080/",
          "height": 313
        }
      },
      "source": [
        "learn.recorder.plot(suggestion = True)"
      ],
      "execution_count": 13,
      "outputs": [
        {
          "output_type": "stream",
          "text": [
            "Min numerical gradient: 1.32E-04\n",
            "Min loss divided by 10: 2.51E-04\n"
          ],
          "name": "stdout"
        },
        {
          "output_type": "display_data",
          "data": {
            "image/png": "[encoded data removed]",
            "text/plain": [
              "<Figure size 432x288 with 1 Axes>"
            ]
          },
          "metadata": {
            "tags": [],
            "needs_background": "light"
          }
        }
      ]
    },
    {
      "cell_type": "code",
      "metadata": {
        "id": "kQ8Gp69jyGDb",
        "colab_type": "code",
        "colab": {}
      },
      "source": [
        "learn.metrics = [mean_squared_error, mean_absolute_error, r2_score, explained_variance]"
      ],
      "execution_count": 0,
      "outputs": []
    },
    {
      "cell_type": "code",
      "metadata": {
        "id": "etFkCtQqyHc3",
        "colab_type": "code",
        "outputId": "425af124-82ab-452a-9e90-a1391ec900e9",
        "colab": {
          "base_uri": "https://localhost:8080/",
          "height": 359
        }
      },
      "source": [
        "learn.fit_one_cycle(10, max_lr = 1.74e-04)"
      ],
      "execution_count": 15,
      "outputs": [
        {
          "output_type": "display_data",
          "data": {
            "text/html": [
              "<table border=\"1\" class=\"dataframe\">\n",
              "  <thead>\n",
              "    <tr style=\"text-align: left;\">\n",
              "      <th>epoch</th>\n",
              "      <th>train_loss</th>\n",
              "      <th>valid_loss</th>\n",
              "      <th>mean_squared_error</th>\n",
              "      <th>mean_absolute_error</th>\n",
              "      <th>r2_score</th>\n",
              "      <th>explained_variance</th>\n",
              "      <th>time</th>\n",
              "    </tr>\n",
              "  </thead>\n",
              "  <tbody>\n",
              "    <tr>\n",
              "      <td>0</td>\n",
              "      <td>0.003917</td>\n",
              "      <td>0.003487</td>\n",
              "      <td>0.003487</td>\n",
              "      <td>0.021747</td>\n",
              "      <td>0.956688</td>\n",
              "      <td>0.956778</td>\n",
              "      <td>01:43</td>\n",
              "    </tr>\n",
              "    <tr>\n",
              "      <td>1</td>\n",
              "      <td>0.002114</td>\n",
              "      <td>0.001927</td>\n",
              "      <td>0.001927</td>\n",
              "      <td>0.015467</td>\n",
              "      <td>0.976145</td>\n",
              "      <td>0.976179</td>\n",
              "      <td>01:43</td>\n",
              "    </tr>\n",
              "    <tr>\n",
              "      <td>2</td>\n",
              "      <td>0.001716</td>\n",
              "      <td>0.001546</td>\n",
              "      <td>0.001546</td>\n",
              "      <td>0.013715</td>\n",
              "      <td>0.980876</td>\n",
              "      <td>0.980891</td>\n",
              "      <td>01:43</td>\n",
              "    </tr>\n",
              "    <tr>\n",
              "      <td>3</td>\n",
              "      <td>0.001530</td>\n",
              "      <td>0.001400</td>\n",
              "      <td>0.001400</td>\n",
              "      <td>0.013008</td>\n",
              "      <td>0.982698</td>\n",
              "      <td>0.982701</td>\n",
              "      <td>01:41</td>\n",
              "    </tr>\n",
              "    <tr>\n",
              "      <td>4</td>\n",
              "      <td>0.001432</td>\n",
              "      <td>0.001303</td>\n",
              "      <td>0.001303</td>\n",
              "      <td>0.012545</td>\n",
              "      <td>0.983900</td>\n",
              "      <td>0.983902</td>\n",
              "      <td>01:42</td>\n",
              "    </tr>\n",
              "    <tr>\n",
              "      <td>5</td>\n",
              "      <td>0.001355</td>\n",
              "      <td>0.001243</td>\n",
              "      <td>0.001243</td>\n",
              "      <td>0.012260</td>\n",
              "      <td>0.984644</td>\n",
              "      <td>0.984645</td>\n",
              "      <td>01:40</td>\n",
              "    </tr>\n",
              "    <tr>\n",
              "      <td>6</td>\n",
              "      <td>0.001319</td>\n",
              "      <td>0.001211</td>\n",
              "      <td>0.001211</td>\n",
              "      <td>0.012100</td>\n",
              "      <td>0.985036</td>\n",
              "      <td>0.985039</td>\n",
              "      <td>01:45</td>\n",
              "    </tr>\n",
              "    <tr>\n",
              "      <td>7</td>\n",
              "      <td>0.001287</td>\n",
              "      <td>0.001185</td>\n",
              "      <td>0.001185</td>\n",
              "      <td>0.011971</td>\n",
              "      <td>0.985365</td>\n",
              "      <td>0.985368</td>\n",
              "      <td>01:42</td>\n",
              "    </tr>\n",
              "    <tr>\n",
              "      <td>8</td>\n",
              "      <td>0.001265</td>\n",
              "      <td>0.001169</td>\n",
              "      <td>0.001169</td>\n",
              "      <td>0.011899</td>\n",
              "      <td>0.985547</td>\n",
              "      <td>0.985550</td>\n",
              "      <td>01:43</td>\n",
              "    </tr>\n",
              "    <tr>\n",
              "      <td>9</td>\n",
              "      <td>0.001254</td>\n",
              "      <td>0.001168</td>\n",
              "      <td>0.001168</td>\n",
              "      <td>0.011891</td>\n",
              "      <td>0.985570</td>\n",
              "      <td>0.985571</td>\n",
              "      <td>01:43</td>\n",
              "    </tr>\n",
              "  </tbody>\n",
              "</table>"
            ],
            "text/plain": [
              "<IPython.core.display.HTML object>"
            ]
          },
          "metadata": {
            "tags": []
          }
        }
      ]
    },
    {
      "cell_type": "markdown",
      "metadata": {
        "id": "DDh8tsmqyW8z",
        "colab_type": "text"
      },
      "source": [
        "## Results"
      ]
    },
    {
      "cell_type": "markdown",
      "metadata": {
        "id": "rBLfrKnMyYvl",
        "colab_type": "text"
      },
      "source": [
        "### Training"
      ]
    },
    {
      "cell_type": "code",
      "metadata": {
        "id": "js17AouVyZ0B",
        "colab_type": "code",
        "outputId": "50ae688e-1962-4f30-a48b-08941e88f812",
        "colab": {
          "base_uri": "https://localhost:8080/",
          "height": 1000
        }
      },
      "source": [
        "learn.show_results(ds_type=DatasetType.Train)"
      ],
      "execution_count": 16,
      "outputs": [
        {
          "output_type": "display_data",
          "data": {
            "image/png": "[encoded data removed]",
            "text/plain": [
              "<Figure size 864x1440 with 15 Axes>"
            ]
          },
          "metadata": {
            "tags": [],
            "needs_background": "light"
          }
        }
      ]
    },
    {
      "cell_type": "markdown",
      "metadata": {
        "id": "HTrl4kpTyZ8u",
        "colab_type": "text"
      },
      "source": [
        "### Validation"
      ]
    },
    {
      "cell_type": "code",
      "metadata": {
        "id": "O3wgIzRWybbN",
        "colab_type": "code",
        "outputId": "801c69e6-54d4-4f3f-d7e7-4ac9f1ce844c",
        "colab": {
          "base_uri": "https://localhost:8080/",
          "height": 1000
        }
      },
      "source": [
        "learn.show_results(ds_type=DatasetType.Valid)"
      ],
      "execution_count": 17,
      "outputs": [
        {
          "output_type": "display_data",
          "data": {
            "image/png": "[encoded data removed]",
            "text/plain": [
              "<Figure size 864x1440 with 15 Axes>"
            ]
          },
          "metadata": {
            "tags": [],
            "needs_background": "light"
          }
        }
      ]
    },
    {
      "cell_type": "code",
      "metadata": {
        "id": "7J24WKX_fNdQ",
        "colab_type": "code",
        "colab": {}
      },
      "source": [
        "torch.save(autoencoder, \"/content/drive/My Drive/autoencoder-training/progResize-MNIST.pt\")"
      ],
      "execution_count": 0,
      "outputs": []
    }
  ]
}